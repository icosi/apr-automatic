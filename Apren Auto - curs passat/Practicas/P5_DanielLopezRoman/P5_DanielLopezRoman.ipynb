{
 "cells": [
  {
   "cell_type": "markdown",
   "metadata": {},
   "source": [
    "# Tarea 05 - Para entregar"
   ]
  },
  {
   "cell_type": "markdown",
   "metadata": {},
   "source": [
    "## Datos de _A practical guide to SVM classification_\n",
    "\n",
    "Tres conjuntos de datos descritos y empleados en el documento _[A practical guide to SVM classification](http://www.csie.ntu.edu.tw/~cjlin/papers/guide/guide.pdf),_ mencionado más arriba. La descripción de los datos  aparece en la tabla 1 de la página 2. Los datos mismos se pueden descargar en el enlace dado en el documento mismo, o bien el primero _(Astroparticle, `train` y `test`)_ y el tercero _(Vehicle, `train` y `test`)_ están también en la colección de datasets de la web [LIBSVM Data: Classification, Regression, and Multi-label](http://www.csie.ntu.edu.tw/~cjlin/libsvmtools/datasets/), bajo los nombres [`svmguide1`](http://www.csie.ntu.edu.tw/~cjlin/libsvmtools/datasets/binary.html#svmguide1) y [`svmguide3`](http://www.csie.ntu.edu.tw/~cjlin/libsvmtools/datasets/binary.html#svmguide3)."
   ]
  },
  {
   "cell_type": "markdown",
   "metadata": {},
   "source": [
    "### (a) Preprocesado de los datos\n",
    "\n",
    "El primer objetivo con estos datos es prepararlos para su tratamiento. Por alguna razón estos datos son más en bruto que lo que es usual: en primer lugar en el primer enlace no vienen en forma de una observación por línea de fichero, en el segundo sí. Además, cada valor de las variables predictoras viene en el siguiente formato:\n",
    "\n",
    " `[número de la variable (un entero), \":\",valor en punto flotante]`,\n",
    "\n",
    "sin espacios intercalados. \n",
    "\n",
    "Según la descripción del documento los datos `Vehicle` tienen 21 predictores, mientras que en el fichero de datos algunas observaciones tienen una variable predictora adicional con el número 22. Todos los valores que aparecen de esta variable 22 son iguales a 0, de modo que no aporta ninguna información, pero hay que tener en cuenta su presencia al leer el fichero: no todos los registros tienen la misma longitud. \n",
    "\n",
    "Por tanto, al menos para los datos `Bioinformatics` se requiere algun tipo de lectura a bajo nivel, ya sea en R con la función `scan()` o mediante algun otro programa. La eliminación de las etiquetas de las variables puede hacerse en un editor ascii o mediante lectura a bajo nivel."
   ]
  },
  {
   "cell_type": "code",
   "execution_count": 1,
   "metadata": {},
   "outputs": [],
   "source": [
    "astroparticle.test<-read.table(\"svmguide1.test.txt\", header=TRUE)\n",
    "astroparticle.train<-read.table(\"svmguide1.train.txt\", header=TRUE)\n",
    "\n",
    "astroparticle.test[,1]<-as.factor(astroparticle.test[,1])\n",
    "astroparticle.train[,1]<-as.factor(astroparticle.train[,1])\n",
    "\n",
    "Bioinformatics<-read.table(\"svmguide2.txt\", header=TRUE)\n",
    "Bioinformatics[,1]<-as.factor(Bioinformatics[,1])\n",
    "\n",
    "\n",
    "vehicle.test<-read.table(\"svmguide3.test.txt\", header=TRUE)\n",
    "vehicle.test<-vehicle.test[-ncol(vehicle.test)]\n",
    "vehicle.test[,1]<-as.factor(vehicle.test[,1])\n",
    "\n",
    "\n",
    "vehicle.train<-read.table(\"svmguide3.train.txt\", header=TRUE)\n",
    "vehicle.train<-vehicle.train[-ncol(vehicle.train)]\n",
    "vehicle.train[,1]<-as.factor(vehicle.train[,1])\n"
   ]
  },
  {
   "cell_type": "markdown",
   "metadata": {},
   "source": [
    "El resultado de esta primera etapa debe ser:\n",
    "\n",
    "Dos `data.frame`, `astroparticle.train` y `astroparticle.test`, con una variable respuesta llamada `y`, que puede ser un entero (valores 0/1) o bien un factor con dos niveles, y las variables predictoras, `x1`, `x2`,`x3`,`x4`.\n",
    "   \n",
    "Dos `data.frame`, `vehicle.train` y `vehicle.test`,  con una variable respuesta llamada `y`, que puede ser un entero (valores 0/1) o bien un factor con dos niveles, y variables predictoras `x01` a `x21`.\n",
    "\n",
    "Un `data.frame`, `Bioinformatics`, con una variable respuesta llamada `y`, un factor con tres niveles, y variables predictoras `x01` a `x20`. \n",
    "\n",
    "En `Bioinformatics` no nos proporcionan un conjunto de test separado. Se puede separar una porción de datos con esta finalidad, como en prácticas anteriores, o bien emplear validación cruzada $k$-fold. También, por supuesto, los datos que vienen divididos en `train` y `test` pueden reunirse para aplicar cualquier procedimiento de validación cruzada, incluyendo _otra_ subdivisión `train` y `test`. La utilidad de la subdivisión que viene dada es poder reproducir resultados publicados."
   ]
  },
  {
   "cell_type": "code",
   "execution_count": 2,
   "metadata": {},
   "outputs": [
    {
     "name": "stdout",
     "output_type": "stream",
     "text": [
      "'data.frame':\t3089 obs. of  5 variables:\n",
      " $ y : Factor w/ 2 levels \"0\",\"1\": 2 2 2 2 2 2 2 2 2 2 ...\n",
      " $ x1: num  26.2 57.1 17.3 21.8 91.3 ...\n",
      " $ x2: num  58.9 221.4 173.4 125 293.6 ...\n",
      " $ x3: num  -0.1895 0.0861 -0.1298 0.1539 0.1424 ...\n",
      " $ x4: num  125 123 125 153 161 ...\n",
      "'data.frame':\t4000 obs. of  5 variables:\n",
      " $ y : Factor w/ 2 levels \"0\",\"1\": 1 1 1 1 1 1 1 1 1 1 ...\n",
      " $ x1: num  4.24 4.24 1.66 2.8 2.84 ...\n",
      " $ x2: num  22 22 80.7 22.4 30.2 ...\n",
      " $ x3: num  -0.35 -0.35 0.213 0.341 0.386 ...\n",
      " $ x4: num  97.5 97.5 68.7 81 94.9 ...\n"
     ]
    }
   ],
   "source": [
    "str(astroparticle.train)\n",
    "str(astroparticle.test)"
   ]
  },
  {
   "cell_type": "code",
   "execution_count": 3,
   "metadata": {},
   "outputs": [
    {
     "name": "stdout",
     "output_type": "stream",
     "text": [
      "'data.frame':\t195 obs. of  21 variables:\n",
      " $ y  : Factor w/ 3 levels \"1\",\"2\",\"3\": 1 2 1 2 2 1 1 1 1 2 ...\n",
      " $ x1 : num  0.0599 0.0522 0.0813 0.064 0.0414 ...\n",
      " $ x2 : num  0.1058 0.1082 0.0517 0.0853 0.0602 ...\n",
      " $ x3 : num  0.0519 0.0485 0.0665 0.0521 0.0451 ...\n",
      " $ x4 : num  0.02 0.0261 0.0345 0.0213 0.0188 ...\n",
      " $ x5 : num  0.0299 0.0448 0.0296 0.045 0.0301 ...\n",
      " $ x6 : num  0.02395 0.01493 0.00246 0.02133 0.03008 ...\n",
      " $ x7 : num  0.0439 0.0299 0.032 0.0355 0.0451 ...\n",
      " $ x8 : num  0.0818 0.0522 0.1084 0.0853 0.0789 ...\n",
      " $ x9 : num  0.0818 0.1045 0.1281 0.1256 0.1241 ...\n",
      " $ x10: num  0.0399 0.0522 0.0271 0.0308 0.0451 ...\n",
      " $ x11: num  0.0599 0.0522 0.0714 0.0498 0.0301 ...\n",
      " $ x12: num  0.0499 0.0448 0.0665 0.0711 0.0526 ...\n",
      " $ x13: num  0.00599 0.01119 0.01724 0.00474 0.03008 ...\n",
      " $ x14: num  0.02994 0.02612 0.02217 0.00474 0.02256 ...\n",
      " $ x15: num  0.0778 0.0784 0.0369 0.0284 0.0677 ...\n",
      " $ x16: num  0.0499 0.041 0.0468 0.0569 0.0451 ...\n",
      " $ x17: num  0.0319 0.0634 0.0148 0.0474 0.0827 ...\n",
      " $ x18: num  0.0659 0.0634 0.0714 0.0569 0.0376 ...\n",
      " $ x19: num  0.0259 0.0224 0.0443 0.0403 0.0602 ...\n",
      " $ x20: num  0.0639 0.0634 0.0468 0.0735 0.0526 ...\n",
      "'data.frame':\t195 obs. of  21 variables:\n",
      " $ y  : Factor w/ 3 levels \"1\",\"2\",\"3\": 1 1 3 2 1 1 1 3 1 1 ...\n",
      " $ x1 : num  0.0539 0.1146 0.0685 0.0673 0.0781 ...\n",
      " $ x2 : num  0.1158 0.0573 0.0836 0.1154 0.1172 ...\n",
      " $ x3 : num  0.0699 0.0318 0.0247 0.0481 0.0469 ...\n",
      " $ x4 : num  0.0259 0.0318 0.0151 0.0481 0.0469 ...\n",
      " $ x5 : num  0.06986 0.04459 0.03699 0.00962 0.04688 ...\n",
      " $ x6 : num  0.002 0.03185 0.03288 0.01923 0.00781 ...\n",
      " $ x7 : num  0.0319 0.0637 0.0534 0 0.0156 ...\n",
      " $ x8 : num  0.0579 0.0637 0.0822 0.0865 0.0781 ...\n",
      " $ x9 : num  0.0539 0.0637 0.0808 0.1635 0.125 ...\n",
      " $ x10: num  0.0379 0.0637 0.0616 0.0865 0.0234 ...\n",
      " $ x11: num  0.0379 0.0255 0.0658 0.0385 0.0312 ...\n",
      " $ x12: num  0.0379 0.051 0.0521 0.0288 0.0391 ...\n",
      " $ x13: num  0.00798 0.01274 0.00822 0.01923 0 ...\n",
      " $ x14: num  0.018 0.0191 0.0274 0.0192 0 ...\n",
      " $ x15: num  0.0499 0.0191 0.0699 0 0.0312 ...\n",
      " $ x16: num  0.0878 0.0637 0.0288 0.0962 0.0859 ...\n",
      " $ x17: num  0.02 0.0446 0.0479 0.0288 0.0156 ...\n",
      " $ x18: num  0.1078 0.0955 0.0548 0.0673 0.0859 ...\n",
      " $ x19: num  0.0519 0.0446 0.0493 0.0288 0.0625 ...\n",
      " $ x20: num  0.0619 0.0573 0.0562 0.0288 0.0625 ...\n"
     ]
    }
   ],
   "source": [
    "Bioinformatics<-Bioinformatics[sample(nrow(Bioinformatics)),]\n",
    "indexesTrain <- c(1:(nrow(Bioinformatics)/2))\n",
    "indexesTest <- c((nrow(Bioinformatics)/2+1):nrow(Bioinformatics))\n",
    "\n",
    "Bioinformatics.train<-Bioinformatics[indexesTrain,]\n",
    "Bioinformatics.test<-Bioinformatics[indexesTest,]\n",
    "\n",
    "str(Bioinformatics.train)\n",
    "str(Bioinformatics.test)"
   ]
  },
  {
   "cell_type": "code",
   "execution_count": 4,
   "metadata": {},
   "outputs": [
    {
     "name": "stdout",
     "output_type": "stream",
     "text": [
      "'data.frame':\t1243 obs. of  22 variables:\n",
      " $ y  : Factor w/ 2 levels \"-1\",\"1\": 1 1 1 1 1 1 1 1 1 1 ...\n",
      " $ x1 : num  0.0643 0.0414 0.0357 0.0343 0.1129 ...\n",
      " $ x2 : num  -0.000885 -0.003728 -0.006948 -0.00541 -0.009484 ...\n",
      " $ x3 : num  7.17e-05 1.01e-03 3.96e-03 2.53e-03 2.34e-03 ...\n",
      " $ x4 : num  -0.2638 -0.0196 -0.2902 -0.0221 -0.1141 ...\n",
      " $ x5 : num  0.00389 0.00184 0.05911 0.00365 0.01002 ...\n",
      " $ x6 : num  -2.93e-05 -4.56e-05 -3.13e-03 -1.57e-04 -2.28e-04 ...\n",
      " $ x7 : num  0.108449 0.000989 0.233714 0.001466 0.011546 ...\n",
      " $ x8 : num  -5.75e-04 -3.26e-05 -1.69e-02 -8.50e-05 -3.58e-04 ...\n",
      " $ x9 : num  1.12e-05 2.07e-06 2.32e-03 9.34e-06 2.10e-05 ...\n",
      " $ x10: int  1 1 1 1 1 1 1 1 1 1 ...\n",
      " $ x11: num  0 0.803 0 0.781 0.843 ...\n",
      " $ x12: num  0.798 0 0.738 0 0.853 ...\n",
      " $ x13: num  0.5099 0.0968 0.5073 0.0973 0.2981 ...\n",
      " $ x14: num  0 0.1 0 0.1 0.1 0.1 0 0 0.1 0.2 ...\n",
      " $ x15: num  0.1 0.1 0.1 0 0.3 0.1 0 0.1 0 0 ...\n",
      " $ x16: num  0.533 0.567 0.538 0.55 0.558 ...\n",
      " $ x17: num  0.15 0.323 0.321 0.374 0.141 ...\n",
      " $ x18: num  0.286 0.4 0.5 0.2 0.111 ...\n",
      " $ x19: num  0.165 0.398 0.157 0.319 0.288 ...\n",
      " $ x20: num  0.000743 0.025211 0.000609 0.010399 0.006883 ...\n",
      " $ x21: num  0 0 0 0 0 0 0 0 0 0 ...\n",
      "'data.frame':\t41 obs. of  22 variables:\n",
      " $ y  : Factor w/ 1 level \"1\": 1 1 1 1 1 1 1 1 1 1 ...\n",
      " $ x1 : num  0.3828 0.0257 0.1471 0.2329 0.09 ...\n",
      " $ x2 : num  -0.00303 -0.00731 -0.01727 -0.0126 -0.01771 ...\n",
      " $ x3 : num  0.000187 0.004627 0.004381 0.001569 0.007516 ...\n",
      " $ x4 : num  -0.159 -0.165 -0.35 -0.18 -0.275 ...\n",
      " $ x5 : num  0.00094 0.0375 0.03178 0.00767 0.04206 ...\n",
      " $ x6 : num  -5.50e-06 -2.20e-03 -7.47e-04 -8.86e-05 -1.66e-03 ...\n",
      " $ x7 : num  0.00495 0.07998 0.06128 0.01045 0.06197 ...\n",
      " $ x8 : num  -9.88e-06 -6.47e-03 -1.97e-03 -1.58e-04 -3.36e-03 ...\n",
      " $ x9 : num  1.53e-07 9.84e-04 1.20e-04 4.71e-06 3.43e-04 ...\n",
      " $ x10: int  1 1 1 1 1 1 1 1 1 1 ...\n",
      " $ x11: num  0.66 0 0 0.781 0.782 ...\n",
      " $ x12: num  0.823 0.801 0.783 0.771 0.753 ...\n",
      " $ x13: num  0.401 0.415 0.399 0.25 0.465 ...\n",
      " $ x14: num  0 0 0.1 0.2 0 0.1 0 0.2 0.1 0.2 ...\n",
      " $ x15: num  0.2 0.2 0.1 0.1 0 0.3 0.1 0.1 0.2 0.1 ...\n",
      " $ x16: num  0.849 0.794 0.897 0.91 0.822 ...\n",
      " $ x17: num  0.0581 0.4038 0.1223 0.0753 0.1913 ...\n",
      " $ x18: num  0.087 0.25 0.333 0.143 0.25 ...\n",
      " $ x19: num  0.499 0.183 0.223 0.337 0.208 ...\n",
      " $ x20: num  0.0621 0.00112 0.00248 0.01285 0.00188 ...\n",
      " $ x21: num  0 0 0 0 0 0 0 0 0 0 ...\n"
     ]
    }
   ],
   "source": [
    "str(vehicle.train)\n",
    "str(vehicle.test)"
   ]
  },
  {
   "cell_type": "markdown",
   "metadata": {},
   "source": [
    "## (b) Clasificación de los tres datasets\n",
    "\n",
    "La siguiente etapa va a ser la construcción y evaluación de procedimientos de clasificación para estos tres conjuntos de datos, empleando:\n",
    "\n",
    "1. Regresión logística, para 1 y 3 (que tienen dos clases),\n",
    "2. `lda`, para los tres,\n",
    "3. _Bagging,_ _Random Forest,_ _AdaBoost,_ para los tres,\n",
    "4. `svm`, para los tres,\n",
    "\n",
    "Para los dos primeros procedimientos, que no tienen parámetros ajustables, obtened la matriz de confusión y una estimación de la probabilidad de clasificación errónea. Sin embargo, podéis hacer selección de predictores.\n",
    "\n",
    "En las máquinas de vectores soporte, seguid las explicaciones del documento-guía  _[A practical guide to SVM classification](http://www.csie.ntu.edu.tw/~cjlin/papers/guide/guide.pdf),_ ajustando los parámetros `C` y `nu`. Podeis hacer la búsqueda sistemática mediante la función `tune()`. En cualquier caso, intentad llegar a una precisión próxima a la que aparece en la última columna de la Tabla 1 del documento."
   ]
  },
  {
   "cell_type": "code",
   "execution_count": 17,
   "metadata": {},
   "outputs": [],
   "source": [
    "require(MASS)\n",
    "require(e1071)\n",
    "require(rpart)\n",
    "require(adabag)\n",
    "require(randomForest)\n",
    "require(ada)"
   ]
  },
  {
   "cell_type": "markdown",
   "metadata": {},
   "source": [
    "### 1. Regresion logica"
   ]
  },
  {
   "cell_type": "code",
   "execution_count": 6,
   "metadata": {},
   "outputs": [
    {
     "name": "stderr",
     "output_type": "stream",
     "text": [
      "Warning message:\n",
      "\"glm.fit: fitted probabilities numerically 0 or 1 occurred\""
     ]
    },
    {
     "data": {
      "text/plain": [
       "    Predicted\n",
       "True    0    1\n",
       "   0 1908   92\n",
       "   1   88 1912"
      ]
     },
     "metadata": {},
     "output_type": "display_data"
    },
    {
     "name": "stdout",
     "output_type": "stream",
     "text": [
      "[1] \"Accuracy astroparticle 0.955\"\n"
     ]
    }
   ],
   "source": [
    "#astroparticle.train astroparticle.test\n",
    "\n",
    "#Creacion del modelo para la logistic regression de astroparticle\n",
    "astroparticle.glm <- glm(y~.,family=binomial,data=astroparticle.train)\n",
    "\n",
    "#prediccion Astroparticle, los resultados superiores a 0.5 seran de la clase 1 y los demas de la clase 0\n",
    "astroparticle.pred <- predict(astroparticle.glm,newdata=astroparticle.test,type='response')\n",
    "astroparticle.pred <- ifelse(astroparticle.pred > 0.5,1,0)\n",
    "\n",
    "#error Astroparticle y matriz de confusion\n",
    "astroparticle.error <- mean(astroparticle.pred != astroparticle.test$y)\n",
    "C<-table(\"True\"=astroparticle.test$y,\"Predicted\"=astroparticle.pred)\n",
    "C\n",
    "print(paste('Accuracy astroparticle',1-astroparticle.error))"
   ]
  },
  {
   "cell_type": "code",
   "execution_count": 7,
   "metadata": {},
   "outputs": [
    {
     "data": {
      "text/plain": [
       "    Predicted\n",
       "True  0  1\n",
       "   1 16 25"
      ]
     },
     "metadata": {},
     "output_type": "display_data"
    },
    {
     "name": "stdout",
     "output_type": "stream",
     "text": [
      "[1] \"Accuracy vehicle 0.609756097560976\"\n"
     ]
    }
   ],
   "source": [
    "#vehicle.train vehicle.test\n",
    "\n",
    "#Creacion del modelo para la logistic regression de vehicle\n",
    "vehicle.glm <- glm(y~.,family=binomial,data=vehicle.train)\n",
    "\n",
    "#prediccion Vehicle, los resultados superiores a 0.5 seran de la clase 1 y los demas de la clase 0\n",
    "vehicle.pred <- predict(vehicle.glm,newdata=vehicle.test,type='response')\n",
    "vehicle.pred <- ifelse(vehicle.pred > 0.5,1,0)\n",
    "\n",
    "#error Vehicle y matriz de confusion\n",
    "vehicle.error <- mean(vehicle.pred != vehicle.test$y)\n",
    "C<-table(\"True\"=vehicle.test$y,\"Predicted\"=vehicle.pred)\n",
    "C\n",
    "print(paste('Accuracy vehicle',1-vehicle.error))"
   ]
  },
  {
   "cell_type": "markdown",
   "metadata": {},
   "source": [
    "### 2. LDA"
   ]
  },
  {
   "cell_type": "code",
   "execution_count": 8,
   "metadata": {},
   "outputs": [
    {
     "data": {
      "text/plain": [
       "    Predicted\n",
       "True    0    1\n",
       "   0 1717  283\n",
       "   1  157 1843"
      ]
     },
     "metadata": {},
     "output_type": "display_data"
    },
    {
     "name": "stdout",
     "output_type": "stream",
     "text": [
      "[1] \"Accuracy astroparticle 0.89\"\n"
     ]
    }
   ],
   "source": [
    "#astroparticle.train astroparticle.test\n",
    "\n",
    "#modelo lda de astroparticle y prediccion del test\n",
    "astroparticle.lda <- lda(formula = y~., data = astroparticle.train)\n",
    "astroparticle.lda.pred <- predict(astroparticle.lda, newdata=astroparticle.test)\n",
    "#matriz de confusion de las predicciones\n",
    "C<-table(\"True\"=astroparticle.test$y,\"Predicted\"=astroparticle.lda.pred$class)\n",
    "C\n",
    "#error de la prediccion de clasificacion\n",
    "astroparticle.lda.error <- mean(astroparticle.lda.pred$class != astroparticle.test$y)\n",
    "print(paste('Accuracy astroparticle',1-astroparticle.lda.error))"
   ]
  },
  {
   "cell_type": "code",
   "execution_count": 9,
   "metadata": {},
   "outputs": [
    {
     "data": {
      "text/plain": [
       "    Predicted\n",
       "True   1   2   3\n",
       "   1 101   7   0\n",
       "   2   7  42   8\n",
       "   3   7   6  17"
      ]
     },
     "metadata": {},
     "output_type": "display_data"
    },
    {
     "name": "stdout",
     "output_type": "stream",
     "text": [
      "[1] \"Accuracy Bioinformatics 0.82051282051282\"\n"
     ]
    }
   ],
   "source": [
    "#Bioinformatics.train Bioinformatics.test\n",
    "\n",
    "#modelo lda de Bioinformatics y prediccion del test\n",
    "Bioinformatics.lda <- lda(formula = y~., data = Bioinformatics.train)\n",
    "Bioinformatics.lda.pred <- predict(Bioinformatics.lda, newdata=Bioinformatics.test)\n",
    "#matriz de confusion de las predicciones\n",
    "C<-table(\"True\"=Bioinformatics.test$y,\"Predicted\"=Bioinformatics.lda.pred$class)\n",
    "C\n",
    "#error de la prediccion de clasificacion\n",
    "Bioinformatics.lda.error <- mean(Bioinformatics.lda.pred$class != Bioinformatics.test$y)\n",
    "print(paste('Accuracy Bioinformatics',1-Bioinformatics.lda.error))"
   ]
  },
  {
   "cell_type": "code",
   "execution_count": 10,
   "metadata": {},
   "outputs": [
    {
     "data": {
      "text/plain": [
       "    Predicted\n",
       "True -1  1\n",
       "   1 16 25"
      ]
     },
     "metadata": {},
     "output_type": "display_data"
    },
    {
     "name": "stdout",
     "output_type": "stream",
     "text": [
      "[1] \"Accuracy vehicle 0.609756097560976\"\n"
     ]
    }
   ],
   "source": [
    "#vehicle.train vehicle.test\n",
    "\n",
    "#modelo lda de Bioinformatics y prediccion del test\n",
    "vehicle.lda <- lda(formula = y~., data = vehicle.train)\n",
    "vehicle.lda.pred <- predict(vehicle.lda, newdata=vehicle.test)\n",
    "#matriz de confusion de las predicciones\n",
    "C<-table(\"True\"=vehicle.test$y,\"Predicted\"=vehicle.lda.pred$class)\n",
    "C\n",
    "#error de la prediccion de clasificacion\n",
    "vehicle.lda.error <- C[1]/sum(C)\n",
    "print(paste('Accuracy vehicle',1-vehicle.lda.error))"
   ]
  },
  {
   "cell_type": "markdown",
   "metadata": {},
   "source": [
    "### 3. Bagging, Random Forest, AdaBoost "
   ]
  },
  {
   "cell_type": "markdown",
   "metadata": {},
   "source": [
    "Como aplicar cada uno es trivial, aplico uno a cada set de datos:\n",
    "- Bagging en _'astroparticles'_\n",
    "- Random Forest en _'Bioinformatics'_\n",
    "- AdaBoost en _'vehicle'_"
   ]
  },
  {
   "cell_type": "code",
   "execution_count": 11,
   "metadata": {},
   "outputs": [
    {
     "data": {
      "text/plain": [
       "               Observed Class\n",
       "Predicted Class    0    1\n",
       "              0 1921   57\n",
       "              1   79 1943"
      ]
     },
     "metadata": {},
     "output_type": "display_data"
    },
    {
     "name": "stdout",
     "output_type": "stream",
     "text": [
      "[1] \"Accuracy astroparticle 0.966\"\n"
     ]
    }
   ],
   "source": [
    "#astroparticle.train astroparticle.test\n",
    "\n",
    "#Modelo Bagging de astroparticle con 10 remuestras bootstrap y prediccion del test\n",
    "astroparticle.bagging<-bagging(y~.,data=astroparticle.train,mfinal=10)\n",
    "astroparticle.bagging.pred<-predict.bagging(astroparticle.bagging,newdata=astroparticle.test)\n",
    "#matriz de confusion de las predicciones\n",
    "C<-astroparticle.bagging.pred$confusion\n",
    "C\n",
    "#error de la prediccion de clasificacion\n",
    "astroparticle.bagging.error <- mean(astroparticle.bagging.pred$class != astroparticle.test$y)\n",
    "print(paste('Accuracy astroparticle',1-astroparticle.bagging.error))"
   ]
  },
  {
   "cell_type": "code",
   "execution_count": 12,
   "metadata": {},
   "outputs": [
    {
     "data": {
      "text/plain": [
       "    Pred\n",
       "True  1  2  3\n",
       "   1 99  9  0\n",
       "   2 14 43  0\n",
       "   3  9 12  9"
      ]
     },
     "metadata": {},
     "output_type": "display_data"
    },
    {
     "name": "stdout",
     "output_type": "stream",
     "text": [
      "[1] \"Accuracy Bioinformatics 0.774358974358974\"\n"
     ]
    }
   ],
   "source": [
    "#Bioinformatics.train Bioinformatics.test\n",
    "\n",
    "#Modelo Random Forest de Bioinformatics con 4 variables candidatas en cada muestra y prediccion del test\n",
    "Bioinformatics.RF<-randomForest(y~.,data=Bioinformatics.train, mtry=4)\n",
    "Bioinformatics.RF.pred<-predict(Bioinformatics.RF, newdata=Bioinformatics.test)\n",
    "#matriz de confusion de las predicciones\n",
    "C<-table(\"True\"=Bioinformatics.test$y,\"Pred\"=Bioinformatics.RF.pred)\n",
    "C\n",
    "#error de la prediccion de clasificacion\n",
    "Bioinformatics.RF.error <- mean(Bioinformatics.RF.pred != Bioinformatics.test$y)\n",
    "print(paste('Accuracy Bioinformatics',1-Bioinformatics.RF.error))"
   ]
  },
  {
   "cell_type": "code",
   "execution_count": 13,
   "metadata": {},
   "outputs": [
    {
     "data": {
      "text/plain": [
       "    Pred\n",
       "True -1  1\n",
       "   1  3 38"
      ]
     },
     "metadata": {},
     "output_type": "display_data"
    },
    {
     "name": "stdout",
     "output_type": "stream",
     "text": [
      "[1] \"Accuracy vehicle 0.926829268292683\"\n"
     ]
    }
   ],
   "source": [
    "#vehicle.train vehicle.test\n",
    "\n",
    "#Modelo AdaBoost de vehicle y prediccion del test\n",
    "vehicle.ada <- ada(y~., data=vehicle.train)\n",
    "vehicle.ada.pred <- predict(vehicle.ada, vehicle.test)\n",
    "#matriz de confusion de las predicciones\n",
    "C<-table(\"True\"=vehicle.test$y,\"Pred\"=vehicle.ada.pred)\n",
    "C\n",
    "#error de la prediccion de clasificacion\n",
    "vehicle.ada.error <- C[1]/sum(C)\n",
    "print(paste('Accuracy vehicle',1-vehicle.ada.error))"
   ]
  },
  {
   "cell_type": "markdown",
   "metadata": {},
   "source": [
    "### 4. SVM "
   ]
  },
  {
   "cell_type": "code",
   "execution_count": 14,
   "metadata": {},
   "outputs": [
    {
     "data": {
      "text/plain": [
       "    Pred\n",
       "True    0    1\n",
       "   0 1928   72\n",
       "   1   56 1944"
      ]
     },
     "metadata": {},
     "output_type": "display_data"
    },
    {
     "name": "stdout",
     "output_type": "stream",
     "text": [
      "[1] \"Accuracy astroparticle 0.968\"\n"
     ]
    }
   ],
   "source": [
    "#astroparticle.train astroparticle.test\n",
    "\n",
    "#Mejor modelo SVM de astroparticle obtenido por la funcion 'tune' y prediccion del test\n",
    "astroparticle.svm <- tune.svm(y~.,data=astroparticle.train)$best.model\n",
    "astroparticle.svm.pred <- predict(astroparticle.svm, astroparticle.test)\n",
    "#matriz de confusion de las predicciones\n",
    "C<-table(\"True\"=astroparticle.test$y,\"Pred\"=astroparticle.svm.pred)\n",
    "C\n",
    "#error de la prediccion de clasificacion\n",
    "astroparticle.svm.error <- mean(astroparticle.svm.pred != astroparticle.test$y)\n",
    "print(paste('Accuracy astroparticle',1-astroparticle.svm.error))"
   ]
  },
  {
   "cell_type": "code",
   "execution_count": 15,
   "metadata": {},
   "outputs": [
    {
     "data": {
      "text/plain": [
       "    Pred\n",
       "True   1   2   3\n",
       "   1 103   5   0\n",
       "   2   9  45   3\n",
       "   3   7  10  13"
      ]
     },
     "metadata": {},
     "output_type": "display_data"
    },
    {
     "name": "stdout",
     "output_type": "stream",
     "text": [
      "[1] \"Accuracy Bioinformatics 0.825641025641026\"\n"
     ]
    }
   ],
   "source": [
    "#Bioinformatics.train Bioinformatics.test\n",
    "\n",
    "#Mejor modelo SVM de Bioinformatics obtenido por la funcion 'tune' y prediccion del test\n",
    "Bioinformatics.svm <- tune.svm(y~.,data=Bioinformatics.train)$best.model\n",
    "Bioinformatics.svm.pred <- predict(Bioinformatics.svm, Bioinformatics.test)\n",
    "#matriz de confusion de las predicciones\n",
    "C<-table(\"True\"=Bioinformatics.test$y,\"Pred\"=Bioinformatics.svm.pred)\n",
    "C\n",
    "#error de la prediccion de clasificacion\n",
    "Bioinformatics.svm.error <- mean(Bioinformatics.svm.pred != Bioinformatics.test$y)\n",
    "print(paste('Accuracy Bioinformatics',1-Bioinformatics.svm.error))"
   ]
  },
  {
   "cell_type": "code",
   "execution_count": 16,
   "metadata": {},
   "outputs": [
    {
     "data": {
      "text/plain": [
       "    Pred\n",
       "True -1  1\n",
       "   1 14 27"
      ]
     },
     "metadata": {},
     "output_type": "display_data"
    },
    {
     "name": "stdout",
     "output_type": "stream",
     "text": [
      "[1] \"Accuracy vehicle 0.658536585365854\"\n"
     ]
    }
   ],
   "source": [
    "#vehicle.train vehicle.test\n",
    "\n",
    "#Mejor modelo SVM de vehicle obtenido por la funcion 'tune' y prediccion del test\n",
    "vehicle.svm <- tune.svm(y~.,data=vehicle.train)$best.model\n",
    "vehicle.svm.pred <- predict(vehicle.svm, vehicle.test)\n",
    "#matriz de confusion de las predicciones\n",
    "C<-table(\"True\"=vehicle.test$y,\"Pred\"=vehicle.svm.pred)\n",
    "C\n",
    "#error de la prediccion de clasificacion\n",
    "vehicle.svm.error <- C[1]/sum(C)\n",
    "print(paste('Accuracy vehicle',1-vehicle.svm.error))"
   ]
  },
  {
   "cell_type": "markdown",
   "metadata": {},
   "source": [
    "O no entiendo como funciona la funcion \"tune.svm\" o los resultados usan unos parametros muy concretos en el modelo del documento.\n",
    "\n",
    "Los resultados de _'astroparticle'_ cuadran a la perfeccion con los esperados, _'Bioinformatics'_ estan cerca, pero _'vehicle'_ esta muy lejos de lo esperado."
   ]
  },
  {
   "cell_type": "markdown",
   "metadata": {},
   "source": [
    "Al final, todas las opciones probadas funcionan muy bien con el primer set (entorno 95% de acierto),\n",
    "el segundo sigue siendo bueno (entorno al 80% en todos los modelos), pero el tercero da malos resultados en logistic, lda y svm \n",
    "(este ultimo seria facilmente ajustable mediante los diversos parametros como el margen de error _'C'_) pero da una precision magnifica con adaBoost."
   ]
  },
  {
   "cell_type": "markdown",
   "metadata": {},
   "source": [
    "La mayoria de los modelos estan hechos con los parametros por defecto de la funcion, seria posible mejorar los resultados del segundo y tercer dataset mediante el ajuste de algunos parametros."
   ]
  }
 ],
 "metadata": {
  "kernelspec": {
   "display_name": "R",
   "language": "R",
   "name": "ir"
  },
  "language_info": {
   "codemirror_mode": "r",
   "file_extension": ".r",
   "mimetype": "text/x-r-source",
   "name": "R",
   "pygments_lexer": "r",
   "version": "3.4.0"
  }
 },
 "nbformat": 4,
 "nbformat_minor": 2
}

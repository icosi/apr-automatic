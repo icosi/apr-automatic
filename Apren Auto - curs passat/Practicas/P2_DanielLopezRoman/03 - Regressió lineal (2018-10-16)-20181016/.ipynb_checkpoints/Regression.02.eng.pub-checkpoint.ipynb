{
 "cells": [
  {
   "cell_type": "markdown",
   "metadata": {},
   "source": [
    "# Linear regression 02"
   ]
  },
  {
   "cell_type": "markdown",
   "metadata": {},
   "source": [
    "##### Josep Fortiana 2018-10-16"
   ]
  },
  {
   "cell_type": "markdown",
   "metadata": {},
   "source": [
    "## 3. Multicollinearity and condition number"
   ]
  },
  {
   "cell_type": "markdown",
   "metadata": {},
   "source": [
    "### Acetylene data"
   ]
  },
  {
   "cell_type": "markdown",
   "metadata": {},
   "source": [
    "Download the files: `Acetylene.dat.txt` (data description), `Acetylene.txt` (actual data). We will use these data for multiple linear regression."
   ]
  },
  {
   "cell_type": "code",
   "execution_count": 11,
   "metadata": {},
   "outputs": [
    {
     "name": "stdout",
     "output_type": "stream",
     "text": [
      "'data.frame':\t16 obs. of  4 variables:\n",
      " $ X1: int  1300 1300 1300 1300 1300 1300 1200 1200 1200 1200 ...\n",
      " $ X2: num  7.5 9 11 13.5 17 23 5.3 7.5 11 13.5 ...\n",
      " $ X3: num  0.012 0.012 0.0115 0.013 0.0135 0.012 0.04 0.038 0.032 0.026 ...\n",
      " $ Y : num  49 50.2 50.5 48.5 47.5 44.5 28 31.5 34.5 35 ...\n"
     ]
    }
   ],
   "source": [
    "Acetylene<-read.table(\"Acetylene.txt\",header=TRUE)\n",
    "str(Acetylene)"
   ]
  },
  {
   "cell_type": "code",
   "execution_count": 12,
   "metadata": {},
   "outputs": [
    {
     "data": {
      "text/plain": [
       "\n",
       "Call:\n",
       "lm(formula = Y ~ X1 + X2 + X3, data = Acetylene)\n",
       "\n",
       "Residuals:\n",
       "   Min     1Q Median     3Q    Max \n",
       "-6.920 -1.856  0.234  2.074  6.948 \n",
       "\n",
       "Coefficients:\n",
       "              Estimate Std. Error t value Pr(>|t|)  \n",
       "(Intercept) -121.26962   55.43571  -2.188   0.0492 *\n",
       "X1             0.12685    0.04218   3.007   0.0109 *\n",
       "X2             0.34816    0.17702   1.967   0.0728 .\n",
       "X3           -19.02170  107.92824  -0.176   0.8630  \n",
       "---\n",
       "Signif. codes:  0 '***' 0.001 '**' 0.01 '*' 0.05 '.' 0.1 ' ' 1\n",
       "\n",
       "Residual standard error: 3.767 on 12 degrees of freedom\n",
       "Multiple R-squared:  0.9198,\tAdjusted R-squared:  0.8998 \n",
       "F-statistic: 45.88 on 3 and 12 DF,  p-value: 7.522e-07\n"
      ]
     },
     "metadata": {},
     "output_type": "display_data"
    }
   ],
   "source": [
    "Acetylene.lm.1<-lm(Y~X1+X2+X3,data=Acetylene)\n",
    "summary(Acetylene.lm.1)"
   ]
  },
  {
   "cell_type": "markdown",
   "metadata": {},
   "source": [
    "Extract the _regression (or model) matrix,_ i.e., the result of pasting a column of ones to the matrix containing the values of  `X1`, `X2`, `X3`. The new column will correspond to the `(Intercept)` regression term."
   ]
  },
  {
   "cell_type": "code",
   "execution_count": 13,
   "metadata": {},
   "outputs": [
    {
     "data": {
      "text/html": [
       "<table>\n",
       "<thead><tr><th></th><th scope=col>(Intercept)</th><th scope=col>X1</th><th scope=col>X2</th><th scope=col>X3</th></tr></thead>\n",
       "<tbody>\n",
       "\t<tr><th scope=row>1</th><td>1     </td><td>1300  </td><td> 7.5  </td><td>0.0120</td></tr>\n",
       "\t<tr><th scope=row>2</th><td>1     </td><td>1300  </td><td> 9.0  </td><td>0.0120</td></tr>\n",
       "\t<tr><th scope=row>3</th><td>1     </td><td>1300  </td><td>11.0  </td><td>0.0115</td></tr>\n",
       "\t<tr><th scope=row>4</th><td>1     </td><td>1300  </td><td>13.5  </td><td>0.0130</td></tr>\n",
       "\t<tr><th scope=row>5</th><td>1     </td><td>1300  </td><td>17.0  </td><td>0.0135</td></tr>\n",
       "\t<tr><th scope=row>6</th><td>1     </td><td>1300  </td><td>23.0  </td><td>0.0120</td></tr>\n",
       "\t<tr><th scope=row>7</th><td>1     </td><td>1200  </td><td> 5.3  </td><td>0.0400</td></tr>\n",
       "\t<tr><th scope=row>8</th><td>1     </td><td>1200  </td><td> 7.5  </td><td>0.0380</td></tr>\n",
       "\t<tr><th scope=row>9</th><td>1     </td><td>1200  </td><td>11.0  </td><td>0.0320</td></tr>\n",
       "\t<tr><th scope=row>10</th><td>1     </td><td>1200  </td><td>13.5  </td><td>0.0260</td></tr>\n",
       "\t<tr><th scope=row>11</th><td>1     </td><td>1200  </td><td>17.0  </td><td>0.0340</td></tr>\n",
       "\t<tr><th scope=row>12</th><td>1     </td><td>1200  </td><td>23.0  </td><td>0.0410</td></tr>\n",
       "\t<tr><th scope=row>13</th><td>1     </td><td>1100  </td><td> 5.3  </td><td>0.0840</td></tr>\n",
       "\t<tr><th scope=row>14</th><td>1     </td><td>1100  </td><td> 7.5  </td><td>0.0980</td></tr>\n",
       "\t<tr><th scope=row>15</th><td>1     </td><td>1100  </td><td>11.0  </td><td>0.0920</td></tr>\n",
       "\t<tr><th scope=row>16</th><td>1     </td><td>1100  </td><td>17.0  </td><td>0.0860</td></tr>\n",
       "</tbody>\n",
       "</table>\n"
      ],
      "text/latex": [
       "\\begin{tabular}{r|llll}\n",
       "  & (Intercept) & X1 & X2 & X3\\\\\n",
       "\\hline\n",
       "\t1 & 1      & 1300   &  7.5   & 0.0120\\\\\n",
       "\t2 & 1      & 1300   &  9.0   & 0.0120\\\\\n",
       "\t3 & 1      & 1300   & 11.0   & 0.0115\\\\\n",
       "\t4 & 1      & 1300   & 13.5   & 0.0130\\\\\n",
       "\t5 & 1      & 1300   & 17.0   & 0.0135\\\\\n",
       "\t6 & 1      & 1300   & 23.0   & 0.0120\\\\\n",
       "\t7 & 1      & 1200   &  5.3   & 0.0400\\\\\n",
       "\t8 & 1      & 1200   &  7.5   & 0.0380\\\\\n",
       "\t9 & 1      & 1200   & 11.0   & 0.0320\\\\\n",
       "\t10 & 1      & 1200   & 13.5   & 0.0260\\\\\n",
       "\t11 & 1      & 1200   & 17.0   & 0.0340\\\\\n",
       "\t12 & 1      & 1200   & 23.0   & 0.0410\\\\\n",
       "\t13 & 1      & 1100   &  5.3   & 0.0840\\\\\n",
       "\t14 & 1      & 1100   &  7.5   & 0.0980\\\\\n",
       "\t15 & 1      & 1100   & 11.0   & 0.0920\\\\\n",
       "\t16 & 1      & 1100   & 17.0   & 0.0860\\\\\n",
       "\\end{tabular}\n"
      ],
      "text/markdown": [
       "\n",
       "| <!--/--> | (Intercept) | X1 | X2 | X3 | \n",
       "|---|---|---|---|---|---|---|---|---|---|---|---|---|---|---|---|\n",
       "| 1 | 1      | 1300   |  7.5   | 0.0120 | \n",
       "| 2 | 1      | 1300   |  9.0   | 0.0120 | \n",
       "| 3 | 1      | 1300   | 11.0   | 0.0115 | \n",
       "| 4 | 1      | 1300   | 13.5   | 0.0130 | \n",
       "| 5 | 1      | 1300   | 17.0   | 0.0135 | \n",
       "| 6 | 1      | 1300   | 23.0   | 0.0120 | \n",
       "| 7 | 1      | 1200   |  5.3   | 0.0400 | \n",
       "| 8 | 1      | 1200   |  7.5   | 0.0380 | \n",
       "| 9 | 1      | 1200   | 11.0   | 0.0320 | \n",
       "| 10 | 1      | 1200   | 13.5   | 0.0260 | \n",
       "| 11 | 1      | 1200   | 17.0   | 0.0340 | \n",
       "| 12 | 1      | 1200   | 23.0   | 0.0410 | \n",
       "| 13 | 1      | 1100   |  5.3   | 0.0840 | \n",
       "| 14 | 1      | 1100   |  7.5   | 0.0980 | \n",
       "| 15 | 1      | 1100   | 11.0   | 0.0920 | \n",
       "| 16 | 1      | 1100   | 17.0   | 0.0860 | \n",
       "\n",
       "\n"
      ],
      "text/plain": [
       "   (Intercept) X1   X2   X3    \n",
       "1  1           1300  7.5 0.0120\n",
       "2  1           1300  9.0 0.0120\n",
       "3  1           1300 11.0 0.0115\n",
       "4  1           1300 13.5 0.0130\n",
       "5  1           1300 17.0 0.0135\n",
       "6  1           1300 23.0 0.0120\n",
       "7  1           1200  5.3 0.0400\n",
       "8  1           1200  7.5 0.0380\n",
       "9  1           1200 11.0 0.0320\n",
       "10 1           1200 13.5 0.0260\n",
       "11 1           1200 17.0 0.0340\n",
       "12 1           1200 23.0 0.0410\n",
       "13 1           1100  5.3 0.0840\n",
       "14 1           1100  7.5 0.0980\n",
       "15 1           1100 11.0 0.0920\n",
       "16 1           1100 17.0 0.0860"
      ]
     },
     "metadata": {},
     "output_type": "display_data"
    },
    {
     "data": {
      "text/html": [
       "<table>\n",
       "<thead><tr><th></th><th scope=col>X1</th><th scope=col>X2</th><th scope=col>X3</th></tr></thead>\n",
       "<tbody>\n",
       "\t<tr><th scope=row>X1</th><td> 1.000</td><td> 0.224</td><td>-0.958</td></tr>\n",
       "\t<tr><th scope=row>X2</th><td> 0.224</td><td> 1.000</td><td>-0.240</td></tr>\n",
       "\t<tr><th scope=row>X3</th><td>-0.958</td><td>-0.240</td><td> 1.000</td></tr>\n",
       "</tbody>\n",
       "</table>\n"
      ],
      "text/latex": [
       "\\begin{tabular}{r|lll}\n",
       "  & X1 & X2 & X3\\\\\n",
       "\\hline\n",
       "\tX1 &  1.000 &  0.224 & -0.958\\\\\n",
       "\tX2 &  0.224 &  1.000 & -0.240\\\\\n",
       "\tX3 & -0.958 & -0.240 &  1.000\\\\\n",
       "\\end{tabular}\n"
      ],
      "text/markdown": [
       "\n",
       "| <!--/--> | X1 | X2 | X3 | \n",
       "|---|---|---|\n",
       "| X1 |  1.000 |  0.224 | -0.958 | \n",
       "| X2 |  0.224 |  1.000 | -0.240 | \n",
       "| X3 | -0.958 | -0.240 |  1.000 | \n",
       "\n",
       "\n"
      ],
      "text/plain": [
       "   X1     X2     X3    \n",
       "X1  1.000  0.224 -0.958\n",
       "X2  0.224  1.000 -0.240\n",
       "X3 -0.958 -0.240  1.000"
      ]
     },
     "metadata": {},
     "output_type": "display_data"
    }
   ],
   "source": [
    "X<-model.matrix(Acetylene.lm.1)\n",
    "X\n",
    "round(cor(X[,-1]),3)"
   ]
  },
  {
   "cell_type": "markdown",
   "metadata": {},
   "source": [
    "Matrix $Q=X'\\cdot X$ of cross-products, its determinant and its inverse:"
   ]
  },
  {
   "cell_type": "code",
   "execution_count": 14,
   "metadata": {},
   "outputs": [
    {
     "data": {
      "text/html": [
       "<table>\n",
       "<thead><tr><th></th><th scope=col>(Intercept)</th><th scope=col>X1</th><th scope=col>X2</th><th scope=col>X3</th></tr></thead>\n",
       "<tbody>\n",
       "\t<tr><th scope=row>(Intercept)</th><td>   16.000 </td><td>   19400.0</td><td>   199.100</td><td>  0.645   </td></tr>\n",
       "\t<tr><th scope=row>X1</th><td>19400.000 </td><td>23620000.0</td><td>242940.000</td><td>745.400   </td></tr>\n",
       "\t<tr><th scope=row>X2</th><td>  199.100 </td><td>  242940.0</td><td>  2958.430</td><td>  7.381   </td></tr>\n",
       "\t<tr><th scope=row>X3</th><td>    0.645 </td><td>     745.4</td><td>     7.381</td><td>  0.041   </td></tr>\n",
       "</tbody>\n",
       "</table>\n"
      ],
      "text/latex": [
       "\\begin{tabular}{r|llll}\n",
       "  & (Intercept) & X1 & X2 & X3\\\\\n",
       "\\hline\n",
       "\t(Intercept) &    16.000  &    19400.0 &    199.100 &   0.645   \\\\\n",
       "\tX1 & 19400.000  & 23620000.0 & 242940.000 & 745.400   \\\\\n",
       "\tX2 &   199.100  &   242940.0 &   2958.430 &   7.381   \\\\\n",
       "\tX3 &     0.645  &      745.4 &      7.381 &   0.041   \\\\\n",
       "\\end{tabular}\n"
      ],
      "text/markdown": [
       "\n",
       "| <!--/--> | (Intercept) | X1 | X2 | X3 | \n",
       "|---|---|---|---|\n",
       "| (Intercept) |    16.000  |    19400.0 |    199.100 |   0.645    | \n",
       "| X1 | 19400.000  | 23620000.0 | 242940.000 | 745.400    | \n",
       "| X2 |   199.100  |   242940.0 |   2958.430 |   7.381    | \n",
       "| X3 |     0.645  |      745.4 |      7.381 |   0.041    | \n",
       "\n",
       "\n"
      ],
      "text/plain": [
       "            (Intercept) X1         X2         X3     \n",
       "(Intercept)    16.000      19400.0    199.100   0.645\n",
       "X1          19400.000   23620000.0 242940.000 745.400\n",
       "X2            199.100     242940.0   2958.430   7.381\n",
       "X3              0.645        745.4      7.381   0.041"
      ]
     },
     "metadata": {},
     "output_type": "display_data"
    },
    {
     "data": {
      "text/html": [
       "868196.343"
      ],
      "text/latex": [
       "868196.343"
      ],
      "text/markdown": [
       "868196.343"
      ],
      "text/plain": [
       "[1] 868196.3"
      ]
     },
     "metadata": {},
     "output_type": "display_data"
    },
    {
     "data": {
      "text/html": [
       "<table>\n",
       "<thead><tr><th></th><th scope=col>(Intercept)</th><th scope=col>X1</th><th scope=col>X2</th><th scope=col>X3</th></tr></thead>\n",
       "<tbody>\n",
       "\t<tr><th scope=row>(Intercept)</th><td> 216.556</td><td>-0.165  </td><td>-0.048  </td><td>-406.513</td></tr>\n",
       "\t<tr><th scope=row>X1</th><td>  -0.165</td><td> 0.000  </td><td> 0.000  </td><td>   0.307</td></tr>\n",
       "\t<tr><th scope=row>X2</th><td>  -0.048</td><td> 0.000  </td><td> 0.002  </td><td>   0.125</td></tr>\n",
       "\t<tr><th scope=row>X3</th><td>-406.513</td><td> 0.307  </td><td> 0.125  </td><td> 820.847</td></tr>\n",
       "</tbody>\n",
       "</table>\n"
      ],
      "text/latex": [
       "\\begin{tabular}{r|llll}\n",
       "  & (Intercept) & X1 & X2 & X3\\\\\n",
       "\\hline\n",
       "\t(Intercept) &  216.556 & -0.165   & -0.048   & -406.513\\\\\n",
       "\tX1 &   -0.165 &  0.000   &  0.000   &    0.307\\\\\n",
       "\tX2 &   -0.048 &  0.000   &  0.002   &    0.125\\\\\n",
       "\tX3 & -406.513 &  0.307   &  0.125   &  820.847\\\\\n",
       "\\end{tabular}\n"
      ],
      "text/markdown": [
       "\n",
       "| <!--/--> | (Intercept) | X1 | X2 | X3 | \n",
       "|---|---|---|---|\n",
       "| (Intercept) |  216.556 | -0.165   | -0.048   | -406.513 | \n",
       "| X1 |   -0.165 |  0.000   |  0.000   |    0.307 | \n",
       "| X2 |   -0.048 |  0.000   |  0.002   |    0.125 | \n",
       "| X3 | -406.513 |  0.307   |  0.125   |  820.847 | \n",
       "\n",
       "\n"
      ],
      "text/plain": [
       "            (Intercept) X1     X2     X3      \n",
       "(Intercept)  216.556    -0.165 -0.048 -406.513\n",
       "X1            -0.165     0.000  0.000    0.307\n",
       "X2            -0.048     0.000  0.002    0.125\n",
       "X3          -406.513     0.307  0.125  820.847"
      ]
     },
     "metadata": {},
     "output_type": "display_data"
    }
   ],
   "source": [
    "Q<- t(X) %*% X\n",
    "round(Q,3)\n",
    "round(det(Q),3)\n",
    "Q1<-solve(Q)\n",
    "round(Q1,3)"
   ]
  },
  {
   "cell_type": "markdown",
   "metadata": {},
   "source": [
    "Column $y$ of responses.\n",
    "\n",
    "Regression coefficients estimates $\\hat{\\beta}$:\n",
    "\n",
    "$$\n",
    "    \\hat{\\beta}=(X'\\cdot X)^{-1}\\cdot X' \\cdot y.\n",
    "$$"
   ]
  },
  {
   "cell_type": "code",
   "execution_count": 15,
   "metadata": {},
   "outputs": [
    {
     "data": {
      "text/html": [
       "<table>\n",
       "<tbody>\n",
       "\t<tr><th scope=row>(Intercept)</th><td>-121.2696214</td></tr>\n",
       "\t<tr><th scope=row>X1</th><td>   0.1268539</td></tr>\n",
       "\t<tr><th scope=row>X2</th><td>   0.3481576</td></tr>\n",
       "\t<tr><th scope=row>X3</th><td> -19.0216969</td></tr>\n",
       "</tbody>\n",
       "</table>\n"
      ],
      "text/latex": [
       "\\begin{tabular}{r|l}\n",
       "\t(Intercept) & -121.2696214\\\\\n",
       "\tX1 &    0.1268539\\\\\n",
       "\tX2 &    0.3481576\\\\\n",
       "\tX3 &  -19.0216969\\\\\n",
       "\\end{tabular}\n"
      ],
      "text/markdown": [
       "\n",
       "| (Intercept) | -121.2696214 | \n",
       "| X1 |    0.1268539 | \n",
       "| X2 |    0.3481576 | \n",
       "| X3 |  -19.0216969 | \n",
       "\n",
       "\n"
      ],
      "text/plain": [
       "            [,1]        \n",
       "(Intercept) -121.2696214\n",
       "X1             0.1268539\n",
       "X2             0.3481576\n",
       "X3           -19.0216969"
      ]
     },
     "metadata": {},
     "output_type": "display_data"
    }
   ],
   "source": [
    "y<-as.matrix(Acetylene$Y)\n",
    "Q1%*%t(X) %*% y"
   ]
  },
  {
   "cell_type": "markdown",
   "metadata": {},
   "source": [
    "Compute $V$, variances and covariances matrix of the regression coefficients estimators $\\hat{\\beta}$, in two ways:\n",
    "\n",
    "(1) Directly from the above formula, using the fact that $\\operatorname{Var}(y)=\\sigma^{2}\\,I$, substituting the ML estimate $\\hat{\\sigma}^{2}$.\n",
    "\n",
    "(2) With the `vcov()` function in R."
   ]
  },
  {
   "cell_type": "code",
   "execution_count": 16,
   "metadata": {},
   "outputs": [
    {
     "data": {
      "text/html": [
       "<table>\n",
       "<thead><tr><th></th><th scope=col>(Intercept)</th><th scope=col>X1</th><th scope=col>X2</th><th scope=col>X3</th></tr></thead>\n",
       "<tbody>\n",
       "\t<tr><th scope=row>(Intercept)</th><td> 3073.118</td><td>-2.335   </td><td>-0.676   </td><td>-5768.763</td></tr>\n",
       "\t<tr><th scope=row>X1</th><td>   -2.335</td><td> 0.002   </td><td> 0.000   </td><td>    4.352</td></tr>\n",
       "\t<tr><th scope=row>X2</th><td>   -0.676</td><td> 0.000   </td><td> 0.031   </td><td>    1.778</td></tr>\n",
       "\t<tr><th scope=row>X3</th><td>-5768.763</td><td> 4.352   </td><td> 1.778   </td><td>11648.504</td></tr>\n",
       "</tbody>\n",
       "</table>\n"
      ],
      "text/latex": [
       "\\begin{tabular}{r|llll}\n",
       "  & (Intercept) & X1 & X2 & X3\\\\\n",
       "\\hline\n",
       "\t(Intercept) &  3073.118 & -2.335    & -0.676    & -5768.763\\\\\n",
       "\tX1 &    -2.335 &  0.002    &  0.000    &     4.352\\\\\n",
       "\tX2 &    -0.676 &  0.000    &  0.031    &     1.778\\\\\n",
       "\tX3 & -5768.763 &  4.352    &  1.778    & 11648.504\\\\\n",
       "\\end{tabular}\n"
      ],
      "text/markdown": [
       "\n",
       "| <!--/--> | (Intercept) | X1 | X2 | X3 | \n",
       "|---|---|---|---|\n",
       "| (Intercept) |  3073.118 | -2.335    | -0.676    | -5768.763 | \n",
       "| X1 |    -2.335 |  0.002    |  0.000    |     4.352 | \n",
       "| X2 |    -0.676 |  0.000    |  0.031    |     1.778 | \n",
       "| X3 | -5768.763 |  4.352    |  1.778    | 11648.504 | \n",
       "\n",
       "\n"
      ],
      "text/plain": [
       "            (Intercept) X1     X2     X3       \n",
       "(Intercept)  3073.118   -2.335 -0.676 -5768.763\n",
       "X1             -2.335    0.002  0.000     4.352\n",
       "X2             -0.676    0.000  0.031     1.778\n",
       "X3          -5768.763    4.352  1.778 11648.504"
      ]
     },
     "metadata": {},
     "output_type": "display_data"
    },
    {
     "data": {
      "text/html": [
       "<table>\n",
       "<thead><tr><th></th><th scope=col>(Intercept)</th><th scope=col>X1</th><th scope=col>X2</th><th scope=col>X3</th></tr></thead>\n",
       "<tbody>\n",
       "\t<tr><th scope=row>(Intercept)</th><td> 3073.1176892</td><td>-2.3350689880</td><td>-0.6755487518</td><td>-5768.762894 </td></tr>\n",
       "\t<tr><th scope=row>X1</th><td>   -2.3350690</td><td> 0.0017793193</td><td> 0.0001764518</td><td>    4.352212 </td></tr>\n",
       "\t<tr><th scope=row>X2</th><td>   -0.6755488</td><td> 0.0001764518</td><td> 0.0313350447</td><td>    1.777998 </td></tr>\n",
       "\t<tr><th scope=row>X3</th><td>-5768.7628939</td><td> 4.3522124727</td><td> 1.7779975238</td><td>11648.503915 </td></tr>\n",
       "</tbody>\n",
       "</table>\n"
      ],
      "text/latex": [
       "\\begin{tabular}{r|llll}\n",
       "  & (Intercept) & X1 & X2 & X3\\\\\n",
       "\\hline\n",
       "\t(Intercept) &  3073.1176892 & -2.3350689880 & -0.6755487518 & -5768.762894 \\\\\n",
       "\tX1 &    -2.3350690 &  0.0017793193 &  0.0001764518 &     4.352212 \\\\\n",
       "\tX2 &    -0.6755488 &  0.0001764518 &  0.0313350447 &     1.777998 \\\\\n",
       "\tX3 & -5768.7628939 &  4.3522124727 &  1.7779975238 & 11648.503915 \\\\\n",
       "\\end{tabular}\n"
      ],
      "text/markdown": [
       "\n",
       "| <!--/--> | (Intercept) | X1 | X2 | X3 | \n",
       "|---|---|---|---|\n",
       "| (Intercept) |  3073.1176892 | -2.3350689880 | -0.6755487518 | -5768.762894  | \n",
       "| X1 |    -2.3350690 |  0.0017793193 |  0.0001764518 |     4.352212  | \n",
       "| X2 |    -0.6755488 |  0.0001764518 |  0.0313350447 |     1.777998  | \n",
       "| X3 | -5768.7628939 |  4.3522124727 |  1.7779975238 | 11648.503915  | \n",
       "\n",
       "\n"
      ],
      "text/plain": [
       "            (Intercept)   X1            X2            X3          \n",
       "(Intercept)  3073.1176892 -2.3350689880 -0.6755487518 -5768.762894\n",
       "X1             -2.3350690  0.0017793193  0.0001764518     4.352212\n",
       "X2             -0.6755488  0.0001764518  0.0313350447     1.777998\n",
       "X3          -5768.7628939  4.3522124727  1.7779975238 11648.503915"
      ]
     },
     "metadata": {},
     "output_type": "display_data"
    }
   ],
   "source": [
    "sigma.hat<-summary(Acetylene.lm.1)$sigma\n",
    "V<-sigma.hat^2*Q1\n",
    "round(V,3)\n",
    "vcov(Acetylene.lm.1)"
   ]
  },
  {
   "cell_type": "markdown",
   "metadata": {},
   "source": [
    "Diagonal entries in $V$ are the variances of the coefficient estimators. We observe two of them are quite large, indicating model instability. \n",
    "\n",
    "This behaviour can be more precisely detected by using the _Variance Inflation Factors (VIF),_ which we compute with the `vif()` function from the `car` package. Intuitively, VIF's quantify _multicollinearity_ in the data, that is, linear dependences in the set of predictors. The VIF of a predictor is the proportion of its actual variance relative to the one it would have if it were linearly independent from the others:"
   ]
  },
  {
   "cell_type": "code",
   "execution_count": 17,
   "metadata": {},
   "outputs": [
    {
     "name": "stderr",
     "output_type": "stream",
     "text": [
      "Loading required package: car\n",
      "Warning message:\n",
      "\"package 'car' was built under R version 3.4.4\"Loading required package: carData\n",
      "Warning message:\n",
      "\"package 'carData' was built under R version 3.4.4\""
     ]
    }
   ],
   "source": [
    "#install.packages(\"car\",dependencies=TRUE,repos=\"https://cloud.r-project.org\")\n",
    "require(car)\n",
    "# ?vif"
   ]
  },
  {
   "cell_type": "code",
   "execution_count": 18,
   "metadata": {},
   "outputs": [
    {
     "data": {
      "text/html": [
       "<dl class=dl-horizontal>\n",
       "\t<dt>X1</dt>\n",
       "\t\t<dd>12.2250454100393</dd>\n",
       "\t<dt>X2</dt>\n",
       "\t\t<dd>1.06183841935804</dd>\n",
       "\t<dt>X3</dt>\n",
       "\t\t<dd>12.3249635776052</dd>\n",
       "</dl>\n"
      ],
      "text/latex": [
       "\\begin{description*}\n",
       "\\item[X1] 12.2250454100393\n",
       "\\item[X2] 1.06183841935804\n",
       "\\item[X3] 12.3249635776052\n",
       "\\end{description*}\n"
      ],
      "text/markdown": [
       "X1\n",
       ":   12.2250454100393X2\n",
       ":   1.06183841935804X3\n",
       ":   12.3249635776052\n",
       "\n"
      ],
      "text/plain": [
       "       X1        X2        X3 \n",
       "12.225045  1.061838 12.324964 "
      ]
     },
     "metadata": {},
     "output_type": "display_data"
    }
   ],
   "source": [
    "vif(Acetylene.lm.1)"
   ]
  },
  {
   "cell_type": "markdown",
   "metadata": {},
   "source": [
    "The commonly accepted rule of thumb is that a VIF larger than 10 is too large, indicating multicollinearity. "
   ]
  },
  {
   "cell_type": "markdown",
   "metadata": {},
   "source": [
    "Another quantity used in multicollinearity detection is the _condition number_ of the model matrix $X$. In general, the condition number $\\kappa(A)$ of a matrix $A$ measures the numerical inaccuracy introduced by solving the equation $A\\cdot x = b$ for a given column vector $b$. Technically it is the ratio between the maximum and minimum singular values of $A$. When $\\kappa\\approx1$ there is no significant precision loss. When $\\kappa=10^k$ the precision loss of $k$ significant decimal digits:\n",
    "\n",
    "The `kappa()` function in R gives the condition number of a matrix. We check the condition number of the model matrix $X$ of this regression:"
   ]
  },
  {
   "cell_type": "code",
   "execution_count": 19,
   "metadata": {},
   "outputs": [
    {
     "data": {
      "text/html": [
       "201893.288773715"
      ],
      "text/latex": [
       "201893.288773715"
      ],
      "text/markdown": [
       "201893.288773715"
      ],
      "text/plain": [
       "[1] 201893.3"
      ]
     },
     "metadata": {},
     "output_type": "display_data"
    }
   ],
   "source": [
    "kappa(X)"
   ]
  },
  {
   "cell_type": "markdown",
   "metadata": {},
   "source": [
    "We see that these data have bad condition for regression. The practical consequence of this fact is that predictions $\\hat{y}$ obtained from this model are unreliable. \n",
    "\n",
    "The predicted $\\hat{y}$ for a new $x$ can be computed as usual:"
   ]
  },
  {
   "cell_type": "code",
   "execution_count": 20,
   "metadata": {},
   "outputs": [
    {
     "data": {
      "text/html": [
       "<strong>1:</strong> 20.674"
      ],
      "text/latex": [
       "\\textbf{1:} 20.674"
      ],
      "text/markdown": [
       "**1:** 20.674"
      ],
      "text/plain": [
       "     1 \n",
       "20.674 "
      ]
     },
     "metadata": {},
     "output_type": "display_data"
    }
   ],
   "source": [
    "newy<-predict(Acetylene.lm.1,newdata=data.frame(X1=1100,X2=8,X3=0.02), type=\"response\")\n",
    "round(newy,3)"
   ]
  },
  {
   "cell_type": "markdown",
   "metadata": {},
   "source": [
    "However, due to the bad condition of the model it would be unadvisable to rely upon this value, which possibly will have a large error (and we do not know how large).\n",
    "\n",
    "We should restate the model, either replacing the original predictors with suitable linear combinations, designed to diminish multicollinearity, such as _PCR_ and _PLS,_ or by means of _regularization._ "
   ]
  },
  {
   "cell_type": "markdown",
   "metadata": {},
   "source": [
    "### GPA (Grade Point Average) dataset"
   ]
  },
  {
   "cell_type": "markdown",
   "metadata": {},
   "source": [
    "The GPA dataset has 30 observacions (for 30 students) of 5 variables:\n",
    "\n",
    "`gpa`:   \"graduate grade point average\"\n",
    "\n",
    "`greq`:  \"GRE exam quantitative score\"\n",
    "\n",
    "`grev`:  \"GRE exam verbal score\"\n",
    "\n",
    "`mat`:   \"Miller Analogies Test score\"\n",
    "\n",
    "`ar`:    \"rating by professors\"\n",
    "\n",
    "#### Read the data file into R:"
   ]
  },
  {
   "cell_type": "code",
   "execution_count": 21,
   "metadata": {},
   "outputs": [
    {
     "name": "stdout",
     "output_type": "stream",
     "text": [
      "'data.frame':\t30 obs. of  5 variables:\n",
      " $ gpa : num  3.2 4.1 3 2.6 3.7 4 4.3 2.7 3.6 4.1 ...\n",
      " $ greq: int  625 575 520 545 520 655 630 500 605 555 ...\n",
      " $ grev: int  540 680 480 520 490 535 720 500 575 690 ...\n",
      " $ mat : int  65 75 65 55 75 65 75 75 65 75 ...\n",
      " $ ar  : num  2.7 4.5 2.5 3.1 3.6 4.3 4.6 3 4.7 3.4 ...\n"
     ]
    }
   ],
   "source": [
    "gpa<-read.table(\"gpa.txt\",header=TRUE)\n",
    "str(gpa)"
   ]
  },
  {
   "cell_type": "markdown",
   "metadata": {},
   "source": [
    "#### Fit a linear model to predict the response `gpa` from the remaining four variables:"
   ]
  },
  {
   "cell_type": "code",
   "execution_count": 22,
   "metadata": {},
   "outputs": [
    {
     "data": {
      "text/plain": [
       "\n",
       "Call:\n",
       "lm(formula = gpa ~ ., data = gpa)\n",
       "\n",
       "Residuals:\n",
       "    Min      1Q  Median      3Q     Max \n",
       "-0.7876 -0.2297  0.0069  0.2673  0.5260 \n",
       "\n",
       "Coefficients:\n",
       "             Estimate Std. Error t value Pr(>|t|)  \n",
       "(Intercept) -1.738107   0.950740  -1.828   0.0795 .\n",
       "greq         0.003998   0.001831   2.184   0.0385 *\n",
       "grev         0.001524   0.001050   1.451   0.1593  \n",
       "mat          0.020896   0.009549   2.188   0.0382 *\n",
       "ar           0.144234   0.113001   1.276   0.2135  \n",
       "---\n",
       "Signif. codes:  0 '***' 0.001 '**' 0.01 '*' 0.05 '.' 0.1 ' ' 1\n",
       "\n",
       "Residual standard error: 0.3874 on 25 degrees of freedom\n",
       "Multiple R-squared:  0.6405,\tAdjusted R-squared:  0.5829 \n",
       "F-statistic: 11.13 on 4 and 25 DF,  p-value: 2.519e-05\n"
      ]
     },
     "metadata": {},
     "output_type": "display_data"
    }
   ],
   "source": [
    "gpa.lm.1<-lm(gpa~.,data=gpa)\n",
    "summary(gpa.lm.1)"
   ]
  },
  {
   "cell_type": "markdown",
   "metadata": {},
   "source": [
    "#### Compute VIF and condition number"
   ]
  },
  {
   "cell_type": "code",
   "execution_count": 23,
   "metadata": {},
   "outputs": [
    {
     "data": {
      "text/html": [
       "<dl class=dl-horizontal>\n",
       "\t<dt>greq</dt>\n",
       "\t\t<dd>1.53084143379994</dd>\n",
       "\t<dt>grev</dt>\n",
       "\t\t<dd>1.46946795114914</dd>\n",
       "\t<dt>mat</dt>\n",
       "\t\t<dd>1.50689959401257</dd>\n",
       "\t<dt>ar</dt>\n",
       "\t\t<dd>1.73477859486683</dd>\n",
       "</dl>\n"
      ],
      "text/latex": [
       "\\begin{description*}\n",
       "\\item[greq] 1.53084143379994\n",
       "\\item[grev] 1.46946795114914\n",
       "\\item[mat] 1.50689959401257\n",
       "\\item[ar] 1.73477859486683\n",
       "\\end{description*}\n"
      ],
      "text/markdown": [
       "greq\n",
       ":   1.53084143379994grev\n",
       ":   1.46946795114914mat\n",
       ":   1.50689959401257ar\n",
       ":   1.73477859486683\n",
       "\n"
      ],
      "text/plain": [
       "    greq     grev      mat       ar \n",
       "1.530841 1.469468 1.506900 1.734779 "
      ]
     },
     "metadata": {},
     "output_type": "display_data"
    },
    {
     "data": {
      "text/html": [
       "5506.1074021793"
      ],
      "text/latex": [
       "5506.1074021793"
      ],
      "text/markdown": [
       "5506.1074021793"
      ],
      "text/plain": [
       "[1] 5506.107"
      ]
     },
     "metadata": {},
     "output_type": "display_data"
    }
   ],
   "source": [
    "vif(gpa.lm.1)\n",
    "X.gpa<-model.matrix(gpa.lm.1)\n",
    "kappa(X.gpa)"
   ]
  },
  {
   "cell_type": "markdown",
   "metadata": {},
   "source": [
    "The condition number $\\kappa$ is not small, but the VIF's are acceptable."
   ]
  },
  {
   "cell_type": "markdown",
   "metadata": {},
   "source": [
    "#### Exploring the effect of adding a new, redundant, variable\n",
    "\n",
    "A _\"new\"_ artificial predictor variable adding no new information. A linear combination plus a random noise:"
   ]
  },
  {
   "cell_type": "code",
   "execution_count": 24,
   "metadata": {
    "collapsed": true
   },
   "outputs": [],
   "source": [
    "new<-gpa$greq+gpa$grev+gpa$mat+rnorm(30,0,0.5)\n",
    "gpanew<-data.frame(gpa,new)"
   ]
  },
  {
   "cell_type": "markdown",
   "metadata": {},
   "source": [
    "#### New linear model using the new, enlarged, predictor set"
   ]
  },
  {
   "cell_type": "code",
   "execution_count": 25,
   "metadata": {},
   "outputs": [
    {
     "data": {
      "text/plain": [
       "\n",
       "Call:\n",
       "lm(formula = gpa ~ ., data = gpanew)\n",
       "\n",
       "Residuals:\n",
       "     Min       1Q   Median       3Q      Max \n",
       "-0.80204 -0.22069 -0.00452  0.25753  0.54551 \n",
       "\n",
       "Coefficients:\n",
       "            Estimate Std. Error t value Pr(>|t|)  \n",
       "(Intercept) -1.76088    0.97249  -1.811   0.0827 .\n",
       "greq         0.04734    0.15974   0.296   0.7695  \n",
       "grev         0.04469    0.15908   0.281   0.7812  \n",
       "mat          0.06498    0.16277   0.399   0.6933  \n",
       "ar           0.13283    0.12258   1.084   0.2893  \n",
       "new         -0.04324    0.15936  -0.271   0.7885  \n",
       "---\n",
       "Signif. codes:  0 '***' 0.001 '**' 0.01 '*' 0.05 '.' 0.1 ' ' 1\n",
       "\n",
       "Residual standard error: 0.3948 on 24 degrees of freedom\n",
       "Multiple R-squared:  0.6416,\tAdjusted R-squared:  0.5669 \n",
       "F-statistic: 8.592 on 5 and 24 DF,  p-value: 8.929e-05\n"
      ]
     },
     "metadata": {},
     "output_type": "display_data"
    }
   ],
   "source": [
    "gpa.lm.2<-lm(gpa~.,data=gpanew)\n",
    "summary(gpa.lm.2)"
   ]
  },
  {
   "cell_type": "markdown",
   "metadata": {},
   "source": [
    "#### VIF's and condition number of the new model"
   ]
  },
  {
   "cell_type": "code",
   "execution_count": 26,
   "metadata": {},
   "outputs": [
    {
     "data": {
      "text/html": [
       "<dl class=dl-horizontal>\n",
       "\t<dt>greq</dt>\n",
       "\t\t<dd>11223.4787787196</dd>\n",
       "\t<dt>grev</dt>\n",
       "\t\t<dd>32471.1721501578</dd>\n",
       "\t<dt>mat</dt>\n",
       "\t\t<dd>421.611224279832</dd>\n",
       "\t<dt>ar</dt>\n",
       "\t\t<dd>1.96585893981339</dd>\n",
       "\t<dt>new</dt>\n",
       "\t\t<dd>66153.6972988386</dd>\n",
       "</dl>\n"
      ],
      "text/latex": [
       "\\begin{description*}\n",
       "\\item[greq] 11223.4787787196\n",
       "\\item[grev] 32471.1721501578\n",
       "\\item[mat] 421.611224279832\n",
       "\\item[ar] 1.96585893981339\n",
       "\\item[new] 66153.6972988386\n",
       "\\end{description*}\n"
      ],
      "text/markdown": [
       "greq\n",
       ":   11223.4787787196grev\n",
       ":   32471.1721501578mat\n",
       ":   421.611224279832ar\n",
       ":   1.96585893981339new\n",
       ":   66153.6972988386\n",
       "\n"
      ],
      "text/plain": [
       "        greq         grev          mat           ar          new \n",
       "11223.478779 32471.172150   421.611224     1.965859 66153.697299 "
      ]
     },
     "metadata": {},
     "output_type": "display_data"
    },
    {
     "data": {
      "text/html": [
       "10842.5739448002"
      ],
      "text/latex": [
       "10842.5739448002"
      ],
      "text/markdown": [
       "10842.5739448002"
      ],
      "text/plain": [
       "[1] 10842.57"
      ]
     },
     "metadata": {},
     "output_type": "display_data"
    }
   ],
   "source": [
    "vif(gpa.lm.2)\n",
    "X.gpa.2<-model.matrix(gpa.lm.2)\n",
    "kappa(X.gpa.2)"
   ]
  },
  {
   "cell_type": "markdown",
   "metadata": {},
   "source": [
    "### Longley dataset\n",
    "\n",
    "This is a classic infamous dataset, designed to reveal computational weaknesses in statistical software (of its time, fifty years ago). The source is:  Longley, James W. (1967), _\"An Appraisal of Least Squares Programs for the Electronic Computer from the Point of View of the User\",_ Journal of the American Statistical Association, Vol. 62, No. 319, pp. 819-841.  "
   ]
  },
  {
   "cell_type": "code",
   "execution_count": 27,
   "metadata": {},
   "outputs": [
    {
     "name": "stderr",
     "output_type": "stream",
     "text": [
      "Warning message in normalizePath(path.expand(path), winslash, mustWork):\n",
      "\"path[11]=\"C:/Users/Daniel/Downloads/P2_DanielLopezRoman/03 - Regressió lineal (2018-10-16)-20181016\": El sistema no puede encontrar el archivo especificado\""
     ]
    },
    {
     "name": "stdout",
     "output_type": "stream",
     "text": [
      "'data.frame':\t16 obs. of  7 variables:\n",
      " $ GNP.deflator: num  83 88.5 88.2 89.5 96.2 ...\n",
      " $ GNP         : num  234 259 258 285 329 ...\n",
      " $ Unemployed  : num  236 232 368 335 210 ...\n",
      " $ Armed.Forces: num  159 146 162 165 310 ...\n",
      " $ Population  : num  108 109 110 111 112 ...\n",
      " $ Year        : int  1947 1948 1949 1950 1951 1952 1953 1954 1955 1956 ...\n",
      " $ Employed    : num  60.3 61.1 60.2 61.2 63.2 ...\n"
     ]
    }
   ],
   "source": [
    "data(longley)\n",
    "str(longley)\n",
    "# ?longley"
   ]
  },
  {
   "cell_type": "markdown",
   "metadata": {},
   "source": [
    "#### Exercise\n",
    "\n",
    "Prepare a linear model to predict `Employed` from the remaining variables.\n",
    "\n",
    "Obtain VIF's and condition number. Repeat after standardizing the predictors. What happens with VIF and `kappa`?"
   ]
  },
  {
   "cell_type": "code",
   "execution_count": 28,
   "metadata": {},
   "outputs": [
    {
     "data": {
      "text/plain": [
       "\n",
       "Call:\n",
       "lm(formula = Employed ~ ., data = longley)\n",
       "\n",
       "Residuals:\n",
       "     Min       1Q   Median       3Q      Max \n",
       "-0.41011 -0.15767 -0.02816  0.10155  0.45539 \n",
       "\n",
       "Coefficients:\n",
       "               Estimate Std. Error t value Pr(>|t|)    \n",
       "(Intercept)  -3.482e+03  8.904e+02  -3.911 0.003560 ** \n",
       "GNP.deflator  1.506e-02  8.492e-02   0.177 0.863141    \n",
       "GNP          -3.582e-02  3.349e-02  -1.070 0.312681    \n",
       "Unemployed   -2.020e-02  4.884e-03  -4.136 0.002535 ** \n",
       "Armed.Forces -1.033e-02  2.143e-03  -4.822 0.000944 ***\n",
       "Population   -5.110e-02  2.261e-01  -0.226 0.826212    \n",
       "Year          1.829e+00  4.555e-01   4.016 0.003037 ** \n",
       "---\n",
       "Signif. codes:  0 '***' 0.001 '**' 0.01 '*' 0.05 '.' 0.1 ' ' 1\n",
       "\n",
       "Residual standard error: 0.3049 on 9 degrees of freedom\n",
       "Multiple R-squared:  0.9955,\tAdjusted R-squared:  0.9925 \n",
       "F-statistic: 330.3 on 6 and 9 DF,  p-value: 4.984e-10\n"
      ]
     },
     "metadata": {},
     "output_type": "display_data"
    },
    {
     "data": {
      "text/html": [
       "<table>\n",
       "<thead><tr><th></th><th scope=col>Df</th><th scope=col>Sum Sq</th><th scope=col>Mean Sq</th><th scope=col>F value</th><th scope=col>Pr(&gt;F)</th></tr></thead>\n",
       "<tbody>\n",
       "\t<tr><th scope=row>GNP.deflator</th><td>1           </td><td>174.3974498 </td><td>174.39744978</td><td>1876.532648 </td><td>9.295384e-12</td></tr>\n",
       "\t<tr><th scope=row>GNP</th><td>1           </td><td>  4.7871810 </td><td>  4.78718104</td><td>  51.510510 </td><td>5.210906e-05</td></tr>\n",
       "\t<tr><th scope=row>Unemployed</th><td>1           </td><td>  2.2639711 </td><td>  2.26397111</td><td>  24.360538 </td><td>8.070597e-04</td></tr>\n",
       "\t<tr><th scope=row>Armed.Forces</th><td>1           </td><td>  0.8763972 </td><td>  0.87639716</td><td>   9.430114 </td><td>1.333568e-02</td></tr>\n",
       "\t<tr><th scope=row>Population</th><td>1           </td><td>  0.3485894 </td><td>  0.34858940</td><td>   3.750854 </td><td>8.475523e-02</td></tr>\n",
       "\t<tr><th scope=row>Year</th><td>1           </td><td>  1.4988134 </td><td>  1.49881345</td><td>  16.127371 </td><td>3.036803e-03</td></tr>\n",
       "\t<tr><th scope=row>Residuals</th><td>9           </td><td>  0.8364241 </td><td>  0.09293601</td><td>         NA </td><td>          NA</td></tr>\n",
       "</tbody>\n",
       "</table>\n"
      ],
      "text/latex": [
       "\\begin{tabular}{r|lllll}\n",
       "  & Df & Sum Sq & Mean Sq & F value & Pr(>F)\\\\\n",
       "\\hline\n",
       "\tGNP.deflator & 1            & 174.3974498  & 174.39744978 & 1876.532648  & 9.295384e-12\\\\\n",
       "\tGNP & 1            &   4.7871810  &   4.78718104 &   51.510510  & 5.210906e-05\\\\\n",
       "\tUnemployed & 1            &   2.2639711  &   2.26397111 &   24.360538  & 8.070597e-04\\\\\n",
       "\tArmed.Forces & 1            &   0.8763972  &   0.87639716 &    9.430114  & 1.333568e-02\\\\\n",
       "\tPopulation & 1            &   0.3485894  &   0.34858940 &    3.750854  & 8.475523e-02\\\\\n",
       "\tYear & 1            &   1.4988134  &   1.49881345 &   16.127371  & 3.036803e-03\\\\\n",
       "\tResiduals & 9            &   0.8364241  &   0.09293601 &          NA  &           NA\\\\\n",
       "\\end{tabular}\n"
      ],
      "text/markdown": [
       "\n",
       "| <!--/--> | Df | Sum Sq | Mean Sq | F value | Pr(>F) | \n",
       "|---|---|---|---|---|---|---|\n",
       "| GNP.deflator | 1            | 174.3974498  | 174.39744978 | 1876.532648  | 9.295384e-12 | \n",
       "| GNP | 1            |   4.7871810  |   4.78718104 |   51.510510  | 5.210906e-05 | \n",
       "| Unemployed | 1            |   2.2639711  |   2.26397111 |   24.360538  | 8.070597e-04 | \n",
       "| Armed.Forces | 1            |   0.8763972  |   0.87639716 |    9.430114  | 1.333568e-02 | \n",
       "| Population | 1            |   0.3485894  |   0.34858940 |    3.750854  | 8.475523e-02 | \n",
       "| Year | 1            |   1.4988134  |   1.49881345 |   16.127371  | 3.036803e-03 | \n",
       "| Residuals | 9            |   0.8364241  |   0.09293601 |          NA  |           NA | \n",
       "\n",
       "\n"
      ],
      "text/plain": [
       "             Df Sum Sq      Mean Sq      F value     Pr(>F)      \n",
       "GNP.deflator 1  174.3974498 174.39744978 1876.532648 9.295384e-12\n",
       "GNP          1    4.7871810   4.78718104   51.510510 5.210906e-05\n",
       "Unemployed   1    2.2639711   2.26397111   24.360538 8.070597e-04\n",
       "Armed.Forces 1    0.8763972   0.87639716    9.430114 1.333568e-02\n",
       "Population   1    0.3485894   0.34858940    3.750854 8.475523e-02\n",
       "Year         1    1.4988134   1.49881345   16.127371 3.036803e-03\n",
       "Residuals    9    0.8364241   0.09293601          NA           NA"
      ]
     },
     "metadata": {},
     "output_type": "display_data"
    }
   ],
   "source": [
    "longley.lm.2<-lm(Employed~.,data=longley)\n",
    "summary(longley.lm.2)\n",
    "anova(longley.lm.2)"
   ]
  },
  {
   "cell_type": "code",
   "execution_count": 29,
   "metadata": {},
   "outputs": [
    {
     "data": {
      "text/html": [
       "<dl class=dl-horizontal>\n",
       "\t<dt>GNP.deflator</dt>\n",
       "\t\t<dd>135.532438280064</dd>\n",
       "\t<dt>GNP</dt>\n",
       "\t\t<dd>1788.51348271901</dd>\n",
       "\t<dt>Unemployed</dt>\n",
       "\t\t<dd>33.6188905960563</dd>\n",
       "\t<dt>Armed.Forces</dt>\n",
       "\t\t<dd>3.58893019344596</dd>\n",
       "\t<dt>Population</dt>\n",
       "\t\t<dd>399.151022312826</dd>\n",
       "\t<dt>Year</dt>\n",
       "\t\t<dd>758.980597407239</dd>\n",
       "</dl>\n"
      ],
      "text/latex": [
       "\\begin{description*}\n",
       "\\item[GNP.deflator] 135.532438280064\n",
       "\\item[GNP] 1788.51348271901\n",
       "\\item[Unemployed] 33.6188905960563\n",
       "\\item[Armed.Forces] 3.58893019344596\n",
       "\\item[Population] 399.151022312826\n",
       "\\item[Year] 758.980597407239\n",
       "\\end{description*}\n"
      ],
      "text/markdown": [
       "GNP.deflator\n",
       ":   135.532438280064GNP\n",
       ":   1788.51348271901Unemployed\n",
       ":   33.6188905960563Armed.Forces\n",
       ":   3.58893019344596Population\n",
       ":   399.151022312826Year\n",
       ":   758.980597407239\n",
       "\n"
      ],
      "text/plain": [
       "GNP.deflator          GNP   Unemployed Armed.Forces   Population         Year \n",
       "   135.53244   1788.51348     33.61889      3.58893    399.15102    758.98060 "
      ]
     },
     "metadata": {},
     "output_type": "display_data"
    },
    {
     "data": {
      "text/html": [
       "22219266.176142"
      ],
      "text/latex": [
       "22219266.176142"
      ],
      "text/markdown": [
       "22219266.176142"
      ],
      "text/plain": [
       "[1] 22219266"
      ]
     },
     "metadata": {},
     "output_type": "display_data"
    }
   ],
   "source": [
    "vif(longley.lm.2)\n",
    "X.longley.2<-model.matrix(longley.lm.2)\n",
    "kappa(X.longley.2)"
   ]
  },
  {
   "cell_type": "code",
   "execution_count": 30,
   "metadata": {},
   "outputs": [
    {
     "data": {
      "text/html": [
       "<table>\n",
       "<thead><tr><th></th><th scope=col>GNP.deflator</th><th scope=col>GNP</th><th scope=col>Unemployed</th><th scope=col>Armed.Forces</th><th scope=col>Population</th><th scope=col>Year</th></tr></thead>\n",
       "<tbody>\n",
       "\t<tr><th scope=row>1947</th><td>-1.731</td><td>-1.543</td><td>-0.896</td><td>-1.461</td><td>-1.411</td><td>-1.575</td></tr>\n",
       "\t<tr><th scope=row>1948</th><td>-1.221</td><td>-1.291</td><td>-0.929</td><td>-1.653</td><td>-1.264</td><td>-1.365</td></tr>\n",
       "\t<tr><th scope=row>1949</th><td>-1.249</td><td>-1.304</td><td> 0.523</td><td>-1.424</td><td>-1.100</td><td>-1.155</td></tr>\n",
       "\t<tr><th scope=row>1950</th><td>-1.129</td><td>-1.037</td><td> 0.169</td><td>-1.375</td><td>-0.934</td><td>-0.945</td></tr>\n",
       "\t<tr><th scope=row>1951</th><td>-0.508</td><td>-0.591</td><td>-1.171</td><td> 0.707</td><td>-0.769</td><td>-0.735</td></tr>\n",
       "\t<tr><th scope=row>1952</th><td>-0.332</td><td>-0.409</td><td>-1.350</td><td> 1.419</td><td>-0.597</td><td>-0.525</td></tr>\n",
       "\t<tr><th scope=row>1953</th><td>-0.248</td><td>-0.224</td><td>-1.416</td><td> 1.351</td><td>-0.335</td><td>-0.315</td></tr>\n",
       "\t<tr><th scope=row>1954</th><td>-0.156</td><td>-0.247</td><td> 0.412</td><td> 1.068</td><td>-0.173</td><td>-0.105</td></tr>\n",
       "\t<tr><th scope=row>1955</th><td>-0.045</td><td> 0.098</td><td>-0.310</td><td> 0.634</td><td>-0.005</td><td> 0.105</td></tr>\n",
       "\t<tr><th scope=row>1956</th><td> 0.270</td><td> 0.317</td><td>-0.397</td><td> 0.360</td><td> 0.188</td><td> 0.315</td></tr>\n",
       "\t<tr><th scope=row>1957</th><td> 0.623</td><td> 0.554</td><td>-0.275</td><td> 0.275</td><td> 0.434</td><td> 0.525</td></tr>\n",
       "\t<tr><th scope=row>1958</th><td> 0.845</td><td> 0.572</td><td> 1.592</td><td> 0.044</td><td> 0.651</td><td> 0.735</td></tr>\n",
       "\t<tr><th scope=row>1959</th><td> 1.012</td><td> 0.956</td><td> 0.663</td><td>-0.079</td><td> 0.854</td><td> 0.945</td></tr>\n",
       "\t<tr><th scope=row>1960</th><td> 1.160</td><td> 1.156</td><td> 0.789</td><td>-0.133</td><td> 1.142</td><td> 1.155</td></tr>\n",
       "\t<tr><th scope=row>1961</th><td> 1.299</td><td> 1.313</td><td> 1.726</td><td>-0.050</td><td> 1.499</td><td> 1.365</td></tr>\n",
       "\t<tr><th scope=row>1962</th><td> 1.410</td><td> 1.682</td><td> 0.871</td><td> 0.317</td><td> 1.820</td><td> 1.575</td></tr>\n",
       "</tbody>\n",
       "</table>\n"
      ],
      "text/latex": [
       "\\begin{tabular}{r|llllll}\n",
       "  & GNP.deflator & GNP & Unemployed & Armed.Forces & Population & Year\\\\\n",
       "\\hline\n",
       "\t1947 & -1.731 & -1.543 & -0.896 & -1.461 & -1.411 & -1.575\\\\\n",
       "\t1948 & -1.221 & -1.291 & -0.929 & -1.653 & -1.264 & -1.365\\\\\n",
       "\t1949 & -1.249 & -1.304 &  0.523 & -1.424 & -1.100 & -1.155\\\\\n",
       "\t1950 & -1.129 & -1.037 &  0.169 & -1.375 & -0.934 & -0.945\\\\\n",
       "\t1951 & -0.508 & -0.591 & -1.171 &  0.707 & -0.769 & -0.735\\\\\n",
       "\t1952 & -0.332 & -0.409 & -1.350 &  1.419 & -0.597 & -0.525\\\\\n",
       "\t1953 & -0.248 & -0.224 & -1.416 &  1.351 & -0.335 & -0.315\\\\\n",
       "\t1954 & -0.156 & -0.247 &  0.412 &  1.068 & -0.173 & -0.105\\\\\n",
       "\t1955 & -0.045 &  0.098 & -0.310 &  0.634 & -0.005 &  0.105\\\\\n",
       "\t1956 &  0.270 &  0.317 & -0.397 &  0.360 &  0.188 &  0.315\\\\\n",
       "\t1957 &  0.623 &  0.554 & -0.275 &  0.275 &  0.434 &  0.525\\\\\n",
       "\t1958 &  0.845 &  0.572 &  1.592 &  0.044 &  0.651 &  0.735\\\\\n",
       "\t1959 &  1.012 &  0.956 &  0.663 & -0.079 &  0.854 &  0.945\\\\\n",
       "\t1960 &  1.160 &  1.156 &  0.789 & -0.133 &  1.142 &  1.155\\\\\n",
       "\t1961 &  1.299 &  1.313 &  1.726 & -0.050 &  1.499 &  1.365\\\\\n",
       "\t1962 &  1.410 &  1.682 &  0.871 &  0.317 &  1.820 &  1.575\\\\\n",
       "\\end{tabular}\n"
      ],
      "text/markdown": [
       "\n",
       "| <!--/--> | GNP.deflator | GNP | Unemployed | Armed.Forces | Population | Year | \n",
       "|---|---|---|---|---|---|---|---|---|---|---|---|---|---|---|---|\n",
       "| 1947 | -1.731 | -1.543 | -0.896 | -1.461 | -1.411 | -1.575 | \n",
       "| 1948 | -1.221 | -1.291 | -0.929 | -1.653 | -1.264 | -1.365 | \n",
       "| 1949 | -1.249 | -1.304 |  0.523 | -1.424 | -1.100 | -1.155 | \n",
       "| 1950 | -1.129 | -1.037 |  0.169 | -1.375 | -0.934 | -0.945 | \n",
       "| 1951 | -0.508 | -0.591 | -1.171 |  0.707 | -0.769 | -0.735 | \n",
       "| 1952 | -0.332 | -0.409 | -1.350 |  1.419 | -0.597 | -0.525 | \n",
       "| 1953 | -0.248 | -0.224 | -1.416 |  1.351 | -0.335 | -0.315 | \n",
       "| 1954 | -0.156 | -0.247 |  0.412 |  1.068 | -0.173 | -0.105 | \n",
       "| 1955 | -0.045 |  0.098 | -0.310 |  0.634 | -0.005 |  0.105 | \n",
       "| 1956 |  0.270 |  0.317 | -0.397 |  0.360 |  0.188 |  0.315 | \n",
       "| 1957 |  0.623 |  0.554 | -0.275 |  0.275 |  0.434 |  0.525 | \n",
       "| 1958 |  0.845 |  0.572 |  1.592 |  0.044 |  0.651 |  0.735 | \n",
       "| 1959 |  1.012 |  0.956 |  0.663 | -0.079 |  0.854 |  0.945 | \n",
       "| 1960 |  1.160 |  1.156 |  0.789 | -0.133 |  1.142 |  1.155 | \n",
       "| 1961 |  1.299 |  1.313 |  1.726 | -0.050 |  1.499 |  1.365 | \n",
       "| 1962 |  1.410 |  1.682 |  0.871 |  0.317 |  1.820 |  1.575 | \n",
       "\n",
       "\n"
      ],
      "text/plain": [
       "     GNP.deflator GNP    Unemployed Armed.Forces Population Year  \n",
       "1947 -1.731       -1.543 -0.896     -1.461       -1.411     -1.575\n",
       "1948 -1.221       -1.291 -0.929     -1.653       -1.264     -1.365\n",
       "1949 -1.249       -1.304  0.523     -1.424       -1.100     -1.155\n",
       "1950 -1.129       -1.037  0.169     -1.375       -0.934     -0.945\n",
       "1951 -0.508       -0.591 -1.171      0.707       -0.769     -0.735\n",
       "1952 -0.332       -0.409 -1.350      1.419       -0.597     -0.525\n",
       "1953 -0.248       -0.224 -1.416      1.351       -0.335     -0.315\n",
       "1954 -0.156       -0.247  0.412      1.068       -0.173     -0.105\n",
       "1955 -0.045        0.098 -0.310      0.634       -0.005      0.105\n",
       "1956  0.270        0.317 -0.397      0.360        0.188      0.315\n",
       "1957  0.623        0.554 -0.275      0.275        0.434      0.525\n",
       "1958  0.845        0.572  1.592      0.044        0.651      0.735\n",
       "1959  1.012        0.956  0.663     -0.079        0.854      0.945\n",
       "1960  1.160        1.156  0.789     -0.133        1.142      1.155\n",
       "1961  1.299        1.313  1.726     -0.050        1.499      1.365\n",
       "1962  1.410        1.682  0.871      0.317        1.820      1.575"
      ]
     },
     "metadata": {},
     "output_type": "display_data"
    }
   ],
   "source": [
    "A<-scale(as.matrix(longley[,-7]))\n",
    "round(A,3)"
   ]
  },
  {
   "cell_type": "code",
   "execution_count": 31,
   "metadata": {},
   "outputs": [
    {
     "name": "stdout",
     "output_type": "stream",
     "text": [
      "'data.frame':\t16 obs. of  7 variables:\n",
      " $ GNP.deflator: num  -1.731 -1.221 -1.249 -1.129 -0.508 ...\n",
      " $ GNP         : num  -1.543 -1.291 -1.304 -1.037 -0.591 ...\n",
      " $ Unemployed  : num  -0.896 -0.929 0.523 0.169 -1.171 ...\n",
      " $ Armed.Forces: num  -1.461 -1.653 -1.424 -1.375 0.707 ...\n",
      " $ Population  : num  -1.411 -1.264 -1.1 -0.934 -0.769 ...\n",
      " $ Year        : num  -1.575 -1.365 -1.155 -0.945 -0.735 ...\n",
      " $ Employed    : num  60.3 61.1 60.2 61.2 63.2 ...\n"
     ]
    }
   ],
   "source": [
    "scaled.longley<-data.frame(A, Employed=longley$Employed)\n",
    "str(scaled.longley)"
   ]
  },
  {
   "cell_type": "code",
   "execution_count": 32,
   "metadata": {},
   "outputs": [
    {
     "data": {
      "text/plain": [
       "\n",
       "Call:\n",
       "lm(formula = Employed ~ ., data = longley)\n",
       "\n",
       "Residuals:\n",
       "     Min       1Q   Median       3Q      Max \n",
       "-0.41011 -0.15767 -0.02816  0.10155  0.45539 \n",
       "\n",
       "Coefficients:\n",
       "               Estimate Std. Error t value Pr(>|t|)    \n",
       "(Intercept)  -3.482e+03  8.904e+02  -3.911 0.003560 ** \n",
       "GNP.deflator  1.506e-02  8.492e-02   0.177 0.863141    \n",
       "GNP          -3.582e-02  3.349e-02  -1.070 0.312681    \n",
       "Unemployed   -2.020e-02  4.884e-03  -4.136 0.002535 ** \n",
       "Armed.Forces -1.033e-02  2.143e-03  -4.822 0.000944 ***\n",
       "Population   -5.110e-02  2.261e-01  -0.226 0.826212    \n",
       "Year          1.829e+00  4.555e-01   4.016 0.003037 ** \n",
       "---\n",
       "Signif. codes:  0 '***' 0.001 '**' 0.01 '*' 0.05 '.' 0.1 ' ' 1\n",
       "\n",
       "Residual standard error: 0.3049 on 9 degrees of freedom\n",
       "Multiple R-squared:  0.9955,\tAdjusted R-squared:  0.9925 \n",
       "F-statistic: 330.3 on 6 and 9 DF,  p-value: 4.984e-10\n"
      ]
     },
     "metadata": {},
     "output_type": "display_data"
    },
    {
     "data": {
      "text/html": [
       "<table>\n",
       "<thead><tr><th></th><th scope=col>Df</th><th scope=col>Sum Sq</th><th scope=col>Mean Sq</th><th scope=col>F value</th><th scope=col>Pr(&gt;F)</th></tr></thead>\n",
       "<tbody>\n",
       "\t<tr><th scope=row>GNP.deflator</th><td>1           </td><td>174.3974498 </td><td>174.39744978</td><td>1876.532648 </td><td>9.295384e-12</td></tr>\n",
       "\t<tr><th scope=row>GNP</th><td>1           </td><td>  4.7871810 </td><td>  4.78718104</td><td>  51.510510 </td><td>5.210906e-05</td></tr>\n",
       "\t<tr><th scope=row>Unemployed</th><td>1           </td><td>  2.2639711 </td><td>  2.26397111</td><td>  24.360538 </td><td>8.070597e-04</td></tr>\n",
       "\t<tr><th scope=row>Armed.Forces</th><td>1           </td><td>  0.8763972 </td><td>  0.87639716</td><td>   9.430114 </td><td>1.333568e-02</td></tr>\n",
       "\t<tr><th scope=row>Population</th><td>1           </td><td>  0.3485894 </td><td>  0.34858940</td><td>   3.750854 </td><td>8.475523e-02</td></tr>\n",
       "\t<tr><th scope=row>Year</th><td>1           </td><td>  1.4988134 </td><td>  1.49881345</td><td>  16.127371 </td><td>3.036803e-03</td></tr>\n",
       "\t<tr><th scope=row>Residuals</th><td>9           </td><td>  0.8364241 </td><td>  0.09293601</td><td>         NA </td><td>          NA</td></tr>\n",
       "</tbody>\n",
       "</table>\n"
      ],
      "text/latex": [
       "\\begin{tabular}{r|lllll}\n",
       "  & Df & Sum Sq & Mean Sq & F value & Pr(>F)\\\\\n",
       "\\hline\n",
       "\tGNP.deflator & 1            & 174.3974498  & 174.39744978 & 1876.532648  & 9.295384e-12\\\\\n",
       "\tGNP & 1            &   4.7871810  &   4.78718104 &   51.510510  & 5.210906e-05\\\\\n",
       "\tUnemployed & 1            &   2.2639711  &   2.26397111 &   24.360538  & 8.070597e-04\\\\\n",
       "\tArmed.Forces & 1            &   0.8763972  &   0.87639716 &    9.430114  & 1.333568e-02\\\\\n",
       "\tPopulation & 1            &   0.3485894  &   0.34858940 &    3.750854  & 8.475523e-02\\\\\n",
       "\tYear & 1            &   1.4988134  &   1.49881345 &   16.127371  & 3.036803e-03\\\\\n",
       "\tResiduals & 9            &   0.8364241  &   0.09293601 &          NA  &           NA\\\\\n",
       "\\end{tabular}\n"
      ],
      "text/markdown": [
       "\n",
       "| <!--/--> | Df | Sum Sq | Mean Sq | F value | Pr(>F) | \n",
       "|---|---|---|---|---|---|---|\n",
       "| GNP.deflator | 1            | 174.3974498  | 174.39744978 | 1876.532648  | 9.295384e-12 | \n",
       "| GNP | 1            |   4.7871810  |   4.78718104 |   51.510510  | 5.210906e-05 | \n",
       "| Unemployed | 1            |   2.2639711  |   2.26397111 |   24.360538  | 8.070597e-04 | \n",
       "| Armed.Forces | 1            |   0.8763972  |   0.87639716 |    9.430114  | 1.333568e-02 | \n",
       "| Population | 1            |   0.3485894  |   0.34858940 |    3.750854  | 8.475523e-02 | \n",
       "| Year | 1            |   1.4988134  |   1.49881345 |   16.127371  | 3.036803e-03 | \n",
       "| Residuals | 9            |   0.8364241  |   0.09293601 |          NA  |           NA | \n",
       "\n",
       "\n"
      ],
      "text/plain": [
       "             Df Sum Sq      Mean Sq      F value     Pr(>F)      \n",
       "GNP.deflator 1  174.3974498 174.39744978 1876.532648 9.295384e-12\n",
       "GNP          1    4.7871810   4.78718104   51.510510 5.210906e-05\n",
       "Unemployed   1    2.2639711   2.26397111   24.360538 8.070597e-04\n",
       "Armed.Forces 1    0.8763972   0.87639716    9.430114 1.333568e-02\n",
       "Population   1    0.3485894   0.34858940    3.750854 8.475523e-02\n",
       "Year         1    1.4988134   1.49881345   16.127371 3.036803e-03\n",
       "Residuals    9    0.8364241   0.09293601          NA           NA"
      ]
     },
     "metadata": {},
     "output_type": "display_data"
    }
   ],
   "source": [
    "longley.lm.3<-lm(Employed~.,data=longley)\n",
    "summary(longley.lm.3)\n",
    "anova(longley.lm.3)"
   ]
  },
  {
   "cell_type": "code",
   "execution_count": 33,
   "metadata": {},
   "outputs": [
    {
     "data": {
      "text/html": [
       "<dl class=dl-horizontal>\n",
       "\t<dt>GNP.deflator</dt>\n",
       "\t\t<dd>135.532438280064</dd>\n",
       "\t<dt>GNP</dt>\n",
       "\t\t<dd>1788.51348271901</dd>\n",
       "\t<dt>Unemployed</dt>\n",
       "\t\t<dd>33.6188905960563</dd>\n",
       "\t<dt>Armed.Forces</dt>\n",
       "\t\t<dd>3.58893019344596</dd>\n",
       "\t<dt>Population</dt>\n",
       "\t\t<dd>399.151022312826</dd>\n",
       "\t<dt>Year</dt>\n",
       "\t\t<dd>758.980597407239</dd>\n",
       "</dl>\n"
      ],
      "text/latex": [
       "\\begin{description*}\n",
       "\\item[GNP.deflator] 135.532438280064\n",
       "\\item[GNP] 1788.51348271901\n",
       "\\item[Unemployed] 33.6188905960563\n",
       "\\item[Armed.Forces] 3.58893019344596\n",
       "\\item[Population] 399.151022312826\n",
       "\\item[Year] 758.980597407239\n",
       "\\end{description*}\n"
      ],
      "text/markdown": [
       "GNP.deflator\n",
       ":   135.532438280064GNP\n",
       ":   1788.51348271901Unemployed\n",
       ":   33.6188905960563Armed.Forces\n",
       ":   3.58893019344596Population\n",
       ":   399.151022312826Year\n",
       ":   758.980597407239\n",
       "\n"
      ],
      "text/plain": [
       "GNP.deflator          GNP   Unemployed Armed.Forces   Population         Year \n",
       "   135.53244   1788.51348     33.61889      3.58893    399.15102    758.98060 "
      ]
     },
     "metadata": {},
     "output_type": "display_data"
    },
    {
     "data": {
      "text/html": [
       "22219266.176142"
      ],
      "text/latex": [
       "22219266.176142"
      ],
      "text/markdown": [
       "22219266.176142"
      ],
      "text/plain": [
       "[1] 22219266"
      ]
     },
     "metadata": {},
     "output_type": "display_data"
    }
   ],
   "source": [
    "vif(longley.lm.3)\n",
    "X.longley.3<-model.matrix(longley.lm.3)\n",
    "kappa(X.longley.3)"
   ]
  },
  {
   "cell_type": "markdown",
   "metadata": {},
   "source": [
    "### The  `cars` dataset"
   ]
  },
  {
   "cell_type": "markdown",
   "metadata": {},
   "source": [
    "We take another classic dataset: `cars`, stopping distance of several vehicles as a function of the initial speed. These data were registered in the 1920's. From Physics, stopping distance should be a quadratic function of speed. Firstly we fit a simple linear regression and then we try a linear regression with a quadratic term."
   ]
  },
  {
   "cell_type": "markdown",
   "metadata": {},
   "source": [
    "#### Simple linear model"
   ]
  },
  {
   "cell_type": "code",
   "execution_count": 34,
   "metadata": {},
   "outputs": [
    {
     "name": "stderr",
     "output_type": "stream",
     "text": [
      "Warning message in normalizePath(path.expand(path), winslash, mustWork):\n",
      "\"path[11]=\"C:/Users/Daniel/Downloads/P2_DanielLopezRoman/03 - Regressió lineal (2018-10-16)-20181016\": El sistema no puede encontrar el archivo especificado\""
     ]
    },
    {
     "name": "stdout",
     "output_type": "stream",
     "text": [
      "'data.frame':\t50 obs. of  2 variables:\n",
      " $ speed: num  4 4 7 7 8 9 10 10 10 11 ...\n",
      " $ dist : num  2 10 4 22 16 10 18 26 34 17 ...\n"
     ]
    },
    {
     "data": {
      "text/plain": [
       "\n",
       "Call:\n",
       "lm(formula = dist ~ speed, data = cars)\n",
       "\n",
       "Residuals:\n",
       "    Min      1Q  Median      3Q     Max \n",
       "-29.069  -9.525  -2.272   9.215  43.201 \n",
       "\n",
       "Coefficients:\n",
       "            Estimate Std. Error t value Pr(>|t|)    \n",
       "(Intercept) -17.5791     6.7584  -2.601   0.0123 *  \n",
       "speed         3.9324     0.4155   9.464 1.49e-12 ***\n",
       "---\n",
       "Signif. codes:  0 '***' 0.001 '**' 0.01 '*' 0.05 '.' 0.1 ' ' 1\n",
       "\n",
       "Residual standard error: 15.38 on 48 degrees of freedom\n",
       "Multiple R-squared:  0.6511,\tAdjusted R-squared:  0.6438 \n",
       "F-statistic: 89.57 on 1 and 48 DF,  p-value: 1.49e-12\n"
      ]
     },
     "metadata": {},
     "output_type": "display_data"
    },
    {
     "data": {
      "image/png": "[encoded data removed]",
      "text/plain": [
       "Plot with title \"Stopping distance vs. speed\""
      ]
     },
     "metadata": {},
     "output_type": "display_data"
    }
   ],
   "source": [
    "data(cars)\n",
    "# ?cars\n",
    "str(cars)\n",
    "plot(dist~speed,data=cars,pch=19,col=\"red\",cex=0.8,main=\"Stopping distance vs. speed\")\n",
    "cars.lm.1<-lm(dist~speed,data=cars)\n",
    "abline(cars.lm.1,lwd=2.1,col=\"blue\")\n",
    "summary(cars.lm.1)"
   ]
  },
  {
   "cell_type": "markdown",
   "metadata": {},
   "source": [
    "#### Linear regression with a quadratic term\n",
    "\n",
    "Note the model syntax!"
   ]
  },
  {
   "cell_type": "code",
   "execution_count": 35,
   "metadata": {},
   "outputs": [
    {
     "data": {
      "text/plain": [
       "\n",
       "Call:\n",
       "lm(formula = dist ~ speed + I(speed^2), data = cars)\n",
       "\n",
       "Residuals:\n",
       "    Min      1Q  Median      3Q     Max \n",
       "-28.720  -9.184  -3.188   4.628  45.152 \n",
       "\n",
       "Coefficients:\n",
       "            Estimate Std. Error t value Pr(>|t|)\n",
       "(Intercept)  2.47014   14.81716   0.167    0.868\n",
       "speed        0.91329    2.03422   0.449    0.656\n",
       "I(speed^2)   0.09996    0.06597   1.515    0.136\n",
       "\n",
       "Residual standard error: 15.18 on 47 degrees of freedom\n",
       "Multiple R-squared:  0.6673,\tAdjusted R-squared:  0.6532 \n",
       "F-statistic: 47.14 on 2 and 47 DF,  p-value: 5.852e-12\n"
      ]
     },
     "metadata": {},
     "output_type": "display_data"
    },
    {
     "data": {
      "image/png": "[encoded data removed]",
      "text/plain": [
       "Plot with title \"Stopping distance vs. speed\""
      ]
     },
     "metadata": {},
     "output_type": "display_data"
    }
   ],
   "source": [
    "cars.lm.2<-lm(dist~speed+I(speed^2),data=cars)\n",
    "summary(cars.lm.2)\n",
    "plot(dist~speed,data=cars,pch=19,col=\"red\",cex=0.8,main=\"Stopping distance vs. speed\")\n",
    "s<-seq(min(cars$speed),max(cars$speed),length=400)\n",
    "d<-predict(cars.lm.2,newdata=data.frame(speed=s))\n",
    "lines(s,d,lwd=2.1,col=\"blue\")"
   ]
  },
  {
   "cell_type": "markdown",
   "metadata": {},
   "source": [
    "#### Linear model with the logarithms of both predictor and response\n",
    "\n",
    "This is an expedient device when one expects a power function relationship."
   ]
  },
  {
   "cell_type": "code",
   "execution_count": 36,
   "metadata": {},
   "outputs": [
    {
     "data": {
      "text/plain": [
       "\n",
       "Call:\n",
       "lm(formula = log(dist) ~ log(speed), data = cars)\n",
       "\n",
       "Residuals:\n",
       "     Min       1Q   Median       3Q      Max \n",
       "-1.00215 -0.24578 -0.02898  0.20717  0.88289 \n",
       "\n",
       "Coefficients:\n",
       "            Estimate Std. Error t value Pr(>|t|)    \n",
       "(Intercept)  -0.7297     0.3758  -1.941   0.0581 .  \n",
       "log(speed)    1.6024     0.1395  11.484 2.26e-15 ***\n",
       "---\n",
       "Signif. codes:  0 '***' 0.001 '**' 0.01 '*' 0.05 '.' 0.1 ' ' 1\n",
       "\n",
       "Residual standard error: 0.4053 on 48 degrees of freedom\n",
       "Multiple R-squared:  0.7331,\tAdjusted R-squared:  0.7276 \n",
       "F-statistic: 131.9 on 1 and 48 DF,  p-value: 2.259e-15\n"
      ]
     },
     "metadata": {},
     "output_type": "display_data"
    },
    {
     "data": {
      "image/png": "[encoded data removed]",
      "text/plain": [
       "Plot with title \"Log(Stopping distance) vs. Log(Speed)\""
      ]
     },
     "metadata": {},
     "output_type": "display_data"
    }
   ],
   "source": [
    "cars.lm.3<- lm(log(dist) ~ log(speed), data = cars)\n",
    "summary(cars.lm.3)\n",
    "plot(log(dist)~log(speed),data=cars,pch=19,col=\"red\",cex=0.8,main=\"Log(Stopping distance) vs. Log(Speed)\")\n",
    "abline(cars.lm.3,lwd=2.1,col=\"blue\")"
   ]
  },
  {
   "cell_type": "markdown",
   "metadata": {},
   "source": [
    "###  `US.Census`  dataset"
   ]
  },
  {
   "cell_type": "markdown",
   "metadata": {},
   "source": [
    "Polynomial regression tends to be ill-conditioned. This behaviour is exemplified with this classic dataset, appearing in the MATLAB distribution meny years ago. Data of US population taken from the US census from 1900 to 1990. The purpose is to predict the population on 2050. Variables are:\n",
    "\n",
    "$t$: year,\n",
    "\n",
    "$p$: population (in millions).\n",
    "\n",
    "We perform polynomial regressionsof $p$ on $t$ with degrees $k$ from 1 to 6. We observe that from degree 4 on the model becomes computationally unstable and impossible in practice."
   ]
  },
  {
   "cell_type": "code",
   "execution_count": 37,
   "metadata": {
    "collapsed": true
   },
   "outputs": [],
   "source": [
    "t <-seq(1900,1990,by=10)\n",
    "p <-c(75.995,91.972,105.711,123.203,131.669,150.697,179.323,203.212,226.505,249.633)"
   ]
  },
  {
   "cell_type": "markdown",
   "metadata": {},
   "source": [
    "#### Simple linear regression"
   ]
  },
  {
   "cell_type": "code",
   "execution_count": 38,
   "metadata": {},
   "outputs": [
    {
     "data": {
      "text/plain": [
       "\n",
       "Call:\n",
       "lm(formula = p ~ t)\n",
       "\n",
       "Residuals:\n",
       "     Min       1Q   Median       3Q      Max \n",
       "-12.7294  -2.9507   0.6695   5.5338   9.1310 \n",
       "\n",
       "Coefficients:\n",
       "              Estimate Std. Error t value Pr(>|t|)    \n",
       "(Intercept) -3.594e+03  1.785e+02  -20.13 3.87e-08 ***\n",
       "t            1.927e+00  9.178e-02   20.99 2.78e-08 ***\n",
       "---\n",
       "Signif. codes:  0 '***' 0.001 '**' 0.01 '*' 0.05 '.' 0.1 ' ' 1\n",
       "\n",
       "Residual standard error: 8.337 on 8 degrees of freedom\n",
       "Multiple R-squared:  0.9822,\tAdjusted R-squared:  0.9799 \n",
       "F-statistic: 440.7 on 1 and 8 DF,  p-value: 2.782e-08\n"
      ]
     },
     "metadata": {},
     "output_type": "display_data"
    }
   ],
   "source": [
    "US.pop.lm.1<-lm(p~t)\n",
    "summary(US.pop.lm.1)"
   ]
  },
  {
   "cell_type": "code",
   "execution_count": 39,
   "metadata": {},
   "outputs": [
    {
     "data": {
      "image/png": "[encoded data removed]",
      "text/plain": [
       "Plot with title \"US population vs. Year - Simple linear regression\""
      ]
     },
     "metadata": {},
     "output_type": "display_data"
    }
   ],
   "source": [
    "plot(p~t,pch=19,col=\"red\",cex=0.8,xlim=c(1900,2050),ylim=c(0,500),\n",
    "         main=\"US population vs. Year - Simple linear regression\")\n",
    "abline(US.pop.lm.1,lwd=2.1,col=\"blue\")\n",
    "pred.2050.1<-predict(US.pop.lm.1,newdata=data.frame(t=2050))\n",
    "points(2050,pred.2050.1,pch=19,cex=1.5,col=\"green\")"
   ]
  },
  {
   "cell_type": "code",
   "execution_count": 40,
   "metadata": {},
   "outputs": [
    {
     "data": {
      "text/html": [
       "131805.434815284"
      ],
      "text/latex": [
       "131805.434815284"
      ],
      "text/markdown": [
       "131805.434815284"
      ],
      "text/plain": [
       "[1] 131805.4"
      ]
     },
     "metadata": {},
     "output_type": "display_data"
    }
   ],
   "source": [
    "kappa(model.matrix(US.pop.lm.1))"
   ]
  },
  {
   "cell_type": "markdown",
   "metadata": {},
   "source": [
    "#### Linear regression with a quadratic term"
   ]
  },
  {
   "cell_type": "code",
   "execution_count": 41,
   "metadata": {},
   "outputs": [
    {
     "data": {
      "text/plain": [
       "\n",
       "Call:\n",
       "lm(formula = p ~ t + I(t^2))\n",
       "\n",
       "Residuals:\n",
       "   Min     1Q Median     3Q    Max \n",
       "-5.313 -2.158  1.738  2.129  3.877 \n",
       "\n",
       "Coefficients:\n",
       "              Estimate Std. Error t value Pr(>|t|)    \n",
       "(Intercept)  3.147e+04  6.288e+03   5.005 0.001557 ** \n",
       "t           -3.414e+01  6.467e+00  -5.279 0.001150 ** \n",
       "I(t^2)       9.271e-03  1.663e-03   5.577 0.000836 ***\n",
       "---\n",
       "Signif. codes:  0 '***' 0.001 '**' 0.01 '*' 0.05 '.' 0.1 ' ' 1\n",
       "\n",
       "Residual standard error: 3.82 on 7 degrees of freedom\n",
       "Multiple R-squared:  0.9967,\tAdjusted R-squared:  0.9958 \n",
       "F-statistic:  1065 on 2 and 7 DF,  p-value: 2.011e-09\n"
      ]
     },
     "metadata": {},
     "output_type": "display_data"
    }
   ],
   "source": [
    "US.pop.lm.2<-lm(p~t+I(t^2))\n",
    "summary(US.pop.lm.2)"
   ]
  },
  {
   "cell_type": "code",
   "execution_count": 42,
   "metadata": {},
   "outputs": [
    {
     "data": {
      "image/png": "[encoded data removed]",
      "text/plain": [
       "Plot with title \"US population vs. Year - Quadratic regression\""
      ]
     },
     "metadata": {},
     "output_type": "display_data"
    }
   ],
   "source": [
    "plot(p~t,pch=19,col=\"red\",cex=0.8,xlim=c(1900,2050),ylim=c(0,500),\n",
    "     main=\"US population vs. Year - Quadratic regression\")\n",
    "t1<-seq(1900,2050,length=400)\n",
    "p1<-predict(US.pop.lm.2,newdata=data.frame(t=t1))\n",
    "lines(t1,p1,lwd=2.1,col=\"blue\")\n",
    "pred.2050.2<-predict(US.pop.lm.2,newdata=data.frame(t=2050))\n",
    "points(2050,pred.2050.2,pch=19,cex=1.5,col=\"green\")"
   ]
  },
  {
   "cell_type": "code",
   "execution_count": 43,
   "metadata": {},
   "outputs": [
    {
     "data": {
      "text/html": [
       "<dl class=dl-horizontal>\n",
       "\t<dt>t</dt>\n",
       "\t\t<dd>23644.9062500131</dd>\n",
       "\t<dt>I(t^2)</dt>\n",
       "\t\t<dd>23644.9062500131</dd>\n",
       "</dl>\n"
      ],
      "text/latex": [
       "\\begin{description*}\n",
       "\\item[t] 23644.9062500131\n",
       "\\item[I(t\\textbackslash{}textasciicircum\\{\\}2)] 23644.9062500131\n",
       "\\end{description*}\n"
      ],
      "text/markdown": [
       "t\n",
       ":   23644.9062500131I(t^2)\n",
       ":   23644.9062500131\n",
       "\n"
      ],
      "text/plain": [
       "       t   I(t^2) \n",
       "23644.91 23644.91 "
      ]
     },
     "metadata": {},
     "output_type": "display_data"
    },
    {
     "data": {
      "text/html": [
       "20040468331.1689"
      ],
      "text/latex": [
       "20040468331.1689"
      ],
      "text/markdown": [
       "20040468331.1689"
      ],
      "text/plain": [
       "[1] 20040468331"
      ]
     },
     "metadata": {},
     "output_type": "display_data"
    }
   ],
   "source": [
    "vif(US.pop.lm.2)\n",
    "kappa(model.matrix(US.pop.lm.2))"
   ]
  },
  {
   "cell_type": "markdown",
   "metadata": {},
   "source": [
    "#### Cubic polynomial regression"
   ]
  },
  {
   "cell_type": "code",
   "execution_count": 44,
   "metadata": {},
   "outputs": [
    {
     "data": {
      "text/plain": [
       "\n",
       "Call:\n",
       "lm(formula = p ~ t + I(t^2) + I(t^3))\n",
       "\n",
       "Residuals:\n",
       "   Min     1Q Median     3Q    Max \n",
       "-5.272 -2.119  1.719  2.187  3.773 \n",
       "\n",
       "Coefficients:\n",
       "              Estimate Std. Error t value Pr(>|t|)\n",
       "(Intercept) -9.595e+03  5.459e+05  -0.018    0.987\n",
       "t            2.922e+01  8.421e+02   0.035    0.973\n",
       "I(t^2)      -2.331e-02  4.330e-01  -0.054    0.959\n",
       "I(t^3)       5.583e-06  7.421e-05   0.075    0.942\n",
       "\n",
       "Residual standard error: 4.124 on 6 degrees of freedom\n",
       "Multiple R-squared:  0.9967,\tAdjusted R-squared:  0.9951 \n",
       "F-statistic: 609.2 on 3 and 6 DF,  p-value: 7.657e-08\n"
      ]
     },
     "metadata": {},
     "output_type": "display_data"
    }
   ],
   "source": [
    "US.pop.lm.3<-lm(p~t+I(t^2)+I(t^3))\n",
    "summary(US.pop.lm.3)"
   ]
  },
  {
   "cell_type": "code",
   "execution_count": 45,
   "metadata": {},
   "outputs": [
    {
     "data": {
      "image/png": "[encoded data removed]",
      "text/plain": [
       "Plot with title \"US population vs. Year - Degree 3 polynomial regression\""
      ]
     },
     "metadata": {},
     "output_type": "display_data"
    }
   ],
   "source": [
    "plot(p~t,pch=19,col=\"red\",cex=0.8,xlim=c(1900,2050),ylim=c(0,500),\n",
    "         main=\"US population vs. Year - Degree 3 polynomial regression\")\n",
    "t1<-seq(1900,2050,length=400)\n",
    "p1<-predict(US.pop.lm.3,newdata=data.frame(t=t1))\n",
    "lines(t1,p1,lwd=2.1,col=\"blue\")\n",
    "pred.2050.3<-predict(US.pop.lm.3,newdata=data.frame(t=2050))\n",
    "points(2050,pred.2050.3,pch=19,cex=1.5,col=\"green\")"
   ]
  },
  {
   "cell_type": "code",
   "execution_count": 46,
   "metadata": {},
   "outputs": [
    {
     "data": {
      "text/html": [
       "<dl class=dl-horizontal>\n",
       "\t<dt>t</dt>\n",
       "\t\t<dd>343955929.005919</dd>\n",
       "\t<dt>I(t^2)</dt>\n",
       "\t\t<dd>1376166223.55424</dd>\n",
       "\t<dt>I(t^3)</dt>\n",
       "\t\t<dd>344168117.884354</dd>\n",
       "</dl>\n"
      ],
      "text/latex": [
       "\\begin{description*}\n",
       "\\item[t] 343955929.005919\n",
       "\\item[I(t\\textbackslash{}textasciicircum\\{\\}2)] 1376166223.55424\n",
       "\\item[I(t\\textbackslash{}textasciicircum\\{\\}3)] 344168117.884354\n",
       "\\end{description*}\n"
      ],
      "text/markdown": [
       "t\n",
       ":   343955929.005919I(t^2)\n",
       ":   1376166223.55424I(t^3)\n",
       ":   344168117.884354\n",
       "\n"
      ],
      "text/plain": [
       "         t     I(t^2)     I(t^3) \n",
       " 343955929 1376166224  344168118 "
      ]
     },
     "metadata": {},
     "output_type": "display_data"
    },
    {
     "data": {
      "text/html": [
       "3184907353457541"
      ],
      "text/latex": [
       "3184907353457541"
      ],
      "text/markdown": [
       "3184907353457541"
      ],
      "text/plain": [
       "[1] 3.184907e+15"
      ]
     },
     "metadata": {},
     "output_type": "display_data"
    }
   ],
   "source": [
    "vif(US.pop.lm.3)\n",
    "kappa(model.matrix(US.pop.lm.3))"
   ]
  },
  {
   "cell_type": "markdown",
   "metadata": {},
   "source": [
    "#### Polynomial regression of degree 4"
   ]
  },
  {
   "cell_type": "code",
   "execution_count": 47,
   "metadata": {},
   "outputs": [
    {
     "data": {
      "text/plain": [
       "\n",
       "Call:\n",
       "lm(formula = p ~ t + I(t^2) + I(t^3) + I(t^4))\n",
       "\n",
       "Residuals:\n",
       "   Min     1Q Median     3Q    Max \n",
       "-5.272 -2.119  1.719  2.187  3.773 \n",
       "\n",
       "Coefficients: (1 not defined because of singularities)\n",
       "              Estimate Std. Error t value Pr(>|t|)\n",
       "(Intercept) -9.595e+03  5.459e+05  -0.018    0.987\n",
       "t            2.922e+01  8.421e+02   0.035    0.973\n",
       "I(t^2)      -2.331e-02  4.330e-01  -0.054    0.959\n",
       "I(t^3)       5.583e-06  7.421e-05   0.075    0.942\n",
       "I(t^4)              NA         NA      NA       NA\n",
       "\n",
       "Residual standard error: 4.124 on 6 degrees of freedom\n",
       "Multiple R-squared:  0.9967,\tAdjusted R-squared:  0.9951 \n",
       "F-statistic: 609.2 on 3 and 6 DF,  p-value: 7.657e-08\n"
      ]
     },
     "metadata": {},
     "output_type": "display_data"
    }
   ],
   "source": [
    "US.pop.lm.4<-lm(p~t+I(t^2)+I(t^3)+I(t^4))\n",
    "summary(US.pop.lm.4)"
   ]
  },
  {
   "cell_type": "markdown",
   "metadata": {},
   "source": [
    "The coefficient of the 4-th degree term does not appear, due to numerical problems"
   ]
  },
  {
   "cell_type": "code",
   "execution_count": 51,
   "metadata": {
    "scrolled": true
   },
   "outputs": [
    {
     "name": "stderr",
     "output_type": "stream",
     "text": [
      "Warning message in predict.lm(US.pop.lm.4, newdata = data.frame(t = t1)):\n",
      "\"prediction from a rank-deficient fit may be misleading\"Warning message in predict.lm(US.pop.lm.4, newdata = data.frame(t = 2050)):\n",
      "\"prediction from a rank-deficient fit may be misleading\""
     ]
    },
    {
     "data": {
      "image/png": "[encoded data removed]",
      "text/plain": [
       "Plot with title \"US population vs. Year - Degree 4 polynomial regression\""
      ]
     },
     "metadata": {},
     "output_type": "display_data"
    }
   ],
   "source": [
    "plot(p~t,pch=19,col=\"red\",cex=0.8,xlim=c(1900,2050),ylim=c(0,500),\n",
    "     main=\"US population vs. Year - Degree 4 polynomial regression\")\n",
    "t1<-seq(1900,2050,length=400)\n",
    "p1<-predict(US.pop.lm.4,newdata=data.frame(t=t1))\n",
    "lines(t1,p1,lwd=2.1,col=\"blue\")\n",
    "pred.2050.4<-predict(US.pop.lm.4,newdata=data.frame(t=2050))\n",
    "points(2050,pred.2050.4,pch=19,cex=1.5,col=\"green\")"
   ]
  },
  {
   "cell_type": "code",
   "execution_count": 52,
   "metadata": {},
   "outputs": [
    {
     "ename": "ERROR",
     "evalue": "Error in vif.default(US.pop.lm.4): there are aliased coefficients in the model\n",
     "output_type": "error",
     "traceback": [
      "Error in vif.default(US.pop.lm.4): there are aliased coefficients in the model\nTraceback:\n",
      "1. vif(US.pop.lm.4)",
      "2. vif.default(US.pop.lm.4)",
      "3. stop(\"there are aliased coefficients in the model\")"
     ]
    }
   ],
   "source": [
    "vif(US.pop.lm.4)\n",
    "kappa(model.matrix(US.pop.lm.4))"
   ]
  },
  {
   "cell_type": "markdown",
   "metadata": {},
   "source": [
    "#### Polynomial regression of higher degrees\n",
    "\n",
    "R has a better control of numerical disasters than what used to be the standard in vintage MATLAB, thus it warns about the problem. Degree 6 regression resulted in the following notorious graph:\n",
    "\n",
    "![Gràfica de la regressió de grau 6](MATLAB.Deg6.reg.jpg)"
   ]
  },
  {
   "cell_type": "markdown",
   "metadata": {},
   "source": [
    "By ignoring warnings and NA coefficient estimates we can try to reproduce this graph"
   ]
  },
  {
   "cell_type": "code",
   "execution_count": 53,
   "metadata": {},
   "outputs": [
    {
     "data": {
      "text/plain": [
       "\n",
       "Call:\n",
       "lm(formula = p ~ t + I(t^2) + I(t^3) + I(t^4) + I(t^5) + I(t^6))\n",
       "\n",
       "Residuals:\n",
       "      1       2       3       4       5       6       7       8       9      10 \n",
       " 0.4848 -1.2547 -0.5903  4.1931 -2.5555 -2.7086  2.7276  0.8020 -1.5271  0.4287 \n",
       "\n",
       "Coefficients: (2 not defined because of singularities)\n",
       "              Estimate Std. Error t value Pr(>|t|)  \n",
       "(Intercept) -6.782e+07  2.651e+07  -2.558   0.0508 .\n",
       "t            1.308e+05  5.113e+04   2.558   0.0507 .\n",
       "I(t^2)      -8.969e+01  3.506e+01  -2.559   0.0507 .\n",
       "I(t^3)       2.306e-02  9.013e-03   2.559   0.0507 .\n",
       "I(t^4)              NA         NA      NA       NA  \n",
       "I(t^5)      -6.094e-10  2.382e-10  -2.558   0.0508 .\n",
       "I(t^6)              NA         NA      NA       NA  \n",
       "---\n",
       "Signif. codes:  0 '***' 0.001 '**' 0.01 '*' 0.05 '.' 0.1 ' ' 1\n",
       "\n",
       "Residual standard error: 2.973 on 5 degrees of freedom\n",
       "Multiple R-squared:  0.9986,\tAdjusted R-squared:  0.9974 \n",
       "F-statistic: 880.6 on 4 and 5 DF,  p-value: 2.645e-07\n"
      ]
     },
     "metadata": {},
     "output_type": "display_data"
    }
   ],
   "source": [
    "US.pop.lm.6<-lm(p~t+I(t^2)+I(t^3)+I(t^4)+I(t^5)+I(t^6))\n",
    "summary(US.pop.lm.6)"
   ]
  },
  {
   "cell_type": "code",
   "execution_count": 54,
   "metadata": {},
   "outputs": [
    {
     "name": "stderr",
     "output_type": "stream",
     "text": [
      "Warning message in predict.lm(US.pop.lm.6, newdata = data.frame(t = t1)):\n",
      "\"prediction from a rank-deficient fit may be misleading\"Warning message in predict.lm(US.pop.lm.6, newdata = data.frame(t = 2050)):\n",
      "\"prediction from a rank-deficient fit may be misleading\""
     ]
    },
    {
     "data": {
      "text/html": [
       "<strong>1:</strong> -138.994184978306"
      ],
      "text/latex": [
       "\\textbf{1:} -138.994184978306"
      ],
      "text/markdown": [
       "**1:** -138.994184978306"
      ],
      "text/plain": [
       "        1 \n",
       "-138.9942 "
      ]
     },
     "metadata": {},
     "output_type": "display_data"
    },
    {
     "data": {
      "image/png": "[encoded data removed]",
      "text/plain": [
       "Plot with title \"US population vs. Year - Degree 6 polynomial regression\""
      ]
     },
     "metadata": {},
     "output_type": "display_data"
    }
   ],
   "source": [
    "plot(p~t,pch=19,col=\"red\",cex=0.8,xlim=c(1900,2050),ylim=c(-150,300),\n",
    "     main=\"US population vs. Year - Degree 6 polynomial regression\")\n",
    "t1<-seq(1900,2050,length=400)\n",
    "p1<-predict(US.pop.lm.6,newdata=data.frame(t=t1))\n",
    "lines(t1,p1,lwd=2.1,col=\"blue\")\n",
    "pred.2050.6<-predict(US.pop.lm.6,newdata=data.frame(t=2050))\n",
    "abline(h=0,lwd=1.5,col=\"orange\")\n",
    "points(2050,pred.2050.6,pch=19,cex=1.5,col=\"green\")\n",
    "pred.2050.6"
   ]
  },
  {
   "cell_type": "markdown",
   "metadata": {},
   "source": [
    "VIF computation is already impossible, the error message: `there are aliased coefficients in the model` means that within machine precision some column is _exactly_ a linear combination of other columns."
   ]
  },
  {
   "cell_type": "code",
   "execution_count": 55,
   "metadata": {},
   "outputs": [
    {
     "ename": "ERROR",
     "evalue": "Error in vif.default(US.pop.lm.6): there are aliased coefficients in the model\n",
     "output_type": "error",
     "traceback": [
      "Error in vif.default(US.pop.lm.6): there are aliased coefficients in the model\nTraceback:\n",
      "1. vif(US.pop.lm.6)",
      "2. vif.default(US.pop.lm.6)",
      "3. stop(\"there are aliased coefficients in the model\")"
     ]
    }
   ],
   "source": [
    "vif(US.pop.lm.6)\n",
    "kappa(model.matrix(US.pop.lm.6))"
   ]
  },
  {
   "cell_type": "markdown",
   "metadata": {},
   "source": [
    "## 5. Comparing regression models"
   ]
  },
  {
   "cell_type": "markdown",
   "metadata": {},
   "source": [
    "### `hills` dataset\n",
    "\n",
    "#### Package DAAG\n",
    "\n",
    "From the book: Maindonald, J., Braun, J. (2003), _Data Analysis and Graphics Using R._ Cambridge University Press."
   ]
  },
  {
   "cell_type": "code",
   "execution_count": 56,
   "metadata": {},
   "outputs": [
    {
     "name": "stderr",
     "output_type": "stream",
     "text": [
      "Loading required package: DAAG\n",
      "Warning message:\n",
      "\"package 'DAAG' was built under R version 3.4.4\"Loading required package: lattice\n",
      "\n",
      "Attaching package: 'DAAG'\n",
      "\n",
      "The following object is masked from 'package:car':\n",
      "\n",
      "    vif\n",
      "\n",
      "The following object is masked from 'package:MASS':\n",
      "\n",
      "    hills\n",
      "\n"
     ]
    }
   ],
   "source": [
    "# install.packages(\"DAAG\",dependencies=TRUE,repos=\"https://cloud.r-project.org\")\n",
    "require(DAAG)"
   ]
  },
  {
   "cell_type": "markdown",
   "metadata": {},
   "source": [
    "Load the `hills` dataset and read its help:"
   ]
  },
  {
   "cell_type": "code",
   "execution_count": 57,
   "metadata": {},
   "outputs": [
    {
     "name": "stderr",
     "output_type": "stream",
     "text": [
      "Warning message in normalizePath(path.expand(path), winslash, mustWork):\n",
      "\"path[13]=\"C:/Users/Daniel/Downloads/P2_DanielLopezRoman/03 - Regressió lineal (2018-10-16)-20181016\": El sistema no puede encontrar el archivo especificado\""
     ]
    },
    {
     "name": "stdout",
     "output_type": "stream",
     "text": [
      "'data.frame':\t35 obs. of  3 variables:\n",
      " $ dist : num  2.4 6 6 7.5 8 8 16 6 5 6 ...\n",
      " $ climb: num  650 2500 900 800 3070 ...\n",
      " $ time : num  0.268 0.806 0.561 0.76 1.038 ...\n"
     ]
    }
   ],
   "source": [
    "data(hills)\n",
    "str(hills)\n",
    "#?hills"
   ]
  },
  {
   "cell_type": "markdown",
   "metadata": {},
   "source": [
    "Intuition about the physics underlying this problem suggests a power function relationship which, in turn, motivates us to apply a logarithmic transformation. \n",
    "\n",
    "We prepare a new `data.frame` with the logarithms."
   ]
  },
  {
   "cell_type": "code",
   "execution_count": 58,
   "metadata": {
    "collapsed": true
   },
   "outputs": [],
   "source": [
    "loghills<-log(hills)\n",
    "names(loghills)<-c(\"logdist\",\"logclimb\",\"logtime\")"
   ]
  },
  {
   "cell_type": "markdown",
   "metadata": {},
   "source": [
    "Does the transformation improve the linear regression?\n",
    "Compare both settings, scatterplots, correlation matrices."
   ]
  },
  {
   "cell_type": "code",
   "execution_count": 59,
   "metadata": {},
   "outputs": [
    {
     "data": {
      "text/plain": [
       "\n",
       "Call:\n",
       "lm(formula = time ~ ., data = hills)\n",
       "\n",
       "Residuals:\n",
       "     Min       1Q   Median       3Q      Max \n",
       "-0.27038 -0.11922 -0.02022  0.04412  1.08479 \n",
       "\n",
       "Coefficients:\n",
       "              Estimate Std. Error t value Pr(>|t|)    \n",
       "(Intercept) -1.491e-01  7.170e-02  -2.080   0.0456 *  \n",
       "dist         1.036e-01  1.002e-02  10.340 9.94e-12 ***\n",
       "climb        1.841e-04  3.419e-05   5.385 6.49e-06 ***\n",
       "---\n",
       "Signif. codes:  0 '***' 0.001 '**' 0.01 '*' 0.05 '.' 0.1 ' ' 1\n",
       "\n",
       "Residual standard error: 0.2446 on 32 degrees of freedom\n",
       "Multiple R-squared:  0.919,\tAdjusted R-squared:  0.914 \n",
       "F-statistic: 181.6 on 2 and 32 DF,  p-value: < 2.2e-16\n"
      ]
     },
     "metadata": {},
     "output_type": "display_data"
    },
    {
     "data": {
      "text/html": [
       "<table>\n",
       "<thead><tr><th></th><th scope=col>Df</th><th scope=col>Sum Sq</th><th scope=col>Mean Sq</th><th scope=col>F value</th><th scope=col>Pr(&gt;F)</th></tr></thead>\n",
       "<tbody>\n",
       "\t<tr><th scope=row>dist</th><td> 1          </td><td>19.998739   </td><td>19.99873892 </td><td>334.13535   </td><td>1.693363e-18</td></tr>\n",
       "\t<tr><th scope=row>climb</th><td> 1          </td><td> 1.735423   </td><td> 1.73542317 </td><td> 28.99514   </td><td>6.486002e-06</td></tr>\n",
       "\t<tr><th scope=row>Residuals</th><td>32          </td><td> 1.915271   </td><td> 0.05985221 </td><td>       NA   </td><td>          NA</td></tr>\n",
       "</tbody>\n",
       "</table>\n"
      ],
      "text/latex": [
       "\\begin{tabular}{r|lllll}\n",
       "  & Df & Sum Sq & Mean Sq & F value & Pr(>F)\\\\\n",
       "\\hline\n",
       "\tdist &  1           & 19.998739    & 19.99873892  & 334.13535    & 1.693363e-18\\\\\n",
       "\tclimb &  1           &  1.735423    &  1.73542317  &  28.99514    & 6.486002e-06\\\\\n",
       "\tResiduals & 32           &  1.915271    &  0.05985221  &        NA    &           NA\\\\\n",
       "\\end{tabular}\n"
      ],
      "text/markdown": [
       "\n",
       "| <!--/--> | Df | Sum Sq | Mean Sq | F value | Pr(>F) | \n",
       "|---|---|---|\n",
       "| dist |  1           | 19.998739    | 19.99873892  | 334.13535    | 1.693363e-18 | \n",
       "| climb |  1           |  1.735423    |  1.73542317  |  28.99514    | 6.486002e-06 | \n",
       "| Residuals | 32           |  1.915271    |  0.05985221  |        NA    |           NA | \n",
       "\n",
       "\n"
      ],
      "text/plain": [
       "          Df Sum Sq    Mean Sq     F value   Pr(>F)      \n",
       "dist       1 19.998739 19.99873892 334.13535 1.693363e-18\n",
       "climb      1  1.735423  1.73542317  28.99514 6.486002e-06\n",
       "Residuals 32  1.915271  0.05985221        NA           NA"
      ]
     },
     "metadata": {},
     "output_type": "display_data"
    }
   ],
   "source": [
    "hills.lm.01<-lm(time~., data=hills)\n",
    "summary(hills.lm.01)\n",
    "anova(hills.lm.01)"
   ]
  },
  {
   "cell_type": "code",
   "execution_count": 60,
   "metadata": {},
   "outputs": [
    {
     "data": {
      "image/png": "[encoded data removed]",
      "text/plain": [
       "plot without title"
      ]
     },
     "metadata": {},
     "output_type": "display_data"
    }
   ],
   "source": [
    "plot(hills)"
   ]
  },
  {
   "cell_type": "code",
   "execution_count": 61,
   "metadata": {},
   "outputs": [
    {
     "data": {
      "text/plain": [
       "\n",
       "Call:\n",
       "lm(formula = logtime ~ ., data = loghills)\n",
       "\n",
       "Residuals:\n",
       "     Min       1Q   Median       3Q      Max \n",
       "-0.59491 -0.11464 -0.03847  0.04557  1.45532 \n",
       "\n",
       "Coefficients:\n",
       "            Estimate Std. Error t value Pr(>|t|)    \n",
       "(Intercept) -3.17163    0.53501  -5.928 1.34e-06 ***\n",
       "logdist      0.89440    0.12745   7.018 5.92e-08 ***\n",
       "logclimb     0.17146    0.09317   1.840    0.075 .  \n",
       "---\n",
       "Signif. codes:  0 '***' 0.001 '**' 0.01 '*' 0.05 '.' 0.1 ' ' 1\n",
       "\n",
       "Residual standard error: 0.3147 on 32 degrees of freedom\n",
       "Multiple R-squared:  0.8123,\tAdjusted R-squared:  0.8006 \n",
       "F-statistic: 69.25 on 2 and 32 DF,  p-value: 2.369e-12\n"
      ]
     },
     "metadata": {},
     "output_type": "display_data"
    },
    {
     "data": {
      "text/html": [
       "<table>\n",
       "<thead><tr><th></th><th scope=col>Df</th><th scope=col>Sum Sq</th><th scope=col>Mean Sq</th><th scope=col>F value</th><th scope=col>Pr(&gt;F)</th></tr></thead>\n",
       "<tbody>\n",
       "\t<tr><th scope=row>logdist</th><td> 1          </td><td>13.3852684  </td><td>13.38526845 </td><td>135.117534  </td><td>5.048912e-13</td></tr>\n",
       "\t<tr><th scope=row>logclimb</th><td> 1          </td><td> 0.3355038  </td><td> 0.33550384 </td><td>  3.386742  </td><td>7.501337e-02</td></tr>\n",
       "\t<tr><th scope=row>Residuals</th><td>32          </td><td> 3.1700445  </td><td> 0.09906389 </td><td>        NA  </td><td>          NA</td></tr>\n",
       "</tbody>\n",
       "</table>\n"
      ],
      "text/latex": [
       "\\begin{tabular}{r|lllll}\n",
       "  & Df & Sum Sq & Mean Sq & F value & Pr(>F)\\\\\n",
       "\\hline\n",
       "\tlogdist &  1           & 13.3852684   & 13.38526845  & 135.117534   & 5.048912e-13\\\\\n",
       "\tlogclimb &  1           &  0.3355038   &  0.33550384  &   3.386742   & 7.501337e-02\\\\\n",
       "\tResiduals & 32           &  3.1700445   &  0.09906389  &         NA   &           NA\\\\\n",
       "\\end{tabular}\n"
      ],
      "text/markdown": [
       "\n",
       "| <!--/--> | Df | Sum Sq | Mean Sq | F value | Pr(>F) | \n",
       "|---|---|---|\n",
       "| logdist |  1           | 13.3852684   | 13.38526845  | 135.117534   | 5.048912e-13 | \n",
       "| logclimb |  1           |  0.3355038   |  0.33550384  |   3.386742   | 7.501337e-02 | \n",
       "| Residuals | 32           |  3.1700445   |  0.09906389  |         NA   |           NA | \n",
       "\n",
       "\n"
      ],
      "text/plain": [
       "          Df Sum Sq     Mean Sq     F value    Pr(>F)      \n",
       "logdist    1 13.3852684 13.38526845 135.117534 5.048912e-13\n",
       "logclimb   1  0.3355038  0.33550384   3.386742 7.501337e-02\n",
       "Residuals 32  3.1700445  0.09906389         NA           NA"
      ]
     },
     "metadata": {},
     "output_type": "display_data"
    }
   ],
   "source": [
    "hills.lm.02<-lm(logtime~., data=loghills)\n",
    "summary(hills.lm.02)\n",
    "anova(hills.lm.02)"
   ]
  },
  {
   "cell_type": "code",
   "execution_count": 62,
   "metadata": {},
   "outputs": [
    {
     "data": {
      "image/png": "[encoded data removed]",
      "text/plain": [
       "plot without title"
      ]
     },
     "metadata": {},
     "output_type": "display_data"
    }
   ],
   "source": [
    "plot(loghills)"
   ]
  },
  {
   "cell_type": "markdown",
   "metadata": {},
   "source": [
    "#### Comparing regressions: relevant quantities\n",
    "\n",
    "To this end we have the following available quantities:  \n",
    "\n",
    "1. $\\operatorname{ResSS}$, the Residual Sum of Squares\n",
    "2. The coefficient of determination $R^2$\n",
    "3. The $F$ statistic.\n",
    "4. The $\\operatorname{AIC}$ statistic (Akaike Information Criterion). \n",
    "\n",
    "$\\operatorname{ResSS}$ is a goodness-of-fit measure: smaller values indicate a better fit. However, when a model $L_1$ is obtained by adding predictors to an initial one $L_0$, inevitably $\\operatorname{ResSS}$ decreases ($\\operatorname{ResSS}_1\\leq \\operatorname{ResSS}_0$) by geometry, since in the $L_1$ we are projecting on a subspace larger than in $L_0$. Similarly $R_1^2\\geq R_0^2$.\n",
    "\n",
    "From a statistical perspective we need to decide whether an observed decrease in $\\operatorname{ResSS}$, or\n",
    "increase in $R^2$ is significant. This is the purpose of $F$ and $\\operatorname{AIC}$."
   ]
  },
  {
   "cell_type": "markdown",
   "metadata": {},
   "source": [
    "When we get a new model $L_1$ by adding a single predictor to a model $L_0$, the comparison $F$ statistic is defined as the relative decrease in $\\operatorname{ResSS}$, that is, the ratio:"
   ]
  },
  {
   "cell_type": "code",
   "execution_count": 63,
   "metadata": {
    "collapsed": true
   },
   "outputs": [],
   "source": [
    "# F01<-(ResSS0-ResSS1)/(ResSS1/df1)"
   ]
  },
  {
   "cell_type": "markdown",
   "metadata": {},
   "source": [
    "`ResSS0` and `ResSS` are, respectively, the residual sum of squares of $L_0$  and $L_1$, and `df1` is the number of degrees of freedom of $L_1$. `F01` is a test statistic to decide between the null hypothesis:\n",
    "\n",
    "$$\n",
    "    H_{0} = \\mbox{``The new predictor does not improve the model\"}. \n",
    "$$\n",
    "\n",
    "versus the alternative that it does. When the models are Gauss-Markov normal, `F01` follows a Fisher-Snedecor $F$ distribution with 1 and `df1` degrees of freedom."
   ]
  },
  {
   "cell_type": "markdown",
   "metadata": {},
   "source": [
    "$\\operatorname{AIC}$ (Akaike Information Criterion) is an answer to a different problem: adding a predictor to a prediction model means we are adding a parameter to the prediction function (a linear function in this case) and, in general, increasing the number of parameters in a prediction function learned from a given training dataset tends to fit better this particular dataset at the cost of deteriorating the quality of predictions for other samples _from the same statistical population_ from which the training sample was extracted.\n",
    "\n",
    "This is another instance of the bias/variance tradeoff. \n",
    "\n",
    "$\\operatorname{AIC}$ is a _penalized (minus)log-likelihood,_ the difference:\n",
    "\n",
    "$$\n",
    "    -\\log\\cal{L}+\\lambda\\,\\cal{P}, \\mskip30mu \\lambda>0,\n",
    "$$\n",
    "\n",
    "where an increase in log-likelihood gained by adding a new parameter can be cancelled by an increase in the penalization term $\\cal{P}$. In this way we can tell the better from two _nested_ models (a pair of models where the set of predictors in one of them is a subset of that in the other). \n",
    "\n",
    "The better model is the one with a smaller $\\operatorname{AIC}$ (tending to a larger likelihood). In R the $\\operatorname{AIC}$ of a model $L$ can be obtained with:"
   ]
  },
  {
   "cell_type": "code",
   "execution_count": 64,
   "metadata": {
    "collapsed": true
   },
   "outputs": [],
   "source": [
    "# extractAIC(L)"
   ]
  },
  {
   "cell_type": "markdown",
   "metadata": {},
   "source": [
    "Which uses the definition:"
   ]
  },
  {
   "cell_type": "code",
   "execution_count": 65,
   "metadata": {
    "collapsed": true
   },
   "outputs": [],
   "source": [
    "# AIC = - 2*log L + k * edf,"
   ]
  },
  {
   "cell_type": "markdown",
   "metadata": {},
   "source": [
    "In particular, for a linear model, (DAAG pag. 153):"
   ]
  },
  {
   "cell_type": "code",
   "execution_count": 66,
   "metadata": {
    "collapsed": true
   },
   "outputs": [],
   "source": [
    "# AIC= n*log(ResSS/n)+2*Regdf"
   ]
  },
  {
   "cell_type": "markdown",
   "metadata": {},
   "source": [
    "For the `hills` dataset:"
   ]
  },
  {
   "cell_type": "code",
   "execution_count": 67,
   "metadata": {
    "collapsed": true
   },
   "outputs": [],
   "source": [
    "loghills.l0<-lm(logtime~logdist,data=loghills)\n",
    "loghills.l1<-lm(logtime~logdist+logclimb,data=loghills)"
   ]
  },
  {
   "cell_type": "markdown",
   "metadata": {},
   "source": [
    "The following function extracts a list of relevant quantities from an object `L` of the `lm` class (the ones from last session, plus $\\operatorname{AIC}$)."
   ]
  },
  {
   "cell_type": "code",
   "execution_count": 68,
   "metadata": {
    "collapsed": true
   },
   "outputs": [],
   "source": [
    "Regression.Quantities<-function(L){\n",
    "    y<-L$model[[1]]\n",
    "    y0<-y-mean(y)\n",
    "    TotalSS0<-sum(y0^2)\n",
    "    n<-length(y)\n",
    "    Totaldf<-n\n",
    "    Totaldf0<-Totaldf-1\n",
    "#\n",
    "    yhat<-as.numeric(L$fitted.values)\n",
    "    yhat0<-yhat-mean(yhat)\n",
    "    RegSS0<-sum(yhat0^2)\n",
    "    Regdf<-L$rank\n",
    "    Regdf0<-Regdf-1\n",
    "#\n",
    "    ytilde<-as.numeric(L$residuals)\n",
    "    ResSS<-sum(ytilde^2)\n",
    "    Resdf<-Totaldf0-Regdf0\n",
    "#\n",
    "    TotalMeanS0<-TotalSS0/Totaldf0\n",
    "    RegMeanS0<-RegSS0/Regdf0\n",
    "    ResMeanS<-ResSS/Resdf\n",
    "#\n",
    "    R2<-RegSS0/TotalSS0\n",
    "    RegF<-RegMeanS0/ResMeanS\n",
    "    AIC=n*log(ResSS/n)+2*Regdf\n",
    "#\n",
    "    Q<-list(\n",
    "        y=y,y0=y0,n=n,TotalSS0=TotalSS0,Totaldf=Totaldf,Totaldf0=Totaldf0,\n",
    "        yhat=yhat,yhat0=yhat0,RegSS0=RegSS0,Regdf=Regdf,Regdf0=Regdf0,\n",
    "        ytilde=ytilde,ResSS=ResSS,Resdf=Resdf,\n",
    "        TotalMeanS0=TotalMeanS0,RegMeanS0=RegMeanS0,ResMeanS=ResMeanS,\n",
    "        R2=R2,RegF=RegF,AIC=AIC)\n",
    "    return(Q)\n",
    "    }"
   ]
  },
  {
   "cell_type": "markdown",
   "metadata": {},
   "source": [
    "Using `Regression.Quantities()`:"
   ]
  },
  {
   "cell_type": "code",
   "execution_count": 69,
   "metadata": {},
   "outputs": [
    {
     "data": {
      "text/html": [
       "-76.5350391563078"
      ],
      "text/latex": [
       "-76.5350391563078"
      ],
      "text/markdown": [
       "-76.5350391563078"
      ],
      "text/plain": [
       "[1] -76.53504"
      ]
     },
     "metadata": {},
     "output_type": "display_data"
    },
    {
     "data": {
      "text/html": [
       "-78.0560856171429"
      ],
      "text/latex": [
       "-78.0560856171429"
      ],
      "text/markdown": [
       "-78.0560856171429"
      ],
      "text/plain": [
       "[1] -78.05609"
      ]
     },
     "metadata": {},
     "output_type": "display_data"
    }
   ],
   "source": [
    "loghills.Q0<-Regression.Quantities(loghills.l0)\n",
    "loghills.Q1<-Regression.Quantities(loghills.l1)\n",
    "loghills.Q0$AIC\n",
    "loghills.Q1$AIC"
   ]
  },
  {
   "cell_type": "markdown",
   "metadata": {},
   "source": [
    "From these results, decide which is the better model, according to the above criteria."
   ]
  },
  {
   "cell_type": "code",
   "execution_count": 70,
   "metadata": {
    "collapsed": true
   },
   "outputs": [],
   "source": [
    "#\n",
    "# Insert your code here\n",
    "#"
   ]
  },
  {
   "cell_type": "markdown",
   "metadata": {},
   "source": [
    "The `stats` package has two functions, `add1()` and `drop1`, allowing us to perform this operation in a semi-automatic way. Either we add a predictor to the basic model:"
   ]
  },
  {
   "cell_type": "code",
   "execution_count": 71,
   "metadata": {},
   "outputs": [
    {
     "data": {
      "text/html": [
       "<table>\n",
       "<thead><tr><th></th><th scope=col>Df</th><th scope=col>Sum of Sq</th><th scope=col>RSS</th><th scope=col>AIC</th></tr></thead>\n",
       "<tbody>\n",
       "\t<tr><th scope=row>&lt;none&gt;</th><td>NA       </td><td>       NA</td><td>3.505548 </td><td>-76.53504</td></tr>\n",
       "\t<tr><th scope=row>logclimb</th><td> 1       </td><td>0.3355038</td><td>3.170044 </td><td>-78.05609</td></tr>\n",
       "</tbody>\n",
       "</table>\n"
      ],
      "text/latex": [
       "\\begin{tabular}{r|llll}\n",
       "  & Df & Sum of Sq & RSS & AIC\\\\\n",
       "\\hline\n",
       "\t<none> & NA        &        NA & 3.505548  & -76.53504\\\\\n",
       "\tlogclimb &  1        & 0.3355038 & 3.170044  & -78.05609\\\\\n",
       "\\end{tabular}\n"
      ],
      "text/markdown": [
       "\n",
       "| <!--/--> | Df | Sum of Sq | RSS | AIC | \n",
       "|---|---|\n",
       "| <none> | NA        |        NA | 3.505548  | -76.53504 | \n",
       "| logclimb |  1        | 0.3355038 | 3.170044  | -78.05609 | \n",
       "\n",
       "\n"
      ],
      "text/plain": [
       "         Df Sum of Sq RSS      AIC      \n",
       "<none>   NA        NA 3.505548 -76.53504\n",
       "logclimb  1 0.3355038 3.170044 -78.05609"
      ]
     },
     "metadata": {},
     "output_type": "display_data"
    },
    {
     "data": {
      "text/html": [
       "<table>\n",
       "<thead><tr><th></th><th scope=col>Df</th><th scope=col>Sum of Sq</th><th scope=col>RSS</th><th scope=col>AIC</th><th scope=col>F value</th><th scope=col>Pr(&gt;F)</th></tr></thead>\n",
       "<tbody>\n",
       "\t<tr><th scope=row>&lt;none&gt;</th><td>NA        </td><td>       NA </td><td>3.505548  </td><td>-76.53504 </td><td>      NA  </td><td>        NA</td></tr>\n",
       "\t<tr><th scope=row>logclimb</th><td> 1        </td><td>0.3355038 </td><td>3.170044  </td><td>-78.05609 </td><td>3.386742  </td><td>0.07501337</td></tr>\n",
       "</tbody>\n",
       "</table>\n"
      ],
      "text/latex": [
       "\\begin{tabular}{r|llllll}\n",
       "  & Df & Sum of Sq & RSS & AIC & F value & Pr(>F)\\\\\n",
       "\\hline\n",
       "\t<none> & NA         &        NA  & 3.505548   & -76.53504  &       NA   &         NA\\\\\n",
       "\tlogclimb &  1         & 0.3355038  & 3.170044   & -78.05609  & 3.386742   & 0.07501337\\\\\n",
       "\\end{tabular}\n"
      ],
      "text/markdown": [
       "\n",
       "| <!--/--> | Df | Sum of Sq | RSS | AIC | F value | Pr(>F) | \n",
       "|---|---|\n",
       "| <none> | NA         |        NA  | 3.505548   | -76.53504  |       NA   |         NA | \n",
       "| logclimb |  1         | 0.3355038  | 3.170044   | -78.05609  | 3.386742   | 0.07501337 | \n",
       "\n",
       "\n"
      ],
      "text/plain": [
       "         Df Sum of Sq RSS      AIC       F value  Pr(>F)    \n",
       "<none>   NA        NA 3.505548 -76.53504       NA         NA\n",
       "logclimb  1 0.3355038 3.170044 -78.05609 3.386742 0.07501337"
      ]
     },
     "metadata": {},
     "output_type": "display_data"
    },
    {
     "data": {
      "text/html": [
       "<table>\n",
       "<thead><tr><th></th><th scope=col>Df</th><th scope=col>Sum of Sq</th><th scope=col>RSS</th><th scope=col>AIC</th><th scope=col>Pr(&gt;Chi)</th></tr></thead>\n",
       "<tbody>\n",
       "\t<tr><th scope=row>&lt;none&gt;</th><td>NA        </td><td>       NA </td><td>3.505548  </td><td>-76.53504 </td><td>        NA</td></tr>\n",
       "\t<tr><th scope=row>logclimb</th><td> 1        </td><td>0.3355038 </td><td>3.170044  </td><td>-78.05609 </td><td>0.06059418</td></tr>\n",
       "</tbody>\n",
       "</table>\n"
      ],
      "text/latex": [
       "\\begin{tabular}{r|lllll}\n",
       "  & Df & Sum of Sq & RSS & AIC & Pr(>Chi)\\\\\n",
       "\\hline\n",
       "\t<none> & NA         &        NA  & 3.505548   & -76.53504  &         NA\\\\\n",
       "\tlogclimb &  1         & 0.3355038  & 3.170044   & -78.05609  & 0.06059418\\\\\n",
       "\\end{tabular}\n"
      ],
      "text/markdown": [
       "\n",
       "| <!--/--> | Df | Sum of Sq | RSS | AIC | Pr(>Chi) | \n",
       "|---|---|\n",
       "| <none> | NA         |        NA  | 3.505548   | -76.53504  |         NA | \n",
       "| logclimb |  1         | 0.3355038  | 3.170044   | -78.05609  | 0.06059418 | \n",
       "\n",
       "\n"
      ],
      "text/plain": [
       "         Df Sum of Sq RSS      AIC       Pr(>Chi)  \n",
       "<none>   NA        NA 3.505548 -76.53504         NA\n",
       "logclimb  1 0.3355038 3.170044 -78.05609 0.06059418"
      ]
     },
     "metadata": {},
     "output_type": "display_data"
    }
   ],
   "source": [
    "add1(loghills.l0,\"logclimb\")\n",
    "add1(loghills.l0,\"logclimb\",test=\"F\")\n",
    "add1(loghills.l0,\"logclimb\",test=\"Chisq\")"
   ]
  },
  {
   "cell_type": "markdown",
   "metadata": {},
   "source": [
    "Or drop a variable from a larger model:"
   ]
  },
  {
   "cell_type": "code",
   "execution_count": 72,
   "metadata": {},
   "outputs": [
    {
     "data": {
      "text/html": [
       "<table>\n",
       "<thead><tr><th></th><th scope=col>Df</th><th scope=col>Sum of Sq</th><th scope=col>RSS</th><th scope=col>AIC</th></tr></thead>\n",
       "<tbody>\n",
       "\t<tr><th scope=row>&lt;none&gt;</th><td>NA       </td><td>       NA</td><td>3.170044 </td><td>-78.05609</td></tr>\n",
       "\t<tr><th scope=row>logclimb</th><td> 1       </td><td>0.3355038</td><td>3.505548 </td><td>-76.53504</td></tr>\n",
       "</tbody>\n",
       "</table>\n"
      ],
      "text/latex": [
       "\\begin{tabular}{r|llll}\n",
       "  & Df & Sum of Sq & RSS & AIC\\\\\n",
       "\\hline\n",
       "\t<none> & NA        &        NA & 3.170044  & -78.05609\\\\\n",
       "\tlogclimb &  1        & 0.3355038 & 3.505548  & -76.53504\\\\\n",
       "\\end{tabular}\n"
      ],
      "text/markdown": [
       "\n",
       "| <!--/--> | Df | Sum of Sq | RSS | AIC | \n",
       "|---|---|\n",
       "| <none> | NA        |        NA | 3.170044  | -78.05609 | \n",
       "| logclimb |  1        | 0.3355038 | 3.505548  | -76.53504 | \n",
       "\n",
       "\n"
      ],
      "text/plain": [
       "         Df Sum of Sq RSS      AIC      \n",
       "<none>   NA        NA 3.170044 -78.05609\n",
       "logclimb  1 0.3355038 3.505548 -76.53504"
      ]
     },
     "metadata": {},
     "output_type": "display_data"
    },
    {
     "data": {
      "text/html": [
       "<table>\n",
       "<thead><tr><th></th><th scope=col>Df</th><th scope=col>Sum of Sq</th><th scope=col>RSS</th><th scope=col>AIC</th><th scope=col>F value</th><th scope=col>Pr(&gt;F)</th></tr></thead>\n",
       "<tbody>\n",
       "\t<tr><th scope=row>&lt;none&gt;</th><td>NA        </td><td>       NA </td><td>3.170044  </td><td>-78.05609 </td><td>      NA  </td><td>        NA</td></tr>\n",
       "\t<tr><th scope=row>logclimb</th><td> 1        </td><td>0.3355038 </td><td>3.505548  </td><td>-76.53504 </td><td>3.386742  </td><td>0.07501337</td></tr>\n",
       "</tbody>\n",
       "</table>\n"
      ],
      "text/latex": [
       "\\begin{tabular}{r|llllll}\n",
       "  & Df & Sum of Sq & RSS & AIC & F value & Pr(>F)\\\\\n",
       "\\hline\n",
       "\t<none> & NA         &        NA  & 3.170044   & -78.05609  &       NA   &         NA\\\\\n",
       "\tlogclimb &  1         & 0.3355038  & 3.505548   & -76.53504  & 3.386742   & 0.07501337\\\\\n",
       "\\end{tabular}\n"
      ],
      "text/markdown": [
       "\n",
       "| <!--/--> | Df | Sum of Sq | RSS | AIC | F value | Pr(>F) | \n",
       "|---|---|\n",
       "| <none> | NA         |        NA  | 3.170044   | -78.05609  |       NA   |         NA | \n",
       "| logclimb |  1         | 0.3355038  | 3.505548   | -76.53504  | 3.386742   | 0.07501337 | \n",
       "\n",
       "\n"
      ],
      "text/plain": [
       "         Df Sum of Sq RSS      AIC       F value  Pr(>F)    \n",
       "<none>   NA        NA 3.170044 -78.05609       NA         NA\n",
       "logclimb  1 0.3355038 3.505548 -76.53504 3.386742 0.07501337"
      ]
     },
     "metadata": {},
     "output_type": "display_data"
    }
   ],
   "source": [
    "drop1(loghills.l1,\"logclimb\")\n",
    "drop1(loghills.l1,\"logclimb\",test=\"F\")"
   ]
  },
  {
   "cell_type": "code",
   "execution_count": 73,
   "metadata": {},
   "outputs": [
    {
     "data": {
      "text/html": [
       "<table>\n",
       "<thead><tr><th></th><th scope=col>Df</th><th scope=col>Sum of Sq</th><th scope=col>RSS</th><th scope=col>AIC</th></tr></thead>\n",
       "<tbody>\n",
       "\t<tr><th scope=row>&lt;none&gt;</th><td>NA       </td><td>      NA </td><td>3.170044 </td><td>-78.05609</td></tr>\n",
       "\t<tr><th scope=row>logdist</th><td> 1       </td><td>4.878599 </td><td>8.048644 </td><td>-47.44456</td></tr>\n",
       "</tbody>\n",
       "</table>\n"
      ],
      "text/latex": [
       "\\begin{tabular}{r|llll}\n",
       "  & Df & Sum of Sq & RSS & AIC\\\\\n",
       "\\hline\n",
       "\t<none> & NA        &       NA  & 3.170044  & -78.05609\\\\\n",
       "\tlogdist &  1        & 4.878599  & 8.048644  & -47.44456\\\\\n",
       "\\end{tabular}\n"
      ],
      "text/markdown": [
       "\n",
       "| <!--/--> | Df | Sum of Sq | RSS | AIC | \n",
       "|---|---|\n",
       "| <none> | NA        |       NA  | 3.170044  | -78.05609 | \n",
       "| logdist |  1        | 4.878599  | 8.048644  | -47.44456 | \n",
       "\n",
       "\n"
      ],
      "text/plain": [
       "        Df Sum of Sq RSS      AIC      \n",
       "<none>  NA       NA  3.170044 -78.05609\n",
       "logdist  1 4.878599  8.048644 -47.44456"
      ]
     },
     "metadata": {},
     "output_type": "display_data"
    },
    {
     "data": {
      "text/html": [
       "<table>\n",
       "<thead><tr><th></th><th scope=col>Df</th><th scope=col>Sum of Sq</th><th scope=col>RSS</th><th scope=col>AIC</th><th scope=col>F value</th><th scope=col>Pr(&gt;F)</th></tr></thead>\n",
       "<tbody>\n",
       "\t<tr><th scope=row>&lt;none&gt;</th><td>NA          </td><td>      NA    </td><td>3.170044    </td><td>-78.05609   </td><td>    NA      </td><td>          NA</td></tr>\n",
       "\t<tr><th scope=row>logdist</th><td> 1          </td><td>4.878599    </td><td>8.048644    </td><td>-47.44456   </td><td>49.247      </td><td>5.918498e-08</td></tr>\n",
       "</tbody>\n",
       "</table>\n"
      ],
      "text/latex": [
       "\\begin{tabular}{r|llllll}\n",
       "  & Df & Sum of Sq & RSS & AIC & F value & Pr(>F)\\\\\n",
       "\\hline\n",
       "\t<none> & NA           &       NA     & 3.170044     & -78.05609    &     NA       &           NA\\\\\n",
       "\tlogdist &  1           & 4.878599     & 8.048644     & -47.44456    & 49.247       & 5.918498e-08\\\\\n",
       "\\end{tabular}\n"
      ],
      "text/markdown": [
       "\n",
       "| <!--/--> | Df | Sum of Sq | RSS | AIC | F value | Pr(>F) | \n",
       "|---|---|\n",
       "| <none> | NA           |       NA     | 3.170044     | -78.05609    |     NA       |           NA | \n",
       "| logdist |  1           | 4.878599     | 8.048644     | -47.44456    | 49.247       | 5.918498e-08 | \n",
       "\n",
       "\n"
      ],
      "text/plain": [
       "        Df Sum of Sq RSS      AIC       F value Pr(>F)      \n",
       "<none>  NA       NA  3.170044 -78.05609     NA            NA\n",
       "logdist  1 4.878599  8.048644 -47.44456 49.247  5.918498e-08"
      ]
     },
     "metadata": {},
     "output_type": "display_data"
    }
   ],
   "source": [
    "drop1(loghills.l1,\"logdist\")\n",
    "drop1(loghills.l1,\"logdist\",test=\"F\")"
   ]
  },
  {
   "cell_type": "markdown",
   "metadata": {},
   "source": [
    "####  `Steam` dataset\n",
    "\n",
    "Files: `Steam.dat.txt` (Data description),  `Steam1.txt` (Actual data)."
   ]
  },
  {
   "cell_type": "code",
   "execution_count": 74,
   "metadata": {},
   "outputs": [
    {
     "name": "stdout",
     "output_type": "stream",
     "text": [
      "'data.frame':\t25 obs. of  10 variables:\n",
      " $ y : num  10.98 11.13 12.51 8.4 9.27 ...\n",
      " $ x1: num  5.2 5.12 6.19 3.89 6.28 5.76 3.45 6.57 5.69 6.14 ...\n",
      " $ x2: num  0.61 0.64 0.78 0.49 0.84 0.74 0.42 0.87 0.75 0.76 ...\n",
      " $ x3: num  7.4 8 7.4 7.5 5.5 8.9 4.1 4.1 4.1 4.5 ...\n",
      " $ x4: num  31 29 31 30 31 30 31 31 30 31 ...\n",
      " $ x5: num  20 20 23 20 21 22 11 23 21 20 ...\n",
      " $ x6: num  22 25 17 22 0 0 0 0 0 0 ...\n",
      " $ x7: num  35.3 29.7 30.8 58.8 61.4 71.3 74.4 76.7 70.7 57.5 ...\n",
      " $ x8: num  54.8 64 54.8 56.3 30.3 79.2 16.8 16.8 16.8 20.3 ...\n",
      " $ x9: num  4 5 4 4 5 4 2 5 4 5 ...\n"
     ]
    }
   ],
   "source": [
    "Steam<-read.table(\"Steam1.txt\",header=TRUE)\n",
    "str(Steam)"
   ]
  },
  {
   "cell_type": "markdown",
   "metadata": {},
   "source": [
    "#### Exercise:\n",
    "\n",
    "With the `Steam` dataset we try to find the best subset of predictors of `y` from `(x1,x2,x3,x4,x5,x6,x7,x8,x9)`:"
   ]
  },
  {
   "cell_type": "markdown",
   "metadata": {},
   "source": [
    "With such data as `Steam`, with $p$ predictors, there is a large number of possible regressions –precisely $2^p$, the number of subsets of the set of all predictors- which, in principle, they can be tested by repeatedly applying the above functions, either starting with the base model with no predictors other than \n",
    "intercept:"
   ]
  },
  {
   "cell_type": "code",
   "execution_count": 75,
   "metadata": {},
   "outputs": [
    {
     "data": {
      "text/plain": [
       "\n",
       "Call:\n",
       "lm(formula = y ~ 1, data = Steam)\n",
       "\n",
       "Residuals:\n",
       "   Min     1Q Median     3Q    Max \n",
       "-3.064 -1.024 -0.284  1.516  3.086 \n",
       "\n",
       "Coefficients:\n",
       "            Estimate Std. Error t value Pr(>|t|)    \n",
       "(Intercept)   9.4240     0.3261    28.9   <2e-16 ***\n",
       "---\n",
       "Signif. codes:  0 '***' 0.001 '**' 0.01 '*' 0.05 '.' 0.1 ' ' 1\n",
       "\n",
       "Residual standard error: 1.631 on 24 degrees of freedom\n"
      ]
     },
     "metadata": {},
     "output_type": "display_data"
    }
   ],
   "source": [
    "ls0<-lm(y~1, data=Steam)\n",
    "summary(ls0)"
   ]
  },
  {
   "cell_type": "markdown",
   "metadata": {},
   "source": [
    "and successively add predictors or, on the contrary, starting with the full model:"
   ]
  },
  {
   "cell_type": "code",
   "execution_count": 76,
   "metadata": {},
   "outputs": [
    {
     "data": {
      "text/plain": [
       "\n",
       "Call:\n",
       "lm(formula = y ~ x1 + x2 + x3 + x4 + x5 + x6 + x7 + x8 + x9, \n",
       "    data = Steam)\n",
       "\n",
       "Residuals:\n",
       "    Min      1Q  Median      3Q     Max \n",
       "-1.0726 -0.3670  0.0758  0.2942  1.0436 \n",
       "\n",
       "Coefficients:\n",
       "             Estimate Std. Error t value Pr(>|t|)   \n",
       "(Intercept) -0.227769   7.833663  -0.029  0.97719   \n",
       "x1           0.197252   0.635859   0.310  0.76067   \n",
       "x2           5.763660   4.466510   1.290  0.21644   \n",
       "x3           1.985020   0.861398   2.304  0.03592 * \n",
       "x4           0.132288   0.231817   0.571  0.57668   \n",
       "x5          -0.046401   0.060859  -0.762  0.45762   \n",
       "x6          -0.005743   0.027373  -0.210  0.83664   \n",
       "x7          -0.069204   0.018456  -3.750  0.00193 **\n",
       "x8          -0.139526   0.060742  -2.297  0.03643 * \n",
       "x9          -0.318685   0.239128  -1.333  0.20252   \n",
       "---\n",
       "Signif. codes:  0 '***' 0.001 '**' 0.01 '*' 0.05 '.' 0.1 ' ' 1\n",
       "\n",
       "Residual standard error: 0.644 on 15 degrees of freedom\n",
       "Multiple R-squared:  0.9025,\tAdjusted R-squared:  0.844 \n",
       "F-statistic: 15.43 on 9 and 15 DF,  p-value: 4.667e-06\n"
      ]
     },
     "metadata": {},
     "output_type": "display_data"
    }
   ],
   "source": [
    "ls1<-lm(y~x1+x2+x3+x4+x5+x6+x7+x8+x9, data=Steam)\n",
    "summary(ls1)"
   ]
  },
  {
   "cell_type": "markdown",
   "metadata": {},
   "source": [
    "And then successively remove them.\n",
    "\n",
    "For instance, we start with `ls0`:"
   ]
  },
  {
   "cell_type": "code",
   "execution_count": 77,
   "metadata": {},
   "outputs": [
    {
     "data": {
      "text/html": [
       "<table>\n",
       "<thead><tr><th></th><th scope=col>Df</th><th scope=col>Sum of Sq</th><th scope=col>RSS</th><th scope=col>AIC</th><th scope=col>F value</th><th scope=col>Pr(&gt;F)</th></tr></thead>\n",
       "<tbody>\n",
       "\t<tr><th scope=row>&lt;none&gt;</th><td>NA        </td><td>      NA  </td><td>63.81580  </td><td>25.42812  </td><td>      NA  </td><td>        NA</td></tr>\n",
       "\t<tr><th scope=row>x1</th><td> 1        </td><td>9.369767  </td><td>54.44603  </td><td>23.45835  </td><td>3.958133  </td><td>0.05866522</td></tr>\n",
       "</tbody>\n",
       "</table>\n"
      ],
      "text/latex": [
       "\\begin{tabular}{r|llllll}\n",
       "  & Df & Sum of Sq & RSS & AIC & F value & Pr(>F)\\\\\n",
       "\\hline\n",
       "\t<none> & NA         &       NA   & 63.81580   & 25.42812   &       NA   &         NA\\\\\n",
       "\tx1 &  1         & 9.369767   & 54.44603   & 23.45835   & 3.958133   & 0.05866522\\\\\n",
       "\\end{tabular}\n"
      ],
      "text/markdown": [
       "\n",
       "| <!--/--> | Df | Sum of Sq | RSS | AIC | F value | Pr(>F) | \n",
       "|---|---|\n",
       "| <none> | NA         |       NA   | 63.81580   | 25.42812   |       NA   |         NA | \n",
       "| x1 |  1         | 9.369767   | 54.44603   | 23.45835   | 3.958133   | 0.05866522 | \n",
       "\n",
       "\n"
      ],
      "text/plain": [
       "       Df Sum of Sq RSS      AIC      F value  Pr(>F)    \n",
       "<none> NA       NA  63.81580 25.42812       NA         NA\n",
       "x1      1 9.369767  54.44603 23.45835 3.958133 0.05866522"
      ]
     },
     "metadata": {},
     "output_type": "display_data"
    },
    {
     "data": {
      "text/html": [
       "<table>\n",
       "<thead><tr><th></th><th scope=col>Df</th><th scope=col>Sum of Sq</th><th scope=col>RSS</th><th scope=col>AIC</th><th scope=col>F value</th><th scope=col>Pr(&gt;F)</th></tr></thead>\n",
       "<tbody>\n",
       "\t<tr><th scope=row>&lt;none&gt;</th><td>NA        </td><td>     NA   </td><td>63.81580  </td><td>25.42812  </td><td>      NA  </td><td>        NA</td></tr>\n",
       "\t<tr><th scope=row>x9</th><td> 1        </td><td>9.31832   </td><td>54.49748  </td><td>23.48197  </td><td>3.932684  </td><td>0.05942159</td></tr>\n",
       "</tbody>\n",
       "</table>\n"
      ],
      "text/latex": [
       "\\begin{tabular}{r|llllll}\n",
       "  & Df & Sum of Sq & RSS & AIC & F value & Pr(>F)\\\\\n",
       "\\hline\n",
       "\t<none> & NA         &      NA    & 63.81580   & 25.42812   &       NA   &         NA\\\\\n",
       "\tx9 &  1         & 9.31832    & 54.49748   & 23.48197   & 3.932684   & 0.05942159\\\\\n",
       "\\end{tabular}\n"
      ],
      "text/markdown": [
       "\n",
       "| <!--/--> | Df | Sum of Sq | RSS | AIC | F value | Pr(>F) | \n",
       "|---|---|\n",
       "| <none> | NA         |      NA    | 63.81580   | 25.42812   |       NA   |         NA | \n",
       "| x9 |  1         | 9.31832    | 54.49748   | 23.48197   | 3.932684   | 0.05942159 | \n",
       "\n",
       "\n"
      ],
      "text/plain": [
       "       Df Sum of Sq RSS      AIC      F value  Pr(>F)    \n",
       "<none> NA      NA   63.81580 25.42812       NA         NA\n",
       "x9      1 9.31832   54.49748 23.48197 3.932684 0.05942159"
      ]
     },
     "metadata": {},
     "output_type": "display_data"
    }
   ],
   "source": [
    "add1(ls0,\"x1\",test=\"F\")\n",
    "# ...\n",
    "add1(ls0,\"x9\",test=\"F\")"
   ]
  },
  {
   "cell_type": "markdown",
   "metadata": {},
   "source": [
    "We see that `x7` is the better addition."
   ]
  },
  {
   "cell_type": "markdown",
   "metadata": {},
   "source": [
    "We keep this variable and now we try to add a second one following the same procedure, and successively, until we find a satisfactory subset. \n",
    "\n",
    "This is the _forward_ variables selection method. \n",
    "\n",
    "Symmetrically, the _backward_ method starts with the full model `ls1` and sequentially removes variables.\n",
    "\n",
    "It is worth noting that if, for instance, at a certain stage of a _forward_  procedure the current subset of variables is $A$, we have not tested all subsets of $A$ but only those in the path through which we arrived at $A$. To test them we should apply _backward_  selection from $A$ and so on. \n",
    "\n",
    "The `stats` package has a `step()` function to automate this process:"
   ]
  },
  {
   "cell_type": "code",
   "execution_count": 78,
   "metadata": {},
   "outputs": [
    {
     "name": "stdout",
     "output_type": "stream",
     "text": [
      "Start:  AIC=25.43\n",
      "y ~ 1\n",
      "\n",
      "       Df Sum of Sq    RSS     AIC\n",
      "+ x7    1    45.592 18.223 -3.9042\n",
      "+ x6    1    26.192 37.624 14.2192\n",
      "+ x3    1    14.357 49.459 21.0568\n",
      "+ x5    1    10.739 53.077 22.8216\n",
      "+ x8    1     9.934 53.882 23.1981\n",
      "+ x1    1     9.370 54.446 23.4584\n",
      "+ x9    1     9.318 54.497 23.4820\n",
      "+ x2    1     5.958 57.858 24.9779\n",
      "<none>              63.816 25.4281\n",
      "+ x4    1     1.193 62.623 26.9563\n",
      "\n",
      "Step:  AIC=-3.9\n",
      "y ~ x7\n",
      "\n",
      "       Df Sum of Sq    RSS      AIC\n",
      "+ x1    1     9.292  8.931 -19.7327\n",
      "+ x2    1     8.438  9.785 -17.4508\n",
      "+ x5    1     3.140 15.084  -6.6317\n",
      "+ x4    1     2.623 15.600  -5.7902\n",
      "+ x9    1     2.236 15.988  -5.1763\n",
      "+ x6    1     1.712 16.511  -4.3711\n",
      "<none>              18.223  -3.9042\n",
      "+ x8    1     0.359 17.864  -2.4022\n",
      "+ x3    1     0.224 17.999  -2.2134\n",
      "- x7    1    45.592 63.816  25.4281\n",
      "\n",
      "Step:  AIC=-19.73\n",
      "y ~ x7 + x1\n",
      "\n",
      "       Df Sum of Sq    RSS      AIC\n",
      "<none>               8.931 -19.7327\n",
      "+ x9    1     0.319  8.612 -18.6433\n",
      "+ x4    1     0.238  8.693 -18.4090\n",
      "+ x6    1     0.032  8.899 -17.8228\n",
      "+ x8    1     0.015  8.917 -17.7738\n",
      "+ x2    1     0.004  8.927 -17.7449\n",
      "+ x5    1     0.003  8.929 -17.7404\n",
      "+ x3    1     0.000  8.931 -17.7338\n",
      "- x1    1     9.292 18.223  -3.9042\n",
      "- x7    1    45.515 54.446  23.4584\n"
     ]
    },
    {
     "data": {
      "text/plain": [
       "\n",
       "Call:\n",
       "lm(formula = y ~ x7 + x1, data = Steam)\n",
       "\n",
       "Coefficients:\n",
       "(Intercept)           x7           x1  \n",
       "    9.47422     -0.07976      0.76165  \n"
      ]
     },
     "metadata": {},
     "output_type": "display_data"
    }
   ],
   "source": [
    "step(ls0,\"~x1+x2+x3+x4+x5+x6+x7+x8+x9\")"
   ]
  },
  {
   "cell_type": "markdown",
   "metadata": {},
   "source": [
    "Also from the full model:"
   ]
  },
  {
   "cell_type": "code",
   "execution_count": 79,
   "metadata": {},
   "outputs": [
    {
     "name": "stdout",
     "output_type": "stream",
     "text": [
      "Start:  AIC=-14.77\n",
      "y ~ x1 + x2 + x3 + x4 + x5 + x6 + x7 + x8 + x9\n",
      "\n",
      "       Df Sum of Sq     RSS      AIC\n",
      "- x6    1    0.0183  6.2397 -16.6986\n",
      "- x1    1    0.0399  6.2614 -16.6120\n",
      "- x4    1    0.1351  6.3565 -16.2349\n",
      "- x5    1    0.2411  6.4625 -15.8213\n",
      "<none>               6.2214 -14.7719\n",
      "- x2    1    0.6907  6.9121 -14.1401\n",
      "- x9    1    0.7366  6.9581 -13.9743\n",
      "- x8    1    2.1884  8.4098  -9.2369\n",
      "- x3    1    2.2025  8.4240  -9.1949\n",
      "- x7    1    5.8314 12.0529  -0.2394\n",
      "\n",
      "Step:  AIC=-16.7\n",
      "y ~ x1 + x2 + x3 + x4 + x5 + x7 + x8 + x9\n",
      "\n",
      "       Df Sum of Sq     RSS      AIC\n",
      "- x1    1    0.0462  6.2859 -18.5142\n",
      "- x4    1    0.1455  6.3852 -18.1223\n",
      "- x5    1    0.2587  6.4984 -17.6829\n",
      "<none>               6.2397 -16.6986\n",
      "- x2    1    0.6959  6.9356 -16.0551\n",
      "- x9    1    0.7437  6.9834 -15.8837\n",
      "- x8    1    2.1822  8.4219 -11.2011\n",
      "- x3    1    2.1981  8.4378 -11.1539\n",
      "- x7    1   11.7123 17.9520   7.7207\n",
      "\n",
      "Step:  AIC=-18.51\n",
      "y ~ x2 + x3 + x4 + x5 + x7 + x8 + x9\n",
      "\n",
      "       Df Sum of Sq     RSS      AIC\n",
      "- x4    1    0.3000  6.5859 -19.3485\n",
      "- x5    1    0.3598  6.6457 -19.1228\n",
      "<none>               6.2859 -18.5142\n",
      "- x9    1    0.7015  6.9874 -17.8692\n",
      "- x8    1    2.5254  8.8113 -12.0710\n",
      "- x3    1    2.5653  8.8512 -11.9581\n",
      "- x2    1    4.7390 11.0249  -6.4679\n",
      "- x7    1   11.6798 17.9657   5.7397\n",
      "\n",
      "Step:  AIC=-19.35\n",
      "y ~ x2 + x3 + x5 + x7 + x8 + x9\n",
      "\n",
      "       Df Sum of Sq     RSS      AIC\n",
      "<none>               6.5859 -19.3485\n",
      "- x5    1    0.6317  7.2176 -19.0587\n",
      "- x9    1    1.1531  7.7391 -17.3149\n",
      "- x3    1    2.8405  9.4265 -12.3839\n",
      "- x8    1    2.9010  9.4869 -12.2240\n",
      "- x2    1    7.2384 13.8243  -2.8112\n",
      "- x7    1   12.5365 19.1225   5.2997\n"
     ]
    },
    {
     "data": {
      "text/plain": [
       "\n",
       "Call:\n",
       "lm(formula = y ~ x2 + x3 + x5 + x7 + x8 + x9, data = Steam)\n",
       "\n",
       "Coefficients:\n",
       "(Intercept)           x2           x3           x5           x7           x8  \n",
       "    3.47721      7.88356      2.15116     -0.06817     -0.06783     -0.15287  \n",
       "         x9  \n",
       "   -0.37100  \n"
      ]
     },
     "metadata": {},
     "output_type": "display_data"
    }
   ],
   "source": [
    "step(ls1)"
   ]
  },
  {
   "cell_type": "markdown",
   "metadata": {},
   "source": [
    "Reasonably enough, this combined _forward_ and _backward_ procedure is called _stepwise._"
   ]
  },
  {
   "cell_type": "markdown",
   "metadata": {},
   "source": [
    "The `MASS` package has analogous functions, `addterm()`, `dropterm()`, and `stepAIC()`, with the same functionality as the above functions in the basic `stats` package."
   ]
  },
  {
   "cell_type": "markdown",
   "metadata": {},
   "source": [
    "Finally, there is the strategy of computing all the possible $2^p$ regressions, with all the subsets in the set of predictors, from $\\emptyset$ to the total number $p$ of predictors, and then comparing all the resulting $\\operatorname{AIC}$ values, keeping the best one. \n",
    "\n",
    "This is the _All Subsets Regression_ method. Obviously, this computation is unfeasible by a brute force approach, except for models with a very small number of predictors. There are combinatorial _branch and bound_ algorithms allowing us to limit the number of actual regressions we need to evaluate in full. The method depends on imposing a partial ordering on the set of all possible regressions, giving it a tree-like structure, in which we will need to evaluate only a small number of nodes. The `leaps` package implements this procedure (the name originates from the idiom  _leaps and bounds)._"
   ]
  },
  {
   "cell_type": "markdown",
   "metadata": {},
   "source": [
    "# Homework 2 \n",
    "\n",
    "Study the two datasets below, following the given guidelines. Explain with sufficient details the steps you take and \n",
    "the results you obtain. Whereas each question has a correct result, often several correct paths can lead you there, some of them quite plain and others more sophisticated or elegant. Grading will take into account both aspects."
   ]
  },
  {
   "cell_type": "markdown",
   "metadata": {},
   "source": [
    "## 1. Boston dataset"
   ]
  },
  {
   "cell_type": "markdown",
   "metadata": {},
   "source": [
    "#### Package MASS \n",
    "\n",
    "Venables, W. N., Ripley,  B. D. (2002), _Modern Applied Statistics with S._"
   ]
  },
  {
   "cell_type": "code",
   "execution_count": 80,
   "metadata": {},
   "outputs": [],
   "source": [
    "require(MASS)"
   ]
  },
  {
   "cell_type": "code",
   "execution_count": 81,
   "metadata": {},
   "outputs": [
    {
     "name": "stderr",
     "output_type": "stream",
     "text": [
      "Warning message in normalizePath(path.expand(path), winslash, mustWork):\n",
      "\"path[13]=\"C:/Users/Daniel/Downloads/P2_DanielLopezRoman/03 - Regressió lineal (2018-10-16)-20181016\": El sistema no puede encontrar el archivo especificado\""
     ]
    },
    {
     "name": "stdout",
     "output_type": "stream",
     "text": [
      "'data.frame':\t506 obs. of  14 variables:\n",
      " $ crim   : num  0.00632 0.02731 0.02729 0.03237 0.06905 ...\n",
      " $ zn     : num  18 0 0 0 0 0 12.5 12.5 12.5 12.5 ...\n",
      " $ indus  : num  2.31 7.07 7.07 2.18 2.18 2.18 7.87 7.87 7.87 7.87 ...\n",
      " $ chas   : int  0 0 0 0 0 0 0 0 0 0 ...\n",
      " $ nox    : num  0.538 0.469 0.469 0.458 0.458 0.458 0.524 0.524 0.524 0.524 ...\n",
      " $ rm     : num  6.58 6.42 7.18 7 7.15 ...\n",
      " $ age    : num  65.2 78.9 61.1 45.8 54.2 58.7 66.6 96.1 100 85.9 ...\n",
      " $ dis    : num  4.09 4.97 4.97 6.06 6.06 ...\n",
      " $ rad    : int  1 2 2 3 3 3 5 5 5 5 ...\n",
      " $ tax    : num  296 242 242 222 222 222 311 311 311 311 ...\n",
      " $ ptratio: num  15.3 17.8 17.8 18.7 18.7 18.7 15.2 15.2 15.2 15.2 ...\n",
      " $ black  : num  397 397 393 395 397 ...\n",
      " $ lstat  : num  4.98 9.14 4.03 2.94 5.33 ...\n",
      " $ medv   : num  24 21.6 34.7 33.4 36.2 28.7 22.9 27.1 16.5 18.9 ...\n"
     ]
    }
   ],
   "source": [
    "data(Boston)\n",
    "str(Boston)"
   ]
  },
  {
   "cell_type": "markdown",
   "metadata": {},
   "source": [
    "Boston dataset from the MASS package: Data intended for prediction of home values in suburbs of the namesake city. `medv` is the response variable and the other variables are the predictors. See their description in the dataset help. Some of these predictors are intrinsic habitational characteristics, such as number of bedrooms, other predictors have a socioeconomic nature and, finally, other predictors are geographical or environmental."
   ]
  },
  {
   "cell_type": "markdown",
   "metadata": {},
   "source": [
    "Perform a statistical description of the data. In the first place individually, summarizing each variable, both graphically, e.g. with boxplot and histogram, and numerically. Do these variables have a normal appearance? Or, rather, these variables show an asymmetric shape? Check correlations between pairs of predictors and between individual predictors and response. It will be useful to truncate to 2 or 1 decimal places, to avoid clutter:"
   ]
  },
  {
   "cell_type": "code",
   "execution_count": 82,
   "metadata": {},
   "outputs": [
    {
     "data": {
      "text/plain": [
       "      crim                zn             indus            chas        \n",
       " Min.   : 0.00632   Min.   :  0.00   Min.   : 0.46   Min.   :0.00000  \n",
       " 1st Qu.: 0.08204   1st Qu.:  0.00   1st Qu.: 5.19   1st Qu.:0.00000  \n",
       " Median : 0.25651   Median :  0.00   Median : 9.69   Median :0.00000  \n",
       " Mean   : 3.61352   Mean   : 11.36   Mean   :11.14   Mean   :0.06917  \n",
       " 3rd Qu.: 3.67708   3rd Qu.: 12.50   3rd Qu.:18.10   3rd Qu.:0.00000  \n",
       " Max.   :88.97620   Max.   :100.00   Max.   :27.74   Max.   :1.00000  \n",
       "      nox               rm             age              dis        \n",
       " Min.   :0.3850   Min.   :3.561   Min.   :  2.90   Min.   : 1.130  \n",
       " 1st Qu.:0.4490   1st Qu.:5.886   1st Qu.: 45.02   1st Qu.: 2.100  \n",
       " Median :0.5380   Median :6.208   Median : 77.50   Median : 3.207  \n",
       " Mean   :0.5547   Mean   :6.285   Mean   : 68.57   Mean   : 3.795  \n",
       " 3rd Qu.:0.6240   3rd Qu.:6.623   3rd Qu.: 94.08   3rd Qu.: 5.188  \n",
       " Max.   :0.8710   Max.   :8.780   Max.   :100.00   Max.   :12.127  \n",
       "      rad              tax           ptratio          black       \n",
       " Min.   : 1.000   Min.   :187.0   Min.   :12.60   Min.   :  0.32  \n",
       " 1st Qu.: 4.000   1st Qu.:279.0   1st Qu.:17.40   1st Qu.:375.38  \n",
       " Median : 5.000   Median :330.0   Median :19.05   Median :391.44  \n",
       " Mean   : 9.549   Mean   :408.2   Mean   :18.46   Mean   :356.67  \n",
       " 3rd Qu.:24.000   3rd Qu.:666.0   3rd Qu.:20.20   3rd Qu.:396.23  \n",
       " Max.   :24.000   Max.   :711.0   Max.   :22.00   Max.   :396.90  \n",
       "     lstat      \n",
       " Min.   : 1.73  \n",
       " 1st Qu.: 6.95  \n",
       " Median :11.36  \n",
       " Mean   :12.65  \n",
       " 3rd Qu.:16.95  \n",
       " Max.   :37.97  "
      ]
     },
     "metadata": {},
     "output_type": "display_data"
    },
    {
     "data": {
      "image/png": "[encoded data removed]",
      "text/plain": [
       "Plot with title \"Histogram of predictor\""
      ]
     },
     "metadata": {},
     "output_type": "display_data"
    },
    {
     "data": {
      "image/png": "[encoded data removed]",
      "text/plain": [
       "Plot with title \"Histogram of predictor\""
      ]
     },
     "metadata": {},
     "output_type": "display_data"
    },
    {
     "data": {
      "image/png": "[encoded data removed]",
      "text/plain": [
       "Plot with title \"Histogram of predictor\""
      ]
     },
     "metadata": {},
     "output_type": "display_data"
    },
    {
     "data": {
      "image/png": "[encoded data removed]",
      "text/plain": [
       "Plot with title \"Histogram of predictor\""
      ]
     },
     "metadata": {},
     "output_type": "display_data"
    },
    {
     "data": {
      "image/png": "[encoded data removed]",
      "text/plain": [
       "Plot with title \"Histogram of predictor\""
      ]
     },
     "metadata": {},
     "output_type": "display_data"
    },
    {
     "data": {
      "image/png": "[encoded data removed]",
      "text/plain": [
       "Plot with title \"Histogram of predictor\""
      ]
     },
     "metadata": {},
     "output_type": "display_data"
    },
    {
     "data": {
      "image/png": "[encoded data removed]",
      "text/plain": [
       "Plot with title \"Histogram of predictor\""
      ]
     },
     "metadata": {},
     "output_type": "display_data"
    },
    {
     "data": {
      "image/png": "[encoded data removed]",
      "text/plain": [
       "Plot with title \"Histogram of predictor\""
      ]
     },
     "metadata": {},
     "output_type": "display_data"
    },
    {
     "data": {
      "image/png": "[encoded data removed]",
      "text/plain": [
       "Plot with title \"Histogram of predictor\""
      ]
     },
     "metadata": {},
     "output_type": "display_data"
    },
    {
     "data": {
      "image/png": "[encoded data removed]",
      "text/plain": [
       "Plot with title \"Histogram of predictor\""
      ]
     },
     "metadata": {},
     "output_type": "display_data"
    },
    {
     "data": {
      "image/png": "[encoded data removed]",
      "text/plain": [
       "Plot with title \"Histogram of predictor\""
      ]
     },
     "metadata": {},
     "output_type": "display_data"
    },
    {
     "data": {
      "image/png": "[encoded data removed]",
      "text/plain": [
       "Plot with title \"Histogram of predictor\""
      ]
     },
     "metadata": {},
     "output_type": "display_data"
    },
    {
     "data": {
      "image/png": "[encoded data removed]",
      "text/plain": [
       "Plot with title \"Histogram of predictor\""
      ]
     },
     "metadata": {},
     "output_type": "display_data"
    }
   ],
   "source": [
    "summary(Boston[-length(Boston)])\n",
    "for(predictor in Boston[-length(Boston)]){\n",
    "    par(mfrow=c(1,2))\n",
    "    boxplot(predictor)\n",
    "    hist(predictor, xlab=colnames(predictor), xname=colnames(predictor))\n",
    "}"
   ]
  },
  {
   "cell_type": "code",
   "execution_count": 83,
   "metadata": {},
   "outputs": [
    {
     "data": {
      "text/html": [
       "<table>\n",
       "<thead><tr><th></th><th scope=col>crim</th><th scope=col>zn</th><th scope=col>indus</th><th scope=col>chas</th><th scope=col>nox</th><th scope=col>rm</th><th scope=col>age</th><th scope=col>dis</th><th scope=col>rad</th><th scope=col>tax</th><th scope=col>ptratio</th><th scope=col>black</th><th scope=col>lstat</th><th scope=col>medv</th></tr></thead>\n",
       "<tbody>\n",
       "\t<tr><th scope=row>crim</th><td> 1.00</td><td>-0.20</td><td> 0.41</td><td>-0.06</td><td> 0.42</td><td>-0.22</td><td> 0.35</td><td>-0.38</td><td> 0.63</td><td> 0.58</td><td> 0.29</td><td>-0.39</td><td> 0.46</td><td>-0.39</td></tr>\n",
       "\t<tr><th scope=row>zn</th><td>-0.20</td><td> 1.00</td><td>-0.53</td><td>-0.04</td><td>-0.52</td><td> 0.31</td><td>-0.57</td><td> 0.66</td><td>-0.31</td><td>-0.31</td><td>-0.39</td><td> 0.18</td><td>-0.41</td><td> 0.36</td></tr>\n",
       "\t<tr><th scope=row>indus</th><td> 0.41</td><td>-0.53</td><td> 1.00</td><td> 0.06</td><td> 0.76</td><td>-0.39</td><td> 0.64</td><td>-0.71</td><td> 0.60</td><td> 0.72</td><td> 0.38</td><td>-0.36</td><td> 0.60</td><td>-0.48</td></tr>\n",
       "\t<tr><th scope=row>chas</th><td>-0.06</td><td>-0.04</td><td> 0.06</td><td> 1.00</td><td> 0.09</td><td> 0.09</td><td> 0.09</td><td>-0.10</td><td>-0.01</td><td>-0.04</td><td>-0.12</td><td> 0.05</td><td>-0.05</td><td> 0.18</td></tr>\n",
       "\t<tr><th scope=row>nox</th><td> 0.42</td><td>-0.52</td><td> 0.76</td><td> 0.09</td><td> 1.00</td><td>-0.30</td><td> 0.73</td><td>-0.77</td><td> 0.61</td><td> 0.67</td><td> 0.19</td><td>-0.38</td><td> 0.59</td><td>-0.43</td></tr>\n",
       "\t<tr><th scope=row>rm</th><td>-0.22</td><td> 0.31</td><td>-0.39</td><td> 0.09</td><td>-0.30</td><td> 1.00</td><td>-0.24</td><td> 0.21</td><td>-0.21</td><td>-0.29</td><td>-0.36</td><td> 0.13</td><td>-0.61</td><td> 0.70</td></tr>\n",
       "\t<tr><th scope=row>age</th><td> 0.35</td><td>-0.57</td><td> 0.64</td><td> 0.09</td><td> 0.73</td><td>-0.24</td><td> 1.00</td><td>-0.75</td><td> 0.46</td><td> 0.51</td><td> 0.26</td><td>-0.27</td><td> 0.60</td><td>-0.38</td></tr>\n",
       "\t<tr><th scope=row>dis</th><td>-0.38</td><td> 0.66</td><td>-0.71</td><td>-0.10</td><td>-0.77</td><td> 0.21</td><td>-0.75</td><td> 1.00</td><td>-0.49</td><td>-0.53</td><td>-0.23</td><td> 0.29</td><td>-0.50</td><td> 0.25</td></tr>\n",
       "\t<tr><th scope=row>rad</th><td> 0.63</td><td>-0.31</td><td> 0.60</td><td>-0.01</td><td> 0.61</td><td>-0.21</td><td> 0.46</td><td>-0.49</td><td> 1.00</td><td> 0.91</td><td> 0.46</td><td>-0.44</td><td> 0.49</td><td>-0.38</td></tr>\n",
       "\t<tr><th scope=row>tax</th><td> 0.58</td><td>-0.31</td><td> 0.72</td><td>-0.04</td><td> 0.67</td><td>-0.29</td><td> 0.51</td><td>-0.53</td><td> 0.91</td><td> 1.00</td><td> 0.46</td><td>-0.44</td><td> 0.54</td><td>-0.47</td></tr>\n",
       "\t<tr><th scope=row>ptratio</th><td> 0.29</td><td>-0.39</td><td> 0.38</td><td>-0.12</td><td> 0.19</td><td>-0.36</td><td> 0.26</td><td>-0.23</td><td> 0.46</td><td> 0.46</td><td> 1.00</td><td>-0.18</td><td> 0.37</td><td>-0.51</td></tr>\n",
       "\t<tr><th scope=row>black</th><td>-0.39</td><td> 0.18</td><td>-0.36</td><td> 0.05</td><td>-0.38</td><td> 0.13</td><td>-0.27</td><td> 0.29</td><td>-0.44</td><td>-0.44</td><td>-0.18</td><td> 1.00</td><td>-0.37</td><td> 0.33</td></tr>\n",
       "\t<tr><th scope=row>lstat</th><td> 0.46</td><td>-0.41</td><td> 0.60</td><td>-0.05</td><td> 0.59</td><td>-0.61</td><td> 0.60</td><td>-0.50</td><td> 0.49</td><td> 0.54</td><td> 0.37</td><td>-0.37</td><td> 1.00</td><td>-0.74</td></tr>\n",
       "\t<tr><th scope=row>medv</th><td>-0.39</td><td> 0.36</td><td>-0.48</td><td> 0.18</td><td>-0.43</td><td> 0.70</td><td>-0.38</td><td> 0.25</td><td>-0.38</td><td>-0.47</td><td>-0.51</td><td> 0.33</td><td>-0.74</td><td> 1.00</td></tr>\n",
       "</tbody>\n",
       "</table>\n"
      ],
      "text/latex": [
       "\\begin{tabular}{r|llllllllllllll}\n",
       "  & crim & zn & indus & chas & nox & rm & age & dis & rad & tax & ptratio & black & lstat & medv\\\\\n",
       "\\hline\n",
       "\tcrim &  1.00 & -0.20 &  0.41 & -0.06 &  0.42 & -0.22 &  0.35 & -0.38 &  0.63 &  0.58 &  0.29 & -0.39 &  0.46 & -0.39\\\\\n",
       "\tzn & -0.20 &  1.00 & -0.53 & -0.04 & -0.52 &  0.31 & -0.57 &  0.66 & -0.31 & -0.31 & -0.39 &  0.18 & -0.41 &  0.36\\\\\n",
       "\tindus &  0.41 & -0.53 &  1.00 &  0.06 &  0.76 & -0.39 &  0.64 & -0.71 &  0.60 &  0.72 &  0.38 & -0.36 &  0.60 & -0.48\\\\\n",
       "\tchas & -0.06 & -0.04 &  0.06 &  1.00 &  0.09 &  0.09 &  0.09 & -0.10 & -0.01 & -0.04 & -0.12 &  0.05 & -0.05 &  0.18\\\\\n",
       "\tnox &  0.42 & -0.52 &  0.76 &  0.09 &  1.00 & -0.30 &  0.73 & -0.77 &  0.61 &  0.67 &  0.19 & -0.38 &  0.59 & -0.43\\\\\n",
       "\trm & -0.22 &  0.31 & -0.39 &  0.09 & -0.30 &  1.00 & -0.24 &  0.21 & -0.21 & -0.29 & -0.36 &  0.13 & -0.61 &  0.70\\\\\n",
       "\tage &  0.35 & -0.57 &  0.64 &  0.09 &  0.73 & -0.24 &  1.00 & -0.75 &  0.46 &  0.51 &  0.26 & -0.27 &  0.60 & -0.38\\\\\n",
       "\tdis & -0.38 &  0.66 & -0.71 & -0.10 & -0.77 &  0.21 & -0.75 &  1.00 & -0.49 & -0.53 & -0.23 &  0.29 & -0.50 &  0.25\\\\\n",
       "\trad &  0.63 & -0.31 &  0.60 & -0.01 &  0.61 & -0.21 &  0.46 & -0.49 &  1.00 &  0.91 &  0.46 & -0.44 &  0.49 & -0.38\\\\\n",
       "\ttax &  0.58 & -0.31 &  0.72 & -0.04 &  0.67 & -0.29 &  0.51 & -0.53 &  0.91 &  1.00 &  0.46 & -0.44 &  0.54 & -0.47\\\\\n",
       "\tptratio &  0.29 & -0.39 &  0.38 & -0.12 &  0.19 & -0.36 &  0.26 & -0.23 &  0.46 &  0.46 &  1.00 & -0.18 &  0.37 & -0.51\\\\\n",
       "\tblack & -0.39 &  0.18 & -0.36 &  0.05 & -0.38 &  0.13 & -0.27 &  0.29 & -0.44 & -0.44 & -0.18 &  1.00 & -0.37 &  0.33\\\\\n",
       "\tlstat &  0.46 & -0.41 &  0.60 & -0.05 &  0.59 & -0.61 &  0.60 & -0.50 &  0.49 &  0.54 &  0.37 & -0.37 &  1.00 & -0.74\\\\\n",
       "\tmedv & -0.39 &  0.36 & -0.48 &  0.18 & -0.43 &  0.70 & -0.38 &  0.25 & -0.38 & -0.47 & -0.51 &  0.33 & -0.74 &  1.00\\\\\n",
       "\\end{tabular}\n"
      ],
      "text/markdown": [
       "\n",
       "| <!--/--> | crim | zn | indus | chas | nox | rm | age | dis | rad | tax | ptratio | black | lstat | medv | \n",
       "|---|---|---|---|---|---|---|---|---|---|---|---|---|---|\n",
       "| crim |  1.00 | -0.20 |  0.41 | -0.06 |  0.42 | -0.22 |  0.35 | -0.38 |  0.63 |  0.58 |  0.29 | -0.39 |  0.46 | -0.39 | \n",
       "| zn | -0.20 |  1.00 | -0.53 | -0.04 | -0.52 |  0.31 | -0.57 |  0.66 | -0.31 | -0.31 | -0.39 |  0.18 | -0.41 |  0.36 | \n",
       "| indus |  0.41 | -0.53 |  1.00 |  0.06 |  0.76 | -0.39 |  0.64 | -0.71 |  0.60 |  0.72 |  0.38 | -0.36 |  0.60 | -0.48 | \n",
       "| chas | -0.06 | -0.04 |  0.06 |  1.00 |  0.09 |  0.09 |  0.09 | -0.10 | -0.01 | -0.04 | -0.12 |  0.05 | -0.05 |  0.18 | \n",
       "| nox |  0.42 | -0.52 |  0.76 |  0.09 |  1.00 | -0.30 |  0.73 | -0.77 |  0.61 |  0.67 |  0.19 | -0.38 |  0.59 | -0.43 | \n",
       "| rm | -0.22 |  0.31 | -0.39 |  0.09 | -0.30 |  1.00 | -0.24 |  0.21 | -0.21 | -0.29 | -0.36 |  0.13 | -0.61 |  0.70 | \n",
       "| age |  0.35 | -0.57 |  0.64 |  0.09 |  0.73 | -0.24 |  1.00 | -0.75 |  0.46 |  0.51 |  0.26 | -0.27 |  0.60 | -0.38 | \n",
       "| dis | -0.38 |  0.66 | -0.71 | -0.10 | -0.77 |  0.21 | -0.75 |  1.00 | -0.49 | -0.53 | -0.23 |  0.29 | -0.50 |  0.25 | \n",
       "| rad |  0.63 | -0.31 |  0.60 | -0.01 |  0.61 | -0.21 |  0.46 | -0.49 |  1.00 |  0.91 |  0.46 | -0.44 |  0.49 | -0.38 | \n",
       "| tax |  0.58 | -0.31 |  0.72 | -0.04 |  0.67 | -0.29 |  0.51 | -0.53 |  0.91 |  1.00 |  0.46 | -0.44 |  0.54 | -0.47 | \n",
       "| ptratio |  0.29 | -0.39 |  0.38 | -0.12 |  0.19 | -0.36 |  0.26 | -0.23 |  0.46 |  0.46 |  1.00 | -0.18 |  0.37 | -0.51 | \n",
       "| black | -0.39 |  0.18 | -0.36 |  0.05 | -0.38 |  0.13 | -0.27 |  0.29 | -0.44 | -0.44 | -0.18 |  1.00 | -0.37 |  0.33 | \n",
       "| lstat |  0.46 | -0.41 |  0.60 | -0.05 |  0.59 | -0.61 |  0.60 | -0.50 |  0.49 |  0.54 |  0.37 | -0.37 |  1.00 | -0.74 | \n",
       "| medv | -0.39 |  0.36 | -0.48 |  0.18 | -0.43 |  0.70 | -0.38 |  0.25 | -0.38 | -0.47 | -0.51 |  0.33 | -0.74 |  1.00 | \n",
       "\n",
       "\n"
      ],
      "text/plain": [
       "        crim  zn    indus chas  nox   rm    age   dis   rad   tax   ptratio\n",
       "crim     1.00 -0.20  0.41 -0.06  0.42 -0.22  0.35 -0.38  0.63  0.58  0.29  \n",
       "zn      -0.20  1.00 -0.53 -0.04 -0.52  0.31 -0.57  0.66 -0.31 -0.31 -0.39  \n",
       "indus    0.41 -0.53  1.00  0.06  0.76 -0.39  0.64 -0.71  0.60  0.72  0.38  \n",
       "chas    -0.06 -0.04  0.06  1.00  0.09  0.09  0.09 -0.10 -0.01 -0.04 -0.12  \n",
       "nox      0.42 -0.52  0.76  0.09  1.00 -0.30  0.73 -0.77  0.61  0.67  0.19  \n",
       "rm      -0.22  0.31 -0.39  0.09 -0.30  1.00 -0.24  0.21 -0.21 -0.29 -0.36  \n",
       "age      0.35 -0.57  0.64  0.09  0.73 -0.24  1.00 -0.75  0.46  0.51  0.26  \n",
       "dis     -0.38  0.66 -0.71 -0.10 -0.77  0.21 -0.75  1.00 -0.49 -0.53 -0.23  \n",
       "rad      0.63 -0.31  0.60 -0.01  0.61 -0.21  0.46 -0.49  1.00  0.91  0.46  \n",
       "tax      0.58 -0.31  0.72 -0.04  0.67 -0.29  0.51 -0.53  0.91  1.00  0.46  \n",
       "ptratio  0.29 -0.39  0.38 -0.12  0.19 -0.36  0.26 -0.23  0.46  0.46  1.00  \n",
       "black   -0.39  0.18 -0.36  0.05 -0.38  0.13 -0.27  0.29 -0.44 -0.44 -0.18  \n",
       "lstat    0.46 -0.41  0.60 -0.05  0.59 -0.61  0.60 -0.50  0.49  0.54  0.37  \n",
       "medv    -0.39  0.36 -0.48  0.18 -0.43  0.70 -0.38  0.25 -0.38 -0.47 -0.51  \n",
       "        black lstat medv \n",
       "crim    -0.39  0.46 -0.39\n",
       "zn       0.18 -0.41  0.36\n",
       "indus   -0.36  0.60 -0.48\n",
       "chas     0.05 -0.05  0.18\n",
       "nox     -0.38  0.59 -0.43\n",
       "rm       0.13 -0.61  0.70\n",
       "age     -0.27  0.60 -0.38\n",
       "dis      0.29 -0.50  0.25\n",
       "rad     -0.44  0.49 -0.38\n",
       "tax     -0.44  0.54 -0.47\n",
       "ptratio -0.18  0.37 -0.51\n",
       "black    1.00 -0.37  0.33\n",
       "lstat   -0.37  1.00 -0.74\n",
       "medv     0.33 -0.74  1.00"
      ]
     },
     "metadata": {},
     "output_type": "display_data"
    },
    {
     "data": {
      "text/html": [
       "<table>\n",
       "<thead><tr><th></th><th scope=col>crim</th><th scope=col>zn</th><th scope=col>indus</th><th scope=col>chas</th><th scope=col>nox</th><th scope=col>rm</th><th scope=col>age</th><th scope=col>dis</th><th scope=col>rad</th><th scope=col>tax</th><th scope=col>ptratio</th><th scope=col>black</th><th scope=col>lstat</th><th scope=col>medv</th></tr></thead>\n",
       "<tbody>\n",
       "\t<tr><th scope=row>crim</th><td> 1.0</td><td>-0.2</td><td> 0.4</td><td>-0.1</td><td> 0.4</td><td>-0.2</td><td> 0.4</td><td>-0.4</td><td> 0.6</td><td> 0.6</td><td> 0.3</td><td>-0.4</td><td> 0.5</td><td>-0.4</td></tr>\n",
       "\t<tr><th scope=row>zn</th><td>-0.2</td><td> 1.0</td><td>-0.5</td><td> 0.0</td><td>-0.5</td><td> 0.3</td><td>-0.6</td><td> 0.7</td><td>-0.3</td><td>-0.3</td><td>-0.4</td><td> 0.2</td><td>-0.4</td><td> 0.4</td></tr>\n",
       "\t<tr><th scope=row>indus</th><td> 0.4</td><td>-0.5</td><td> 1.0</td><td> 0.1</td><td> 0.8</td><td>-0.4</td><td> 0.6</td><td>-0.7</td><td> 0.6</td><td> 0.7</td><td> 0.4</td><td>-0.4</td><td> 0.6</td><td>-0.5</td></tr>\n",
       "\t<tr><th scope=row>chas</th><td>-0.1</td><td> 0.0</td><td> 0.1</td><td> 1.0</td><td> 0.1</td><td> 0.1</td><td> 0.1</td><td>-0.1</td><td> 0.0</td><td> 0.0</td><td>-0.1</td><td> 0.0</td><td>-0.1</td><td> 0.2</td></tr>\n",
       "\t<tr><th scope=row>nox</th><td> 0.4</td><td>-0.5</td><td> 0.8</td><td> 0.1</td><td> 1.0</td><td>-0.3</td><td> 0.7</td><td>-0.8</td><td> 0.6</td><td> 0.7</td><td> 0.2</td><td>-0.4</td><td> 0.6</td><td>-0.4</td></tr>\n",
       "\t<tr><th scope=row>rm</th><td>-0.2</td><td> 0.3</td><td>-0.4</td><td> 0.1</td><td>-0.3</td><td> 1.0</td><td>-0.2</td><td> 0.2</td><td>-0.2</td><td>-0.3</td><td>-0.4</td><td> 0.1</td><td>-0.6</td><td> 0.7</td></tr>\n",
       "\t<tr><th scope=row>age</th><td> 0.4</td><td>-0.6</td><td> 0.6</td><td> 0.1</td><td> 0.7</td><td>-0.2</td><td> 1.0</td><td>-0.7</td><td> 0.5</td><td> 0.5</td><td> 0.3</td><td>-0.3</td><td> 0.6</td><td>-0.4</td></tr>\n",
       "\t<tr><th scope=row>dis</th><td>-0.4</td><td> 0.7</td><td>-0.7</td><td>-0.1</td><td>-0.8</td><td> 0.2</td><td>-0.7</td><td> 1.0</td><td>-0.5</td><td>-0.5</td><td>-0.2</td><td> 0.3</td><td>-0.5</td><td> 0.2</td></tr>\n",
       "\t<tr><th scope=row>rad</th><td> 0.6</td><td>-0.3</td><td> 0.6</td><td> 0.0</td><td> 0.6</td><td>-0.2</td><td> 0.5</td><td>-0.5</td><td> 1.0</td><td> 0.9</td><td> 0.5</td><td>-0.4</td><td> 0.5</td><td>-0.4</td></tr>\n",
       "\t<tr><th scope=row>tax</th><td> 0.6</td><td>-0.3</td><td> 0.7</td><td> 0.0</td><td> 0.7</td><td>-0.3</td><td> 0.5</td><td>-0.5</td><td> 0.9</td><td> 1.0</td><td> 0.5</td><td>-0.4</td><td> 0.5</td><td>-0.5</td></tr>\n",
       "\t<tr><th scope=row>ptratio</th><td> 0.3</td><td>-0.4</td><td> 0.4</td><td>-0.1</td><td> 0.2</td><td>-0.4</td><td> 0.3</td><td>-0.2</td><td> 0.5</td><td> 0.5</td><td> 1.0</td><td>-0.2</td><td> 0.4</td><td>-0.5</td></tr>\n",
       "\t<tr><th scope=row>black</th><td>-0.4</td><td> 0.2</td><td>-0.4</td><td> 0.0</td><td>-0.4</td><td> 0.1</td><td>-0.3</td><td> 0.3</td><td>-0.4</td><td>-0.4</td><td>-0.2</td><td> 1.0</td><td>-0.4</td><td> 0.3</td></tr>\n",
       "\t<tr><th scope=row>lstat</th><td> 0.5</td><td>-0.4</td><td> 0.6</td><td>-0.1</td><td> 0.6</td><td>-0.6</td><td> 0.6</td><td>-0.5</td><td> 0.5</td><td> 0.5</td><td> 0.4</td><td>-0.4</td><td> 1.0</td><td>-0.7</td></tr>\n",
       "\t<tr><th scope=row>medv</th><td>-0.4</td><td> 0.4</td><td>-0.5</td><td> 0.2</td><td>-0.4</td><td> 0.7</td><td>-0.4</td><td> 0.2</td><td>-0.4</td><td>-0.5</td><td>-0.5</td><td> 0.3</td><td>-0.7</td><td> 1.0</td></tr>\n",
       "</tbody>\n",
       "</table>\n"
      ],
      "text/latex": [
       "\\begin{tabular}{r|llllllllllllll}\n",
       "  & crim & zn & indus & chas & nox & rm & age & dis & rad & tax & ptratio & black & lstat & medv\\\\\n",
       "\\hline\n",
       "\tcrim &  1.0 & -0.2 &  0.4 & -0.1 &  0.4 & -0.2 &  0.4 & -0.4 &  0.6 &  0.6 &  0.3 & -0.4 &  0.5 & -0.4\\\\\n",
       "\tzn & -0.2 &  1.0 & -0.5 &  0.0 & -0.5 &  0.3 & -0.6 &  0.7 & -0.3 & -0.3 & -0.4 &  0.2 & -0.4 &  0.4\\\\\n",
       "\tindus &  0.4 & -0.5 &  1.0 &  0.1 &  0.8 & -0.4 &  0.6 & -0.7 &  0.6 &  0.7 &  0.4 & -0.4 &  0.6 & -0.5\\\\\n",
       "\tchas & -0.1 &  0.0 &  0.1 &  1.0 &  0.1 &  0.1 &  0.1 & -0.1 &  0.0 &  0.0 & -0.1 &  0.0 & -0.1 &  0.2\\\\\n",
       "\tnox &  0.4 & -0.5 &  0.8 &  0.1 &  1.0 & -0.3 &  0.7 & -0.8 &  0.6 &  0.7 &  0.2 & -0.4 &  0.6 & -0.4\\\\\n",
       "\trm & -0.2 &  0.3 & -0.4 &  0.1 & -0.3 &  1.0 & -0.2 &  0.2 & -0.2 & -0.3 & -0.4 &  0.1 & -0.6 &  0.7\\\\\n",
       "\tage &  0.4 & -0.6 &  0.6 &  0.1 &  0.7 & -0.2 &  1.0 & -0.7 &  0.5 &  0.5 &  0.3 & -0.3 &  0.6 & -0.4\\\\\n",
       "\tdis & -0.4 &  0.7 & -0.7 & -0.1 & -0.8 &  0.2 & -0.7 &  1.0 & -0.5 & -0.5 & -0.2 &  0.3 & -0.5 &  0.2\\\\\n",
       "\trad &  0.6 & -0.3 &  0.6 &  0.0 &  0.6 & -0.2 &  0.5 & -0.5 &  1.0 &  0.9 &  0.5 & -0.4 &  0.5 & -0.4\\\\\n",
       "\ttax &  0.6 & -0.3 &  0.7 &  0.0 &  0.7 & -0.3 &  0.5 & -0.5 &  0.9 &  1.0 &  0.5 & -0.4 &  0.5 & -0.5\\\\\n",
       "\tptratio &  0.3 & -0.4 &  0.4 & -0.1 &  0.2 & -0.4 &  0.3 & -0.2 &  0.5 &  0.5 &  1.0 & -0.2 &  0.4 & -0.5\\\\\n",
       "\tblack & -0.4 &  0.2 & -0.4 &  0.0 & -0.4 &  0.1 & -0.3 &  0.3 & -0.4 & -0.4 & -0.2 &  1.0 & -0.4 &  0.3\\\\\n",
       "\tlstat &  0.5 & -0.4 &  0.6 & -0.1 &  0.6 & -0.6 &  0.6 & -0.5 &  0.5 &  0.5 &  0.4 & -0.4 &  1.0 & -0.7\\\\\n",
       "\tmedv & -0.4 &  0.4 & -0.5 &  0.2 & -0.4 &  0.7 & -0.4 &  0.2 & -0.4 & -0.5 & -0.5 &  0.3 & -0.7 &  1.0\\\\\n",
       "\\end{tabular}\n"
      ],
      "text/markdown": [
       "\n",
       "| <!--/--> | crim | zn | indus | chas | nox | rm | age | dis | rad | tax | ptratio | black | lstat | medv | \n",
       "|---|---|---|---|---|---|---|---|---|---|---|---|---|---|\n",
       "| crim |  1.0 | -0.2 |  0.4 | -0.1 |  0.4 | -0.2 |  0.4 | -0.4 |  0.6 |  0.6 |  0.3 | -0.4 |  0.5 | -0.4 | \n",
       "| zn | -0.2 |  1.0 | -0.5 |  0.0 | -0.5 |  0.3 | -0.6 |  0.7 | -0.3 | -0.3 | -0.4 |  0.2 | -0.4 |  0.4 | \n",
       "| indus |  0.4 | -0.5 |  1.0 |  0.1 |  0.8 | -0.4 |  0.6 | -0.7 |  0.6 |  0.7 |  0.4 | -0.4 |  0.6 | -0.5 | \n",
       "| chas | -0.1 |  0.0 |  0.1 |  1.0 |  0.1 |  0.1 |  0.1 | -0.1 |  0.0 |  0.0 | -0.1 |  0.0 | -0.1 |  0.2 | \n",
       "| nox |  0.4 | -0.5 |  0.8 |  0.1 |  1.0 | -0.3 |  0.7 | -0.8 |  0.6 |  0.7 |  0.2 | -0.4 |  0.6 | -0.4 | \n",
       "| rm | -0.2 |  0.3 | -0.4 |  0.1 | -0.3 |  1.0 | -0.2 |  0.2 | -0.2 | -0.3 | -0.4 |  0.1 | -0.6 |  0.7 | \n",
       "| age |  0.4 | -0.6 |  0.6 |  0.1 |  0.7 | -0.2 |  1.0 | -0.7 |  0.5 |  0.5 |  0.3 | -0.3 |  0.6 | -0.4 | \n",
       "| dis | -0.4 |  0.7 | -0.7 | -0.1 | -0.8 |  0.2 | -0.7 |  1.0 | -0.5 | -0.5 | -0.2 |  0.3 | -0.5 |  0.2 | \n",
       "| rad |  0.6 | -0.3 |  0.6 |  0.0 |  0.6 | -0.2 |  0.5 | -0.5 |  1.0 |  0.9 |  0.5 | -0.4 |  0.5 | -0.4 | \n",
       "| tax |  0.6 | -0.3 |  0.7 |  0.0 |  0.7 | -0.3 |  0.5 | -0.5 |  0.9 |  1.0 |  0.5 | -0.4 |  0.5 | -0.5 | \n",
       "| ptratio |  0.3 | -0.4 |  0.4 | -0.1 |  0.2 | -0.4 |  0.3 | -0.2 |  0.5 |  0.5 |  1.0 | -0.2 |  0.4 | -0.5 | \n",
       "| black | -0.4 |  0.2 | -0.4 |  0.0 | -0.4 |  0.1 | -0.3 |  0.3 | -0.4 | -0.4 | -0.2 |  1.0 | -0.4 |  0.3 | \n",
       "| lstat |  0.5 | -0.4 |  0.6 | -0.1 |  0.6 | -0.6 |  0.6 | -0.5 |  0.5 |  0.5 |  0.4 | -0.4 |  1.0 | -0.7 | \n",
       "| medv | -0.4 |  0.4 | -0.5 |  0.2 | -0.4 |  0.7 | -0.4 |  0.2 | -0.4 | -0.5 | -0.5 |  0.3 | -0.7 |  1.0 | \n",
       "\n",
       "\n"
      ],
      "text/plain": [
       "        crim zn   indus chas nox  rm   age  dis  rad  tax  ptratio black lstat\n",
       "crim     1.0 -0.2  0.4  -0.1  0.4 -0.2  0.4 -0.4  0.6  0.6  0.3    -0.4   0.5 \n",
       "zn      -0.2  1.0 -0.5   0.0 -0.5  0.3 -0.6  0.7 -0.3 -0.3 -0.4     0.2  -0.4 \n",
       "indus    0.4 -0.5  1.0   0.1  0.8 -0.4  0.6 -0.7  0.6  0.7  0.4    -0.4   0.6 \n",
       "chas    -0.1  0.0  0.1   1.0  0.1  0.1  0.1 -0.1  0.0  0.0 -0.1     0.0  -0.1 \n",
       "nox      0.4 -0.5  0.8   0.1  1.0 -0.3  0.7 -0.8  0.6  0.7  0.2    -0.4   0.6 \n",
       "rm      -0.2  0.3 -0.4   0.1 -0.3  1.0 -0.2  0.2 -0.2 -0.3 -0.4     0.1  -0.6 \n",
       "age      0.4 -0.6  0.6   0.1  0.7 -0.2  1.0 -0.7  0.5  0.5  0.3    -0.3   0.6 \n",
       "dis     -0.4  0.7 -0.7  -0.1 -0.8  0.2 -0.7  1.0 -0.5 -0.5 -0.2     0.3  -0.5 \n",
       "rad      0.6 -0.3  0.6   0.0  0.6 -0.2  0.5 -0.5  1.0  0.9  0.5    -0.4   0.5 \n",
       "tax      0.6 -0.3  0.7   0.0  0.7 -0.3  0.5 -0.5  0.9  1.0  0.5    -0.4   0.5 \n",
       "ptratio  0.3 -0.4  0.4  -0.1  0.2 -0.4  0.3 -0.2  0.5  0.5  1.0    -0.2   0.4 \n",
       "black   -0.4  0.2 -0.4   0.0 -0.4  0.1 -0.3  0.3 -0.4 -0.4 -0.2     1.0  -0.4 \n",
       "lstat    0.5 -0.4  0.6  -0.1  0.6 -0.6  0.6 -0.5  0.5  0.5  0.4    -0.4   1.0 \n",
       "medv    -0.4  0.4 -0.5   0.2 -0.4  0.7 -0.4  0.2 -0.4 -0.5 -0.5     0.3  -0.7 \n",
       "        medv\n",
       "crim    -0.4\n",
       "zn       0.4\n",
       "indus   -0.5\n",
       "chas     0.2\n",
       "nox     -0.4\n",
       "rm       0.7\n",
       "age     -0.4\n",
       "dis      0.2\n",
       "rad     -0.4\n",
       "tax     -0.5\n",
       "ptratio -0.5\n",
       "black    0.3\n",
       "lstat   -0.7\n",
       "medv     1.0"
      ]
     },
     "metadata": {},
     "output_type": "display_data"
    }
   ],
   "source": [
    "round(cor(Boston),2)\n",
    "# or\n",
    "round(cor(Boston),1)\n"
   ]
  },
  {
   "cell_type": "raw",
   "metadata": {},
   "source": [
    "'chas' has little to no correlation to any other predictor.\n",
    "\n",
    "'rm' has little correlation to other predictors (never >.5 other than lstat).\n",
    "\n",
    "'ptratio' has low correlation to other predictors.\n",
    "\n",
    "'black' is below  .5 with any other predictor.\n",
    "\n",
    "\n",
    "'tax', 'nox', 'indus' and 'age'  has high correlation with a lot of predictors\n",
    "'rad' is also really high on correlation with a lot of predictors\n",
    "\n",
    "\n",
    "\n",
    "with 'medv':\n",
    "\n",
    "- chas and dis have .2 correlation \n",
    "- crim, zn, nox, age, rad and black are between .3 and .5 correlation\n",
    "- indus, tax and ptratio have .5 correlation\n",
    "- rm and lstat have .7 correlation"
   ]
  },
  {
   "cell_type": "markdown",
   "metadata": {},
   "source": [
    "In this way we can see at a glance which correlations are large or small. Is there a danger of multicollinearity? \n",
    "\n",
    "It might be useful to perform the same operation with the logarithms of the variables. This dataset has two variables taking the 0 value. Which ones are these variables? Once they are excluded you will be able to study the correlations between the logarithms.\n",
    "\n",
    "Fit a linear regression model of `medv` on the remaining variables. From the model summary, can we state that the model fits well? which variables appear to be better or worse predictors? \n",
    "\n",
    "Prepare an optimal model with the five better predictors. The `ResSS` of this model is much larger than the one from the full model? Note that this model still has a non significant predictor. Discard it. \n",
    "\n",
    "Now fit both linear regression models, the one with response `medv` and the one with response `log(medv)` on the logarithms of the remaining predictors. Which one is better?"
   ]
  },
  {
   "cell_type": "code",
   "execution_count": 86,
   "metadata": {},
   "outputs": [
    {
     "data": {
      "text/plain": [
       "\n",
       "Call:\n",
       "lm(formula = medv ~ ., data = Boston)\n",
       "\n",
       "Residuals:\n",
       "    Min      1Q  Median      3Q     Max \n",
       "-15.595  -2.730  -0.518   1.777  26.199 \n",
       "\n",
       "Coefficients:\n",
       "              Estimate Std. Error t value Pr(>|t|)    \n",
       "(Intercept)  3.646e+01  5.103e+00   7.144 3.28e-12 ***\n",
       "crim        -1.080e-01  3.286e-02  -3.287 0.001087 ** \n",
       "zn           4.642e-02  1.373e-02   3.382 0.000778 ***\n",
       "indus        2.056e-02  6.150e-02   0.334 0.738288    \n",
       "chas         2.687e+00  8.616e-01   3.118 0.001925 ** \n",
       "nox         -1.777e+01  3.820e+00  -4.651 4.25e-06 ***\n",
       "rm           3.810e+00  4.179e-01   9.116  < 2e-16 ***\n",
       "age          6.922e-04  1.321e-02   0.052 0.958229    \n",
       "dis         -1.476e+00  1.995e-01  -7.398 6.01e-13 ***\n",
       "rad          3.060e-01  6.635e-02   4.613 5.07e-06 ***\n",
       "tax         -1.233e-02  3.760e-03  -3.280 0.001112 ** \n",
       "ptratio     -9.527e-01  1.308e-01  -7.283 1.31e-12 ***\n",
       "black        9.312e-03  2.686e-03   3.467 0.000573 ***\n",
       "lstat       -5.248e-01  5.072e-02 -10.347  < 2e-16 ***\n",
       "---\n",
       "Signif. codes:  0 '***' 0.001 '**' 0.01 '*' 0.05 '.' 0.1 ' ' 1\n",
       "\n",
       "Residual standard error: 4.745 on 492 degrees of freedom\n",
       "Multiple R-squared:  0.7406,\tAdjusted R-squared:  0.7338 \n",
       "F-statistic: 108.1 on 13 and 492 DF,  p-value: < 2.2e-16\n"
      ]
     },
     "metadata": {},
     "output_type": "display_data"
    }
   ],
   "source": [
    "Boston.lm.1<-lm(medv~.,data=Boston)\n",
    "summary(Boston.lm.1)"
   ]
  },
  {
   "cell_type": "code",
   "execution_count": 87,
   "metadata": {},
   "outputs": [
    {
     "data": {
      "text/html": [
       "<dl class=dl-horizontal>\n",
       "\t<dt>crim</dt>\n",
       "\t\t<dd>1.7922</dd>\n",
       "\t<dt>zn</dt>\n",
       "\t\t<dd>2.2988</dd>\n",
       "\t<dt>indus</dt>\n",
       "\t\t<dd>3.9916</dd>\n",
       "\t<dt>chas</dt>\n",
       "\t\t<dd>1.074</dd>\n",
       "\t<dt>nox</dt>\n",
       "\t\t<dd>4.3937</dd>\n",
       "\t<dt>rm</dt>\n",
       "\t\t<dd>1.9337</dd>\n",
       "\t<dt>age</dt>\n",
       "\t\t<dd>3.1008</dd>\n",
       "\t<dt>dis</dt>\n",
       "\t\t<dd>3.9559</dd>\n",
       "\t<dt>rad</dt>\n",
       "\t\t<dd>7.4845</dd>\n",
       "\t<dt>tax</dt>\n",
       "\t\t<dd>9.0086</dd>\n",
       "\t<dt>ptratio</dt>\n",
       "\t\t<dd>1.7991</dd>\n",
       "\t<dt>black</dt>\n",
       "\t\t<dd>1.3485</dd>\n",
       "\t<dt>lstat</dt>\n",
       "\t\t<dd>2.9415</dd>\n",
       "</dl>\n"
      ],
      "text/latex": [
       "\\begin{description*}\n",
       "\\item[crim] 1.7922\n",
       "\\item[zn] 2.2988\n",
       "\\item[indus] 3.9916\n",
       "\\item[chas] 1.074\n",
       "\\item[nox] 4.3937\n",
       "\\item[rm] 1.9337\n",
       "\\item[age] 3.1008\n",
       "\\item[dis] 3.9559\n",
       "\\item[rad] 7.4845\n",
       "\\item[tax] 9.0086\n",
       "\\item[ptratio] 1.7991\n",
       "\\item[black] 1.3485\n",
       "\\item[lstat] 2.9415\n",
       "\\end{description*}\n"
      ],
      "text/markdown": [
       "crim\n",
       ":   1.7922zn\n",
       ":   2.2988indus\n",
       ":   3.9916chas\n",
       ":   1.074nox\n",
       ":   4.3937rm\n",
       ":   1.9337age\n",
       ":   3.1008dis\n",
       ":   3.9559rad\n",
       ":   7.4845tax\n",
       ":   9.0086ptratio\n",
       ":   1.7991black\n",
       ":   1.3485lstat\n",
       ":   2.9415\n",
       "\n"
      ],
      "text/plain": [
       "   crim      zn   indus    chas     nox      rm     age     dis     rad     tax \n",
       " 1.7922  2.2988  3.9916  1.0740  4.3937  1.9337  3.1008  3.9559  7.4845  9.0086 \n",
       "ptratio   black   lstat \n",
       " 1.7991  1.3485  2.9415 "
      ]
     },
     "metadata": {},
     "output_type": "display_data"
    },
    {
     "data": {
      "text/plain": [
       "\n",
       "Call:\n",
       "lm(formula = log(medv) ~ ., data = Boston[-7][-12])\n",
       "\n",
       "Residuals:\n",
       "     Min       1Q   Median       3Q      Max \n",
       "-0.88048 -0.10856 -0.00431  0.09417  1.21168 \n",
       "\n",
       "Coefficients:\n",
       "              Estimate Std. Error t value Pr(>|t|)    \n",
       "(Intercept)  3.2090504  0.2351454  13.647  < 2e-16 ***\n",
       "crim        -0.0135145  0.0015659  -8.630  < 2e-16 ***\n",
       "zn           0.0010406  0.0006581   1.581 0.114491    \n",
       "indus       -0.0005538  0.0029603  -0.187 0.851668    \n",
       "chas         0.1248703  0.0415182   3.008 0.002767 ** \n",
       "nox         -1.1525301  0.1751224  -6.581 1.19e-10 ***\n",
       "rm           0.2167643  0.0170467  12.716  < 2e-16 ***\n",
       "dis         -0.0422157  0.0091946  -4.591 5.59e-06 ***\n",
       "rad          0.0137701  0.0031951   4.310 1.97e-05 ***\n",
       "tax         -0.0006117  0.0001815  -3.369 0.000813 ***\n",
       "ptratio     -0.0441606  0.0062808  -7.031 6.86e-12 ***\n",
       "black        0.0006461  0.0001282   5.042 6.49e-07 ***\n",
       "---\n",
       "Signif. codes:  0 '***' 0.001 '**' 0.01 '*' 0.05 '.' 0.1 ' ' 1\n",
       "\n",
       "Residual standard error: 0.2292 on 494 degrees of freedom\n",
       "Multiple R-squared:  0.6925,\tAdjusted R-squared:  0.6856 \n",
       "F-statistic: 101.1 on 11 and 494 DF,  p-value: < 2.2e-16\n"
      ]
     },
     "metadata": {},
     "output_type": "display_data"
    },
    {
     "data": {
      "text/html": [
       "1589.64279847242"
      ],
      "text/latex": [
       "1589.64279847242"
      ],
      "text/markdown": [
       "1589.64279847242"
      ],
      "text/plain": [
       "[1] 1589.643"
      ]
     },
     "metadata": {},
     "output_type": "display_data"
    },
    {
     "data": {
      "text/html": [
       "-1479.00552150187"
      ],
      "text/latex": [
       "-1479.00552150187"
      ],
      "text/markdown": [
       "-1479.00552150187"
      ],
      "text/plain": [
       "[1] -1479.006"
      ]
     },
     "metadata": {},
     "output_type": "display_data"
    }
   ],
   "source": [
    "vif(Boston.lm.1) # there's no multicollinearity\n",
    "\n",
    "Boston.lm.2<-lm(log(medv)~.,data=Boston[-7][-12]) # this variables were age (6e-04) and black (9e-03)\n",
    "summary(Boston.lm.2)\n",
    "\n",
    "Boston.Q1<-Regression.Quantities(Boston.lm.1)\n",
    "Boston.Q2<-Regression.Quantities(Boston.lm.2)\n",
    "Boston.Q1$AIC\n",
    "Boston.Q2$AIC"
   ]
  },
  {
   "cell_type": "markdown",
   "metadata": {},
   "source": [
    "## 2. Dataset `Auto`"
   ]
  },
  {
   "cell_type": "markdown",
   "metadata": {},
   "source": [
    "#### Package ISLR\n",
    "James, G., Witten, D., Hastie, T., Tibshirani, R. (2013), _An Introduction to Statistical Learning with Applications in R._"
   ]
  },
  {
   "cell_type": "code",
   "execution_count": 88,
   "metadata": {},
   "outputs": [
    {
     "name": "stderr",
     "output_type": "stream",
     "text": [
      "Loading required package: ISLR\n",
      "Warning message:\n",
      "\"package 'ISLR' was built under R version 3.4.4\""
     ]
    }
   ],
   "source": [
    "# install.packages(\"ISLR\",dependencies=TRUE,repos=\"https://cloud.r-project.org\")\n",
    "require(ISLR)"
   ]
  },
  {
   "cell_type": "code",
   "execution_count": 89,
   "metadata": {},
   "outputs": [
    {
     "name": "stderr",
     "output_type": "stream",
     "text": [
      "Warning message in normalizePath(path.expand(path), winslash, mustWork):\n",
      "\"path[14]=\"C:/Users/Daniel/Downloads/P2_DanielLopezRoman/03 - Regressió lineal (2018-10-16)-20181016\": El sistema no puede encontrar el archivo especificado\""
     ]
    },
    {
     "name": "stdout",
     "output_type": "stream",
     "text": [
      "'data.frame':\t392 obs. of  9 variables:\n",
      " $ mpg         : num  18 15 18 16 17 15 14 14 14 15 ...\n",
      " $ cylinders   : num  8 8 8 8 8 8 8 8 8 8 ...\n",
      " $ displacement: num  307 350 318 304 302 429 454 440 455 390 ...\n",
      " $ horsepower  : num  130 165 150 150 140 198 220 215 225 190 ...\n",
      " $ weight      : num  3504 3693 3436 3433 3449 ...\n",
      " $ acceleration: num  12 11.5 11 12 10.5 10 9 8.5 10 8.5 ...\n",
      " $ year        : num  70 70 70 70 70 70 70 70 70 70 ...\n",
      " $ origin      : num  1 1 1 1 1 1 1 1 1 1 ...\n",
      " $ name        : Factor w/ 304 levels \"amc ambassador brougham\",..: 49 36 231 14 161 141 54 223 241 2 ...\n"
     ]
    }
   ],
   "source": [
    "data(Auto)\n",
    "str(Auto)\n",
    "#?Auto"
   ]
  },
  {
   "cell_type": "markdown",
   "metadata": {},
   "source": [
    "See the dataset variables description in the help file. Following a path analogous to those in the classroom examples, study these variables, both individually and pairwise, then perform a linear regression analysis of the response `mpg` (vehicle mileage, in miles per fuel gallon) on the other variables as predictors. \n",
    "\n",
    "Find an optimal predictors subset, explainig the steps you follow to determine it. \n",
    "\n",
    "Do also consider the possibility of nonlinear transformations, such as $\\log$ or power functions of predictors and/or response.\n",
    "\n",
    "_Hints:_ \n",
    "\n",
    "Variable 9, `name`, is the car brand name. It is better to remove it from the dataset, since there is a single instance of each brand name in a large majority of the samples. \n",
    "\n",
    "Another variable requiring attention is `origin`  (1 = American, 2 = European, 3 = Japanese). Check, by doing:"
   ]
  },
  {
   "cell_type": "code",
   "execution_count": 90,
   "metadata": {},
   "outputs": [
    {
     "name": "stdout",
     "output_type": "stream",
     "text": [
      " num [1:392] 1 1 1 1 1 1 1 1 1 1 ...\n"
     ]
    }
   ],
   "source": [
    "str(Auto$origin)"
   ]
  },
  {
   "cell_type": "markdown",
   "metadata": {},
   "source": [
    "that it is coded numerically. Even though, possibly, this variable is not a very good predictor of the vehicle mileage `mpg`, you can enter it as a regression predictor but, if you do, you should convert it into a factor:"
   ]
  },
  {
   "cell_type": "code",
   "execution_count": 91,
   "metadata": {
    "collapsed": true
   },
   "outputs": [],
   "source": [
    "Auto$origin<-as.factor(Auto$origin)"
   ]
  },
  {
   "cell_type": "markdown",
   "metadata": {},
   "source": [
    "It will be better to discard `origin` for a first analysis, in order to perform variable selection more easily. Eventually you can re-enter it to be able to confirm that it is not a good predictor or, for example, to decide that japanese vehicles are more efficient than european ones."
   ]
  },
  {
   "cell_type": "code",
   "execution_count": 92,
   "metadata": {},
   "outputs": [
    {
     "data": {
      "text/plain": [
       "\n",
       "Call:\n",
       "lm(formula = mpg ~ ., data = Auto[-9][-8])\n",
       "\n",
       "Residuals:\n",
       "    Min      1Q  Median      3Q     Max \n",
       "-8.6927 -2.3864 -0.0801  2.0291 14.3607 \n",
       "\n",
       "Coefficients:\n",
       "               Estimate Std. Error t value Pr(>|t|)    \n",
       "(Intercept)  -1.454e+01  4.764e+00  -3.051  0.00244 ** \n",
       "cylinders    -3.299e-01  3.321e-01  -0.993  0.32122    \n",
       "displacement  7.678e-03  7.358e-03   1.044  0.29733    \n",
       "horsepower   -3.914e-04  1.384e-02  -0.028  0.97745    \n",
       "weight       -6.795e-03  6.700e-04 -10.141  < 2e-16 ***\n",
       "acceleration  8.527e-02  1.020e-01   0.836  0.40383    \n",
       "year          7.534e-01  5.262e-02  14.318  < 2e-16 ***\n",
       "---\n",
       "Signif. codes:  0 '***' 0.001 '**' 0.01 '*' 0.05 '.' 0.1 ' ' 1\n",
       "\n",
       "Residual standard error: 3.435 on 385 degrees of freedom\n",
       "Multiple R-squared:  0.8093,\tAdjusted R-squared:  0.8063 \n",
       "F-statistic: 272.2 on 6 and 385 DF,  p-value: < 2.2e-16\n"
      ]
     },
     "metadata": {},
     "output_type": "display_data"
    }
   ],
   "source": [
    "Auto.lm.1 <-lm(mpg~.,data=Auto[-9][-8]) # descartamos name y origin de las variables\n",
    "summary(Auto.lm.1)"
   ]
  },
  {
   "cell_type": "code",
   "execution_count": 93,
   "metadata": {},
   "outputs": [
    {
     "name": "stdout",
     "output_type": "stream",
     "text": [
      "Start:  AIC=974.46\n",
      "mpg ~ cylinders + displacement + horsepower + weight + acceleration + \n",
      "    year\n",
      "\n",
      "               Df Sum of Sq    RSS     AIC\n",
      "- horsepower    1      0.01 4543.4  972.46\n",
      "- acceleration  1      8.24 4551.6  973.17\n",
      "- cylinders     1     11.64 4555.0  973.46\n",
      "- displacement  1     12.85 4556.2  973.57\n",
      "<none>                      4543.3  974.46\n",
      "- weight        1   1213.57 5756.9 1065.26\n",
      "- year          1   2419.12 6962.5 1139.79\n",
      "\n",
      "Step:  AIC=972.46\n",
      "mpg ~ cylinders + displacement + weight + acceleration + year\n",
      "\n",
      "               Df Sum of Sq    RSS     AIC\n",
      "- cylinders     1     11.70 4555.1  971.47\n",
      "- displacement  1     13.45 4556.8  971.62\n",
      "- acceleration  1     14.36 4557.7  971.70\n",
      "<none>                      4543.4  972.46\n",
      "- weight        1   1519.63 6063.0 1083.57\n",
      "- year          1   2552.19 7095.5 1145.22\n",
      "\n",
      "Step:  AIC=971.47\n",
      "mpg ~ displacement + weight + acceleration + year\n",
      "\n",
      "               Df Sum of Sq    RSS     AIC\n",
      "- displacement  1      3.45 4558.5  969.77\n",
      "- acceleration  1     13.86 4568.9  970.66\n",
      "<none>                      4555.1  971.47\n",
      "- weight        1   1552.07 6107.1 1084.41\n",
      "- year          1   2549.22 7104.3 1143.70\n",
      "\n",
      "Step:  AIC=969.77\n",
      "mpg ~ weight + acceleration + year\n",
      "\n",
      "               Df Sum of Sq     RSS     AIC\n",
      "- acceleration  1      10.5  4569.0  968.66\n",
      "<none>                       4558.5  969.77\n",
      "- year          1    2594.4  7152.9 1144.37\n",
      "- weight        1    9544.3 14102.8 1410.48\n",
      "\n",
      "Step:  AIC=968.66\n",
      "mpg ~ weight + year\n",
      "\n",
      "         Df Sum of Sq     RSS     AIC\n",
      "<none>                 4569.0  968.66\n",
      "- year    1    2752.3  7321.2 1151.49\n",
      "- weight  1   11222.4 15791.3 1452.81\n"
     ]
    },
    {
     "data": {
      "text/plain": [
       "\n",
       "Call:\n",
       "lm(formula = mpg ~ weight + year, data = Auto[-9][-8])\n",
       "\n",
       "Coefficients:\n",
       "(Intercept)       weight         year  \n",
       " -14.347253    -0.006632     0.757318  \n"
      ]
     },
     "metadata": {},
     "output_type": "display_data"
    }
   ],
   "source": [
    "# Quitamos  predictores mirando si el modelo mejora o no y quitamos el que mejor error da\n",
    "# hasta que el AIC de un paso a otro cambia poco\n",
    "# esto se hace automatico con el metodo step()\n",
    "result <- step(Auto.lm.1)\n",
    "result"
   ]
  },
  {
   "cell_type": "code",
   "execution_count": null,
   "metadata": {
    "collapsed": true
   },
   "outputs": [],
   "source": []
  }
 ],
 "metadata": {
  "kernelspec": {
   "display_name": "R",
   "language": "R",
   "name": "ir"
  },
  "language_info": {
   "codemirror_mode": "r",
   "file_extension": ".r",
   "mimetype": "text/x-r-source",
   "name": "R",
   "pygments_lexer": "r",
   "version": "3.4.0"
  }
 },
 "nbformat": 4,
 "nbformat_minor": 2
}

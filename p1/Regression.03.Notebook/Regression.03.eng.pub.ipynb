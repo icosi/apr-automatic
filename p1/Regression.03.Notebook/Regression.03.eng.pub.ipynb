{
 "cells": [
  {
   "cell_type": "markdown",
   "metadata": {},
   "source": [
    "# Regression 03 \n",
    "\n",
    "# A. Shrinkage (regularization) methods \n",
    "# B. Orthogonalization methods"
   ]
  },
  {
   "cell_type": "markdown",
   "metadata": {},
   "source": [
    "##### Josep Fortiana 2019-10-15"
   ]
  },
  {
   "cell_type": "markdown",
   "metadata": {},
   "source": [
    "Both families of methods are applicable when there are many predictors, possibly multicollinear. \n",
    "\n",
    "Shrinkage, or regularization, methods replace the ordinary least squares condition with penalized least squares, where the penalty term purpose is to diminish the regression coefficients variance (dispersion, unstability). This is the shrinkage in the name.\n",
    "\n",
    "Orthogonalization methods replace the set of observed predictor variables with a new set of orthogonal variables, derived as linear combinations of the old ones in such a way that the _prediction space,_ that is, the space of columns of $X$, the regression matrix is conserved.\n",
    "\n",
    "In this laboratory we see two shrinkage methods: Ridge regression and the Lasso, and two orthogonalization methods, Principal Components Regression (PCR) and Partial Least Squares (PLS)."
   ]
  },
  {
   "cell_type": "markdown",
   "metadata": {},
   "source": [
    "# A1. Ridge regression"
   ]
  },
  {
   "cell_type": "markdown",
   "metadata": {},
   "source": [
    "##  1. Longley dataset and the `lm.ridge` function in the `MASS`  package"
   ]
  },
  {
   "cell_type": "code",
   "execution_count": 49,
   "metadata": {},
   "outputs": [
    {
     "name": "stderr",
     "output_type": "stream",
     "text": [
      "Loading required package: MASS\n"
     ]
    },
    {
     "name": "stdout",
     "output_type": "stream",
     "text": [
      "'data.frame':\t16 obs. of  7 variables:\n",
      " $ GNP.deflator: num  83 88.5 88.2 89.5 96.2 ...\n",
      " $ GNP         : num  234 259 258 285 329 ...\n",
      " $ Unemployed  : num  236 232 368 335 210 ...\n",
      " $ Armed.Forces: num  159 146 162 165 310 ...\n",
      " $ Population  : num  108 109 110 111 112 ...\n",
      " $ Year        : int  1947 1948 1949 1950 1951 1952 1953 1954 1955 1956 ...\n",
      " $ Employed    : num  60.3 61.1 60.2 61.2 63.2 ...\n"
     ]
    }
   ],
   "source": [
    "require(MASS)\n",
    "data(longley)\n",
    "str(longley)"
   ]
  },
  {
   "cell_type": "code",
   "execution_count": 50,
   "metadata": {},
   "outputs": [
    {
     "name": "stdout",
     "output_type": "stream",
     "text": [
      "List of 9\n",
      " $ coef  : Named num [1:6] 0.157 -3.447 -1.828 -0.696 -0.344 ...\n",
      "  ..- attr(*, \"names\")= chr [1:6] \"GNP.deflator\" \"GNP\" \"Unemployed\" \"Armed.Forces\" ...\n",
      " $ scales: Named num [1:6] 10.45 96.24 90.48 67.38 6.74 ...\n",
      "  ..- attr(*, \"names\")= chr [1:6] \"GNP.deflator\" \"GNP\" \"Unemployed\" \"Armed.Forces\" ...\n",
      " $ Inter : int 1\n",
      " $ lambda: num 0\n",
      " $ ym    : num 65.3\n",
      " $ xm    : Named num [1:6] 102 388 319 261 117 ...\n",
      "  ..- attr(*, \"names\")= chr [1:6] \"GNP.deflator\" \"GNP\" \"Unemployed\" \"Armed.Forces\" ...\n",
      " $ GCV   : Named num 0.00836\n",
      "  ..- attr(*, \"names\")= chr \"0\"\n",
      " $ kHKB  : num 0.00428\n",
      " $ kLW   : num 0.0323\n",
      " - attr(*, \"class\")= chr \"ridgelm\"\n"
     ]
    }
   ],
   "source": [
    "longley.ridge.1<-lm.ridge(Employed ~ .,data=longley)\n",
    "str(longley.ridge.1)"
   ]
  },
  {
   "cell_type": "code",
   "execution_count": 51,
   "metadata": {},
   "outputs": [
    {
     "data": {
      "text/html": [
       "<dl class=dl-horizontal>\n",
       "\t<dt>1</dt>\n",
       "\t\t<dd>-3482.25863459582</dd>\n",
       "\t<dt>GNP.deflator</dt>\n",
       "\t\t<dd>0.0150618722713726</dd>\n",
       "\t<dt>GNP</dt>\n",
       "\t\t<dd>-0.0358191792925914</dd>\n",
       "\t<dt>Unemployed</dt>\n",
       "\t\t<dd>-0.0202022980381683</dd>\n",
       "\t<dt>Armed.Forces</dt>\n",
       "\t\t<dd>-0.0103322686717359</dd>\n",
       "\t<dt>Population</dt>\n",
       "\t\t<dd>-0.0511041056535762</dd>\n",
       "\t<dt>Year</dt>\n",
       "\t\t<dd>1.82915146461356</dd>\n",
       "</dl>\n"
      ],
      "text/latex": [
       "\\begin{description*}\n",
       "\\item[1] -3482.25863459582\n",
       "\\item[GNP.deflator] 0.0150618722713726\n",
       "\\item[GNP] -0.0358191792925914\n",
       "\\item[Unemployed] -0.0202022980381683\n",
       "\\item[Armed.Forces] -0.0103322686717359\n",
       "\\item[Population] -0.0511041056535762\n",
       "\\item[Year] 1.82915146461356\n",
       "\\end{description*}\n"
      ],
      "text/markdown": [
       "1\n",
       ":   -3482.25863459582GNP.deflator\n",
       ":   0.0150618722713726GNP\n",
       ":   -0.0358191792925914Unemployed\n",
       ":   -0.0202022980381683Armed.Forces\n",
       ":   -0.0103322686717359Population\n",
       ":   -0.0511041056535762Year\n",
       ":   1.82915146461356\n",
       "\n"
      ],
      "text/plain": [
       "               GNP.deflator           GNP    Unemployed  Armed.Forces \n",
       "-3.482259e+03  1.506187e-02 -3.581918e-02 -2.020230e-02 -1.033227e-02 \n",
       "   Population          Year \n",
       "-5.110411e-02  1.829151e+00 "
      ]
     },
     "metadata": {},
     "output_type": "display_data"
    }
   ],
   "source": [
    "coefficients(longley.ridge.1)"
   ]
  },
  {
   "cell_type": "code",
   "execution_count": 52,
   "metadata": {},
   "outputs": [
    {
     "data": {
      "text/html": [
       "<dl class=dl-horizontal>\n",
       "\t<dt>GNP.deflator</dt>\n",
       "\t\t<dd>10.4488766591199</dd>\n",
       "\t<dt>GNP</dt>\n",
       "\t\t<dd>96.2387346946181</dd>\n",
       "\t<dt>Unemployed</dt>\n",
       "\t\t<dd>90.4791116691444</dd>\n",
       "\t<dt>Armed.Forces</dt>\n",
       "\t\t<dd>67.3821259566474</dd>\n",
       "\t<dt>Population</dt>\n",
       "\t\t<dd>6.7352163755146</dd>\n",
       "\t<dt>Year</dt>\n",
       "\t\t<dd>4.60977222864644</dd>\n",
       "</dl>\n"
      ],
      "text/latex": [
       "\\begin{description*}\n",
       "\\item[GNP.deflator] 10.4488766591199\n",
       "\\item[GNP] 96.2387346946181\n",
       "\\item[Unemployed] 90.4791116691444\n",
       "\\item[Armed.Forces] 67.3821259566474\n",
       "\\item[Population] 6.7352163755146\n",
       "\\item[Year] 4.60977222864644\n",
       "\\end{description*}\n"
      ],
      "text/markdown": [
       "GNP.deflator\n",
       ":   10.4488766591199GNP\n",
       ":   96.2387346946181Unemployed\n",
       ":   90.4791116691444Armed.Forces\n",
       ":   67.3821259566474Population\n",
       ":   6.7352163755146Year\n",
       ":   4.60977222864644\n",
       "\n"
      ],
      "text/plain": [
       "GNP.deflator          GNP   Unemployed Armed.Forces   Population         Year \n",
       "   10.448877    96.238735    90.479112    67.382126     6.735216     4.609772 "
      ]
     },
     "metadata": {},
     "output_type": "display_data"
    }
   ],
   "source": [
    "longley.ridge.1$scales"
   ]
  },
  {
   "cell_type": "code",
   "execution_count": 53,
   "metadata": {},
   "outputs": [
    {
     "name": "stdout",
     "output_type": "stream",
     "text": [
      "               GNP.deflator           GNP    Unemployed  Armed.Forces \n",
      "-3.482259e+03  1.506187e-02 -3.581918e-02 -2.020230e-02 -1.033227e-02 \n",
      "   Population          Year \n",
      "-5.110411e-02  1.829151e+00 \n"
     ]
    }
   ],
   "source": [
    "print(longley.ridge.1)"
   ]
  },
  {
   "cell_type": "code",
   "execution_count": 54,
   "metadata": {},
   "outputs": [
    {
     "data": {
      "text/plain": [
       "       Length Class  Mode   \n",
       "coef   6      -none- numeric\n",
       "scales 6      -none- numeric\n",
       "Inter  1      -none- numeric\n",
       "lambda 1      -none- numeric\n",
       "ym     1      -none- numeric\n",
       "xm     6      -none- numeric\n",
       "GCV    1      -none- numeric\n",
       "kHKB   1      -none- numeric\n",
       "kLW    1      -none- numeric"
      ]
     },
     "metadata": {},
     "output_type": "display_data"
    }
   ],
   "source": [
    "summary(longley.ridge.1)"
   ]
  },
  {
   "cell_type": "markdown",
   "metadata": {},
   "source": [
    "`kHKB` is an estimate of the optimal $\\lambda$, proposed by Hoerl, Kennard and Baldwin (1975). `kLW` is another estimate, proposed by Lawless, Wang (1976). `GCV` is the Generalized Cross-Validation statistic evaluated for each of the $\\lambda$ values being tested."
   ]
  },
  {
   "cell_type": "code",
   "execution_count": 55,
   "metadata": {},
   "outputs": [
    {
     "data": {
      "image/png": "[encoded data removed]",
      "text/plain": [
       "plot without title"
      ]
     },
     "metadata": {},
     "output_type": "display_data"
    }
   ],
   "source": [
    "longley.ridge<-lm.ridge(Employed ~ .,data=longley,lambda=seq(0,0.1,by=0.001))\n",
    "options(repr.plot.width=5, repr.plot.height=5)\n",
    "plot(longley.ridge)"
   ]
  },
  {
   "cell_type": "code",
   "execution_count": 56,
   "metadata": {},
   "outputs": [
    {
     "name": "stdout",
     "output_type": "stream",
     "text": [
      "modified HKB estimator is 0.004275357 \n",
      "modified L-W estimator is 0.03229531 \n",
      "smallest value of GCV  at 0.003 \n"
     ]
    }
   ],
   "source": [
    "select(longley.ridge)"
   ]
  },
  {
   "cell_type": "markdown",
   "metadata": {},
   "source": [
    "The `broom` package has functions to gather and visualize the output of `lm.ridge` "
   ]
  },
  {
   "cell_type": "code",
   "execution_count": 57,
   "metadata": {},
   "outputs": [
    {
     "name": "stderr",
     "output_type": "stream",
     "text": [
      "Loading required package: broom\n",
      "Warning message in library(package, lib.loc = lib.loc, character.only = TRUE, logical.return = TRUE, :\n",
      "\"there is no package called 'broom'\""
     ]
    }
   ],
   "source": [
    "#install.packages(\"broom\",dependencies=TRUE,repos=\"https://cloud.r-project.org\")\n",
    "require(broom)"
   ]
  },
  {
   "cell_type": "code",
   "execution_count": 58,
   "metadata": {},
   "outputs": [],
   "source": [
    "# tidy(longley.ridge) \n",
    "# long output"
   ]
  },
  {
   "cell_type": "code",
   "execution_count": 59,
   "metadata": {},
   "outputs": [
    {
     "ename": "ERROR",
     "evalue": "Error in glance(longley.ridge): could not find function \"glance\"\n",
     "output_type": "error",
     "traceback": [
      "Error in glance(longley.ridge): could not find function \"glance\"\nTraceback:\n"
     ]
    }
   ],
   "source": [
    "glance(longley.ridge)"
   ]
  },
  {
   "cell_type": "markdown",
   "metadata": {},
   "source": [
    "## 2. Acetylene dataset and the  `genridge`  package by Michael Friendly"
   ]
  },
  {
   "cell_type": "code",
   "execution_count": 60,
   "metadata": {},
   "outputs": [
    {
     "name": "stderr",
     "output_type": "stream",
     "text": [
      "Loading required package: genridge\n",
      "Warning message in library(package, lib.loc = lib.loc, character.only = TRUE, logical.return = TRUE, :\n",
      "\"there is no package called 'genridge'\"Loading required package: car\n",
      "Warning message in library(package, lib.loc = lib.loc, character.only = TRUE, logical.return = TRUE, :\n",
      "\"there is no package called 'car'\""
     ]
    }
   ],
   "source": [
    "#install.packages(\"genridge\",dependencies=TRUE,repos=\"https://cloud.r-project.org\")\n",
    "#install.packages(\"car\",dependencies=TRUE,repos=\"https://cloud.r-project.org\")\n",
    "require(genridge)\n",
    "require(car)"
   ]
  },
  {
   "cell_type": "markdown",
   "metadata": {},
   "source": [
    "The `genridge` package includes the `Acetylene` dataset, with new variable names. We recover the linear model we tried above on these data and then we try a second linear model with quadratic terms. As a matter of fact this dataset originates from the paper: Marquardt, Donald W. and Snee, Ronald D. (1975), _\"Ridge Regression in Practice\",_ The American Statistician, Vol. 29, No. 1, pp. 3-20. Un this paper the authors start with the model with all six quadratic terms:\n",
    "\n",
    "$$\n",
    " \\text{temp}^2,\\mskip10mu \\text{ratio}^2,\\mskip10mu \\text{time}^2,\\mskip10mu \\text{temp}\\cdot\\text{ratio},\\mskip10mu \\text{temp}\\cdot\\text{time},\\mskip10mu\\text{ratio}\\cdot \\text{time}.\n",
    "$$"
   ]
  },
  {
   "cell_type": "code",
   "execution_count": 63,
   "metadata": {},
   "outputs": [
    {
     "name": "stderr",
     "output_type": "stream",
     "text": [
      "Warning message in data(Acetylene):\n",
      "\"data set 'Acetylene' not found\""
     ]
    },
    {
     "ename": "ERROR",
     "evalue": "Error in str(Acetylene): object 'Acetylene' not found\n",
     "output_type": "error",
     "traceback": [
      "Error in str(Acetylene): object 'Acetylene' not found\nTraceback:\n",
      "1. str(Acetylene)"
     ]
    }
   ],
   "source": [
    "data(Acetylene)\n",
    "str(Acetylene)"
   ]
  },
  {
   "cell_type": "code",
   "execution_count": 62,
   "metadata": {},
   "outputs": [
    {
     "ename": "ERROR",
     "evalue": "Error in is.data.frame(data): object 'Acetylene' not found\n",
     "output_type": "error",
     "traceback": [
      "Error in is.data.frame(data): object 'Acetylene' not found\nTraceback:\n",
      "1. lm(yield ~ temp + ratio + time, data = Acetylene)",
      "2. eval(mf, parent.frame())",
      "3. eval(mf, parent.frame())",
      "4. stats::model.frame(formula = yield ~ temp + ratio + time, data = Acetylene, \n .     drop.unused.levels = TRUE)",
      "5. model.frame.default(formula = yield ~ temp + ratio + time, data = Acetylene, \n .     drop.unused.levels = TRUE)",
      "6. is.data.frame(data)"
     ]
    }
   ],
   "source": [
    "# Same model as above, with only linear terms (main effects)\n",
    "Acetylene.lm1<-lm(yield~temp+ratio+time,data=Acetylene)\n",
    "summary(Acetylene.lm1)"
   ]
  },
  {
   "cell_type": "code",
   "execution_count": null,
   "metadata": {},
   "outputs": [],
   "source": [
    "vif(Acetylene.lm1)\n",
    "X.Acetylene.lm1<-model.matrix(Acetylene.lm1)\n",
    "kappa(X.Acetylene.lm1)"
   ]
  },
  {
   "cell_type": "code",
   "execution_count": null,
   "metadata": {},
   "outputs": [],
   "source": [
    "# Model from the original paper by Marquardt and Snee\n",
    "Acetylene.lm2 <- lm(yield ~ temp + ratio + time + I(temp^2)+ I(ratio^2)+ I(time^2) \n",
    "                    + temp:ratio+temp:time+ratio:time, data=Acetylene)\n",
    "summary(Acetylene.lm2)"
   ]
  },
  {
   "cell_type": "code",
   "execution_count": null,
   "metadata": {},
   "outputs": [],
   "source": [
    "vif(Acetylene.lm2)\n",
    "X.Acetylene.lm2<-model.matrix(Acetylene.lm2)\n",
    "kappa(X.Acetylene.lm2)"
   ]
  },
  {
   "cell_type": "code",
   "execution_count": null,
   "metadata": {},
   "outputs": [],
   "source": [
    "# A third model, with fewer quadratic terms, used by Michael Friendly to illustrate genridge\n",
    "Acetylene.lm3 <- lm(yield ~ temp + ratio + time + I(time^2) + temp:time, data=Acetylene)\n",
    "summary(Acetylene.lm3)"
   ]
  },
  {
   "cell_type": "code",
   "execution_count": null,
   "metadata": {},
   "outputs": [],
   "source": [
    "vif(Acetylene.lm3)\n",
    "X.Acetylene.lm3<-model.matrix(Acetylene.lm3)\n",
    "kappa(X.Acetylene.lm3)"
   ]
  },
  {
   "cell_type": "code",
   "execution_count": null,
   "metadata": {},
   "outputs": [],
   "source": [
    "# Ridge regression with the ridge function from genridge\n",
    "y<- Acetylene[,\"yield\"]\n",
    "X0<-X.Acetylene.lm3[,-1]\n",
    "lambda <- c(0, 0.0005, 0.001, 0.002, 0.005, 0.01)\n",
    "Acetylene.ridge.1 <- ridge(y, X0, lambda=lambda)\n",
    "summary(Acetylene.ridge.1)"
   ]
  },
  {
   "cell_type": "code",
   "execution_count": null,
   "metadata": {},
   "outputs": [],
   "source": [
    "traceplot(Acetylene.ridge.1)"
   ]
  },
  {
   "cell_type": "code",
   "execution_count": null,
   "metadata": {},
   "outputs": [],
   "source": [
    "traceplot(Acetylene.ridge.1, X=\"df\")"
   ]
  },
  {
   "cell_type": "code",
   "execution_count": null,
   "metadata": {},
   "outputs": [],
   "source": [
    "pairs(Acetylene.ridge.1, radius=0.2)"
   ]
  },
  {
   "cell_type": "markdown",
   "metadata": {},
   "source": [
    "## 3. The Fearn dataset"
   ]
  },
  {
   "cell_type": "markdown",
   "metadata": {},
   "source": [
    "A dataset from the paper by Fearn, T. (1983), _A Misuse of Ridge Regression in the Calibration of a Near Infrared Reflectance Instrument,_ Journal of the Royal Statistical Society. Series C (Applied Statistics), Vol. 32, No. 1(1983), pp. 73-79. This paper, with intended controversial title and contents, found its rebuttal in the paper by Hoerl, Arthur E., Kennard, Robert W.  and Hoerl, Roger W. (1985), _Practical Use of Ridge Regression: A Challenge Met,_ Journal of the Royal Statistical Society. Series C (Applied Statistics), Vol. 34, No. 2(1985), pp. 114-120."
   ]
  },
  {
   "cell_type": "code",
   "execution_count": null,
   "metadata": {},
   "outputs": [],
   "source": [
    "Fearn.1<-read.table(\"Fearn.data.1.txt\", header=TRUE)\n",
    "Fearn.2<-read.table(\"Fearn.data.2.txt\", header=TRUE)\n",
    "str(Fearn.1)\n",
    "str(Fearn.2)"
   ]
  },
  {
   "cell_type": "markdown",
   "metadata": {},
   "source": [
    "Adjust the regression `y~x1+x2+x3+x4+x5+x6` with the Fearn dataset and:\n",
    "\n",
    "1. Ordinary Least Squares (OLS), selecting the best predictors subset\n",
    "\n",
    "2. Ridge regression\n",
    "\n",
    "Compare prediction errors. Which one is better?\n",
    "\n",
    "3. After working through the following section on the lasso, repeat with this method.\n",
    "\n",
    "NOTE: the data frames `Fearn.1` and `Fearn.2` were used as train and test subsets in the original paper. You may choose to follow this selection or merge both subsets and partition the joint dataset in some other way."
   ]
  },
  {
   "cell_type": "markdown",
   "metadata": {},
   "source": [
    "## 4. The `Hitters` dataset in the `ISLR` package \n",
    "\n",
    "### Ridge regression following ISLR - Chap 6 - Laboratory 2 - Using the `glmnet` package\n",
    "\n",
    "[Code from the ISLR website](http://www-bcf.usc.edu/~gareth/ISL/Chapter%206%20Labs.txt)"
   ]
  },
  {
   "cell_type": "code",
   "execution_count": 80,
   "metadata": {},
   "outputs": [
    {
     "data": {
      "text/html": [
       "<ol class=list-inline>\n",
       "\t<li>'AtBat'</li>\n",
       "\t<li>'Hits'</li>\n",
       "\t<li>'HmRun'</li>\n",
       "\t<li>'Runs'</li>\n",
       "\t<li>'RBI'</li>\n",
       "\t<li>'Walks'</li>\n",
       "\t<li>'Years'</li>\n",
       "\t<li>'CAtBat'</li>\n",
       "\t<li>'CHits'</li>\n",
       "\t<li>'CHmRun'</li>\n",
       "\t<li>'CRuns'</li>\n",
       "\t<li>'CRBI'</li>\n",
       "\t<li>'CWalks'</li>\n",
       "\t<li>'League'</li>\n",
       "\t<li>'Division'</li>\n",
       "\t<li>'PutOuts'</li>\n",
       "\t<li>'Assists'</li>\n",
       "\t<li>'Errors'</li>\n",
       "\t<li>'Salary'</li>\n",
       "\t<li>'NewLeague'</li>\n",
       "</ol>\n"
      ],
      "text/latex": [
       "\\begin{enumerate*}\n",
       "\\item 'AtBat'\n",
       "\\item 'Hits'\n",
       "\\item 'HmRun'\n",
       "\\item 'Runs'\n",
       "\\item 'RBI'\n",
       "\\item 'Walks'\n",
       "\\item 'Years'\n",
       "\\item 'CAtBat'\n",
       "\\item 'CHits'\n",
       "\\item 'CHmRun'\n",
       "\\item 'CRuns'\n",
       "\\item 'CRBI'\n",
       "\\item 'CWalks'\n",
       "\\item 'League'\n",
       "\\item 'Division'\n",
       "\\item 'PutOuts'\n",
       "\\item 'Assists'\n",
       "\\item 'Errors'\n",
       "\\item 'Salary'\n",
       "\\item 'NewLeague'\n",
       "\\end{enumerate*}\n"
      ],
      "text/markdown": [
       "1. 'AtBat'\n",
       "2. 'Hits'\n",
       "3. 'HmRun'\n",
       "4. 'Runs'\n",
       "5. 'RBI'\n",
       "6. 'Walks'\n",
       "7. 'Years'\n",
       "8. 'CAtBat'\n",
       "9. 'CHits'\n",
       "10. 'CHmRun'\n",
       "11. 'CRuns'\n",
       "12. 'CRBI'\n",
       "13. 'CWalks'\n",
       "14. 'League'\n",
       "15. 'Division'\n",
       "16. 'PutOuts'\n",
       "17. 'Assists'\n",
       "18. 'Errors'\n",
       "19. 'Salary'\n",
       "20. 'NewLeague'\n",
       "\n",
       "\n"
      ],
      "text/plain": [
       " [1] \"AtBat\"     \"Hits\"      \"HmRun\"     \"Runs\"      \"RBI\"       \"Walks\"    \n",
       " [7] \"Years\"     \"CAtBat\"    \"CHits\"     \"CHmRun\"    \"CRuns\"     \"CRBI\"     \n",
       "[13] \"CWalks\"    \"League\"    \"Division\"  \"PutOuts\"   \"Assists\"   \"Errors\"   \n",
       "[19] \"Salary\"    \"NewLeague\""
      ]
     },
     "metadata": {},
     "output_type": "display_data"
    },
    {
     "data": {
      "text/html": [
       "<ol class=list-inline>\n",
       "\t<li>263</li>\n",
       "\t<li>20</li>\n",
       "</ol>\n"
      ],
      "text/latex": [
       "\\begin{enumerate*}\n",
       "\\item 263\n",
       "\\item 20\n",
       "\\end{enumerate*}\n"
      ],
      "text/markdown": [
       "1. 263\n",
       "2. 20\n",
       "\n",
       "\n"
      ],
      "text/plain": [
       "[1] 263  20"
      ]
     },
     "metadata": {},
     "output_type": "display_data"
    },
    {
     "data": {
      "text/html": [
       "0"
      ],
      "text/latex": [
       "0"
      ],
      "text/markdown": [
       "0"
      ],
      "text/plain": [
       "[1] 0"
      ]
     },
     "metadata": {},
     "output_type": "display_data"
    },
    {
     "data": {
      "text/html": [
       "<ol class=list-inline>\n",
       "\t<li>263</li>\n",
       "\t<li>20</li>\n",
       "</ol>\n"
      ],
      "text/latex": [
       "\\begin{enumerate*}\n",
       "\\item 263\n",
       "\\item 20\n",
       "\\end{enumerate*}\n"
      ],
      "text/markdown": [
       "1. 263\n",
       "2. 20\n",
       "\n",
       "\n"
      ],
      "text/plain": [
       "[1] 263  20"
      ]
     },
     "metadata": {},
     "output_type": "display_data"
    },
    {
     "data": {
      "text/html": [
       "0"
      ],
      "text/latex": [
       "0"
      ],
      "text/markdown": [
       "0"
      ],
      "text/plain": [
       "[1] 0"
      ]
     },
     "metadata": {},
     "output_type": "display_data"
    }
   ],
   "source": [
    "#install.packages(\"ISLR\",dependencies=TRUE,repos=\"https://cloud.r-project.org\")\n",
    "require(ISLR)\n",
    "#fix(Hitters)\n",
    "names(Hitters)\n",
    "dim(Hitters)\n",
    "sum(is.na(Hitters$Salary))\n",
    "Hitters=na.omit(Hitters)\n",
    "dim(Hitters)\n",
    "sum(is.na(Hitters))"
   ]
  },
  {
   "cell_type": "code",
   "execution_count": 81,
   "metadata": {},
   "outputs": [],
   "source": [
    "# Prepare x, y for the glmnet syntax\n",
    "x<-model.matrix(Salary~.,Hitters)[,-1]\n",
    "y<-Hitters$Salary"
   ]
  },
  {
   "cell_type": "code",
   "execution_count": 82,
   "metadata": {},
   "outputs": [],
   "source": [
    "#nstall.packages(\"glmnet\",dependencies=TRUE,repos=\"https://cloud.r-project.org\")\n",
    "require(glmnet)"
   ]
  },
  {
   "cell_type": "markdown",
   "metadata": {},
   "source": [
    "####  A grid of lambda values"
   ]
  },
  {
   "cell_type": "code",
   "execution_count": 83,
   "metadata": {},
   "outputs": [
    {
     "name": "stdout",
     "output_type": "stream",
     "text": [
      "List of 12\n",
      " $ a0       : Named num [1:100] 536 536 536 536 536 ...\n",
      "  ..- attr(*, \"names\")= chr [1:100] \"s0\" \"s1\" \"s2\" \"s3\" ...\n",
      " $ beta     :Formal class 'dgCMatrix' [package \"Matrix\"] with 6 slots\n",
      "  .. ..@ i       : int [1:1900] 0 1 2 3 4 5 6 7 8 9 ...\n",
      "  .. ..@ p       : int [1:101] 0 19 38 57 76 95 114 133 152 171 ...\n",
      "  .. ..@ Dim     : int [1:2] 19 100\n",
      "  .. ..@ Dimnames:List of 2\n",
      "  .. .. ..$ : chr [1:19] \"AtBat\" \"Hits\" \"HmRun\" \"Runs\" ...\n",
      "  .. .. ..$ : chr [1:100] \"s0\" \"s1\" \"s2\" \"s3\" ...\n",
      "  .. ..@ x       : num [1:1900] 5.44e-08 1.97e-07 7.96e-07 3.34e-07 3.53e-07 ...\n",
      "  .. ..@ factors : list()\n",
      " $ df       : int [1:100] 19 19 19 19 19 19 19 19 19 19 ...\n",
      " $ dim      : int [1:2] 19 100\n",
      " $ lambda   : num [1:100] 1.00e+10 7.56e+09 5.72e+09 4.33e+09 3.27e+09 ...\n",
      " $ dev.ratio: num [1:100] 2.76e-07 3.64e-07 4.82e-07 6.37e-07 8.42e-07 ...\n",
      " $ nulldev  : num 53319113\n",
      " $ npasses  : int 2130\n",
      " $ jerr     : int 0\n",
      " $ offset   : logi FALSE\n",
      " $ call     : language glmnet(x = x, y = y, alpha = 0, lambda = grid)\n",
      " $ nobs     : int 263\n",
      " - attr(*, \"class\")= chr [1:2] \"elnet\" \"glmnet\"\n"
     ]
    }
   ],
   "source": [
    "# When lambda goes to infinity penalization on coefficients beta01 through beta19 is so high \n",
    "# that it pushes all of them down to zero, resulting in a model with no predictors, only the intercept term.\n",
    "#\n",
    "# Syntax: \n",
    "# alpha=0 is for ridge regression\n",
    "# alpha=1 is for 'lasso'  regression (cfr. below)\n",
    "#\n",
    "grid<-10^seq(10,-2,length=100)\n",
    "ridge.mod<-glmnet(x,y,alpha=0,lambda=grid)\n",
    "str(ridge.mod)"
   ]
  },
  {
   "cell_type": "code",
   "execution_count": 84,
   "metadata": {},
   "outputs": [
    {
     "data": {
      "text/html": [
       "<ol class=list-inline>\n",
       "\t<li>20</li>\n",
       "\t<li>100</li>\n",
       "</ol>\n"
      ],
      "text/latex": [
       "\\begin{enumerate*}\n",
       "\\item 20\n",
       "\\item 100\n",
       "\\end{enumerate*}\n"
      ],
      "text/markdown": [
       "1. 20\n",
       "2. 100\n",
       "\n",
       "\n"
      ],
      "text/plain": [
       "[1]  20 100"
      ]
     },
     "metadata": {},
     "output_type": "display_data"
    },
    {
     "data": {
      "text/html": [
       "11497.57"
      ],
      "text/latex": [
       "11497.57"
      ],
      "text/markdown": [
       "11497.57"
      ],
      "text/plain": [
       "[1] 11497.57"
      ]
     },
     "metadata": {},
     "output_type": "display_data"
    },
    {
     "data": {
      "text/html": [
       "<dl class=dl-horizontal>\n",
       "\t<dt>(Intercept)</dt>\n",
       "\t\t<dd>407.36</dd>\n",
       "\t<dt>AtBat</dt>\n",
       "\t\t<dd>0.04</dd>\n",
       "\t<dt>Hits</dt>\n",
       "\t\t<dd>0.14</dd>\n",
       "\t<dt>HmRun</dt>\n",
       "\t\t<dd>0.52</dd>\n",
       "\t<dt>Runs</dt>\n",
       "\t\t<dd>0.23</dd>\n",
       "\t<dt>RBI</dt>\n",
       "\t\t<dd>0.24</dd>\n",
       "\t<dt>Walks</dt>\n",
       "\t\t<dd>0.29</dd>\n",
       "\t<dt>Years</dt>\n",
       "\t\t<dd>1.11</dd>\n",
       "\t<dt>CAtBat</dt>\n",
       "\t\t<dd>0</dd>\n",
       "\t<dt>CHits</dt>\n",
       "\t\t<dd>0.01</dd>\n",
       "\t<dt>CHmRun</dt>\n",
       "\t\t<dd>0.09</dd>\n",
       "\t<dt>CRuns</dt>\n",
       "\t\t<dd>0.02</dd>\n",
       "\t<dt>CRBI</dt>\n",
       "\t\t<dd>0.02</dd>\n",
       "\t<dt>CWalks</dt>\n",
       "\t\t<dd>0.03</dd>\n",
       "\t<dt>LeagueN</dt>\n",
       "\t\t<dd>0.09</dd>\n",
       "\t<dt>DivisionW</dt>\n",
       "\t\t<dd>-6.22</dd>\n",
       "\t<dt>PutOuts</dt>\n",
       "\t\t<dd>0.02</dd>\n",
       "\t<dt>Assists</dt>\n",
       "\t\t<dd>0</dd>\n",
       "\t<dt>Errors</dt>\n",
       "\t\t<dd>-0.02</dd>\n",
       "\t<dt>NewLeagueN</dt>\n",
       "\t\t<dd>0.3</dd>\n",
       "</dl>\n"
      ],
      "text/latex": [
       "\\begin{description*}\n",
       "\\item[(Intercept)] 407.36\n",
       "\\item[AtBat] 0.04\n",
       "\\item[Hits] 0.14\n",
       "\\item[HmRun] 0.52\n",
       "\\item[Runs] 0.23\n",
       "\\item[RBI] 0.24\n",
       "\\item[Walks] 0.29\n",
       "\\item[Years] 1.11\n",
       "\\item[CAtBat] 0\n",
       "\\item[CHits] 0.01\n",
       "\\item[CHmRun] 0.09\n",
       "\\item[CRuns] 0.02\n",
       "\\item[CRBI] 0.02\n",
       "\\item[CWalks] 0.03\n",
       "\\item[LeagueN] 0.09\n",
       "\\item[DivisionW] -6.22\n",
       "\\item[PutOuts] 0.02\n",
       "\\item[Assists] 0\n",
       "\\item[Errors] -0.02\n",
       "\\item[NewLeagueN] 0.3\n",
       "\\end{description*}\n"
      ],
      "text/markdown": [
       "(Intercept)\n",
       ":   407.36AtBat\n",
       ":   0.04Hits\n",
       ":   0.14HmRun\n",
       ":   0.52Runs\n",
       ":   0.23RBI\n",
       ":   0.24Walks\n",
       ":   0.29Years\n",
       ":   1.11CAtBat\n",
       ":   0CHits\n",
       ":   0.01CHmRun\n",
       ":   0.09CRuns\n",
       ":   0.02CRBI\n",
       ":   0.02CWalks\n",
       ":   0.03LeagueN\n",
       ":   0.09DivisionW\n",
       ":   -6.22PutOuts\n",
       ":   0.02Assists\n",
       ":   0Errors\n",
       ":   -0.02NewLeagueN\n",
       ":   0.3\n",
       "\n"
      ],
      "text/plain": [
       "(Intercept)       AtBat        Hits       HmRun        Runs         RBI \n",
       "     407.36        0.04        0.14        0.52        0.23        0.24 \n",
       "      Walks       Years      CAtBat       CHits      CHmRun       CRuns \n",
       "       0.29        1.11        0.00        0.01        0.09        0.02 \n",
       "       CRBI      CWalks     LeagueN   DivisionW     PutOuts     Assists \n",
       "       0.02        0.03        0.09       -6.22        0.02        0.00 \n",
       "     Errors  NewLeagueN \n",
       "      -0.02        0.30 "
      ]
     },
     "metadata": {},
     "output_type": "display_data"
    },
    {
     "data": {
      "text/html": [
       "6.36"
      ],
      "text/latex": [
       "6.36"
      ],
      "text/markdown": [
       "6.36"
      ],
      "text/plain": [
       "[1] 6.36"
      ]
     },
     "metadata": {},
     "output_type": "display_data"
    }
   ],
   "source": [
    "# Compare the beta regression coefficients with a large lambda (small absolute values)\n",
    "# and with a smaller lambda (larger absolute values).\n",
    "dim(coef(ridge.mod))\n",
    "round(ridge.mod$lambda[50],2)\n",
    "round(coef(ridge.mod)[,50],2)\n",
    "round(sqrt(sum(coef(ridge.mod)[-1,50]^2)),2)"
   ]
  },
  {
   "cell_type": "code",
   "execution_count": 85,
   "metadata": {},
   "outputs": [
    {
     "data": {
      "text/html": [
       "705.48"
      ],
      "text/latex": [
       "705.48"
      ],
      "text/markdown": [
       "705.48"
      ],
      "text/plain": [
       "[1] 705.48"
      ]
     },
     "metadata": {},
     "output_type": "display_data"
    },
    {
     "data": {
      "text/html": [
       "<dl class=dl-horizontal>\n",
       "\t<dt>(Intercept)</dt>\n",
       "\t\t<dd>54.33</dd>\n",
       "\t<dt>AtBat</dt>\n",
       "\t\t<dd>0.11</dd>\n",
       "\t<dt>Hits</dt>\n",
       "\t\t<dd>0.66</dd>\n",
       "\t<dt>HmRun</dt>\n",
       "\t\t<dd>1.18</dd>\n",
       "\t<dt>Runs</dt>\n",
       "\t\t<dd>0.94</dd>\n",
       "\t<dt>RBI</dt>\n",
       "\t\t<dd>0.85</dd>\n",
       "\t<dt>Walks</dt>\n",
       "\t\t<dd>1.32</dd>\n",
       "\t<dt>Years</dt>\n",
       "\t\t<dd>2.6</dd>\n",
       "\t<dt>CAtBat</dt>\n",
       "\t\t<dd>0.01</dd>\n",
       "\t<dt>CHits</dt>\n",
       "\t\t<dd>0.05</dd>\n",
       "\t<dt>CHmRun</dt>\n",
       "\t\t<dd>0.34</dd>\n",
       "\t<dt>CRuns</dt>\n",
       "\t\t<dd>0.09</dd>\n",
       "\t<dt>CRBI</dt>\n",
       "\t\t<dd>0.1</dd>\n",
       "\t<dt>CWalks</dt>\n",
       "\t\t<dd>0.07</dd>\n",
       "\t<dt>LeagueN</dt>\n",
       "\t\t<dd>13.68</dd>\n",
       "\t<dt>DivisionW</dt>\n",
       "\t\t<dd>-54.66</dd>\n",
       "\t<dt>PutOuts</dt>\n",
       "\t\t<dd>0.12</dd>\n",
       "\t<dt>Assists</dt>\n",
       "\t\t<dd>0.02</dd>\n",
       "\t<dt>Errors</dt>\n",
       "\t\t<dd>-0.7</dd>\n",
       "\t<dt>NewLeagueN</dt>\n",
       "\t\t<dd>8.61</dd>\n",
       "</dl>\n"
      ],
      "text/latex": [
       "\\begin{description*}\n",
       "\\item[(Intercept)] 54.33\n",
       "\\item[AtBat] 0.11\n",
       "\\item[Hits] 0.66\n",
       "\\item[HmRun] 1.18\n",
       "\\item[Runs] 0.94\n",
       "\\item[RBI] 0.85\n",
       "\\item[Walks] 1.32\n",
       "\\item[Years] 2.6\n",
       "\\item[CAtBat] 0.01\n",
       "\\item[CHits] 0.05\n",
       "\\item[CHmRun] 0.34\n",
       "\\item[CRuns] 0.09\n",
       "\\item[CRBI] 0.1\n",
       "\\item[CWalks] 0.07\n",
       "\\item[LeagueN] 13.68\n",
       "\\item[DivisionW] -54.66\n",
       "\\item[PutOuts] 0.12\n",
       "\\item[Assists] 0.02\n",
       "\\item[Errors] -0.7\n",
       "\\item[NewLeagueN] 8.61\n",
       "\\end{description*}\n"
      ],
      "text/markdown": [
       "(Intercept)\n",
       ":   54.33AtBat\n",
       ":   0.11Hits\n",
       ":   0.66HmRun\n",
       ":   1.18Runs\n",
       ":   0.94RBI\n",
       ":   0.85Walks\n",
       ":   1.32Years\n",
       ":   2.6CAtBat\n",
       ":   0.01CHits\n",
       ":   0.05CHmRun\n",
       ":   0.34CRuns\n",
       ":   0.09CRBI\n",
       ":   0.1CWalks\n",
       ":   0.07LeagueN\n",
       ":   13.68DivisionW\n",
       ":   -54.66PutOuts\n",
       ":   0.12Assists\n",
       ":   0.02Errors\n",
       ":   -0.7NewLeagueN\n",
       ":   8.61\n",
       "\n"
      ],
      "text/plain": [
       "(Intercept)       AtBat        Hits       HmRun        Runs         RBI \n",
       "      54.33        0.11        0.66        1.18        0.94        0.85 \n",
       "      Walks       Years      CAtBat       CHits      CHmRun       CRuns \n",
       "       1.32        2.60        0.01        0.05        0.34        0.09 \n",
       "       CRBI      CWalks     LeagueN   DivisionW     PutOuts     Assists \n",
       "       0.10        0.07       13.68      -54.66        0.12        0.02 \n",
       "     Errors  NewLeagueN \n",
       "      -0.70        8.61 "
      ]
     },
     "metadata": {},
     "output_type": "display_data"
    },
    {
     "data": {
      "text/html": [
       "57.11"
      ],
      "text/latex": [
       "57.11"
      ],
      "text/markdown": [
       "57.11"
      ],
      "text/plain": [
       "[1] 57.11"
      ]
     },
     "metadata": {},
     "output_type": "display_data"
    }
   ],
   "source": [
    "round(ridge.mod$lambda[60],2)\n",
    "round(coef(ridge.mod)[,60],2)\n",
    "round(sqrt(sum(coef(ridge.mod)[-1,60]^2)),2)"
   ]
  },
  {
   "cell_type": "code",
   "execution_count": 86,
   "metadata": {},
   "outputs": [
    {
     "data": {
      "text/html": [
       "<dl class=dl-horizontal>\n",
       "\t<dt>(Intercept)</dt>\n",
       "\t\t<dd>48.77</dd>\n",
       "\t<dt>AtBat</dt>\n",
       "\t\t<dd>-0.36</dd>\n",
       "\t<dt>Hits</dt>\n",
       "\t\t<dd>1.97</dd>\n",
       "\t<dt>HmRun</dt>\n",
       "\t\t<dd>-1.28</dd>\n",
       "\t<dt>Runs</dt>\n",
       "\t\t<dd>1.15</dd>\n",
       "\t<dt>RBI</dt>\n",
       "\t\t<dd>0.8</dd>\n",
       "\t<dt>Walks</dt>\n",
       "\t\t<dd>2.72</dd>\n",
       "\t<dt>Years</dt>\n",
       "\t\t<dd>-6.22</dd>\n",
       "\t<dt>CAtBat</dt>\n",
       "\t\t<dd>0.01</dd>\n",
       "\t<dt>CHits</dt>\n",
       "\t\t<dd>0.11</dd>\n",
       "\t<dt>CHmRun</dt>\n",
       "\t\t<dd>0.62</dd>\n",
       "\t<dt>CRuns</dt>\n",
       "\t\t<dd>0.22</dd>\n",
       "\t<dt>CRBI</dt>\n",
       "\t\t<dd>0.22</dd>\n",
       "\t<dt>CWalks</dt>\n",
       "\t\t<dd>-0.15</dd>\n",
       "\t<dt>LeagueN</dt>\n",
       "\t\t<dd>45.93</dd>\n",
       "\t<dt>DivisionW</dt>\n",
       "\t\t<dd>-118.2</dd>\n",
       "\t<dt>PutOuts</dt>\n",
       "\t\t<dd>0.25</dd>\n",
       "\t<dt>Assists</dt>\n",
       "\t\t<dd>0.12</dd>\n",
       "\t<dt>Errors</dt>\n",
       "\t\t<dd>-3.28</dd>\n",
       "\t<dt>NewLeagueN</dt>\n",
       "\t\t<dd>-9.5</dd>\n",
       "</dl>\n"
      ],
      "text/latex": [
       "\\begin{description*}\n",
       "\\item[(Intercept)] 48.77\n",
       "\\item[AtBat] -0.36\n",
       "\\item[Hits] 1.97\n",
       "\\item[HmRun] -1.28\n",
       "\\item[Runs] 1.15\n",
       "\\item[RBI] 0.8\n",
       "\\item[Walks] 2.72\n",
       "\\item[Years] -6.22\n",
       "\\item[CAtBat] 0.01\n",
       "\\item[CHits] 0.11\n",
       "\\item[CHmRun] 0.62\n",
       "\\item[CRuns] 0.22\n",
       "\\item[CRBI] 0.22\n",
       "\\item[CWalks] -0.15\n",
       "\\item[LeagueN] 45.93\n",
       "\\item[DivisionW] -118.2\n",
       "\\item[PutOuts] 0.25\n",
       "\\item[Assists] 0.12\n",
       "\\item[Errors] -3.28\n",
       "\\item[NewLeagueN] -9.5\n",
       "\\end{description*}\n"
      ],
      "text/markdown": [
       "(Intercept)\n",
       ":   48.77AtBat\n",
       ":   -0.36Hits\n",
       ":   1.97HmRun\n",
       ":   -1.28Runs\n",
       ":   1.15RBI\n",
       ":   0.8Walks\n",
       ":   2.72Years\n",
       ":   -6.22CAtBat\n",
       ":   0.01CHits\n",
       ":   0.11CHmRun\n",
       ":   0.62CRuns\n",
       ":   0.22CRBI\n",
       ":   0.22CWalks\n",
       ":   -0.15LeagueN\n",
       ":   45.93DivisionW\n",
       ":   -118.2PutOuts\n",
       ":   0.25Assists\n",
       ":   0.12Errors\n",
       ":   -3.28NewLeagueN\n",
       ":   -9.5\n",
       "\n"
      ],
      "text/plain": [
       "(Intercept)       AtBat        Hits       HmRun        Runs         RBI \n",
       "      48.77       -0.36        1.97       -1.28        1.15        0.80 \n",
       "      Walks       Years      CAtBat       CHits      CHmRun       CRuns \n",
       "       2.72       -6.22        0.01        0.11        0.62        0.22 \n",
       "       CRBI      CWalks     LeagueN   DivisionW     PutOuts     Assists \n",
       "       0.22       -0.15       45.93     -118.20        0.25        0.12 \n",
       "     Errors  NewLeagueN \n",
       "      -3.28       -9.50 "
      ]
     },
     "metadata": {},
     "output_type": "display_data"
    }
   ],
   "source": [
    "# We extract now the regression coefficients with the 'predict' function\n",
    "round(predict(ridge.mod,s=50,type=\"coefficients\")[1:20,],2)"
   ]
  },
  {
   "cell_type": "code",
   "execution_count": 87,
   "metadata": {},
   "outputs": [],
   "source": [
    "# Split randomly the dataset into 'train' and 'test' subsets\n",
    "set.seed(1)\n",
    "train<-sample(1:nrow(x), nrow(x)/2)\n",
    "test<-(-train)\n",
    "y.test<-y[test]"
   ]
  },
  {
   "cell_type": "code",
   "execution_count": 88,
   "metadata": {},
   "outputs": [
    {
     "data": {
      "text/html": [
       "142199.15"
      ],
      "text/latex": [
       "142199.15"
      ],
      "text/markdown": [
       "142199.15"
      ],
      "text/plain": [
       "[1] 142199.1"
      ]
     },
     "metadata": {},
     "output_type": "display_data"
    }
   ],
   "source": [
    "# Adjust model with the 'train' subset\n",
    "ridge.mod<-glmnet(x[train,],y[train],alpha=0,lambda=grid, thresh=1e-12)\n",
    "#\n",
    "# Then we evaluate prediction error (sum of squares) on the 'test' subset for three lambda values\n",
    "# (lambda=4, lambda=1.0e10, lambda=0)\n",
    "#\n",
    "ridge.pred<-predict(ridge.mod,s=4,newx=x[test,])\n",
    "round(mean((ridge.pred-y.test)^2),2)"
   ]
  },
  {
   "cell_type": "code",
   "execution_count": 89,
   "metadata": {},
   "outputs": [
    {
     "data": {
      "text/html": [
       "224669.91"
      ],
      "text/latex": [
       "224669.91"
      ],
      "text/markdown": [
       "224669.91"
      ],
      "text/plain": [
       "[1] 224669.9"
      ]
     },
     "metadata": {},
     "output_type": "display_data"
    },
    {
     "data": {
      "text/html": [
       "224670"
      ],
      "text/latex": [
       "224670"
      ],
      "text/markdown": [
       "224670"
      ],
      "text/plain": [
       "[1] 224670"
      ]
     },
     "metadata": {},
     "output_type": "display_data"
    }
   ],
   "source": [
    "# The model with no predictors (other than the intercept) has always a predicted value equal to the mean of y\n",
    "# With a large lambda, the model tends to the no predictor one\n",
    "round(mean((mean(y[train])-y.test)^2),2)\n",
    "ridge.pred<-predict(ridge.mod,s=1e10,newx=x[test,])\n",
    "round(mean((ridge.pred-y.test)^2))"
   ]
  },
  {
   "cell_type": "code",
   "execution_count": 90,
   "metadata": {},
   "outputs": [
    {
     "data": {
      "text/html": [
       "168588.57"
      ],
      "text/latex": [
       "168588.57"
      ],
      "text/markdown": [
       "168588.57"
      ],
      "text/plain": [
       "[1] 168588.6"
      ]
     },
     "metadata": {},
     "output_type": "display_data"
    }
   ],
   "source": [
    "# With lambda equal to zero, the ridge regression model reduces to ordinary least squares\n",
    "#\n",
    "## Warning\n",
    "#\n",
    "# predict.glmnet with 'exact' computation requires re-entering the original training dataset\n",
    "#\n",
    "ridge.pred<-predict(ridge.mod,x=x[train,],y=y[train],s=0,newx=x[test,],exact=TRUE)\n",
    "round(mean((ridge.pred-y.test)^2),2)"
   ]
  },
  {
   "cell_type": "code",
   "execution_count": 91,
   "metadata": {},
   "outputs": [
    {
     "data": {
      "text/html": [
       "167789.78"
      ],
      "text/latex": [
       "167789.78"
      ],
      "text/markdown": [
       "167789.78"
      ],
      "text/plain": [
       "[1] 167789.8"
      ]
     },
     "metadata": {},
     "output_type": "display_data"
    }
   ],
   "source": [
    "# Same, with no 'exact' computation\n",
    "#\n",
    "ridge.pred<-predict(ridge.mod,s=0,newx=x[test,])\n",
    "round(mean((ridge.pred-y.test)^2),2)"
   ]
  },
  {
   "cell_type": "code",
   "execution_count": 92,
   "metadata": {},
   "outputs": [
    {
     "data": {
      "text/plain": [
       "\n",
       "Call:\n",
       "lm(formula = Salary ~ ., data = Hitters, subset = train)\n",
       "\n",
       "Residuals:\n",
       "    Min      1Q  Median      3Q     Max \n",
       "-755.40 -172.21  -16.12  148.81 1709.58 \n",
       "\n",
       "Coefficients:\n",
       "             Estimate Std. Error t value Pr(>|t|)   \n",
       "(Intercept)  274.0145   125.3304   2.186   0.0309 * \n",
       "AtBat         -0.3521     0.9547  -0.369   0.7130   \n",
       "Hits          -1.6377     3.7435  -0.437   0.6626   \n",
       "HmRun          5.8145     9.5466   0.609   0.5437   \n",
       "Runs           1.5424     4.5241   0.341   0.7338   \n",
       "RBI            1.1243     3.8265   0.294   0.7694   \n",
       "Walks          3.7287     2.6005   1.434   0.1544   \n",
       "Years        -16.3773    17.4006  -0.941   0.3487   \n",
       "CAtBat        -0.6412     0.2499  -2.565   0.0116 * \n",
       "CHits          3.1632     1.1572   2.733   0.0073 **\n",
       "CHmRun         3.4008     2.9882   1.138   0.2575   \n",
       "CRuns         -0.9739     1.1832  -0.823   0.4122   \n",
       "CRBI          -0.6005     1.1839  -0.507   0.6130   \n",
       "CWalks         0.3379     0.5657   0.597   0.5515   \n",
       "LeagueN      119.1486   117.7810   1.012   0.3139   \n",
       "DivisionW   -144.0831    55.8401  -2.580   0.0112 * \n",
       "PutOuts        0.1976     0.1078   1.833   0.0694 . \n",
       "Assists        0.6804     0.3054   2.228   0.0279 * \n",
       "Errors        -4.7128     6.4677  -0.729   0.4677   \n",
       "NewLeagueN   -71.0951   117.4263  -0.605   0.5461   \n",
       "---\n",
       "Signif. codes:  0 '***' 0.001 '**' 0.01 '*' 0.05 '.' 0.1 ' ' 1\n",
       "\n",
       "Residual standard error: 297 on 111 degrees of freedom\n",
       "Multiple R-squared:  0.5862,\tAdjusted R-squared:  0.5154 \n",
       "F-statistic: 8.276 on 19 and 111 DF,  p-value: 7.206e-14\n"
      ]
     },
     "metadata": {},
     "output_type": "display_data"
    }
   ],
   "source": [
    "# Compare an ordinary least squares regression with ridge regression with lambda=0 \n",
    "ols<-lm(Salary~.,data=Hitters, subset=train)\n",
    "summary(ols)"
   ]
  },
  {
   "cell_type": "code",
   "execution_count": null,
   "metadata": {},
   "outputs": [],
   "source": [
    "ols.yhat<-predict.lm(ols,newdata=Hitters[test,],type=\"response\")\n",
    "str(ols.yhat)"
   ]
  },
  {
   "cell_type": "code",
   "execution_count": null,
   "metadata": {},
   "outputs": [],
   "source": [
    "ols.residuals<-ols.yhat-y.test\n",
    "round(mean(ols.residuals^2),2)"
   ]
  },
  {
   "cell_type": "code",
   "execution_count": null,
   "metadata": {},
   "outputs": [],
   "source": [
    "ridge.yhat<-predict(ridge.mod,x=x[train,],y=y[train],s=0,newx=x[test,],exact=TRUE)\n",
    "#ridge.yhat<-predict(ridge.mod,s=0,newx=x[test,],type=\"response\")\n",
    "ridge.residuals<-ridge.yhat-y.test\n",
    "round(mean(ridge.residuals^2),2)"
   ]
  },
  {
   "cell_type": "code",
   "execution_count": null,
   "metadata": {},
   "outputs": [],
   "source": [
    "# There is a k-fold cross-validation feature in the glmnet package which we can take advantege of\n",
    "# \n",
    "# By default k=10\n",
    "set.seed(1)\n",
    "cv.out<-cv.glmnet(x[train,],y[train],alpha=0)\n",
    "plot(cv.out)"
   ]
  },
  {
   "cell_type": "code",
   "execution_count": null,
   "metadata": {},
   "outputs": [],
   "source": [
    "bestlam<-cv.out$lambda.min\n",
    "round(bestlam,3)\n",
    "round(log(bestlam),3)\n",
    "plot(cv.out)\n",
    "abline(v=log(bestlam),lwd=3,col=\"cyan\")"
   ]
  },
  {
   "cell_type": "code",
   "execution_count": null,
   "metadata": {},
   "outputs": [],
   "source": [
    "# Mean quadratic error with the optimal lambda and the full dataset\n",
    "# \n",
    "# Coefficients of this model\n",
    "#\n",
    "# We observe that none of these coefficients is zero, hence there is no variable selectioin in ridge regression. \n",
    "# To be compared with the lasso below.\n",
    "ridge.pred<-predict(ridge.mod,s=bestlam,newx=x[test,])\n",
    "round(mean((ridge.pred-y.test)^2),3)\n",
    "out<-glmnet(x,y,alpha=0)\n",
    "round(predict(out,type=\"coefficients\",s=bestlam)[1:20,],3)"
   ]
  },
  {
   "cell_type": "markdown",
   "metadata": {},
   "source": [
    "# A2. Regression with the _Lasso_ "
   ]
  },
  {
   "cell_type": "markdown",
   "metadata": {},
   "source": [
    "## Same `Hitters` dataset as above and `glmnet`"
   ]
  },
  {
   "cell_type": "code",
   "execution_count": 118,
   "metadata": {},
   "outputs": [
    {
     "name": "stderr",
     "output_type": "stream",
     "text": [
      "Warning message in regularize.values(x, y, ties, missing(ties)):\n",
      "\"collapsing to unique 'x' values\""
     ]
    },
    {
     "data": {
      "image/png": "[encoded data removed]",
      "text/plain": [
       "plot without title"
      ]
     },
     "metadata": {},
     "output_type": "display_data"
    }
   ],
   "source": [
    "# The same glmnet function performs lasso regression, setting the parameter alpha=1 \n",
    "#\n",
    "lasso.mod<-glmnet(x[train,],y[train],alpha=1,lambda=grid)\n",
    "plot(lasso.mod)"
   ]
  },
  {
   "cell_type": "code",
   "execution_count": null,
   "metadata": {},
   "outputs": [],
   "source": [
    "set.seed(1)\n",
    "cv.out<-cv.glmnet(x[train,],y[train],alpha=1)\n",
    "plot(cv.out)\n",
    "bestlam<-cv.out$lambda.min"
   ]
  },
  {
   "cell_type": "code",
   "execution_count": null,
   "metadata": {},
   "outputs": [],
   "source": [
    "round(bestlam,3)\n",
    "round(log(bestlam),3)\n",
    "plot(cv.out)\n",
    "abline(v=log(bestlam),lwd=3,col=\"cyan\")"
   ]
  },
  {
   "cell_type": "code",
   "execution_count": null,
   "metadata": {},
   "outputs": [],
   "source": [
    "# Quadratic error on the test subset with the optimal lambda \n",
    "lasso.pred<-predict(lasso.mod,s=bestlam,newx=x[test,])\n",
    "round(mean((lasso.pred-y.test)^2),3)"
   ]
  },
  {
   "cell_type": "markdown",
   "metadata": {},
   "source": [
    "### The variable selection feature of the _Lasso_"
   ]
  },
  {
   "cell_type": "code",
   "execution_count": null,
   "metadata": {},
   "outputs": [],
   "source": [
    "# Quadratic error on the full dataset with the optimal lambda\n",
    "# Coefficients in this model:\n",
    "#\n",
    "# Now we see there are zero coefficients: this is equivalent to discarding these variables.\n",
    "#\n",
    "# Compare with the ridge regression above\n",
    "#\n",
    "out<-glmnet(x,y,alpha=1,lambda=grid)\n",
    "lasso.coef<-predict(out,type=\"coefficients\",s=bestlam)[1:20,]\n",
    "round(lasso.coef,3)\n",
    "round(lasso.coef[lasso.coef!=0],3)"
   ]
  },
  {
   "cell_type": "markdown",
   "metadata": {},
   "source": [
    "# B. Orthogonalization methods"
   ]
  },
  {
   "cell_type": "markdown",
   "metadata": {},
   "source": [
    "## Following  ISLR - Cap 6 - Laboratory 3 - PCR and PLS \n",
    "\n",
    "[Codi de la web ISLR](http://www-bcf.usc.edu/~gareth/ISL/Chapter%206%20Labs.txt)"
   ]
  },
  {
   "cell_type": "code",
   "execution_count": 131,
   "metadata": {},
   "outputs": [
    {
     "name": "stderr",
     "output_type": "stream",
     "text": [
      "Installing package into 'C:/Users/lluis/Documents/R/win-library/3.6'\n",
      "(as 'lib' is unspecified)\n",
      "also installing the dependencies 'praise', 'R6', 'withr', 'Rmpi', 'testthat', 'RUnit'\n",
      "\n"
     ]
    },
    {
     "name": "stdout",
     "output_type": "stream",
     "text": [
      "package 'praise' successfully unpacked and MD5 sums checked\n",
      "package 'R6' successfully unpacked and MD5 sums checked\n",
      "package 'withr' successfully unpacked and MD5 sums checked\n",
      "package 'Rmpi' successfully unpacked and MD5 sums checked\n",
      "package 'testthat' successfully unpacked and MD5 sums checked\n",
      "package 'RUnit' successfully unpacked and MD5 sums checked\n",
      "package 'pls' successfully unpacked and MD5 sums checked\n",
      "\n",
      "The downloaded binary packages are in\n",
      "\tC:\\Users\\lluis\\AppData\\Local\\Temp\\Rtmp8Ghj1s\\downloaded_packages\n"
     ]
    },
    {
     "name": "stderr",
     "output_type": "stream",
     "text": [
      "Loading required package: pls\n",
      "\n",
      "Attaching package: 'pls'\n",
      "\n",
      "The following object is masked from 'package:stats':\n",
      "\n",
      "    loadings\n",
      "\n"
     ]
    }
   ],
   "source": [
    "#install.packages(\"pls\",dependencies=TRUE,repos=\"https://cloud.r-project.org\")\n",
    "require(pls)"
   ]
  },
  {
   "cell_type": "markdown",
   "metadata": {},
   "source": [
    "# B1. Principal Components Regression (PCR)"
   ]
  },
  {
   "cell_type": "code",
   "execution_count": null,
   "metadata": {},
   "outputs": [],
   "source": [
    "# Principal Components Regression\n",
    "set.seed(2)\n",
    "pcr.fit<-pcr(Salary~., data=Hitters,scale=TRUE,validation=\"CV\")\n",
    "summary(pcr.fit)"
   ]
  },
  {
   "cell_type": "code",
   "execution_count": null,
   "metadata": {},
   "outputs": [],
   "source": [
    "validationplot(pcr.fit,val.type=\"MSEP\")"
   ]
  },
  {
   "cell_type": "code",
   "execution_count": null,
   "metadata": {},
   "outputs": [],
   "source": [
    "# Cross-validation with hold-out\n",
    "#\n",
    "# Training the model, selecting number of principal components included in the model\n",
    "set.seed(1)\n",
    "pcr.fit<-pcr(Salary~., data=Hitters,subset=train,scale=TRUE, validation=\"CV\")\n",
    "validationplot(pcr.fit,val.type=\"MSEP\")"
   ]
  },
  {
   "cell_type": "code",
   "execution_count": null,
   "metadata": {},
   "outputs": [],
   "source": [
    "# The minimum of the graph (optimal number of orthogonal variables) appears at 5 variables (principal components).\n",
    "# Fit the model for this number\n",
    "pcr.pred<-predict(pcr.fit,x[test,],ncomp=5)\n",
    "round(mean((pcr.pred-y.test)^2),3)\n",
    "pcr.fit<-pcr(y~x,scale=TRUE,ncomp=5)\n",
    "summary(pcr.fit)"
   ]
  },
  {
   "cell_type": "markdown",
   "metadata": {},
   "source": [
    "# B2. Partial Least Squares (PLS)"
   ]
  },
  {
   "cell_type": "code",
   "execution_count": null,
   "metadata": {},
   "outputs": [],
   "source": [
    "# Partial Least Squares\n",
    "set.seed(1)\n",
    "pls.fit<-plsr(Salary~., data=Hitters,subset=train,scale=TRUE, validation=\"CV\")\n",
    "summary(pls.fit)"
   ]
  },
  {
   "cell_type": "code",
   "execution_count": null,
   "metadata": {},
   "outputs": [],
   "source": [
    "validationplot(pls.fit,val.type=\"MSEP\")"
   ]
  },
  {
   "cell_type": "code",
   "execution_count": null,
   "metadata": {},
   "outputs": [],
   "source": [
    "# The minimum of the graph (optimal number of orthogonal variables) appears at 2 variables.\n",
    "# Fit the model for this number\n",
    "pls.pred<-predict(pls.fit,x[test,],ncomp=2)\n",
    "round(mean((pls.pred-y.test)^2),3)\n",
    "pls.fit<-plsr(Salary~., data=Hitters,scale=TRUE,ncomp=2)\n",
    "summary(pls.fit)"
   ]
  },
  {
   "cell_type": "markdown",
   "metadata": {},
   "source": [
    "# Homework 1 (Part 2)"
   ]
  },
  {
   "cell_type": "markdown",
   "metadata": {},
   "source": [
    "To begin with, let's compute the correlation among parameters in the `Fearn` dataset:"
   ]
  },
  {
   "cell_type": "code",
   "execution_count": 32,
   "metadata": {},
   "outputs": [],
   "source": [
    "require(ridge)"
   ]
  },
  {
   "cell_type": "code",
   "execution_count": 33,
   "metadata": {},
   "outputs": [
    {
     "data": {
      "text/html": [
       "<table>\n",
       "<caption>A matrix: 7 × 7 of type dbl</caption>\n",
       "<thead>\n",
       "\t<tr><th></th><th scope=col>y</th><th scope=col>x1</th><th scope=col>x2</th><th scope=col>x3</th><th scope=col>x4</th><th scope=col>x5</th><th scope=col>x6</th></tr>\n",
       "</thead>\n",
       "<tbody>\n",
       "\t<tr><th scope=row>y</th><td>1.00</td><td>0.47</td><td>0.55</td><td>0.54</td><td>0.38</td><td>0.36</td><td>0.45</td></tr>\n",
       "\t<tr><th scope=row>x1</th><td>0.47</td><td>1.00</td><td>0.99</td><td>1.00</td><td>0.99</td><td>0.94</td><td>0.99</td></tr>\n",
       "\t<tr><th scope=row>x2</th><td>0.55</td><td>0.99</td><td>1.00</td><td>1.00</td><td>0.98</td><td>0.92</td><td>0.99</td></tr>\n",
       "\t<tr><th scope=row>x3</th><td>0.54</td><td>1.00</td><td>1.00</td><td>1.00</td><td>0.98</td><td>0.93</td><td>0.99</td></tr>\n",
       "\t<tr><th scope=row>x4</th><td>0.38</td><td>0.99</td><td>0.98</td><td>0.98</td><td>1.00</td><td>0.95</td><td>0.99</td></tr>\n",
       "\t<tr><th scope=row>x5</th><td>0.36</td><td>0.94</td><td>0.92</td><td>0.93</td><td>0.95</td><td>1.00</td><td>0.95</td></tr>\n",
       "\t<tr><th scope=row>x6</th><td>0.45</td><td>0.99</td><td>0.99</td><td>0.99</td><td>0.99</td><td>0.95</td><td>1.00</td></tr>\n",
       "</tbody>\n",
       "</table>\n"
      ],
      "text/latex": [
       "A matrix: 7 × 7 of type dbl\n",
       "\\begin{tabular}{r|lllllll}\n",
       "  & y & x1 & x2 & x3 & x4 & x5 & x6\\\\\n",
       "\\hline\n",
       "\ty & 1.00 & 0.47 & 0.55 & 0.54 & 0.38 & 0.36 & 0.45\\\\\n",
       "\tx1 & 0.47 & 1.00 & 0.99 & 1.00 & 0.99 & 0.94 & 0.99\\\\\n",
       "\tx2 & 0.55 & 0.99 & 1.00 & 1.00 & 0.98 & 0.92 & 0.99\\\\\n",
       "\tx3 & 0.54 & 1.00 & 1.00 & 1.00 & 0.98 & 0.93 & 0.99\\\\\n",
       "\tx4 & 0.38 & 0.99 & 0.98 & 0.98 & 1.00 & 0.95 & 0.99\\\\\n",
       "\tx5 & 0.36 & 0.94 & 0.92 & 0.93 & 0.95 & 1.00 & 0.95\\\\\n",
       "\tx6 & 0.45 & 0.99 & 0.99 & 0.99 & 0.99 & 0.95 & 1.00\\\\\n",
       "\\end{tabular}\n"
      ],
      "text/markdown": [
       "\n",
       "A matrix: 7 × 7 of type dbl\n",
       "\n",
       "| <!--/--> | y | x1 | x2 | x3 | x4 | x5 | x6 |\n",
       "|---|---|---|---|---|---|---|---|\n",
       "| y | 1.00 | 0.47 | 0.55 | 0.54 | 0.38 | 0.36 | 0.45 |\n",
       "| x1 | 0.47 | 1.00 | 0.99 | 1.00 | 0.99 | 0.94 | 0.99 |\n",
       "| x2 | 0.55 | 0.99 | 1.00 | 1.00 | 0.98 | 0.92 | 0.99 |\n",
       "| x3 | 0.54 | 1.00 | 1.00 | 1.00 | 0.98 | 0.93 | 0.99 |\n",
       "| x4 | 0.38 | 0.99 | 0.98 | 0.98 | 1.00 | 0.95 | 0.99 |\n",
       "| x5 | 0.36 | 0.94 | 0.92 | 0.93 | 0.95 | 1.00 | 0.95 |\n",
       "| x6 | 0.45 | 0.99 | 0.99 | 0.99 | 0.99 | 0.95 | 1.00 |\n",
       "\n"
      ],
      "text/plain": [
       "   y    x1   x2   x3   x4   x5   x6  \n",
       "y  1.00 0.47 0.55 0.54 0.38 0.36 0.45\n",
       "x1 0.47 1.00 0.99 1.00 0.99 0.94 0.99\n",
       "x2 0.55 0.99 1.00 1.00 0.98 0.92 0.99\n",
       "x3 0.54 1.00 1.00 1.00 0.98 0.93 0.99\n",
       "x4 0.38 0.99 0.98 0.98 1.00 0.95 0.99\n",
       "x5 0.36 0.94 0.92 0.93 0.95 1.00 0.95\n",
       "x6 0.45 0.99 0.99 0.99 0.99 0.95 1.00"
      ]
     },
     "metadata": {},
     "output_type": "display_data"
    }
   ],
   "source": [
    "inputData <- data.frame (Fearn.1)\n",
    "XVars <- inputData[-1]\n",
    "round(cor(inputData), 2)"
   ]
  },
  {
   "cell_type": "markdown",
   "metadata": {},
   "source": [
    "As we can observe, almost all parameters are correlated with one another on a very high degree. This can suppose a problem when fitting the model. Either way, we'll generate a model using linear regression with OLS:\n",
    "\n",
    "### Using Ordinary Least Squares (OLS):"
   ]
  },
  {
   "cell_type": "code",
   "execution_count": 34,
   "metadata": {},
   "outputs": [
    {
     "data": {
      "text/plain": [
       "\n",
       "Call:\n",
       "lm(formula = y ~ ., data = Fearn.1)\n",
       "\n",
       "Residuals:\n",
       "     Min       1Q   Median       3Q      Max \n",
       "-0.39798 -0.12660 -0.00822  0.07745  0.38705 \n",
       "\n",
       "Coefficients:\n",
       "             Estimate Std. Error t value Pr(>|t|)   \n",
       "(Intercept) 23.074230   9.899022   2.331  0.03232 * \n",
       "x1           0.028124   0.082118   0.342  0.73618   \n",
       "x2           0.001667   0.087162   0.019  0.98497   \n",
       "x3           0.234909   0.077400   3.035  0.00748 **\n",
       "x4          -0.240445   0.063218  -3.803  0.00142 **\n",
       "x5           0.011839   0.006126   1.932  0.07014 . \n",
       "x6          -0.035584   0.045530  -0.782  0.44522   \n",
       "---\n",
       "Signif. codes:  0 '***' 0.001 '**' 0.01 '*' 0.05 '.' 0.1 ' ' 1\n",
       "\n",
       "Residual standard error: 0.2203 on 17 degrees of freedom\n",
       "Multiple R-squared:  0.9821,\tAdjusted R-squared:  0.9758 \n",
       "F-statistic: 155.9 on 6 and 17 DF,  p-value: 6.654e-14\n"
      ]
     },
     "metadata": {},
     "output_type": "display_data"
    }
   ],
   "source": [
    "lmMod <- lm(y~., Fearn.1)\n",
    "summary (lmMod)"
   ]
  },
  {
   "cell_type": "markdown",
   "metadata": {},
   "source": [
    "Let's proceed to test our model:"
   ]
  },
  {
   "cell_type": "code",
   "execution_count": 129,
   "metadata": {},
   "outputs": [
    {
     "data": {
      "text/html": [
       "<table>\n",
       "<caption>A matrix: 26 × 2 of type dbl</caption>\n",
       "<thead>\n",
       "\t<tr><th scope=col>actual</th><th scope=col>predicted</th></tr>\n",
       "</thead>\n",
       "<tbody>\n",
       "\t<tr><td> 8.66</td><td> 8.464535</td></tr>\n",
       "\t<tr><td> 7.90</td><td> 7.985772</td></tr>\n",
       "\t<tr><td> 9.27</td><td> 9.719795</td></tr>\n",
       "\t<tr><td>11.77</td><td>11.868451</td></tr>\n",
       "\t<tr><td> 9.70</td><td>10.057963</td></tr>\n",
       "\t<tr><td>10.46</td><td>10.929478</td></tr>\n",
       "\t<tr><td>10.17</td><td>10.294759</td></tr>\n",
       "\t<tr><td>11.10</td><td>11.042356</td></tr>\n",
       "\t<tr><td>12.03</td><td>11.651758</td></tr>\n",
       "\t<tr><td> 9.43</td><td> 9.685603</td></tr>\n",
       "\t<tr><td> 8.66</td><td> 8.282796</td></tr>\n",
       "\t<tr><td>14.44</td><td>14.156388</td></tr>\n",
       "\t<tr><td> 8.50</td><td> 8.462297</td></tr>\n",
       "\t<tr><td>10.41</td><td>10.322067</td></tr>\n",
       "\t<tr><td> 9.72</td><td> 9.467716</td></tr>\n",
       "\t<tr><td>11.69</td><td>11.363298</td></tr>\n",
       "\t<tr><td>12.19</td><td>12.074329</td></tr>\n",
       "\t<tr><td>11.59</td><td>11.581044</td></tr>\n",
       "\t<tr><td> 8.76</td><td> 8.669422</td></tr>\n",
       "\t<tr><td> 8.60</td><td> 8.600376</td></tr>\n",
       "\t<tr><td> 8.54</td><td> 8.738770</td></tr>\n",
       "\t<tr><td> 9.34</td><td> 9.098653</td></tr>\n",
       "\t<tr><td>10.09</td><td>10.026395</td></tr>\n",
       "\t<tr><td> 8.72</td><td> 8.530869</td></tr>\n",
       "\t<tr><td>10.87</td><td>10.689688</td></tr>\n",
       "\t<tr><td>10.89</td><td>11.093299</td></tr>\n",
       "</tbody>\n",
       "</table>\n"
      ],
      "text/latex": [
       "A matrix: 26 × 2 of type dbl\n",
       "\\begin{tabular}{r|ll}\n",
       " actual & predicted\\\\\n",
       "\\hline\n",
       "\t  8.66 &  8.464535\\\\\n",
       "\t  7.90 &  7.985772\\\\\n",
       "\t  9.27 &  9.719795\\\\\n",
       "\t 11.77 & 11.868451\\\\\n",
       "\t  9.70 & 10.057963\\\\\n",
       "\t 10.46 & 10.929478\\\\\n",
       "\t 10.17 & 10.294759\\\\\n",
       "\t 11.10 & 11.042356\\\\\n",
       "\t 12.03 & 11.651758\\\\\n",
       "\t  9.43 &  9.685603\\\\\n",
       "\t  8.66 &  8.282796\\\\\n",
       "\t 14.44 & 14.156388\\\\\n",
       "\t  8.50 &  8.462297\\\\\n",
       "\t 10.41 & 10.322067\\\\\n",
       "\t  9.72 &  9.467716\\\\\n",
       "\t 11.69 & 11.363298\\\\\n",
       "\t 12.19 & 12.074329\\\\\n",
       "\t 11.59 & 11.581044\\\\\n",
       "\t  8.76 &  8.669422\\\\\n",
       "\t  8.60 &  8.600376\\\\\n",
       "\t  8.54 &  8.738770\\\\\n",
       "\t  9.34 &  9.098653\\\\\n",
       "\t 10.09 & 10.026395\\\\\n",
       "\t  8.72 &  8.530869\\\\\n",
       "\t 10.87 & 10.689688\\\\\n",
       "\t 10.89 & 11.093299\\\\\n",
       "\\end{tabular}\n"
      ],
      "text/markdown": [
       "\n",
       "A matrix: 26 × 2 of type dbl\n",
       "\n",
       "| actual | predicted |\n",
       "|---|---|\n",
       "|  8.66 |  8.464535 |\n",
       "|  7.90 |  7.985772 |\n",
       "|  9.27 |  9.719795 |\n",
       "| 11.77 | 11.868451 |\n",
       "|  9.70 | 10.057963 |\n",
       "| 10.46 | 10.929478 |\n",
       "| 10.17 | 10.294759 |\n",
       "| 11.10 | 11.042356 |\n",
       "| 12.03 | 11.651758 |\n",
       "|  9.43 |  9.685603 |\n",
       "|  8.66 |  8.282796 |\n",
       "| 14.44 | 14.156388 |\n",
       "|  8.50 |  8.462297 |\n",
       "| 10.41 | 10.322067 |\n",
       "|  9.72 |  9.467716 |\n",
       "| 11.69 | 11.363298 |\n",
       "| 12.19 | 12.074329 |\n",
       "| 11.59 | 11.581044 |\n",
       "|  8.76 |  8.669422 |\n",
       "|  8.60 |  8.600376 |\n",
       "|  8.54 |  8.738770 |\n",
       "|  9.34 |  9.098653 |\n",
       "| 10.09 | 10.026395 |\n",
       "|  8.72 |  8.530869 |\n",
       "| 10.87 | 10.689688 |\n",
       "| 10.89 | 11.093299 |\n",
       "\n"
      ],
      "text/plain": [
       "   actual predicted\n",
       "1   8.66   8.464535\n",
       "2   7.90   7.985772\n",
       "3   9.27   9.719795\n",
       "4  11.77  11.868451\n",
       "5   9.70  10.057963\n",
       "6  10.46  10.929478\n",
       "7  10.17  10.294759\n",
       "8  11.10  11.042356\n",
       "9  12.03  11.651758\n",
       "10  9.43   9.685603\n",
       "11  8.66   8.282796\n",
       "12 14.44  14.156388\n",
       "13  8.50   8.462297\n",
       "14 10.41  10.322067\n",
       "15  9.72   9.467716\n",
       "16 11.69  11.363298\n",
       "17 12.19  12.074329\n",
       "18 11.59  11.581044\n",
       "19  8.76   8.669422\n",
       "20  8.60   8.600376\n",
       "21  8.54   8.738770\n",
       "22  9.34   9.098653\n",
       "23 10.09  10.026395\n",
       "24  8.72   8.530869\n",
       "25 10.87  10.689688\n",
       "26 10.89  11.093299"
      ]
     },
     "metadata": {},
     "output_type": "display_data"
    },
    {
     "data": {
      "text/html": [
       "0.98062718869869"
      ],
      "text/latex": [
       "0.98062718869869"
      ],
      "text/markdown": [
       "0.98062718869869"
      ],
      "text/plain": [
       "[1] 0.9806272"
      ]
     },
     "metadata": {},
     "output_type": "display_data"
    }
   ],
   "source": [
    "predicted <- predict (lmMod, Fearn.2)\n",
    "compare <- cbind (actual=Fearn.2$y, predicted)\n",
    "compare\n",
    "mean (apply(compare, 1, min)/apply(compare, 1, max))"
   ]
  },
  {
   "cell_type": "markdown",
   "metadata": {},
   "source": [
    "As we can see, **our model has an accuracy of ~0.9806**.\n",
    "\n",
    "### Using ridge regression:"
   ]
  },
  {
   "cell_type": "code",
   "execution_count": 37,
   "metadata": {},
   "outputs": [
    {
     "data": {
      "text/html": [
       "0.870160248037573"
      ],
      "text/latex": [
       "0.870160248037573"
      ],
      "text/markdown": [
       "0.870160248037573"
      ],
      "text/plain": [
       "[1] 0.8701602"
      ]
     },
     "metadata": {},
     "output_type": "display_data"
    }
   ],
   "source": [
    "linRidgeMod <- linearRidge(y~ ., data = Fearn.1)\n",
    "predicted <- predict(linRidgeMod, Fearn.2)\n",
    "compare <- cbind (actual=Fearn.2$y, predicted)\n",
    "mean (apply(compare, 1, min)/apply(compare, 1, max))"
   ]
  },
  {
   "cell_type": "markdown",
   "metadata": {},
   "source": [
    "We see that, using ridge regression, our model gives us an accuracy of ~0.8702. **In this case, ridge regression produces worse results than OLS.**"
   ]
  },
  {
   "cell_type": "markdown",
   "metadata": {},
   "source": [
    "### Using Lasso:"
   ]
  },
  {
   "cell_type": "code",
   "execution_count": 114,
   "metadata": {},
   "outputs": [],
   "source": [
    "Fearn = rbind(Fearn.1, Fearn.2)"
   ]
  },
  {
   "cell_type": "code",
   "execution_count": 117,
   "metadata": {},
   "outputs": [
    {
     "name": "stderr",
     "output_type": "stream",
     "text": [
      "Warning message:\n",
      "\"Option grouped=FALSE enforced in cv.glmnet, since < 3 observations per fold\""
     ]
    }
   ],
   "source": [
    "x <- model.matrix(y~. , Fearn)[,-1]\n",
    "y <- Fearn$y\n",
    "\n",
    "set.seed(1)\n",
    "train<-sample(1:nrow(x), nrow(x)/2)\n",
    "test<-(-train)\n",
    "y.test<-y[test]\n",
    "\n",
    "linLassoMod <- cv.glmnet(x[train,],y[train],alpha=1)"
   ]
  },
  {
   "cell_type": "code",
   "execution_count": 128,
   "metadata": {},
   "outputs": [
    {
     "data": {
      "text/html": [
       "0.981544370712378"
      ],
      "text/latex": [
       "0.981544370712378"
      ],
      "text/markdown": [
       "0.981544370712378"
      ],
      "text/plain": [
       "[1] 0.9815444"
      ]
     },
     "metadata": {},
     "output_type": "display_data"
    }
   ],
   "source": [
    "predicted <-predict(linLassoMod,newx=x[test,])\n",
    "compare <- cbind (actual=y.test, predicted)\n",
    "mean (apply(compare, 1, min)/apply(compare, 1, max))"
   ]
  },
  {
   "cell_type": "markdown",
   "metadata": {},
   "source": [
    "Using Lasso, we obtain the best results yet with a mean of **~0.9815**."
   ]
  },
  {
   "cell_type": "markdown",
   "metadata": {},
   "source": [
    "### Using PCR"
   ]
  },
  {
   "cell_type": "code",
   "execution_count": 137,
   "metadata": {},
   "outputs": [
    {
     "data": {
      "text/html": [
       "0.984333806231631"
      ],
      "text/latex": [
       "0.984333806231631"
      ],
      "text/markdown": [
       "0.984333806231631"
      ],
      "text/plain": [
       "[1] 0.9843338"
      ]
     },
     "metadata": {},
     "output_type": "display_data"
    }
   ],
   "source": [
    "require(pls)\n",
    "\n",
    "set.seed(2)\n",
    "train<-sample(1:nrow(x), nrow(x)/2)\n",
    "test<-(-train)\n",
    "y.test<-y[test]\n",
    "\n",
    "pcr.fit<-pcr(y~., data=Fearn,scale=TRUE,validation=\"CV\")\n",
    "predicted<-predict(pcr.fit,x[test,],ncomp=5)\n",
    "compare <- cbind (actual=y.test, predicted)\n",
    "mean (apply(compare, 1, min)/apply(compare, 1, max))"
   ]
  },
  {
   "cell_type": "markdown",
   "metadata": {},
   "source": [
    "### Using PLS"
   ]
  },
  {
   "cell_type": "code",
   "execution_count": 145,
   "metadata": {},
   "outputs": [
    {
     "data": {
      "text/html": [
       "0.98323322506815"
      ],
      "text/latex": [
       "0.98323322506815"
      ],
      "text/markdown": [
       "0.98323322506815"
      ],
      "text/plain": [
       "[1] 0.9832332"
      ]
     },
     "metadata": {},
     "output_type": "display_data"
    }
   ],
   "source": [
    "set.seed(3)\n",
    "train<-sample(1:nrow(x), nrow(x)/2)\n",
    "test<-(-train)\n",
    "y.test<-y[test]\n",
    "\n",
    "pls.fit<-plsr(y~., data=Fearn,subset=train,scale=TRUE, validation=\"CV\")\n",
    "predicted<-predict(pls.fit,x[test,],ncomp=5)\n",
    "compare <- cbind (actual=y.test, predicted)\n",
    "mean (apply(compare, 1, min)/apply(compare, 1, max))"
   ]
  },
  {
   "cell_type": "markdown",
   "metadata": {},
   "source": [
    "### Conclusions\n",
    "\n",
    "After running our prediction models using each given method, we can see that the most accurate results are given by PCR. This can change depending on the dataset."
   ]
  }
 ],
 "metadata": {
  "kernelspec": {
   "display_name": "R",
   "language": "R",
   "name": "ir"
  },
  "language_info": {
   "codemirror_mode": "r",
   "file_extension": ".r",
   "mimetype": "text/x-r-source",
   "name": "R",
   "pygments_lexer": "r",
   "version": "3.6.1"
  }
 },
 "nbformat": 4,
 "nbformat_minor": 2
}

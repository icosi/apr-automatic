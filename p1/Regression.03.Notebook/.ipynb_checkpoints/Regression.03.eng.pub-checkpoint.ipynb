{
 "cells": [
  {
   "cell_type": "markdown",
   "metadata": {},
   "source": [
    "# Regression 03 \n",
    "\n",
    "# A. Shrinkage (regularization) methods \n",
    "# B. Orthogonalization methods"
   ]
  },
  {
   "cell_type": "markdown",
   "metadata": {},
   "source": [
    "##### Josep Fortiana 2019-10-15"
   ]
  },
  {
   "cell_type": "markdown",
   "metadata": {},
   "source": [
    "Both families of methods are applicable when there are many predictors, possibly multicollinear. \n",
    "\n",
    "Shrinkage, or regularization, methods replace the ordinary least squares condition with penalized least squares, where the penalty term purpose is to diminish the regression coefficients variance (dispersion, unstability). This is the shrinkage in the name.\n",
    "\n",
    "Orthogonalization methods replace the set of observed predictor variables with a new set of orthogonal variables, derived as linear combinations of the old ones in such a way that the _prediction space,_ that is, the space of columns of $X$, the regression matrix is conserved.\n",
    "\n",
    "In this laboratory we see two shrinkage methods: Ridge regression and the Lasso, and two orthogonalization methods, Principal Components Regression (PCR) and Partial Least Squares (PLS)."
   ]
  },
  {
   "cell_type": "markdown",
   "metadata": {},
   "source": [
    "# A1. Ridge regression"
   ]
  },
  {
   "cell_type": "markdown",
   "metadata": {},
   "source": [
    "##  1. Longley dataset and the `lm.ridge` function in the `MASS`  package"
   ]
  },
  {
   "cell_type": "code",
   "execution_count": null,
   "metadata": {},
   "outputs": [
    {
     "name": "stderr",
     "output_type": "stream",
     "text": [
      "Loading required package: MASS\n"
     ]
    }
   ],
   "source": [
    "require(MASS)\n",
    "data(longley)\n",
    "str(longley)"
   ]
  },
  {
   "cell_type": "code",
   "execution_count": null,
   "metadata": {},
   "outputs": [],
   "source": [
    "longley.ridge.1<-lm.ridge(Employed ~ .,data=longley)\n",
    "str(longley.ridge.1)"
   ]
  },
  {
   "cell_type": "code",
   "execution_count": null,
   "metadata": {},
   "outputs": [],
   "source": [
    "coefficients(longley.ridge.1)"
   ]
  },
  {
   "cell_type": "code",
   "execution_count": null,
   "metadata": {},
   "outputs": [],
   "source": [
    "longley.ridge.1$scales"
   ]
  },
  {
   "cell_type": "code",
   "execution_count": null,
   "metadata": {},
   "outputs": [],
   "source": [
    "print(longley.ridge.1)"
   ]
  },
  {
   "cell_type": "code",
   "execution_count": null,
   "metadata": {},
   "outputs": [],
   "source": [
    "summary(longley.ridge.1)"
   ]
  },
  {
   "cell_type": "markdown",
   "metadata": {},
   "source": [
    "`kHKB` is an estimate of the optimal $\\lambda$, proposed by Hoerl, Kennard and Baldwin (1975). `kLW` is another estimate, proposed by Lawless, Wang (1976). `GCV` is the Generalized Cross-Validation statistic evaluated for each of the $\\lambda$ values being tested."
   ]
  },
  {
   "cell_type": "code",
   "execution_count": null,
   "metadata": {},
   "outputs": [],
   "source": [
    "longley.ridge<-lm.ridge(Employed ~ .,data=longley,lambda=seq(0,0.1,by=0.001))\n",
    "options(repr.plot.width=5, repr.plot.height=5)\n",
    "plot(longley.ridge)"
   ]
  },
  {
   "cell_type": "code",
   "execution_count": null,
   "metadata": {},
   "outputs": [],
   "source": [
    "select(longley.ridge)"
   ]
  },
  {
   "cell_type": "markdown",
   "metadata": {},
   "source": [
    "The `broom` package has functions to gather and visualize the output of `lm.ridge` "
   ]
  },
  {
   "cell_type": "code",
   "execution_count": null,
   "metadata": {},
   "outputs": [],
   "source": [
    "#install.packages(\"broom\",dependencies=TRUE,repos=\"https://cloud.r-project.org\")\n",
    "require(broom)"
   ]
  },
  {
   "cell_type": "code",
   "execution_count": null,
   "metadata": {},
   "outputs": [],
   "source": [
    "# tidy(longley.ridge) \n",
    "# long output"
   ]
  },
  {
   "cell_type": "code",
   "execution_count": null,
   "metadata": {},
   "outputs": [],
   "source": [
    "glance(longley.ridge)"
   ]
  },
  {
   "cell_type": "markdown",
   "metadata": {},
   "source": [
    "## 2. Acetylene dataset and the  `genridge`  package by Michael Friendly"
   ]
  },
  {
   "cell_type": "code",
   "execution_count": null,
   "metadata": {},
   "outputs": [],
   "source": [
    "#install.packages(\"genridge\",dependencies=TRUE,repos=\"https://cloud.r-project.org\")\n",
    "#install.packages(\"car\",dependencies=TRUE,repos=\"https://cloud.r-project.org\")\n",
    "require(genridge)\n",
    "require(car)"
   ]
  },
  {
   "cell_type": "markdown",
   "metadata": {},
   "source": [
    "The `genridge` package includes the `Acetylene` dataset, with new variable names. We recover the linear model we tried above on these data and then we try a second linear model with quadratic terms. As a matter of fact this dataset originates from the paper: Marquardt, Donald W. and Snee, Ronald D. (1975), _\"Ridge Regression in Practice\",_ The American Statistician, Vol. 29, No. 1, pp. 3-20. Un this paper the authors start with the model with all six quadratic terms:\n",
    "\n",
    "$$\n",
    " \\text{temp}^2,\\mskip10mu \\text{ratio}^2,\\mskip10mu \\text{time}^2,\\mskip10mu \\text{temp}\\cdot\\text{ratio},\\mskip10mu \\text{temp}\\cdot\\text{time},\\mskip10mu\\text{ratio}\\cdot \\text{time}.\n",
    "$$"
   ]
  },
  {
   "cell_type": "code",
   "execution_count": null,
   "metadata": {},
   "outputs": [],
   "source": [
    "data(Acetylene)\n",
    "str(Acetylene)"
   ]
  },
  {
   "cell_type": "code",
   "execution_count": null,
   "metadata": {},
   "outputs": [],
   "source": [
    "# Same model as above, with only linear terms (main effects)\n",
    "Acetylene.lm1<-lm(yield~temp+ratio+time,data=Acetylene)\n",
    "summary(Acetylene.lm1)"
   ]
  },
  {
   "cell_type": "code",
   "execution_count": null,
   "metadata": {},
   "outputs": [],
   "source": [
    "vif(Acetylene.lm1)\n",
    "X.Acetylene.lm1<-model.matrix(Acetylene.lm1)\n",
    "kappa(X.Acetylene.lm1)"
   ]
  },
  {
   "cell_type": "code",
   "execution_count": null,
   "metadata": {},
   "outputs": [],
   "source": [
    "# Model from the original paper by Marquardt and Snee\n",
    "Acetylene.lm2 <- lm(yield ~ temp + ratio + time + I(temp^2)+ I(ratio^2)+ I(time^2) \n",
    "                    + temp:ratio+temp:time+ratio:time, data=Acetylene)\n",
    "summary(Acetylene.lm2)"
   ]
  },
  {
   "cell_type": "code",
   "execution_count": null,
   "metadata": {},
   "outputs": [],
   "source": [
    "vif(Acetylene.lm2)\n",
    "X.Acetylene.lm2<-model.matrix(Acetylene.lm2)\n",
    "kappa(X.Acetylene.lm2)"
   ]
  },
  {
   "cell_type": "code",
   "execution_count": null,
   "metadata": {},
   "outputs": [],
   "source": [
    "# A third model, with fewer quadratic terms, used by Michael Friendly to illustrate genridge\n",
    "Acetylene.lm3 <- lm(yield ~ temp + ratio + time + I(time^2) + temp:time, data=Acetylene)\n",
    "summary(Acetylene.lm3)"
   ]
  },
  {
   "cell_type": "code",
   "execution_count": null,
   "metadata": {},
   "outputs": [],
   "source": [
    "vif(Acetylene.lm3)\n",
    "X.Acetylene.lm3<-model.matrix(Acetylene.lm3)\n",
    "kappa(X.Acetylene.lm3)"
   ]
  },
  {
   "cell_type": "code",
   "execution_count": null,
   "metadata": {},
   "outputs": [],
   "source": [
    "# Ridge regression with the ridge function from genridge\n",
    "y<- Acetylene[,\"yield\"]\n",
    "X0<-X.Acetylene.lm3[,-1]\n",
    "lambda <- c(0, 0.0005, 0.001, 0.002, 0.005, 0.01)\n",
    "Acetylene.ridge.1 <- ridge(y, X0, lambda=lambda)\n",
    "summary(Acetylene.ridge.1)"
   ]
  },
  {
   "cell_type": "code",
   "execution_count": null,
   "metadata": {},
   "outputs": [],
   "source": [
    "traceplot(Acetylene.ridge.1)"
   ]
  },
  {
   "cell_type": "code",
   "execution_count": null,
   "metadata": {},
   "outputs": [],
   "source": [
    "traceplot(Acetylene.ridge.1, X=\"df\")"
   ]
  },
  {
   "cell_type": "code",
   "execution_count": null,
   "metadata": {},
   "outputs": [],
   "source": [
    "pairs(Acetylene.ridge.1, radius=0.2)"
   ]
  },
  {
   "cell_type": "markdown",
   "metadata": {},
   "source": [
    "## 3. The Fearn dataset"
   ]
  },
  {
   "cell_type": "markdown",
   "metadata": {},
   "source": [
    "A dataset from the paper by Fearn, T. (1983), _A Misuse of Ridge Regression in the Calibration of a Near Infrared Reflectance Instrument,_ Journal of the Royal Statistical Society. Series C (Applied Statistics), Vol. 32, No. 1(1983), pp. 73-79. This paper, with intended controversial title and contents, found its rebuttal in the paper by Hoerl, Arthur E., Kennard, Robert W.  and Hoerl, Roger W. (1985), _Practical Use of Ridge Regression: A Challenge Met,_ Journal of the Royal Statistical Society. Series C (Applied Statistics), Vol. 34, No. 2(1985), pp. 114-120."
   ]
  },
  {
   "cell_type": "code",
   "execution_count": null,
   "metadata": {},
   "outputs": [],
   "source": [
    "Fearn.1<-read.table(\"Fearn.data.1.txt\", header=TRUE)\n",
    "Fearn.2<-read.table(\"Fearn.data.2.txt\", header=TRUE)\n",
    "str(Fearn.1)\n",
    "str(Fearn.2)"
   ]
  },
  {
   "cell_type": "markdown",
   "metadata": {},
   "source": [
    "Adjust the regression `y~x1+x2+x3+x4+x5+x6` with the Fearn dataset and:\n",
    "\n",
    "1. Ordinary Least Squares (OLS), selecting the best predictors subset\n",
    "\n",
    "2. Ridge regression\n",
    "\n",
    "Compare prediction errors. Which one is better?\n",
    "\n",
    "3. After working through the following section on the lasso, repeat with this method.\n",
    "\n",
    "NOTE: the data frames `Fearn.1` and `Fearn.2` were used as train and test subsets in the original paper. You may choose to follow this selection or merge both subsets and partition the joint dataset in some other way."
   ]
  },
  {
   "cell_type": "markdown",
   "metadata": {},
   "source": [
    "## 4. The `Hitters` dataset in the `ISLR` package \n",
    "\n",
    "### Ridge regression following ISLR - Chap 6 - Laboratory 2 - Using the `glmnet` package\n",
    "\n",
    "[Code from the ISLR website](http://www-bcf.usc.edu/~gareth/ISL/Chapter%206%20Labs.txt)"
   ]
  },
  {
   "cell_type": "code",
   "execution_count": null,
   "metadata": {},
   "outputs": [],
   "source": [
    "#install.packages(\"ISLR\",dependencies=TRUE,repos=\"https://cloud.r-project.org\")\n",
    "require(ISLR)\n",
    "#fix(Hitters)\n",
    "names(Hitters)\n",
    "dim(Hitters)\n",
    "sum(is.na(Hitters$Salary))\n",
    "Hitters=na.omit(Hitters)\n",
    "dim(Hitters)\n",
    "sum(is.na(Hitters))"
   ]
  },
  {
   "cell_type": "code",
   "execution_count": null,
   "metadata": {},
   "outputs": [],
   "source": [
    "# Prepare x, y for the glmnet syntax\n",
    "x<-model.matrix(Salary~.,Hitters)[,-1]\n",
    "y<-Hitters$Salary"
   ]
  },
  {
   "cell_type": "code",
   "execution_count": null,
   "metadata": {},
   "outputs": [],
   "source": [
    "#install.packages(\"glmnet\",dependencies=TRUE,repos=\"https://cloud.r-project.org\")\n",
    "require(glmnet)"
   ]
  },
  {
   "cell_type": "markdown",
   "metadata": {},
   "source": [
    "####  A grid of lambda values"
   ]
  },
  {
   "cell_type": "code",
   "execution_count": null,
   "metadata": {},
   "outputs": [],
   "source": [
    "# When lambda goes to infinity penalization on coefficients beta01 through beta19 is so high \n",
    "# that it pushes all of them down to zero, resulting in a model with no predictors, only the intercept term.\n",
    "#\n",
    "# Syntax: \n",
    "# alpha=0 is for ridge regression\n",
    "# alpha=1 is for 'lasso'  regression (cfr. below)\n",
    "#\n",
    "grid<-10^seq(10,-2,length=100)\n",
    "ridge.mod<-glmnet(x,y,alpha=0,lambda=grid)\n",
    "str(ridge.mod)"
   ]
  },
  {
   "cell_type": "code",
   "execution_count": null,
   "metadata": {},
   "outputs": [],
   "source": [
    "# Compare the beta regression coefficients with a large lambda (small absolute values)\n",
    "# and with a smaller lambda (larger absolute values).\n",
    "dim(coef(ridge.mod))\n",
    "round(ridge.mod$lambda[50],2)\n",
    "round(coef(ridge.mod)[,50],2)\n",
    "round(sqrt(sum(coef(ridge.mod)[-1,50]^2)),2)"
   ]
  },
  {
   "cell_type": "code",
   "execution_count": null,
   "metadata": {},
   "outputs": [],
   "source": [
    "round(ridge.mod$lambda[60],2)\n",
    "round(coef(ridge.mod)[,60],2)\n",
    "round(sqrt(sum(coef(ridge.mod)[-1,60]^2)),2)"
   ]
  },
  {
   "cell_type": "code",
   "execution_count": null,
   "metadata": {},
   "outputs": [],
   "source": [
    "# We extract now the regression coefficients with the 'predict' function\n",
    "round(predict(ridge.mod,s=50,type=\"coefficients\")[1:20,],2)"
   ]
  },
  {
   "cell_type": "code",
   "execution_count": null,
   "metadata": {},
   "outputs": [],
   "source": [
    "# Split randomly the dataset into 'train' and 'test' subsets\n",
    "set.seed(1)\n",
    "train<-sample(1:nrow(x), nrow(x)/2)\n",
    "test<-(-train)\n",
    "y.test<-y[test]"
   ]
  },
  {
   "cell_type": "code",
   "execution_count": null,
   "metadata": {},
   "outputs": [],
   "source": [
    "# Adjust model with the 'train' subset\n",
    "ridge.mod<-glmnet(x[train,],y[train],alpha=0,lambda=grid, thresh=1e-12)\n",
    "#\n",
    "# Then we evaluate prediction error (sum of squares) on the 'test' subset for three lambda values\n",
    "# (lambda=4, lambda=1.0e10, lambda=0)\n",
    "#\n",
    "ridge.pred<-predict(ridge.mod,s=4,newx=x[test,])\n",
    "round(mean((ridge.pred-y.test)^2),2)"
   ]
  },
  {
   "cell_type": "code",
   "execution_count": null,
   "metadata": {},
   "outputs": [],
   "source": [
    "# The model with no predictors (other than the intercept) has always a predicted value equal to the mean of y\n",
    "# With a large lambda, the model tends to the no predictor one\n",
    "round(mean((mean(y[train])-y.test)^2),2)\n",
    "ridge.pred<-predict(ridge.mod,s=1e10,newx=x[test,])\n",
    "round(mean((ridge.pred-y.test)^2))"
   ]
  },
  {
   "cell_type": "code",
   "execution_count": null,
   "metadata": {},
   "outputs": [],
   "source": [
    "# With lambda equal to zero, the ridge regression model reduces to ordinary least squares\n",
    "#\n",
    "## Warning\n",
    "#\n",
    "# predict.glmnet with 'exact' computation requires re-entering the original training dataset\n",
    "#\n",
    "ridge.pred<-predict(ridge.mod,x=x[train,],y=y[train],s=0,newx=x[test,],exact=TRUE)\n",
    "round(mean((ridge.pred-y.test)^2),2)"
   ]
  },
  {
   "cell_type": "code",
   "execution_count": null,
   "metadata": {},
   "outputs": [],
   "source": [
    "# Same, with no 'exact' computation\n",
    "#\n",
    "ridge.pred<-predict(ridge.mod,s=0,newx=x[test,])\n",
    "round(mean((ridge.pred-y.test)^2),2)"
   ]
  },
  {
   "cell_type": "code",
   "execution_count": null,
   "metadata": {},
   "outputs": [],
   "source": [
    "# Compare an ordinary least squares regression with ridge regression with lambda=0 \n",
    "ols<-lm(Salary~.,data=Hitters, subset=train)\n",
    "summary(ols)"
   ]
  },
  {
   "cell_type": "code",
   "execution_count": null,
   "metadata": {},
   "outputs": [],
   "source": [
    "ols.yhat<-predict.lm(ols,newdata=Hitters[test,],type=\"response\")\n",
    "str(ols.yhat)"
   ]
  },
  {
   "cell_type": "code",
   "execution_count": null,
   "metadata": {},
   "outputs": [],
   "source": [
    "ols.residuals<-ols.yhat-y.test\n",
    "round(mean(ols.residuals^2),2)"
   ]
  },
  {
   "cell_type": "code",
   "execution_count": null,
   "metadata": {},
   "outputs": [],
   "source": [
    "ridge.yhat<-predict(ridge.mod,x=x[train,],y=y[train],s=0,newx=x[test,],exact=TRUE)\n",
    "#ridge.yhat<-predict(ridge.mod,s=0,newx=x[test,],type=\"response\")\n",
    "ridge.residuals<-ridge.yhat-y.test\n",
    "round(mean(ridge.residuals^2),2)"
   ]
  },
  {
   "cell_type": "code",
   "execution_count": null,
   "metadata": {},
   "outputs": [],
   "source": [
    "# There is a k-fold cross-validation feature in the glmnet package which we can take advantege of\n",
    "# \n",
    "# By default k=10\n",
    "set.seed(1)\n",
    "cv.out<-cv.glmnet(x[train,],y[train],alpha=0)\n",
    "plot(cv.out)"
   ]
  },
  {
   "cell_type": "code",
   "execution_count": null,
   "metadata": {},
   "outputs": [],
   "source": [
    "bestlam<-cv.out$lambda.min\n",
    "round(bestlam,3)\n",
    "round(log(bestlam),3)\n",
    "plot(cv.out)\n",
    "abline(v=log(bestlam),lwd=3,col=\"cyan\")"
   ]
  },
  {
   "cell_type": "code",
   "execution_count": null,
   "metadata": {},
   "outputs": [],
   "source": [
    "# Mean quadratic error with the optimal lambda and the full dataset\n",
    "# \n",
    "# Coefficients of this model\n",
    "#\n",
    "# We observe that none of these coefficients is zero, hence there is no variable selectioin in ridge regression. \n",
    "# To be compared with the lasso below.\n",
    "ridge.pred<-predict(ridge.mod,s=bestlam,newx=x[test,])\n",
    "round(mean((ridge.pred-y.test)^2),3)\n",
    "out<-glmnet(x,y,alpha=0)\n",
    "round(predict(out,type=\"coefficients\",s=bestlam)[1:20,],3)"
   ]
  },
  {
   "cell_type": "markdown",
   "metadata": {},
   "source": [
    "# A2. Regression with the _Lasso_ "
   ]
  },
  {
   "cell_type": "markdown",
   "metadata": {},
   "source": [
    "## Same `Hitters` dataset as above and `glmnet`"
   ]
  },
  {
   "cell_type": "code",
   "execution_count": null,
   "metadata": {},
   "outputs": [],
   "source": [
    "# The same glmnet function performs lasso regression, setting the parameter alpha=1 \n",
    "#\n",
    "lasso.mod<-glmnet(x[train,],y[train],alpha=1,lambda=grid)\n",
    "plot(lasso.mod)"
   ]
  },
  {
   "cell_type": "code",
   "execution_count": null,
   "metadata": {},
   "outputs": [],
   "source": [
    "set.seed(1)\n",
    "cv.out<-cv.glmnet(x[train,],y[train],alpha=1)\n",
    "plot(cv.out)\n",
    "bestlam<-cv.out$lambda.min"
   ]
  },
  {
   "cell_type": "code",
   "execution_count": null,
   "metadata": {},
   "outputs": [],
   "source": [
    "round(bestlam,3)\n",
    "round(log(bestlam),3)\n",
    "plot(cv.out)\n",
    "abline(v=log(bestlam),lwd=3,col=\"cyan\")"
   ]
  },
  {
   "cell_type": "code",
   "execution_count": null,
   "metadata": {},
   "outputs": [],
   "source": [
    "# Quadratic error on the test subset with the optimal lambda \n",
    "lasso.pred<-predict(lasso.mod,s=bestlam,newx=x[test,])\n",
    "round(mean((lasso.pred-y.test)^2),3)"
   ]
  },
  {
   "cell_type": "markdown",
   "metadata": {},
   "source": [
    "### The variable selection feature of the _Lasso_"
   ]
  },
  {
   "cell_type": "code",
   "execution_count": null,
   "metadata": {},
   "outputs": [],
   "source": [
    "# Quadratic error on the full dataset with the optimal lambda\n",
    "# Coefficients in this model:\n",
    "#\n",
    "# Now we see there are zero coefficients: this is equivalent to discarding these variables.\n",
    "#\n",
    "# Compare with the ridge regression above\n",
    "#\n",
    "out<-glmnet(x,y,alpha=1,lambda=grid)\n",
    "lasso.coef<-predict(out,type=\"coefficients\",s=bestlam)[1:20,]\n",
    "round(lasso.coef,3)\n",
    "round(lasso.coef[lasso.coef!=0],3)"
   ]
  },
  {
   "cell_type": "markdown",
   "metadata": {},
   "source": [
    "# B. Orthogonalization methods"
   ]
  },
  {
   "cell_type": "markdown",
   "metadata": {},
   "source": [
    "## Following  ISLR - Cap 6 - Laboratory 3 - PCR and PLS \n",
    "\n",
    "[Codi de la web ISLR](http://www-bcf.usc.edu/~gareth/ISL/Chapter%206%20Labs.txt)"
   ]
  },
  {
   "cell_type": "code",
   "execution_count": null,
   "metadata": {},
   "outputs": [],
   "source": [
    "#install.packages(\"pls\",dependencies=TRUE,repos=\"https://cloud.r-project.org\")\n",
    "require(pls)"
   ]
  },
  {
   "cell_type": "markdown",
   "metadata": {},
   "source": [
    "# B1. Principal Components Regression (PCR)"
   ]
  },
  {
   "cell_type": "code",
   "execution_count": null,
   "metadata": {},
   "outputs": [],
   "source": [
    "# Principal Components Regression\n",
    "set.seed(2)\n",
    "pcr.fit<-pcr(Salary~., data=Hitters,scale=TRUE,validation=\"CV\")\n",
    "summary(pcr.fit)"
   ]
  },
  {
   "cell_type": "code",
   "execution_count": null,
   "metadata": {},
   "outputs": [],
   "source": [
    "validationplot(pcr.fit,val.type=\"MSEP\")"
   ]
  },
  {
   "cell_type": "code",
   "execution_count": null,
   "metadata": {},
   "outputs": [],
   "source": [
    "# Cross-validation with hold-out\n",
    "#\n",
    "# Training the model, selecting number of principal components included in the model\n",
    "set.seed(1)\n",
    "pcr.fit<-pcr(Salary~., data=Hitters,subset=train,scale=TRUE, validation=\"CV\")\n",
    "validationplot(pcr.fit,val.type=\"MSEP\")"
   ]
  },
  {
   "cell_type": "code",
   "execution_count": null,
   "metadata": {},
   "outputs": [],
   "source": [
    "# The minimum of the graph (optimal number of orthogonal variables) appears at 5 variables (principal components).\n",
    "# Fit the model for this number\n",
    "pcr.pred<-predict(pcr.fit,x[test,],ncomp=5)\n",
    "round(mean((pcr.pred-y.test)^2),3)\n",
    "pcr.fit<-pcr(y~x,scale=TRUE,ncomp=5)\n",
    "summary(pcr.fit)"
   ]
  },
  {
   "cell_type": "markdown",
   "metadata": {},
   "source": [
    "# B2. Partial Least Squares (PLS)"
   ]
  },
  {
   "cell_type": "code",
   "execution_count": null,
   "metadata": {},
   "outputs": [],
   "source": [
    "# Partial Least Squares\n",
    "set.seed(1)\n",
    "pls.fit<-plsr(Salary~., data=Hitters,subset=train,scale=TRUE, validation=\"CV\")\n",
    "summary(pls.fit)"
   ]
  },
  {
   "cell_type": "code",
   "execution_count": null,
   "metadata": {},
   "outputs": [],
   "source": [
    "validationplot(pls.fit,val.type=\"MSEP\")"
   ]
  },
  {
   "cell_type": "code",
   "execution_count": null,
   "metadata": {},
   "outputs": [],
   "source": [
    "# The minimum of the graph (optimal number of orthogonal variables) appears at 2 variables.\n",
    "# Fit the model for this number\n",
    "pls.pred<-predict(pls.fit,x[test,],ncomp=2)\n",
    "round(mean((pls.pred-y.test)^2),3)\n",
    "pls.fit<-plsr(Salary~., data=Hitters,scale=TRUE,ncomp=2)\n",
    "summary(pls.fit)"
   ]
  },
  {
   "cell_type": "markdown",
   "metadata": {},
   "source": [
    "# Homework 1 (Part 2)"
   ]
  },
  {
   "cell_type": "code",
   "execution_count": null,
   "metadata": {},
   "outputs": [],
   "source": []
  }
 ],
 "metadata": {
  "kernelspec": {
   "display_name": "R",
   "language": "R",
   "name": "ir"
  },
  "language_info": {
   "codemirror_mode": "r",
   "file_extension": ".r",
   "mimetype": "text/x-r-source",
   "name": "R",
   "pygments_lexer": "r",
   "version": "3.6.1"
  }
 },
 "nbformat": 4,
 "nbformat_minor": 2
}

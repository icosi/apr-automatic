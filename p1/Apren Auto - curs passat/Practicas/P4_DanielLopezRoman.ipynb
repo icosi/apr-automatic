{
 "cells": [
  {
   "cell_type": "markdown",
   "metadata": {},
   "source": [
    "## A) Regularización y regresión con variables latentes\n",
    "\n",
    "Con los datos `Acetylene` de la práctica de regularización, y partiendo del modelo del artículo original de Marquardt y Snee, que usa como predictores los términos principales, `temp`, `ratio`, `time`, junto con los términos cuadráticos `I(temp^2)`, `I(ratio^2)`, `I(time^2)` y las interaciones de segundo orden `temp:ratio`, `temp:time`, `ratio:time`. "
   ]
  },
  {
   "cell_type": "code",
   "execution_count": 12,
   "metadata": {},
   "outputs": [
    {
     "name": "stdout",
     "output_type": "stream",
     "text": [
      "'data.frame':\t16 obs. of  4 variables:\n",
      " $ yield: num  49 50.2 50.5 48.5 47.5 44.5 28 31.5 34.5 35 ...\n",
      " $ temp : int  1300 1300 1300 1300 1300 1300 1200 1200 1200 1200 ...\n",
      " $ ratio: num  7.5 9 11 13.5 17 23 5.3 7.5 11 13.5 ...\n",
      " $ time : num  0.012 0.012 0.0115 0.013 0.0135 0.012 0.04 0.038 0.032 0.026 ...\n"
     ]
    },
    {
     "data": {
      "text/plain": [
       "\n",
       "Call:\n",
       "lm(formula = yield ~ temp + ratio + time + I(temp^2) + I(ratio^2) + \n",
       "    I(time^2) + temp:ratio + temp:time + ratio:time, data = Acetylene)\n",
       "\n",
       "Residuals:\n",
       "    Min      1Q  Median      3Q     Max \n",
       "-1.3499 -0.3411  0.1297  0.5011  0.6720 \n",
       "\n",
       "Coefficients:\n",
       "              Estimate Std. Error t value Pr(>|t|)   \n",
       "(Intercept) -3.617e+03  3.136e+03  -1.153  0.29260   \n",
       "temp         5.324e+00  4.879e+00   1.091  0.31706   \n",
       "ratio        1.924e+01  4.303e+00   4.472  0.00423 **\n",
       "time         1.377e+04  1.045e+04   1.318  0.23572   \n",
       "I(temp^2)   -1.927e-03  1.896e-03  -1.016  0.34874   \n",
       "I(ratio^2)  -3.034e-02  1.168e-02  -2.597  0.04084 * \n",
       "I(time^2)   -1.158e+04  7.699e+03  -1.504  0.18318   \n",
       "temp:ratio  -1.414e-02  3.212e-03  -4.404  0.00455 **\n",
       "temp:time   -1.058e+01  8.241e+00  -1.283  0.24666   \n",
       "ratio:time  -2.103e+01  9.241e+00  -2.276  0.06312 . \n",
       "---\n",
       "Signif. codes:  0 '***' 0.001 '**' 0.01 '*' 0.05 '.' 0.1 ' ' 1\n",
       "\n",
       "Residual standard error: 0.9014 on 6 degrees of freedom\n",
       "Multiple R-squared:  0.9977,\tAdjusted R-squared:  0.9943 \n",
       "F-statistic: 289.7 on 9 and 6 DF,  p-value: 3.225e-07\n"
      ]
     },
     "metadata": {},
     "output_type": "display_data"
    }
   ],
   "source": [
    "# Modelo del artículo original de Marquardt y Snee\n",
    "\n",
    "#install.packages(\"genridge\",dependencies=TRUE,repos=\"https://cloud.r-project.org\")\n",
    "#install.packages(\"car\",dependencies=TRUE,repos=\"https://cloud.r-project.org\")\n",
    "#install.packages(\"glmnet\",dependencies=TRUE,repos=\"https://cloud.r-project.org\")\n",
    "require(genridge)\n",
    "require(car)\n",
    "require(glmnet)\n",
    "\n",
    "data(Acetylene)\n",
    "str(Acetylene)\n",
    "\n",
    "Acetylene.lm<-lm(yield~temp+ratio+time+I(temp^2)+I(ratio^2)+I(time^2)+temp:ratio+temp:time+ratio:time, data=Acetylene)\n",
    "summary(Acetylene.lm)"
   ]
  },
  {
   "cell_type": "markdown",
   "metadata": {},
   "source": [
    "### (1) Regresión _ridge_ \n",
    "\n",
    "(decidiendo el valor adecuado del parámetro)\n"
   ]
  },
  {
   "cell_type": "code",
   "execution_count": 29,
   "metadata": {},
   "outputs": [
    {
     "name": "stderr",
     "output_type": "stream",
     "text": [
      "Warning message:\n",
      "\"Option grouped=FALSE enforced in cv.glmnet, since < 3 observations per fold\""
     ]
    }
   ],
   "source": [
    "y<- Acetylene$yield\n",
    "X0<-model.matrix(Acetylene.lm)[,-1]\n",
    "lambda <- 10^seq(3, -2, by = -.1)\n",
    "ridge.mod <- glmnet(X0,y,alpha=0,lambda=lambda)\n",
    "ridge.cv <- cv.glmnet(X0,y,alpha=0,lambda=lambda)"
   ]
  },
  {
   "cell_type": "markdown",
   "metadata": {},
   "source": [
    "Aplicada una regresion ridge para una serie de lambdas, usamos CV para obtener un factor optimo."
   ]
  },
  {
   "cell_type": "code",
   "execution_count": 31,
   "metadata": {},
   "outputs": [
    {
     "data": {
      "image/png": "[encoded data removed]",
      "text/plain": [
       "plot without title"
      ]
     },
     "metadata": {},
     "output_type": "display_data"
    }
   ],
   "source": [
    "plot(ridge.cv)"
   ]
  },
  {
   "cell_type": "markdown",
   "metadata": {},
   "source": [
    "Obtenemos la lambda optimo que minimiza el MSE"
   ]
  },
  {
   "cell_type": "code",
   "execution_count": 32,
   "metadata": {},
   "outputs": [
    {
     "data": {
      "text/html": [
       "0.063"
      ],
      "text/latex": [
       "0.063"
      ],
      "text/markdown": [
       "0.063"
      ],
      "text/plain": [
       "[1] 0.063"
      ]
     },
     "metadata": {},
     "output_type": "display_data"
    },
    {
     "data": {
      "text/html": [
       "-2.763"
      ],
      "text/latex": [
       "-2.763"
      ],
      "text/markdown": [
       "-2.763"
      ],
      "text/plain": [
       "[1] -2.763"
      ]
     },
     "metadata": {},
     "output_type": "display_data"
    },
    {
     "data": {
      "image/png": "[encoded data removed]",
      "text/plain": [
       "plot without title"
      ]
     },
     "metadata": {},
     "output_type": "display_data"
    }
   ],
   "source": [
    "bestlam<-ridge.cv$lambda.min\n",
    "round(bestlam,3)\n",
    "round(log(bestlam),3)\n",
    "plot(ridge.cv)\n",
    "abline(v=log(bestlam),lwd=3,col=\"cyan\")"
   ]
  },
  {
   "cell_type": "code",
   "execution_count": 44,
   "metadata": {},
   "outputs": [
    {
     "data": {
      "text/html": [
       "1.458"
      ],
      "text/latex": [
       "1.458"
      ],
      "text/markdown": [
       "1.458"
      ],
      "text/plain": [
       "[1] 1.458"
      ]
     },
     "metadata": {},
     "output_type": "display_data"
    },
    {
     "data": {
      "text/plain": [
       "10 x 1 sparse Matrix of class \"dgCMatrix\"\n",
       "                   1\n",
       "(Intercept)  -59.715\n",
       "temp           0.052\n",
       "ratio          0.156\n",
       "time         -71.519\n",
       "I(temp^2)      0.000\n",
       "I(ratio^2)    -0.009\n",
       "I(time^2)   -123.465\n",
       "temp:ratio     0.000\n",
       "temp:time     -0.075\n",
       "ratio:time     9.542"
      ]
     },
     "metadata": {},
     "output_type": "display_data"
    }
   ],
   "source": [
    "ridge.pred<-predict(ridge.mod,s=bestlam,newx=X0)\n",
    "round(mean((ridge.pred-y)^2),3)\n",
    "out<-glmnet(X0,y,alpha=0)\n",
    "ridge.coef<-predict(out,type=\"coefficients\",s=bestlam)\n",
    "r.ridge<-round(ridge.coef,3)\n",
    "r.ridge"
   ]
  },
  {
   "cell_type": "markdown",
   "metadata": {},
   "source": [
    "El resultado de la regresion Ridge dice que \"I(temp^2)\" y \"temp:ratio\" son demasiado dependientes del resto de variables, han de ser descartados."
   ]
  },
  {
   "cell_type": "markdown",
   "metadata": {},
   "source": [
    "### (2) Regresión en componentes principales (PCR)\n",
    "\n",
    " (decidiendo el número de componentes a incluir en el modelo)\n"
   ]
  },
  {
   "cell_type": "code",
   "execution_count": 46,
   "metadata": {},
   "outputs": [],
   "source": [
    "#install.packages(\"pls\",dependencies=TRUE,repos=\"https://cloud.r-project.org\")\n",
    "require(pls)"
   ]
  },
  {
   "cell_type": "markdown",
   "metadata": {},
   "source": [
    "Aplicamos un PCR sobre los datos"
   ]
  },
  {
   "cell_type": "code",
   "execution_count": 48,
   "metadata": {},
   "outputs": [
    {
     "name": "stdout",
     "output_type": "stream",
     "text": [
      "Data: \tX dimension: 16 9 \n",
      "\tY dimension: 16 1\n",
      "Fit method: svdpc\n",
      "Number of components considered: 9\n",
      "\n",
      "VALIDATION: RMSEP\n",
      "Cross-validated using 10 random segments.\n",
      "       (Intercept)  1 comps  2 comps  3 comps  4 comps  5 comps  6 comps\n",
      "CV           12.29    4.727    5.356    5.612    1.941    2.085    2.293\n",
      "adjCV        12.29    4.642    5.282    5.531    1.902    2.030    2.218\n",
      "       7 comps  8 comps  9 comps\n",
      "CV       2.502    6.240    8.631\n",
      "adjCV    2.419    5.852    8.087\n",
      "\n",
      "TRAINING: % variance explained\n",
      "       1 comps  2 comps  3 comps  4 comps  5 comps  6 comps  7 comps  8 comps\n",
      "X        63.39    96.49    98.39    99.73    99.97   100.00   100.00   100.00\n",
      "yield    86.29    86.41    88.60    98.69    98.87    98.97    99.03    99.72\n",
      "       9 comps\n",
      "X       100.00\n",
      "yield    99.77\n"
     ]
    }
   ],
   "source": [
    "set.seed(2)\n",
    "pcr.fit<-pcr(yield~temp+ratio+time+I(temp^2)+I(ratio^2)+I(time^2)+temp:ratio+temp:time+ratio:time, data=Acetylene,scale=TRUE,validation=\"CV\")\n",
    "summary(pcr.fit)"
   ]
  },
  {
   "cell_type": "code",
   "execution_count": 49,
   "metadata": {},
   "outputs": [
    {
     "data": {
      "image/png": "[encoded data removed]",
      "text/plain": [
       "Plot with title \"yield\""
      ]
     },
     "metadata": {},
     "output_type": "display_data"
    }
   ],
   "source": [
    "validationplot(pcr.fit,val.type=\"MSEP\")"
   ]
  },
  {
   "cell_type": "markdown",
   "metadata": {},
   "source": [
    "El numero de componentes que minimizan el MSE es 4, es el valor que usaremos en el predictor"
   ]
  },
  {
   "cell_type": "code",
   "execution_count": 51,
   "metadata": {},
   "outputs": [
    {
     "data": {
      "text/html": [
       "1.735"
      ],
      "text/latex": [
       "1.735"
      ],
      "text/markdown": [
       "1.735"
      ],
      "text/plain": [
       "[1] 1.735"
      ]
     },
     "metadata": {},
     "output_type": "display_data"
    },
    {
     "name": "stdout",
     "output_type": "stream",
     "text": [
      "Data: \tX dimension: 16 9 \n",
      "\tY dimension: 16 1\n",
      "Fit method: svdpc\n",
      "Number of components considered: 4\n",
      "TRAINING: % variance explained\n",
      "   1 comps  2 comps  3 comps  4 comps\n",
      "X    63.39    96.49    98.39    99.73\n",
      "y    86.29    86.41    88.60    98.69\n"
     ]
    }
   ],
   "source": [
    "pcr.pred<-predict(pcr.fit,X0,ncomp=4)\n",
    "round(mean((pcr.pred-y)^2),3)\n",
    "pcr.fit<-pcr(y~X0,scale=TRUE,ncomp=4)\n",
    "summary(pcr.fit)"
   ]
  },
  {
   "cell_type": "markdown",
   "metadata": {},
   "source": [
    "## B) Árboles de predicción\n",
    "\n",
    "Con _sólo uno de los dos datasets_ `spam` y `zip` (reunión de `zip.train` y `zip.test`), construir un árbol de clasificación. Podarlo adecuadamente según la probabilidad de error calculada mediante uno de los métodos conocidos\n",
    "(hold-out, k-fold, LOO, bootstrap)."
   ]
  },
  {
   "cell_type": "code",
   "execution_count": null,
   "metadata": {},
   "outputs": [],
   "source": [
    "#install.packages(\"tree\",dependencies=TRUE,repos=\"https://cloud.r-project.org\")\n",
    "require(tree)"
   ]
  },
  {
   "cell_type": "markdown",
   "metadata": {},
   "source": [
    "Uso los datos sobre Spam del dataset \"spam\" y el metodo de poda aplica k-fold cross validation (en parte porque ya he visto un ejemplo de como usar cv.tree, y porque el CV siempre es buena opcion)"
   ]
  },
  {
   "cell_type": "code",
   "execution_count": null,
   "metadata": {},
   "outputs": [],
   "source": [
    "require(ElemStatLearn)\n",
    "\n",
    "data(spam)\n",
    "true_spam<-spam$spam"
   ]
  },
  {
   "cell_type": "markdown",
   "metadata": {},
   "source": [
    "El primer arbol generado sobre todo el df nos da 13 hojas/posibles finales, y 12 comparaciones. Me gustaria encontrar un arbol mas pequeño con un error en clasificacion lo mas pequeño posible.\n",
    "\n",
    "Por eso lo podare usando k-fold CV para seleccionar las ramas que menos valgan la pena y eliminarlas."
   ]
  },
  {
   "cell_type": "code",
   "execution_count": null,
   "metadata": {},
   "outputs": [],
   "source": [
    "spam.tree<-tree(spam~.,spam)\n",
    "plot(spam.tree)\n",
    "text(spam.tree,cex=0.6)\n",
    "spam.pred<-predict(spam.tree,spam,type=\"class\")\n",
    "table(spam.pred,true_spam)\n",
    "#(2640+1581)/4601 = 0.9174"
   ]
  },
  {
   "cell_type": "markdown",
   "metadata": {},
   "source": [
    "La K del k-fold la ponemos en 10 y observamos donde se observan las variaciones mas importantes, que son 5 y 8. (elijo el valor 10 a dedo ya que me parece un valor bueno, habria elejido un valor entre 10 o 7)"
   ]
  },
  {
   "cell_type": "code",
   "execution_count": null,
   "metadata": {},
   "outputs": [],
   "source": [
    "set.seed(3)\n",
    "\n",
    "\n",
    "spam.tree.CV <-cv.tree(spam.tree,K=10,FUN=prune.tree,method=\"deviance\")\n",
    "\n",
    "par(mfrow=c(1,2))\n",
    "plot(spam.tree.CV$size,spam.tree.CV$dev,type=\"b\")\n",
    "plot(spam.tree.CV$k,spam.tree.CV$dev,type=\"b\")"
   ]
  },
  {
   "cell_type": "markdown",
   "metadata": {},
   "source": [
    "Los valores se estabilizan en 5 y 8, mas alla de estos valores vemos que vuelve a caer en 13 (el tamaño del original). Estos seran los valores que comprobare al hacer la poda para ver con cual me quedo.\n",
    "\n",
    "Comprobamos el error en la clasificacion resultante y los comparamos entre ellos para ver cual es mejor."
   ]
  },
  {
   "cell_type": "code",
   "execution_count": null,
   "metadata": {},
   "outputs": [],
   "source": [
    "par(mfrow=c(1,2))\n",
    "\n",
    "\n",
    "prune.spam1<-prune.tree(spam.tree,method=\"deviance\",best=5)\n",
    "plot(prune.spam1)\n",
    "text(prune.spam1,cex=0.6)\n",
    "spam.pred1<-predict(prune.spam1,spam,type=\"class\")\n",
    "print(\"best = 5\")\n",
    "table(spam.pred1,true_spam)\n",
    "#(2688+1290)/4601 = 0.8646\n",
    "\n",
    "prune.spam2<-prune.tree(spam.tree,method=\"deviance\",best=8)\n",
    "plot(prune.spam2)\n",
    "text(prune.spam2,cex=0.6)\n",
    "spam.pred2<-predict(prune.spam2,spam,type=\"class\")\n",
    "print(\"best = 10\")\n",
    "table(spam.pred2,true_spam)\n",
    "#(2641+1489)/4601 = 0.8976"
   ]
  },
  {
   "cell_type": "markdown",
   "metadata": {},
   "source": [
    "Vemos que 5 es menos de la mitad del tamaño original (13) y tiene resultados bastante buenos. 8 es un tamaño mas proximo al original y pierde muy poquito frente al original.\n",
    "\n",
    "Si queremos minimizar el tamaño o coste de clasificacion el mejor es usar el valor 5. Si queremos ahorrar costes pero tener resultados similares al \"no podado\" el mejor es tamaño 8."
   ]
  }
 ],
 "metadata": {
  "kernelspec": {
   "display_name": "R",
   "language": "R",
   "name": "ir"
  },
  "language_info": {
   "codemirror_mode": "r",
   "file_extension": ".r",
   "mimetype": "text/x-r-source",
   "name": "R",
   "pygments_lexer": "r",
   "version": "3.4.0"
  }
 },
 "nbformat": 4,
 "nbformat_minor": 2
}

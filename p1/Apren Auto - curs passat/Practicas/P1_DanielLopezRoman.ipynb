{
 "cells": [
  {
   "cell_type": "markdown",
   "metadata": {},
   "source": [
    "Para esta entrega se trata de realizar varias regresiones k-NN, ya sea con la\n",
    "función incluida en el notebook knn.00, con una modificación de ella o con otra\n",
    "función (la función proporcionada en el notebook es sólo una posibilidad, tiene\n",
    "mucho margen de mejora). En cada regresión debéis hacer una validación\n",
    "cruzada, calculando el error cuadrático de predicción con un subconjunto de\n",
    "prueba seleccionado al azar del total de datos. Basándoos en ella decidid qué\n",
    "valor o valores de k permiten una mejor predicción."
   ]
  },
  {
   "cell_type": "markdown",
   "metadata": {},
   "source": [
    "1. Leed los datos 'Advertising', eliminando la primera columna, que contiene el índice de cada observación.\n",
    "\n",
    "Advertising<-read.csv(\"Advertising.csv\")\n",
    "\n",
    "Advertising<-Advertising[,-1]"
   ]
  },
  {
   "cell_type": "code",
   "execution_count": 61,
   "metadata": {},
   "outputs": [],
   "source": [
    "Advertising<-read.csv(\"Advertising.csv\")\n",
    "Advertising<-Advertising[,-1]\n",
    "\n",
    "indexTrain <- nrow(Advertising)*0.75"
   ]
  },
  {
   "cell_type": "markdown",
   "metadata": {},
   "source": [
    "Preparad tres regresiones univariantes k-NN de la respuesta 'Sales' frente a\n",
    "cada uno de los tres predictores: 'TV', 'Radio', 'Newspaper' y una\n",
    "regresión múltiple de la respuesta 'Sales' frente al conjunto de los tres\n",
    "predictores. Será relevante, en este último caso, estandarizar los predictores"
   ]
  },
  {
   "cell_type": "code",
   "execution_count": 62,
   "metadata": {},
   "outputs": [],
   "source": [
    "tvTrain <- Advertising[0:indexTrain,1]\n",
    "radioTrain <- Advertising[0:indexTrain,2]\n",
    "newpaperTrain <- Advertising[0:indexTrain,3]\n",
    "salesTrain <- Advertising[0:indexTrain,4]\n",
    "\n",
    "\n",
    "tvTest <- Advertising[(indexTrain+1):nrow(Advertising),1]\n",
    "radioTest <- Advertising[(indexTrain+1):nrow(Advertising),2]\n",
    "newpaperTest <- Advertising[(indexTrain+1):nrow(Advertising),3]\n",
    "salesTest <- Advertising[(indexTrain+1):nrow(Advertising),4]"
   ]
  },
  {
   "cell_type": "code",
   "execution_count": 63,
   "metadata": {},
   "outputs": [
    {
     "data": {
      "text/html": [
       "<ol class=list-inline>\n",
       "\t<li>150</li>\n",
       "\t<li>3</li>\n",
       "</ol>\n"
      ],
      "text/latex": [
       "\\begin{enumerate*}\n",
       "\\item 150\n",
       "\\item 3\n",
       "\\end{enumerate*}\n"
      ],
      "text/markdown": [
       "1. 150\n",
       "2. 3\n",
       "\n",
       "\n"
      ],
      "text/plain": [
       "[1] 150   3"
      ]
     },
     "metadata": {},
     "output_type": "display_data"
    },
    {
     "data": {
      "text/html": [
       "<ol class=list-inline>\n",
       "\t<li>50</li>\n",
       "\t<li>3</li>\n",
       "</ol>\n"
      ],
      "text/latex": [
       "\\begin{enumerate*}\n",
       "\\item 50\n",
       "\\item 3\n",
       "\\end{enumerate*}\n"
      ],
      "text/markdown": [
       "1. 50\n",
       "2. 3\n",
       "\n",
       "\n"
      ],
      "text/plain": [
       "[1] 50  3"
      ]
     },
     "metadata": {},
     "output_type": "display_data"
    }
   ],
   "source": [
    "advTrain <- Advertising[0:indexTrain,1:3]\n",
    "advTest <- Advertising[(indexTrain+1):nrow(Advertising),1:3]\n",
    "dim(advTrain)\n",
    "dim(advTest)"
   ]
  },
  {
   "cell_type": "code",
   "execution_count": 64,
   "metadata": {
    "collapsed": true
   },
   "outputs": [],
   "source": [
    "knn.regression<-function(Xtrain,ytrain,k,x0){\n",
    "    n<-nrow(Xtrain)\n",
    "    p<-ncol(Xtrain)\n",
    "    X0<-sweep(Xtrain,2,x0)\n",
    "    X02<-X0^2\n",
    "    dx0<-apply(X02,1,sum)\n",
    "    Idx<-sort(dx0,index.return=TRUE)$ix\n",
    "    ys<-ytrain[Idx[1:k]]\n",
    "    return(mean(ys))\n",
    "}\n",
    "\n",
    "knn.class<-function(Xtrain,ytrain,k,x0,CRISP=TRUE){\n",
    "    ys<-knn.prep(Xtrain,ytrain,k,x0)\n",
    "    T<-table(ys)\n",
    "    freq<-as.numeric(T)\n",
    "    vals<-names(T)\n",
    "    if (CRISP)\n",
    "        y.hat<-vals[which.max(freq)]\n",
    "    else\n",
    "        y.hat<-Softmax(freq)\n",
    "    return(y.hat)\n",
    "}\n",
    "        \n",
    "knn.prep<-function(Xtrain,ytrain,k,x0){\n",
    "    \n",
    "    n<-nrow(Xtrain)\n",
    "    p<-ncol(Xtrain)\n",
    "    X0<-sweep(Xtrain,2,x0)\n",
    "    X02<-X0^2\n",
    "    dx0<-apply(X02,1,sum)\n",
    "    Idx<-sort(dx0,index.return=TRUE)$ix\n",
    "    ys<-ytrain[Idx[1:k]]\n",
    "    return(ys)\n",
    "}"
   ]
  },
  {
   "cell_type": "code",
   "execution_count": 65,
   "metadata": {},
   "outputs": [
    {
     "data": {
      "text/html": [
       "50"
      ],
      "text/latex": [
       "50"
      ],
      "text/markdown": [
       "50"
      ],
      "text/plain": [
       "[1] 50"
      ]
     },
     "metadata": {},
     "output_type": "display_data"
    },
    {
     "data": {
      "text/html": [
       "50"
      ],
      "text/latex": [
       "50"
      ],
      "text/markdown": [
       "50"
      ],
      "text/plain": [
       "[1] 50"
      ]
     },
     "metadata": {},
     "output_type": "display_data"
    },
    {
     "data": {
      "text/html": [
       "50"
      ],
      "text/latex": [
       "50"
      ],
      "text/markdown": [
       "50"
      ],
      "text/plain": [
       "[1] 50"
      ]
     },
     "metadata": {},
     "output_type": "display_data"
    }
   ],
   "source": [
    "k <- 3\n",
    "\n",
    "tvPredict <- sapply(tvTest, function(x) knn.regression(as.matrix(tvTrain), salesTrain, k, x) )\n",
    "length(tvPredict)\n",
    "    \n",
    "radioPredict <- sapply(radioTest, function(x) knn.regression(as.matrix(radioTrain), salesTrain, k, x) )\n",
    "length(radioPredict)\n",
    "    \n",
    "newpaperPredict <- sapply(newpaperTest, function(x) knn.regression(as.matrix(newpaperTrain), salesTrain, k, x) )\n",
    "length(newpaperPredict)"
   ]
  },
  {
   "cell_type": "code",
   "execution_count": 66,
   "metadata": {},
   "outputs": [
    {
     "data": {
      "text/html": [
       "50"
      ],
      "text/latex": [
       "50"
      ],
      "text/markdown": [
       "50"
      ],
      "text/plain": [
       "[1] 50"
      ]
     },
     "metadata": {},
     "output_type": "display_data"
    }
   ],
   "source": [
    "advPredict <- apply(advTest, 1, function(x) knn.regression(advTrain, salesTrain, k, x) )\n",
    "length(advPredict)"
   ]
  },
  {
   "cell_type": "code",
   "execution_count": 67,
   "metadata": {},
   "outputs": [
    {
     "data": {
      "image/png": "[encoded data removed]",
      "text/plain": [
       "plot without title"
      ]
     },
     "metadata": {},
     "output_type": "display_data"
    }
   ],
   "source": [
    "plot(tvTest, tvPredict, type=\"p\", col=\"red\")\n",
    "lines(tvTest, salesTest, type=\"p\", col=\"green\")"
   ]
  },
  {
   "cell_type": "code",
   "execution_count": 68,
   "metadata": {},
   "outputs": [
    {
     "data": {
      "image/png": "[encoded data removed]",
      "text/plain": [
       "plot without title"
      ]
     },
     "metadata": {},
     "output_type": "display_data"
    }
   ],
   "source": [
    "plot(radioTest, radioPredict, type=\"p\", col=\"red\")\n",
    "lines(radioTest, salesTest, type=\"p\", col=\"green\")"
   ]
  },
  {
   "cell_type": "code",
   "execution_count": 69,
   "metadata": {},
   "outputs": [
    {
     "data": {
      "image/png": "[encoded data removed]",
      "text/plain": [
       "plot without title"
      ]
     },
     "metadata": {},
     "output_type": "display_data"
    }
   ],
   "source": [
    "plot(newpaperTest, newpaperPredict, type=\"p\", col=\"red\")\n",
    "lines(newpaperTest, salesTest, type=\"p\", col=\"green\")"
   ]
  },
  {
   "cell_type": "code",
   "execution_count": 70,
   "metadata": {},
   "outputs": [],
   "source": [
    "tvMSP <- (sum((salesTest-tvPredict)^2))/length(salesTest)\n",
    "radioMSP <- (sum((salesTest-radioPredict)^2))/length(salesTest)\n",
    "newpaperMSP <- (sum((salesTest-newpaperPredict)^2))/length(salesTest)\n",
    "advMSP <- (sum((salesTest-advPredict)^2))/length(salesTest)"
   ]
  },
  {
   "cell_type": "code",
   "execution_count": 71,
   "metadata": {},
   "outputs": [
    {
     "data": {
      "text/html": [
       "'Mean Squared Predictors:'"
      ],
      "text/latex": [
       "'Mean Squared Predictors:'"
      ],
      "text/markdown": [
       "'Mean Squared Predictors:'"
      ],
      "text/plain": [
       "[1] \"Mean Squared Predictors:\""
      ]
     },
     "metadata": {},
     "output_type": "display_data"
    },
    {
     "data": {
      "text/html": [
       "'TV: 13.631133'"
      ],
      "text/latex": [
       "'TV: 13.631133'"
      ],
      "text/markdown": [
       "'TV: 13.631133'"
      ],
      "text/plain": [
       "[1] \"TV: 13.631133\""
      ]
     },
     "metadata": {},
     "output_type": "display_data"
    },
    {
     "data": {
      "text/html": [
       "'Radio: 19.118178'"
      ],
      "text/latex": [
       "'Radio: 19.118178'"
      ],
      "text/markdown": [
       "'Radio: 19.118178'"
      ],
      "text/plain": [
       "[1] \"Radio: 19.118178\""
      ]
     },
     "metadata": {},
     "output_type": "display_data"
    },
    {
     "data": {
      "text/html": [
       "'Newspaper: 36.761578'"
      ],
      "text/latex": [
       "'Newspaper: 36.761578'"
      ],
      "text/markdown": [
       "'Newspaper: 36.761578'"
      ],
      "text/plain": [
       "[1] \"Newspaper: 36.761578\""
      ]
     },
     "metadata": {},
     "output_type": "display_data"
    },
    {
     "data": {
      "text/html": [
       "'3 predictores: 2.186378'"
      ],
      "text/latex": [
       "'3 predictores: 2.186378'"
      ],
      "text/markdown": [
       "'3 predictores: 2.186378'"
      ],
      "text/plain": [
       "[1] \"3 predictores: 2.186378\""
      ]
     },
     "metadata": {},
     "output_type": "display_data"
    }
   ],
   "source": [
    "sprintf(\"Mean Squared Predictors:\")\n",
    "sprintf(\"TV: %f\", tvMSP)\n",
    "sprintf(\"Radio: %f\", radioMSP)\n",
    "sprintf(\"Newspaper: %f\", newpaperMSP)\n",
    "sprintf(\"3 predictores: %f\", advMSP)"
   ]
  },
  {
   "cell_type": "markdown",
   "metadata": {},
   "source": [
    "Como podemos ver, el mejor predictor de los 3 primeros (TV, Radio y Periodico) es TV, pero todos juntos son mejor predictor que TV."
   ]
  }
 ],
 "metadata": {
  "kernelspec": {
   "display_name": "R",
   "language": "R",
   "name": "ir"
  },
  "language_info": {
   "codemirror_mode": "r",
   "file_extension": ".r",
   "mimetype": "text/x-r-source",
   "name": "R",
   "pygments_lexer": "r",
   "version": "3.4.0"
  }
 },
 "nbformat": 4,
 "nbformat_minor": 2
}

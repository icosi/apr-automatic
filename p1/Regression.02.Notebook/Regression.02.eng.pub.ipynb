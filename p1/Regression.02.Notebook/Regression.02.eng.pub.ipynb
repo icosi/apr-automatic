{
 "cells": [
  {
   "cell_type": "markdown",
   "metadata": {},
   "source": [
    "# Linear regression 02"
   ]
  },
  {
   "cell_type": "markdown",
   "metadata": {},
   "source": [
    "##### Josep Fortiana 2019-10-08"
   ]
  },
  {
   "cell_type": "markdown",
   "metadata": {},
   "source": [
    "## 1. Multicollinearity and condition number"
   ]
  },
  {
   "cell_type": "markdown",
   "metadata": {},
   "source": [
    "### Acetylene data"
   ]
  },
  {
   "cell_type": "markdown",
   "metadata": {},
   "source": [
    "Download the files: `Acetylene.dat.txt` (data description), `Acetylene.txt` (actual data). We will use these data for multiple linear regression."
   ]
  },
  {
   "cell_type": "code",
   "execution_count": 1,
   "metadata": {},
   "outputs": [
    {
     "name": "stdout",
     "output_type": "stream",
     "text": [
      "'data.frame':\t16 obs. of  4 variables:\n",
      " $ X1: int  1300 1300 1300 1300 1300 1300 1200 1200 1200 1200 ...\n",
      " $ X2: num  7.5 9 11 13.5 17 23 5.3 7.5 11 13.5 ...\n",
      " $ X3: num  0.012 0.012 0.0115 0.013 0.0135 0.012 0.04 0.038 0.032 0.026 ...\n",
      " $ Y : num  49 50.2 50.5 48.5 47.5 44.5 28 31.5 34.5 35 ...\n"
     ]
    }
   ],
   "source": [
    "Acetylene<-read.table(\"Acetylene.txt\",header=TRUE)\n",
    "str(Acetylene)"
   ]
  },
  {
   "cell_type": "markdown",
   "metadata": {},
   "source": [
    "#### A description of data"
   ]
  },
  {
   "cell_type": "code",
   "execution_count": 2,
   "metadata": {},
   "outputs": [
    {
     "data": {
      "text/plain": [
       "       X1             X2              X3                Y        \n",
       " Min.   :1100   Min.   : 5.30   Min.   :0.01150   Min.   :15.00  \n",
       " 1st Qu.:1175   1st Qu.: 7.50   1st Qu.:0.01275   1st Qu.:29.12  \n",
       " Median :1200   Median :11.00   Median :0.03300   Median :36.50  \n",
       " Mean   :1212   Mean   :12.44   Mean   :0.04031   Mean   :36.11  \n",
       " 3rd Qu.:1300   3rd Qu.:17.00   3rd Qu.:0.05175   3rd Qu.:47.75  \n",
       " Max.   :1300   Max.   :23.00   Max.   :0.09800   Max.   :50.50  "
      ]
     },
     "metadata": {},
     "output_type": "display_data"
    }
   ],
   "source": [
    "summary(Acetylene)"
   ]
  },
  {
   "cell_type": "code",
   "execution_count": 3,
   "metadata": {},
   "outputs": [
    {
     "data": {
      "text/html": [
       "<table>\n",
       "<caption>A matrix: 4 × 4 of type dbl</caption>\n",
       "<thead>\n",
       "\t<tr><th></th><th scope=col>X1</th><th scope=col>X2</th><th scope=col>X3</th><th scope=col>Y</th></tr>\n",
       "</thead>\n",
       "<tbody>\n",
       "\t<tr><th scope=row>X1</th><td> 1.00</td><td> 0.22</td><td>-0.96</td><td> 0.95</td></tr>\n",
       "\t<tr><th scope=row>X2</th><td> 0.22</td><td> 1.00</td><td>-0.24</td><td> 0.37</td></tr>\n",
       "\t<tr><th scope=row>X3</th><td>-0.96</td><td>-0.24</td><td> 1.00</td><td>-0.91</td></tr>\n",
       "\t<tr><th scope=row>Y</th><td> 0.95</td><td> 0.37</td><td>-0.91</td><td> 1.00</td></tr>\n",
       "</tbody>\n",
       "</table>\n"
      ],
      "text/latex": [
       "A matrix: 4 × 4 of type dbl\n",
       "\\begin{tabular}{r|llll}\n",
       "  & X1 & X2 & X3 & Y\\\\\n",
       "\\hline\n",
       "\tX1 &  1.00 &  0.22 & -0.96 &  0.95\\\\\n",
       "\tX2 &  0.22 &  1.00 & -0.24 &  0.37\\\\\n",
       "\tX3 & -0.96 & -0.24 &  1.00 & -0.91\\\\\n",
       "\tY &  0.95 &  0.37 & -0.91 &  1.00\\\\\n",
       "\\end{tabular}\n"
      ],
      "text/markdown": [
       "\n",
       "A matrix: 4 × 4 of type dbl\n",
       "\n",
       "| <!--/--> | X1 | X2 | X3 | Y |\n",
       "|---|---|---|---|---|\n",
       "| X1 |  1.00 |  0.22 | -0.96 |  0.95 |\n",
       "| X2 |  0.22 |  1.00 | -0.24 |  0.37 |\n",
       "| X3 | -0.96 | -0.24 |  1.00 | -0.91 |\n",
       "| Y |  0.95 |  0.37 | -0.91 |  1.00 |\n",
       "\n"
      ],
      "text/plain": [
       "   X1    X2    X3    Y    \n",
       "X1  1.00  0.22 -0.96  0.95\n",
       "X2  0.22  1.00 -0.24  0.37\n",
       "X3 -0.96 -0.24  1.00 -0.91\n",
       "Y   0.95  0.37 -0.91  1.00"
      ]
     },
     "metadata": {},
     "output_type": "display_data"
    }
   ],
   "source": [
    "round(cor(Acetylene),2)"
   ]
  },
  {
   "cell_type": "markdown",
   "metadata": {},
   "source": [
    "#### Linear model with a linear influence of each of the  three available predictors _(main effects)_ "
   ]
  },
  {
   "cell_type": "code",
   "execution_count": 4,
   "metadata": {},
   "outputs": [
    {
     "data": {
      "text/plain": [
       "\n",
       "Call:\n",
       "lm(formula = Y ~ X1 + X2 + X3, data = Acetylene)\n",
       "\n",
       "Residuals:\n",
       "   Min     1Q Median     3Q    Max \n",
       "-6.920 -1.856  0.234  2.074  6.948 \n",
       "\n",
       "Coefficients:\n",
       "              Estimate Std. Error t value Pr(>|t|)  \n",
       "(Intercept) -121.26962   55.43571  -2.188   0.0492 *\n",
       "X1             0.12685    0.04218   3.007   0.0109 *\n",
       "X2             0.34816    0.17702   1.967   0.0728 .\n",
       "X3           -19.02170  107.92824  -0.176   0.8630  \n",
       "---\n",
       "Signif. codes:  0 ‘***’ 0.001 ‘**’ 0.01 ‘*’ 0.05 ‘.’ 0.1 ‘ ’ 1\n",
       "\n",
       "Residual standard error: 3.767 on 12 degrees of freedom\n",
       "Multiple R-squared:  0.9198,\tAdjusted R-squared:  0.8998 \n",
       "F-statistic: 45.88 on 3 and 12 DF,  p-value: 7.522e-07\n"
      ]
     },
     "metadata": {},
     "output_type": "display_data"
    }
   ],
   "source": [
    "Acetylene.lm.1<-lm(Y~X1+X2+X3,data=Acetylene)\n",
    "summary(Acetylene.lm.1)"
   ]
  },
  {
   "cell_type": "markdown",
   "metadata": {},
   "source": [
    "#### Syntax for prediction\n",
    "\n",
    "Assume we have a (or several) new observation(s) of $X1$, $X2$, $X3$. What does the model `Acetylene.lm.1` predict for the corresponding value(s) of $Y$?\n",
    "\n",
    "$X1=1200$, $X2=11.0$, $X3=0.033$ \n",
    "\n",
    "Here I have chosen the median values, just as an example. Any value within the predictor ranges will do. Prediction for values outside this range (extrapolation) is possible but one should be wary of large errors. \n",
    "\n",
    "Procedure is to build a `data.frame` with the new values (including variable names) and use the predict function:"
   ]
  },
  {
   "cell_type": "code",
   "execution_count": 5,
   "metadata": {},
   "outputs": [],
   "source": [
    "new.observation<-data.frame(X1=1200,X2=11.0,X3=0.033)\n",
    "Acetylene.prediction.1<-predict(Acetylene.lm.1,newdata=new.observation,type=\"response\")\n",
    "Acetylene.prediction.2<-predict(Acetylene.lm.1,newdata=new.observation,type=\"response\", interval=\"confidence\")\n",
    "Acetylene.prediction.3<-predict(Acetylene.lm.1,newdata=new.observation,type=\"response\", interval=\"prediction\")"
   ]
  },
  {
   "cell_type": "code",
   "execution_count": 6,
   "metadata": {},
   "outputs": [
    {
     "data": {
      "text/html": [
       "<strong>1:</strong> 34.1570204810194"
      ],
      "text/latex": [
       "\\textbf{1:} 34.1570204810194"
      ],
      "text/markdown": [
       "**1:** 34.1570204810194"
      ],
      "text/plain": [
       "       1 \n",
       "34.15702 "
      ]
     },
     "metadata": {},
     "output_type": "display_data"
    },
    {
     "data": {
      "text/html": [
       "<table>\n",
       "<caption>A matrix: 1 × 3 of type dbl</caption>\n",
       "<thead>\n",
       "\t<tr><th scope=col>fit</th><th scope=col>lwr</th><th scope=col>upr</th></tr>\n",
       "</thead>\n",
       "<tbody>\n",
       "\t<tr><td>34.15702</td><td>30.58172</td><td>37.73232</td></tr>\n",
       "</tbody>\n",
       "</table>\n"
      ],
      "text/latex": [
       "A matrix: 1 × 3 of type dbl\n",
       "\\begin{tabular}{r|lll}\n",
       " fit & lwr & upr\\\\\n",
       "\\hline\n",
       "\t 34.15702 & 30.58172 & 37.73232\\\\\n",
       "\\end{tabular}\n"
      ],
      "text/markdown": [
       "\n",
       "A matrix: 1 × 3 of type dbl\n",
       "\n",
       "| fit | lwr | upr |\n",
       "|---|---|---|\n",
       "| 34.15702 | 30.58172 | 37.73232 |\n",
       "\n"
      ],
      "text/plain": [
       "  fit      lwr      upr     \n",
       "1 34.15702 30.58172 37.73232"
      ]
     },
     "metadata": {},
     "output_type": "display_data"
    },
    {
     "data": {
      "text/html": [
       "<table>\n",
       "<caption>A matrix: 1 × 3 of type dbl</caption>\n",
       "<thead>\n",
       "\t<tr><th scope=col>fit</th><th scope=col>lwr</th><th scope=col>upr</th></tr>\n",
       "</thead>\n",
       "<tbody>\n",
       "\t<tr><td>34.15702</td><td>25.20437</td><td>43.10967</td></tr>\n",
       "</tbody>\n",
       "</table>\n"
      ],
      "text/latex": [
       "A matrix: 1 × 3 of type dbl\n",
       "\\begin{tabular}{r|lll}\n",
       " fit & lwr & upr\\\\\n",
       "\\hline\n",
       "\t 34.15702 & 25.20437 & 43.10967\\\\\n",
       "\\end{tabular}\n"
      ],
      "text/markdown": [
       "\n",
       "A matrix: 1 × 3 of type dbl\n",
       "\n",
       "| fit | lwr | upr |\n",
       "|---|---|---|\n",
       "| 34.15702 | 25.20437 | 43.10967 |\n",
       "\n"
      ],
      "text/plain": [
       "  fit      lwr      upr     \n",
       "1 34.15702 25.20437 43.10967"
      ]
     },
     "metadata": {},
     "output_type": "display_data"
    }
   ],
   "source": [
    "#str(Acetylene.prediction.1)\n",
    "Acetylene.prediction.1\n",
    "#str(Acetylene.prediction.2)\n",
    "Acetylene.prediction.2\n",
    "#str(Acetylene.prediction.3)\n",
    "Acetylene.prediction.3"
   ]
  },
  {
   "cell_type": "markdown",
   "metadata": {},
   "source": [
    "#### Investigate multicollinearity"
   ]
  },
  {
   "cell_type": "markdown",
   "metadata": {},
   "source": [
    "Extract the _regression (or model) matrix,_ i.e., the result of pasting a column of ones to the matrix containing the values of  `X1`, `X2`, `X3`. The new column will correspond to the `(Intercept)` regression term."
   ]
  },
  {
   "cell_type": "code",
   "execution_count": 7,
   "metadata": {},
   "outputs": [
    {
     "data": {
      "text/html": [
       "<table>\n",
       "<caption>A matrix: 16 × 4 of type dbl</caption>\n",
       "<thead>\n",
       "\t<tr><th scope=col>(Intercept)</th><th scope=col>X1</th><th scope=col>X2</th><th scope=col>X3</th></tr>\n",
       "</thead>\n",
       "<tbody>\n",
       "\t<tr><td>1</td><td>1300</td><td> 7.5</td><td>0.0120</td></tr>\n",
       "\t<tr><td>1</td><td>1300</td><td> 9.0</td><td>0.0120</td></tr>\n",
       "\t<tr><td>1</td><td>1300</td><td>11.0</td><td>0.0115</td></tr>\n",
       "\t<tr><td>1</td><td>1300</td><td>13.5</td><td>0.0130</td></tr>\n",
       "\t<tr><td>1</td><td>1300</td><td>17.0</td><td>0.0135</td></tr>\n",
       "\t<tr><td>1</td><td>1300</td><td>23.0</td><td>0.0120</td></tr>\n",
       "\t<tr><td>1</td><td>1200</td><td> 5.3</td><td>0.0400</td></tr>\n",
       "\t<tr><td>1</td><td>1200</td><td> 7.5</td><td>0.0380</td></tr>\n",
       "\t<tr><td>1</td><td>1200</td><td>11.0</td><td>0.0320</td></tr>\n",
       "\t<tr><td>1</td><td>1200</td><td>13.5</td><td>0.0260</td></tr>\n",
       "\t<tr><td>1</td><td>1200</td><td>17.0</td><td>0.0340</td></tr>\n",
       "\t<tr><td>1</td><td>1200</td><td>23.0</td><td>0.0410</td></tr>\n",
       "\t<tr><td>1</td><td>1100</td><td> 5.3</td><td>0.0840</td></tr>\n",
       "\t<tr><td>1</td><td>1100</td><td> 7.5</td><td>0.0980</td></tr>\n",
       "\t<tr><td>1</td><td>1100</td><td>11.0</td><td>0.0920</td></tr>\n",
       "\t<tr><td>1</td><td>1100</td><td>17.0</td><td>0.0860</td></tr>\n",
       "</tbody>\n",
       "</table>\n"
      ],
      "text/latex": [
       "A matrix: 16 × 4 of type dbl\n",
       "\\begin{tabular}{r|llll}\n",
       " (Intercept) & X1 & X2 & X3\\\\\n",
       "\\hline\n",
       "\t 1 & 1300 &  7.5 & 0.0120\\\\\n",
       "\t 1 & 1300 &  9.0 & 0.0120\\\\\n",
       "\t 1 & 1300 & 11.0 & 0.0115\\\\\n",
       "\t 1 & 1300 & 13.5 & 0.0130\\\\\n",
       "\t 1 & 1300 & 17.0 & 0.0135\\\\\n",
       "\t 1 & 1300 & 23.0 & 0.0120\\\\\n",
       "\t 1 & 1200 &  5.3 & 0.0400\\\\\n",
       "\t 1 & 1200 &  7.5 & 0.0380\\\\\n",
       "\t 1 & 1200 & 11.0 & 0.0320\\\\\n",
       "\t 1 & 1200 & 13.5 & 0.0260\\\\\n",
       "\t 1 & 1200 & 17.0 & 0.0340\\\\\n",
       "\t 1 & 1200 & 23.0 & 0.0410\\\\\n",
       "\t 1 & 1100 &  5.3 & 0.0840\\\\\n",
       "\t 1 & 1100 &  7.5 & 0.0980\\\\\n",
       "\t 1 & 1100 & 11.0 & 0.0920\\\\\n",
       "\t 1 & 1100 & 17.0 & 0.0860\\\\\n",
       "\\end{tabular}\n"
      ],
      "text/markdown": [
       "\n",
       "A matrix: 16 × 4 of type dbl\n",
       "\n",
       "| (Intercept) | X1 | X2 | X3 |\n",
       "|---|---|---|---|\n",
       "| 1 | 1300 |  7.5 | 0.0120 |\n",
       "| 1 | 1300 |  9.0 | 0.0120 |\n",
       "| 1 | 1300 | 11.0 | 0.0115 |\n",
       "| 1 | 1300 | 13.5 | 0.0130 |\n",
       "| 1 | 1300 | 17.0 | 0.0135 |\n",
       "| 1 | 1300 | 23.0 | 0.0120 |\n",
       "| 1 | 1200 |  5.3 | 0.0400 |\n",
       "| 1 | 1200 |  7.5 | 0.0380 |\n",
       "| 1 | 1200 | 11.0 | 0.0320 |\n",
       "| 1 | 1200 | 13.5 | 0.0260 |\n",
       "| 1 | 1200 | 17.0 | 0.0340 |\n",
       "| 1 | 1200 | 23.0 | 0.0410 |\n",
       "| 1 | 1100 |  5.3 | 0.0840 |\n",
       "| 1 | 1100 |  7.5 | 0.0980 |\n",
       "| 1 | 1100 | 11.0 | 0.0920 |\n",
       "| 1 | 1100 | 17.0 | 0.0860 |\n",
       "\n"
      ],
      "text/plain": [
       "   (Intercept) X1   X2   X3    \n",
       "1  1           1300  7.5 0.0120\n",
       "2  1           1300  9.0 0.0120\n",
       "3  1           1300 11.0 0.0115\n",
       "4  1           1300 13.5 0.0130\n",
       "5  1           1300 17.0 0.0135\n",
       "6  1           1300 23.0 0.0120\n",
       "7  1           1200  5.3 0.0400\n",
       "8  1           1200  7.5 0.0380\n",
       "9  1           1200 11.0 0.0320\n",
       "10 1           1200 13.5 0.0260\n",
       "11 1           1200 17.0 0.0340\n",
       "12 1           1200 23.0 0.0410\n",
       "13 1           1100  5.3 0.0840\n",
       "14 1           1100  7.5 0.0980\n",
       "15 1           1100 11.0 0.0920\n",
       "16 1           1100 17.0 0.0860"
      ]
     },
     "metadata": {},
     "output_type": "display_data"
    },
    {
     "data": {
      "text/html": [
       "<table>\n",
       "<caption>A matrix: 3 × 3 of type dbl</caption>\n",
       "<thead>\n",
       "\t<tr><th></th><th scope=col>X1</th><th scope=col>X2</th><th scope=col>X3</th></tr>\n",
       "</thead>\n",
       "<tbody>\n",
       "\t<tr><th scope=row>X1</th><td> 1.000</td><td> 0.224</td><td>-0.958</td></tr>\n",
       "\t<tr><th scope=row>X2</th><td> 0.224</td><td> 1.000</td><td>-0.240</td></tr>\n",
       "\t<tr><th scope=row>X3</th><td>-0.958</td><td>-0.240</td><td> 1.000</td></tr>\n",
       "</tbody>\n",
       "</table>\n"
      ],
      "text/latex": [
       "A matrix: 3 × 3 of type dbl\n",
       "\\begin{tabular}{r|lll}\n",
       "  & X1 & X2 & X3\\\\\n",
       "\\hline\n",
       "\tX1 &  1.000 &  0.224 & -0.958\\\\\n",
       "\tX2 &  0.224 &  1.000 & -0.240\\\\\n",
       "\tX3 & -0.958 & -0.240 &  1.000\\\\\n",
       "\\end{tabular}\n"
      ],
      "text/markdown": [
       "\n",
       "A matrix: 3 × 3 of type dbl\n",
       "\n",
       "| <!--/--> | X1 | X2 | X3 |\n",
       "|---|---|---|---|\n",
       "| X1 |  1.000 |  0.224 | -0.958 |\n",
       "| X2 |  0.224 |  1.000 | -0.240 |\n",
       "| X3 | -0.958 | -0.240 |  1.000 |\n",
       "\n"
      ],
      "text/plain": [
       "   X1     X2     X3    \n",
       "X1  1.000  0.224 -0.958\n",
       "X2  0.224  1.000 -0.240\n",
       "X3 -0.958 -0.240  1.000"
      ]
     },
     "metadata": {},
     "output_type": "display_data"
    }
   ],
   "source": [
    "X<-model.matrix(Acetylene.lm.1)\n",
    "X\n",
    "round(cor(X[,-1]),3)"
   ]
  },
  {
   "cell_type": "markdown",
   "metadata": {},
   "source": [
    "Matrix $Q=X'\\cdot X$ of cross-products, its determinant and its inverse:"
   ]
  },
  {
   "cell_type": "code",
   "execution_count": 8,
   "metadata": {},
   "outputs": [
    {
     "data": {
      "text/html": [
       "<table>\n",
       "<caption>A matrix: 4 × 4 of type dbl</caption>\n",
       "<thead>\n",
       "\t<tr><th></th><th scope=col>(Intercept)</th><th scope=col>X1</th><th scope=col>X2</th><th scope=col>X3</th></tr>\n",
       "</thead>\n",
       "<tbody>\n",
       "\t<tr><th scope=row>(Intercept)</th><td>   16.000</td><td>   19400.0</td><td>   199.100</td><td>  0.645</td></tr>\n",
       "\t<tr><th scope=row>X1</th><td>19400.000</td><td>23620000.0</td><td>242940.000</td><td>745.400</td></tr>\n",
       "\t<tr><th scope=row>X2</th><td>  199.100</td><td>  242940.0</td><td>  2958.430</td><td>  7.381</td></tr>\n",
       "\t<tr><th scope=row>X3</th><td>    0.645</td><td>     745.4</td><td>     7.381</td><td>  0.041</td></tr>\n",
       "</tbody>\n",
       "</table>\n"
      ],
      "text/latex": [
       "A matrix: 4 × 4 of type dbl\n",
       "\\begin{tabular}{r|llll}\n",
       "  & (Intercept) & X1 & X2 & X3\\\\\n",
       "\\hline\n",
       "\t(Intercept) &    16.000 &    19400.0 &    199.100 &   0.645\\\\\n",
       "\tX1 & 19400.000 & 23620000.0 & 242940.000 & 745.400\\\\\n",
       "\tX2 &   199.100 &   242940.0 &   2958.430 &   7.381\\\\\n",
       "\tX3 &     0.645 &      745.4 &      7.381 &   0.041\\\\\n",
       "\\end{tabular}\n"
      ],
      "text/markdown": [
       "\n",
       "A matrix: 4 × 4 of type dbl\n",
       "\n",
       "| <!--/--> | (Intercept) | X1 | X2 | X3 |\n",
       "|---|---|---|---|---|\n",
       "| (Intercept) |    16.000 |    19400.0 |    199.100 |   0.645 |\n",
       "| X1 | 19400.000 | 23620000.0 | 242940.000 | 745.400 |\n",
       "| X2 |   199.100 |   242940.0 |   2958.430 |   7.381 |\n",
       "| X3 |     0.645 |      745.4 |      7.381 |   0.041 |\n",
       "\n"
      ],
      "text/plain": [
       "            (Intercept) X1         X2         X3     \n",
       "(Intercept)    16.000      19400.0    199.100   0.645\n",
       "X1          19400.000   23620000.0 242940.000 745.400\n",
       "X2            199.100     242940.0   2958.430   7.381\n",
       "X3              0.645        745.4      7.381   0.041"
      ]
     },
     "metadata": {},
     "output_type": "display_data"
    },
    {
     "data": {
      "text/html": [
       "868196.343"
      ],
      "text/latex": [
       "868196.343"
      ],
      "text/markdown": [
       "868196.343"
      ],
      "text/plain": [
       "[1] 868196.3"
      ]
     },
     "metadata": {},
     "output_type": "display_data"
    },
    {
     "data": {
      "text/html": [
       "<table>\n",
       "<caption>A matrix: 4 × 4 of type dbl</caption>\n",
       "<thead>\n",
       "\t<tr><th></th><th scope=col>(Intercept)</th><th scope=col>X1</th><th scope=col>X2</th><th scope=col>X3</th></tr>\n",
       "</thead>\n",
       "<tbody>\n",
       "\t<tr><th scope=row>(Intercept)</th><td> 216.556</td><td>-0.165</td><td>-0.048</td><td>-406.513</td></tr>\n",
       "\t<tr><th scope=row>X1</th><td>  -0.165</td><td> 0.000</td><td> 0.000</td><td>   0.307</td></tr>\n",
       "\t<tr><th scope=row>X2</th><td>  -0.048</td><td> 0.000</td><td> 0.002</td><td>   0.125</td></tr>\n",
       "\t<tr><th scope=row>X3</th><td>-406.513</td><td> 0.307</td><td> 0.125</td><td> 820.847</td></tr>\n",
       "</tbody>\n",
       "</table>\n"
      ],
      "text/latex": [
       "A matrix: 4 × 4 of type dbl\n",
       "\\begin{tabular}{r|llll}\n",
       "  & (Intercept) & X1 & X2 & X3\\\\\n",
       "\\hline\n",
       "\t(Intercept) &  216.556 & -0.165 & -0.048 & -406.513\\\\\n",
       "\tX1 &   -0.165 &  0.000 &  0.000 &    0.307\\\\\n",
       "\tX2 &   -0.048 &  0.000 &  0.002 &    0.125\\\\\n",
       "\tX3 & -406.513 &  0.307 &  0.125 &  820.847\\\\\n",
       "\\end{tabular}\n"
      ],
      "text/markdown": [
       "\n",
       "A matrix: 4 × 4 of type dbl\n",
       "\n",
       "| <!--/--> | (Intercept) | X1 | X2 | X3 |\n",
       "|---|---|---|---|---|\n",
       "| (Intercept) |  216.556 | -0.165 | -0.048 | -406.513 |\n",
       "| X1 |   -0.165 |  0.000 |  0.000 |    0.307 |\n",
       "| X2 |   -0.048 |  0.000 |  0.002 |    0.125 |\n",
       "| X3 | -406.513 |  0.307 |  0.125 |  820.847 |\n",
       "\n"
      ],
      "text/plain": [
       "            (Intercept) X1     X2     X3      \n",
       "(Intercept)  216.556    -0.165 -0.048 -406.513\n",
       "X1            -0.165     0.000  0.000    0.307\n",
       "X2            -0.048     0.000  0.002    0.125\n",
       "X3          -406.513     0.307  0.125  820.847"
      ]
     },
     "metadata": {},
     "output_type": "display_data"
    }
   ],
   "source": [
    "Q<- t(X) %*% X\n",
    "round(Q,3)\n",
    "round(det(Q),3)\n",
    "Q1<-solve(Q)\n",
    "round(Q1,3)"
   ]
  },
  {
   "cell_type": "markdown",
   "metadata": {},
   "source": [
    "Regression coefficients estimates $\\hat{\\beta}$:\n",
    "\n",
    "$$\n",
    "    \\hat{\\beta}=(X'\\cdot X)^{-1}\\cdot X' \\cdot y.\n",
    "$$\n",
    "\n",
    "$y$ is the column of responses."
   ]
  },
  {
   "cell_type": "code",
   "execution_count": 9,
   "metadata": {},
   "outputs": [
    {
     "data": {
      "text/html": [
       "<table>\n",
       "<caption>A matrix: 4 × 1 of type dbl</caption>\n",
       "<tbody>\n",
       "\t<tr><th scope=row>(Intercept)</th><td>-121.2696214</td></tr>\n",
       "\t<tr><th scope=row>X1</th><td>   0.1268539</td></tr>\n",
       "\t<tr><th scope=row>X2</th><td>   0.3481576</td></tr>\n",
       "\t<tr><th scope=row>X3</th><td> -19.0216969</td></tr>\n",
       "</tbody>\n",
       "</table>\n"
      ],
      "text/latex": [
       "A matrix: 4 × 1 of type dbl\n",
       "\\begin{tabular}{r|l}\n",
       "\t(Intercept) & -121.2696214\\\\\n",
       "\tX1 &    0.1268539\\\\\n",
       "\tX2 &    0.3481576\\\\\n",
       "\tX3 &  -19.0216969\\\\\n",
       "\\end{tabular}\n"
      ],
      "text/markdown": [
       "\n",
       "A matrix: 4 × 1 of type dbl\n",
       "\n",
       "| (Intercept) | -121.2696214 |\n",
       "| X1 |    0.1268539 |\n",
       "| X2 |    0.3481576 |\n",
       "| X3 |  -19.0216969 |\n",
       "\n"
      ],
      "text/plain": [
       "            [,1]        \n",
       "(Intercept) -121.2696214\n",
       "X1             0.1268539\n",
       "X2             0.3481576\n",
       "X3           -19.0216969"
      ]
     },
     "metadata": {},
     "output_type": "display_data"
    }
   ],
   "source": [
    "y<-as.matrix(Acetylene$Y)\n",
    "Q1%*%t(X) %*% y"
   ]
  },
  {
   "cell_type": "markdown",
   "metadata": {},
   "source": [
    "Compute $V$, variances and covariances matrix of the regression coefficients estimators $\\hat{\\beta}$, in two ways:\n",
    "\n",
    "(1) Directly from the above formula, using the fact that $\\operatorname{Var}(y)=\\sigma^{2}\\,I$, substituting the ML estimate $\\hat{\\sigma}^{2}$.\n",
    "\n",
    "(2) With the `vcov()` function in R."
   ]
  },
  {
   "cell_type": "code",
   "execution_count": 10,
   "metadata": {},
   "outputs": [
    {
     "data": {
      "text/html": [
       "<table>\n",
       "<caption>A matrix: 4 × 4 of type dbl</caption>\n",
       "<thead>\n",
       "\t<tr><th></th><th scope=col>(Intercept)</th><th scope=col>X1</th><th scope=col>X2</th><th scope=col>X3</th></tr>\n",
       "</thead>\n",
       "<tbody>\n",
       "\t<tr><th scope=row>(Intercept)</th><td> 3073.118</td><td>-2.335</td><td>-0.676</td><td>-5768.763</td></tr>\n",
       "\t<tr><th scope=row>X1</th><td>   -2.335</td><td> 0.002</td><td> 0.000</td><td>    4.352</td></tr>\n",
       "\t<tr><th scope=row>X2</th><td>   -0.676</td><td> 0.000</td><td> 0.031</td><td>    1.778</td></tr>\n",
       "\t<tr><th scope=row>X3</th><td>-5768.763</td><td> 4.352</td><td> 1.778</td><td>11648.504</td></tr>\n",
       "</tbody>\n",
       "</table>\n"
      ],
      "text/latex": [
       "A matrix: 4 × 4 of type dbl\n",
       "\\begin{tabular}{r|llll}\n",
       "  & (Intercept) & X1 & X2 & X3\\\\\n",
       "\\hline\n",
       "\t(Intercept) &  3073.118 & -2.335 & -0.676 & -5768.763\\\\\n",
       "\tX1 &    -2.335 &  0.002 &  0.000 &     4.352\\\\\n",
       "\tX2 &    -0.676 &  0.000 &  0.031 &     1.778\\\\\n",
       "\tX3 & -5768.763 &  4.352 &  1.778 & 11648.504\\\\\n",
       "\\end{tabular}\n"
      ],
      "text/markdown": [
       "\n",
       "A matrix: 4 × 4 of type dbl\n",
       "\n",
       "| <!--/--> | (Intercept) | X1 | X2 | X3 |\n",
       "|---|---|---|---|---|\n",
       "| (Intercept) |  3073.118 | -2.335 | -0.676 | -5768.763 |\n",
       "| X1 |    -2.335 |  0.002 |  0.000 |     4.352 |\n",
       "| X2 |    -0.676 |  0.000 |  0.031 |     1.778 |\n",
       "| X3 | -5768.763 |  4.352 |  1.778 | 11648.504 |\n",
       "\n"
      ],
      "text/plain": [
       "            (Intercept) X1     X2     X3       \n",
       "(Intercept)  3073.118   -2.335 -0.676 -5768.763\n",
       "X1             -2.335    0.002  0.000     4.352\n",
       "X2             -0.676    0.000  0.031     1.778\n",
       "X3          -5768.763    4.352  1.778 11648.504"
      ]
     },
     "metadata": {},
     "output_type": "display_data"
    },
    {
     "data": {
      "text/html": [
       "<table>\n",
       "<caption>A matrix: 4 × 4 of type dbl</caption>\n",
       "<thead>\n",
       "\t<tr><th></th><th scope=col>(Intercept)</th><th scope=col>X1</th><th scope=col>X2</th><th scope=col>X3</th></tr>\n",
       "</thead>\n",
       "<tbody>\n",
       "\t<tr><th scope=row>(Intercept)</th><td> 3073.1176892</td><td>-2.3350689880</td><td>-0.6755487518</td><td>-5768.762894</td></tr>\n",
       "\t<tr><th scope=row>X1</th><td>   -2.3350690</td><td> 0.0017793193</td><td> 0.0001764518</td><td>    4.352212</td></tr>\n",
       "\t<tr><th scope=row>X2</th><td>   -0.6755488</td><td> 0.0001764518</td><td> 0.0313350447</td><td>    1.777998</td></tr>\n",
       "\t<tr><th scope=row>X3</th><td>-5768.7628939</td><td> 4.3522124727</td><td> 1.7779975238</td><td>11648.503915</td></tr>\n",
       "</tbody>\n",
       "</table>\n"
      ],
      "text/latex": [
       "A matrix: 4 × 4 of type dbl\n",
       "\\begin{tabular}{r|llll}\n",
       "  & (Intercept) & X1 & X2 & X3\\\\\n",
       "\\hline\n",
       "\t(Intercept) &  3073.1176892 & -2.3350689880 & -0.6755487518 & -5768.762894\\\\\n",
       "\tX1 &    -2.3350690 &  0.0017793193 &  0.0001764518 &     4.352212\\\\\n",
       "\tX2 &    -0.6755488 &  0.0001764518 &  0.0313350447 &     1.777998\\\\\n",
       "\tX3 & -5768.7628939 &  4.3522124727 &  1.7779975238 & 11648.503915\\\\\n",
       "\\end{tabular}\n"
      ],
      "text/markdown": [
       "\n",
       "A matrix: 4 × 4 of type dbl\n",
       "\n",
       "| <!--/--> | (Intercept) | X1 | X2 | X3 |\n",
       "|---|---|---|---|---|\n",
       "| (Intercept) |  3073.1176892 | -2.3350689880 | -0.6755487518 | -5768.762894 |\n",
       "| X1 |    -2.3350690 |  0.0017793193 |  0.0001764518 |     4.352212 |\n",
       "| X2 |    -0.6755488 |  0.0001764518 |  0.0313350447 |     1.777998 |\n",
       "| X3 | -5768.7628939 |  4.3522124727 |  1.7779975238 | 11648.503915 |\n",
       "\n"
      ],
      "text/plain": [
       "            (Intercept)   X1            X2            X3          \n",
       "(Intercept)  3073.1176892 -2.3350689880 -0.6755487518 -5768.762894\n",
       "X1             -2.3350690  0.0017793193  0.0001764518     4.352212\n",
       "X2             -0.6755488  0.0001764518  0.0313350447     1.777998\n",
       "X3          -5768.7628939  4.3522124727  1.7779975238 11648.503915"
      ]
     },
     "metadata": {},
     "output_type": "display_data"
    }
   ],
   "source": [
    "sigma.hat<-summary(Acetylene.lm.1)$sigma\n",
    "V<-sigma.hat^2*Q1\n",
    "round(V,3)\n",
    "vcov(Acetylene.lm.1)"
   ]
  },
  {
   "cell_type": "markdown",
   "metadata": {},
   "source": [
    "Diagonal entries in $V$ are the variances of the coefficient estimators. We observe two of them are quite large, indicating model instability. \n",
    "\n",
    "This behaviour can be more precisely detected by using the _Variance Inflation Factors (VIF),_ which we compute with the `vif()` function from the `car` package. Intuitively, VIF's quantify _multicollinearity_ in the data, that is, linear dependences in the set of predictors. The VIF of a predictor is the proportion of its actual variance relative to the one it would have if it were linearly independent from the others:"
   ]
  },
  {
   "cell_type": "code",
   "execution_count": 13,
   "metadata": {},
   "outputs": [
    {
     "name": "stderr",
     "output_type": "stream",
     "text": [
      "also installing the dependencies ‘ps’, ‘plyr’, ‘labeling’, ‘munsell’, ‘RColorBrewer’, ‘processx’, ‘clipr’, ‘BH’, ‘rematch’, ‘prettyunits’, ‘stringi’, ‘gtable’, ‘reshape2’, ‘scales’, ‘viridisLite’, ‘withr’, ‘callr’, ‘forcats’, ‘hms’, ‘readr’, ‘cellranger’, ‘progress’, ‘zip’, ‘pkgconfig’, ‘colorspace’, ‘estimability’, ‘yaml’, ‘highr’, ‘markdown’, ‘stringr’, ‘xfun’, ‘httpuv’, ‘mime’, ‘xtable’, ‘htmltools’, ‘R6’, ‘sourcetools’, ‘later’, ‘promises’, ‘fastmap’, ‘lazyeval’, ‘ggplot2’, ‘miniUI’, ‘webshot’, ‘DBI’, ‘sp’, ‘haven’, ‘curl’, ‘data.table’, ‘readxl’, ‘openxlsx’, ‘tibble’, ‘minqa’, ‘nloptr’, ‘RcppEigen’, ‘effects’, ‘bdsmatrix’, ‘zoo’, ‘htmlwidgets’, ‘knitr’, ‘shiny’, ‘magrittr’, ‘crosstalk’, ‘manipulateWidget’, ‘numDeriv’, ‘mitools’, ‘carData’, ‘abind’, ‘pbkrtest’, ‘quantreg’, ‘maptools’, ‘rio’, ‘lme4’, ‘alr4’, ‘coxme’, ‘leaps’, ‘lmtest’, ‘MatrixModels’, ‘rgl’, ‘sandwich’, ‘SparseM’, ‘survey’\n",
      "\n"
     ]
    },
    {
     "name": "stdout",
     "output_type": "stream",
     "text": [
      "\n",
      "The downloaded binary packages are in\n",
      "\t/var/folders/9j/svs_q7617_7gflck7rcc4q_c0000gn/T//RtmpjqR8GX/downloaded_packages\n"
     ]
    },
    {
     "name": "stderr",
     "output_type": "stream",
     "text": [
      "Loading required package: car\n",
      "Loading required package: carData\n"
     ]
    }
   ],
   "source": [
    "install.packages(\"car\",dependencies=TRUE,repos=\"https://cloud.r-project.org\")\n",
    "require(car)\n",
    "#?vif"
   ]
  },
  {
   "cell_type": "code",
   "execution_count": 14,
   "metadata": {},
   "outputs": [
    {
     "data": {
      "text/html": [
       "<dl class=dl-horizontal>\n",
       "\t<dt>X1</dt>\n",
       "\t\t<dd>12.2250454100393</dd>\n",
       "\t<dt>X2</dt>\n",
       "\t\t<dd>1.06183841935804</dd>\n",
       "\t<dt>X3</dt>\n",
       "\t\t<dd>12.3249635776052</dd>\n",
       "</dl>\n"
      ],
      "text/latex": [
       "\\begin{description*}\n",
       "\\item[X1] 12.2250454100393\n",
       "\\item[X2] 1.06183841935804\n",
       "\\item[X3] 12.3249635776052\n",
       "\\end{description*}\n"
      ],
      "text/markdown": [
       "X1\n",
       ":   12.2250454100393X2\n",
       ":   1.06183841935804X3\n",
       ":   12.3249635776052\n",
       "\n"
      ],
      "text/plain": [
       "       X1        X2        X3 \n",
       "12.225045  1.061838 12.324964 "
      ]
     },
     "metadata": {},
     "output_type": "display_data"
    }
   ],
   "source": [
    "vif(Acetylene.lm.1)"
   ]
  },
  {
   "cell_type": "markdown",
   "metadata": {},
   "source": [
    "The commonly accepted rule of thumb is that a VIF larger than 10 is too large, indicating multicollinearity. "
   ]
  },
  {
   "cell_type": "markdown",
   "metadata": {},
   "source": [
    "Another quantity used in multicollinearity detection is the _condition number_ of the model matrix $X$. In general, the condition number $\\kappa(A)$ of a matrix $A$ measures the numerical inaccuracy introduced by solving the equation $A\\cdot x = b$ for a given column vector $b$. Technically it is the ratio between the maximum and minimum singular values of $A$. When $\\kappa\\approx1$ there is no significant precision loss. When $\\kappa=10^k$ the precision loss of $k$ significant decimal digits:\n",
    "\n",
    "The `kappa()` function in R gives the condition number of a matrix. We check the condition number of the model matrix $X$ of this regression:"
   ]
  },
  {
   "cell_type": "code",
   "execution_count": 15,
   "metadata": {},
   "outputs": [
    {
     "data": {
      "text/html": [
       "201893.288773715"
      ],
      "text/latex": [
       "201893.288773715"
      ],
      "text/markdown": [
       "201893.288773715"
      ],
      "text/plain": [
       "[1] 201893.3"
      ]
     },
     "metadata": {},
     "output_type": "display_data"
    }
   ],
   "source": [
    "kappa(X)"
   ]
  },
  {
   "cell_type": "markdown",
   "metadata": {},
   "source": [
    "We see that these data have bad condition for regression. The practical consequence of this fact is that predictions $\\hat{y}$ obtained from this model are unreliable. \n",
    "\n",
    "The predicted $\\hat{y}$ for a new $x$ can be computed as usual:"
   ]
  },
  {
   "cell_type": "code",
   "execution_count": 16,
   "metadata": {
    "scrolled": true
   },
   "outputs": [
    {
     "data": {
      "text/html": [
       "<strong>1:</strong> 20.674"
      ],
      "text/latex": [
       "\\textbf{1:} 20.674"
      ],
      "text/markdown": [
       "**1:** 20.674"
      ],
      "text/plain": [
       "     1 \n",
       "20.674 "
      ]
     },
     "metadata": {},
     "output_type": "display_data"
    }
   ],
   "source": [
    "newy<-predict(Acetylene.lm.1,newdata=data.frame(X1=1100,X2=8,X3=0.02), type=\"response\")\n",
    "round(newy,3)"
   ]
  },
  {
   "cell_type": "markdown",
   "metadata": {},
   "source": [
    "However, due to the bad condition of the model it would be unadvisable to rely upon this value, which possibly will have a large error (and we do not know how large)."
   ]
  },
  {
   "cell_type": "code",
   "execution_count": 17,
   "metadata": {},
   "outputs": [
    {
     "data": {
      "text/html": [
       "<table>\n",
       "<caption>A matrix: 1 × 3 of type dbl</caption>\n",
       "<thead>\n",
       "\t<tr><th scope=col>fit</th><th scope=col>lwr</th><th scope=col>upr</th></tr>\n",
       "</thead>\n",
       "<tbody>\n",
       "\t<tr><td>20.674</td><td>5.389</td><td>35.96</td></tr>\n",
       "</tbody>\n",
       "</table>\n"
      ],
      "text/latex": [
       "A matrix: 1 × 3 of type dbl\n",
       "\\begin{tabular}{r|lll}\n",
       " fit & lwr & upr\\\\\n",
       "\\hline\n",
       "\t 20.674 & 5.389 & 35.96\\\\\n",
       "\\end{tabular}\n"
      ],
      "text/markdown": [
       "\n",
       "A matrix: 1 × 3 of type dbl\n",
       "\n",
       "| fit | lwr | upr |\n",
       "|---|---|---|\n",
       "| 20.674 | 5.389 | 35.96 |\n",
       "\n"
      ],
      "text/plain": [
       "  fit    lwr   upr  \n",
       "1 20.674 5.389 35.96"
      ]
     },
     "metadata": {},
     "output_type": "display_data"
    },
    {
     "data": {
      "text/html": [
       "<table>\n",
       "<caption>A matrix: 1 × 3 of type dbl</caption>\n",
       "<thead>\n",
       "\t<tr><th scope=col>fit</th><th scope=col>lwr</th><th scope=col>upr</th></tr>\n",
       "</thead>\n",
       "<tbody>\n",
       "\t<tr><td>20.674</td><td>3.324</td><td>38.024</td></tr>\n",
       "</tbody>\n",
       "</table>\n"
      ],
      "text/latex": [
       "A matrix: 1 × 3 of type dbl\n",
       "\\begin{tabular}{r|lll}\n",
       " fit & lwr & upr\\\\\n",
       "\\hline\n",
       "\t 20.674 & 3.324 & 38.024\\\\\n",
       "\\end{tabular}\n"
      ],
      "text/markdown": [
       "\n",
       "A matrix: 1 × 3 of type dbl\n",
       "\n",
       "| fit | lwr | upr |\n",
       "|---|---|---|\n",
       "| 20.674 | 3.324 | 38.024 |\n",
       "\n"
      ],
      "text/plain": [
       "  fit    lwr   upr   \n",
       "1 20.674 3.324 38.024"
      ]
     },
     "metadata": {},
     "output_type": "display_data"
    }
   ],
   "source": [
    "round(predict(Acetylene.lm.1,newdata=data.frame(X1=1100,X2=8,X3=0.02), type=\"response\",interval=\"confidence\"),3)\n",
    "round(predict(Acetylene.lm.1,newdata=data.frame(X1=1100,X2=8,X3=0.02), type=\"response\",interval=\"prediction\"),3)"
   ]
  },
  {
   "cell_type": "markdown",
   "metadata": {},
   "source": [
    "We should restate the model, either replacing the original predictors with suitable linear combinations, designed to diminish multicollinearity, such as _PCR_ and _PLS,_ or by means of _regularization._ "
   ]
  },
  {
   "cell_type": "markdown",
   "metadata": {},
   "source": [
    "### GPA (Grade Point Average) dataset"
   ]
  },
  {
   "cell_type": "markdown",
   "metadata": {},
   "source": [
    "The GPA dataset has 30 observacions (for 30 students) of 5 variables:\n",
    "\n",
    "`gpa`:   \"graduate grade point average\"\n",
    "\n",
    "`greq`:  \"GRE exam quantitative score\"\n",
    "\n",
    "`grev`:  \"GRE exam verbal score\"\n",
    "\n",
    "`mat`:   \"Miller Analogies Test score\"\n",
    "\n",
    "`ar`:    \"rating by professors\"\n",
    "\n",
    "#### Read the data file into R:"
   ]
  },
  {
   "cell_type": "code",
   "execution_count": 18,
   "metadata": {},
   "outputs": [
    {
     "name": "stdout",
     "output_type": "stream",
     "text": [
      "'data.frame':\t30 obs. of  5 variables:\n",
      " $ gpa : num  3.2 4.1 3 2.6 3.7 4 4.3 2.7 3.6 4.1 ...\n",
      " $ greq: int  625 575 520 545 520 655 630 500 605 555 ...\n",
      " $ grev: int  540 680 480 520 490 535 720 500 575 690 ...\n",
      " $ mat : int  65 75 65 55 75 65 75 75 65 75 ...\n",
      " $ ar  : num  2.7 4.5 2.5 3.1 3.6 4.3 4.6 3 4.7 3.4 ...\n"
     ]
    }
   ],
   "source": [
    "gpa<-read.table(\"gpa.txt\",header=TRUE)\n",
    "str(gpa)"
   ]
  },
  {
   "cell_type": "markdown",
   "metadata": {},
   "source": [
    "#### Fit a linear model to predict the response `gpa` from the remaining four variables:"
   ]
  },
  {
   "cell_type": "code",
   "execution_count": 19,
   "metadata": {},
   "outputs": [
    {
     "data": {
      "text/plain": [
       "\n",
       "Call:\n",
       "lm(formula = gpa ~ ., data = gpa)\n",
       "\n",
       "Residuals:\n",
       "    Min      1Q  Median      3Q     Max \n",
       "-0.7876 -0.2297  0.0069  0.2673  0.5260 \n",
       "\n",
       "Coefficients:\n",
       "             Estimate Std. Error t value Pr(>|t|)  \n",
       "(Intercept) -1.738107   0.950740  -1.828   0.0795 .\n",
       "greq         0.003998   0.001831   2.184   0.0385 *\n",
       "grev         0.001524   0.001050   1.451   0.1593  \n",
       "mat          0.020896   0.009549   2.188   0.0382 *\n",
       "ar           0.144234   0.113001   1.276   0.2135  \n",
       "---\n",
       "Signif. codes:  0 ‘***’ 0.001 ‘**’ 0.01 ‘*’ 0.05 ‘.’ 0.1 ‘ ’ 1\n",
       "\n",
       "Residual standard error: 0.3874 on 25 degrees of freedom\n",
       "Multiple R-squared:  0.6405,\tAdjusted R-squared:  0.5829 \n",
       "F-statistic: 11.13 on 4 and 25 DF,  p-value: 2.519e-05\n"
      ]
     },
     "metadata": {},
     "output_type": "display_data"
    }
   ],
   "source": [
    "gpa.lm.1<-lm(gpa~.,data=gpa)\n",
    "summary(gpa.lm.1)"
   ]
  },
  {
   "cell_type": "markdown",
   "metadata": {},
   "source": [
    "#### Compute VIF and condition number"
   ]
  },
  {
   "cell_type": "code",
   "execution_count": 20,
   "metadata": {},
   "outputs": [
    {
     "data": {
      "text/html": [
       "<dl class=dl-horizontal>\n",
       "\t<dt>greq</dt>\n",
       "\t\t<dd>1.53084143379994</dd>\n",
       "\t<dt>grev</dt>\n",
       "\t\t<dd>1.46946795114914</dd>\n",
       "\t<dt>mat</dt>\n",
       "\t\t<dd>1.50689959401257</dd>\n",
       "\t<dt>ar</dt>\n",
       "\t\t<dd>1.73477859486683</dd>\n",
       "</dl>\n"
      ],
      "text/latex": [
       "\\begin{description*}\n",
       "\\item[greq] 1.53084143379994\n",
       "\\item[grev] 1.46946795114914\n",
       "\\item[mat] 1.50689959401257\n",
       "\\item[ar] 1.73477859486683\n",
       "\\end{description*}\n"
      ],
      "text/markdown": [
       "greq\n",
       ":   1.53084143379994grev\n",
       ":   1.46946795114914mat\n",
       ":   1.50689959401257ar\n",
       ":   1.73477859486683\n",
       "\n"
      ],
      "text/plain": [
       "    greq     grev      mat       ar \n",
       "1.530841 1.469468 1.506900 1.734779 "
      ]
     },
     "metadata": {},
     "output_type": "display_data"
    },
    {
     "data": {
      "text/html": [
       "5506.1074021793"
      ],
      "text/latex": [
       "5506.1074021793"
      ],
      "text/markdown": [
       "5506.1074021793"
      ],
      "text/plain": [
       "[1] 5506.107"
      ]
     },
     "metadata": {},
     "output_type": "display_data"
    }
   ],
   "source": [
    "vif(gpa.lm.1)\n",
    "X.gpa<-model.matrix(gpa.lm.1)\n",
    "kappa(X.gpa)"
   ]
  },
  {
   "cell_type": "markdown",
   "metadata": {},
   "source": [
    "The condition number $\\kappa$ is not small, but the VIF's are acceptable."
   ]
  },
  {
   "cell_type": "markdown",
   "metadata": {},
   "source": [
    "#### Exploring the effect of adding a new, redundant, variable\n",
    "\n",
    "A _\"new\"_ artificial predictor variable adding no new information. A linear combination plus a random noise:"
   ]
  },
  {
   "cell_type": "code",
   "execution_count": 21,
   "metadata": {},
   "outputs": [],
   "source": [
    "new<-gpa$greq+gpa$grev+gpa$mat+rnorm(30,0,0.5)\n",
    "gpanew<-data.frame(gpa,new)"
   ]
  },
  {
   "cell_type": "markdown",
   "metadata": {},
   "source": [
    "#### New linear model using the new, enlarged, predictor set"
   ]
  },
  {
   "cell_type": "code",
   "execution_count": 22,
   "metadata": {},
   "outputs": [
    {
     "data": {
      "text/plain": [
       "\n",
       "Call:\n",
       "lm(formula = gpa ~ ., data = gpanew)\n",
       "\n",
       "Residuals:\n",
       "    Min      1Q  Median      3Q     Max \n",
       "-0.8036 -0.2199  0.0023  0.2544  0.5591 \n",
       "\n",
       "Coefficients:\n",
       "            Estimate Std. Error t value Pr(>|t|)  \n",
       "(Intercept) -1.85368    1.00967  -1.836   0.0788 .\n",
       "greq        -0.04518    0.12337  -0.366   0.7174  \n",
       "grev        -0.04800    0.12425  -0.386   0.7026  \n",
       "mat         -0.02738    0.12150  -0.225   0.8236  \n",
       "ar           0.12482    0.12484   1.000   0.3273  \n",
       "new          0.04945    0.12404   0.399   0.6937  \n",
       "---\n",
       "Signif. codes:  0 ‘***’ 0.001 ‘**’ 0.01 ‘*’ 0.05 ‘.’ 0.1 ‘ ’ 1\n",
       "\n",
       "Residual standard error: 0.3941 on 24 degrees of freedom\n",
       "Multiple R-squared:  0.6428,\tAdjusted R-squared:  0.5684 \n",
       "F-statistic: 8.639 on 5 and 24 DF,  p-value: 8.58e-05\n"
      ]
     },
     "metadata": {},
     "output_type": "display_data"
    }
   ],
   "source": [
    "gpa.lm.2<-lm(gpa~.,data=gpanew)\n",
    "summary(gpa.lm.2)"
   ]
  },
  {
   "cell_type": "markdown",
   "metadata": {},
   "source": [
    "#### VIF's and condition number of the new model"
   ]
  },
  {
   "cell_type": "code",
   "execution_count": 23,
   "metadata": {},
   "outputs": [
    {
     "data": {
      "text/html": [
       "<dl class=dl-horizontal>\n",
       "\t<dt>greq</dt>\n",
       "\t\t<dd>6718.1839118394</dd>\n",
       "\t<dt>grev</dt>\n",
       "\t\t<dd>19876.8962802987</dd>\n",
       "\t<dt>mat</dt>\n",
       "\t\t<dd>235.76384829595</dd>\n",
       "\t<dt>ar</dt>\n",
       "\t\t<dd>2.04601054990479</dd>\n",
       "\t<dt>new</dt>\n",
       "\t\t<dd>40269.663334666</dd>\n",
       "</dl>\n"
      ],
      "text/latex": [
       "\\begin{description*}\n",
       "\\item[greq] 6718.1839118394\n",
       "\\item[grev] 19876.8962802987\n",
       "\\item[mat] 235.76384829595\n",
       "\\item[ar] 2.04601054990479\n",
       "\\item[new] 40269.663334666\n",
       "\\end{description*}\n"
      ],
      "text/markdown": [
       "greq\n",
       ":   6718.1839118394grev\n",
       ":   19876.8962802987mat\n",
       ":   235.76384829595ar\n",
       ":   2.04601054990479new\n",
       ":   40269.663334666\n",
       "\n"
      ],
      "text/plain": [
       "        greq         grev          mat           ar          new \n",
       " 6718.183912 19876.896280   235.763848     2.046011 40269.663335 "
      ]
     },
     "metadata": {},
     "output_type": "display_data"
    },
    {
     "data": {
      "text/html": [
       "12186.9190366325"
      ],
      "text/latex": [
       "12186.9190366325"
      ],
      "text/markdown": [
       "12186.9190366325"
      ],
      "text/plain": [
       "[1] 12186.92"
      ]
     },
     "metadata": {},
     "output_type": "display_data"
    }
   ],
   "source": [
    "vif(gpa.lm.2)\n",
    "X.gpa.2<-model.matrix(gpa.lm.2)\n",
    "kappa(X.gpa.2)"
   ]
  },
  {
   "cell_type": "markdown",
   "metadata": {},
   "source": [
    "### Longley dataset\n",
    "\n",
    "This is a classic infamous dataset, designed to reveal computational weaknesses in statistical software (of its time, fifty years ago). The source is:  Longley, James W. (1967), _\"An Appraisal of Least Squares Programs for the Electronic Computer from the Point of View of the User\",_ Journal of the American Statistical Association, Vol. 62, No. 319, pp. 819-841.  "
   ]
  },
  {
   "cell_type": "code",
   "execution_count": 113,
   "metadata": {},
   "outputs": [
    {
     "name": "stdout",
     "output_type": "stream",
     "text": [
      "'data.frame':\t16 obs. of  7 variables:\n",
      " $ GNP.deflator: num  83 88.5 88.2 89.5 96.2 ...\n",
      " $ GNP         : num  234 259 258 285 329 ...\n",
      " $ Unemployed  : num  236 232 368 335 210 ...\n",
      " $ Armed.Forces: num  159 146 162 165 310 ...\n",
      " $ Population  : num  108 109 110 111 112 ...\n",
      " $ Year        : int  1947 1948 1949 1950 1951 1952 1953 1954 1955 1956 ...\n",
      " $ Employed    : num  60.3 61.1 60.2 61.2 63.2 ...\n"
     ]
    }
   ],
   "source": [
    "data(longley)\n",
    "str(longley)\n",
    "# ?longley"
   ]
  },
  {
   "cell_type": "code",
   "execution_count": 114,
   "metadata": {},
   "outputs": [
    {
     "data": {
      "image/png": "[encoded data removed]",
      "text/plain": [
       "plot without title"
      ]
     },
     "metadata": {},
     "output_type": "display_data"
    }
   ],
   "source": [
    "plot(longley,pch=19,col=\"DarkBlue\",cex=0.3)"
   ]
  },
  {
   "cell_type": "code",
   "execution_count": 115,
   "metadata": {},
   "outputs": [
    {
     "data": {
      "text/html": [
       "<table>\n",
       "<caption>A matrix: 7 × 7 of type dbl</caption>\n",
       "<thead>\n",
       "\t<tr><th></th><th scope=col>GNP.deflator</th><th scope=col>GNP</th><th scope=col>Unemployed</th><th scope=col>Armed.Forces</th><th scope=col>Population</th><th scope=col>Year</th><th scope=col>Employed</th></tr>\n",
       "</thead>\n",
       "<tbody>\n",
       "\t<tr><th scope=row>GNP.deflator</th><td>1.00</td><td>0.99</td><td> 0.62</td><td> 0.46</td><td>0.98</td><td>0.99</td><td>0.97</td></tr>\n",
       "\t<tr><th scope=row>GNP</th><td>0.99</td><td>1.00</td><td> 0.60</td><td> 0.45</td><td>0.99</td><td>1.00</td><td>0.98</td></tr>\n",
       "\t<tr><th scope=row>Unemployed</th><td>0.62</td><td>0.60</td><td> 1.00</td><td>-0.18</td><td>0.69</td><td>0.67</td><td>0.50</td></tr>\n",
       "\t<tr><th scope=row>Armed.Forces</th><td>0.46</td><td>0.45</td><td>-0.18</td><td> 1.00</td><td>0.36</td><td>0.42</td><td>0.46</td></tr>\n",
       "\t<tr><th scope=row>Population</th><td>0.98</td><td>0.99</td><td> 0.69</td><td> 0.36</td><td>1.00</td><td>0.99</td><td>0.96</td></tr>\n",
       "\t<tr><th scope=row>Year</th><td>0.99</td><td>1.00</td><td> 0.67</td><td> 0.42</td><td>0.99</td><td>1.00</td><td>0.97</td></tr>\n",
       "\t<tr><th scope=row>Employed</th><td>0.97</td><td>0.98</td><td> 0.50</td><td> 0.46</td><td>0.96</td><td>0.97</td><td>1.00</td></tr>\n",
       "</tbody>\n",
       "</table>\n"
      ],
      "text/latex": [
       "A matrix: 7 × 7 of type dbl\n",
       "\\begin{tabular}{r|lllllll}\n",
       "  & GNP.deflator & GNP & Unemployed & Armed.Forces & Population & Year & Employed\\\\\n",
       "\\hline\n",
       "\tGNP.deflator & 1.00 & 0.99 &  0.62 &  0.46 & 0.98 & 0.99 & 0.97\\\\\n",
       "\tGNP & 0.99 & 1.00 &  0.60 &  0.45 & 0.99 & 1.00 & 0.98\\\\\n",
       "\tUnemployed & 0.62 & 0.60 &  1.00 & -0.18 & 0.69 & 0.67 & 0.50\\\\\n",
       "\tArmed.Forces & 0.46 & 0.45 & -0.18 &  1.00 & 0.36 & 0.42 & 0.46\\\\\n",
       "\tPopulation & 0.98 & 0.99 &  0.69 &  0.36 & 1.00 & 0.99 & 0.96\\\\\n",
       "\tYear & 0.99 & 1.00 &  0.67 &  0.42 & 0.99 & 1.00 & 0.97\\\\\n",
       "\tEmployed & 0.97 & 0.98 &  0.50 &  0.46 & 0.96 & 0.97 & 1.00\\\\\n",
       "\\end{tabular}\n"
      ],
      "text/markdown": [
       "\n",
       "A matrix: 7 × 7 of type dbl\n",
       "\n",
       "| <!--/--> | GNP.deflator | GNP | Unemployed | Armed.Forces | Population | Year | Employed |\n",
       "|---|---|---|---|---|---|---|---|\n",
       "| GNP.deflator | 1.00 | 0.99 |  0.62 |  0.46 | 0.98 | 0.99 | 0.97 |\n",
       "| GNP | 0.99 | 1.00 |  0.60 |  0.45 | 0.99 | 1.00 | 0.98 |\n",
       "| Unemployed | 0.62 | 0.60 |  1.00 | -0.18 | 0.69 | 0.67 | 0.50 |\n",
       "| Armed.Forces | 0.46 | 0.45 | -0.18 |  1.00 | 0.36 | 0.42 | 0.46 |\n",
       "| Population | 0.98 | 0.99 |  0.69 |  0.36 | 1.00 | 0.99 | 0.96 |\n",
       "| Year | 0.99 | 1.00 |  0.67 |  0.42 | 0.99 | 1.00 | 0.97 |\n",
       "| Employed | 0.97 | 0.98 |  0.50 |  0.46 | 0.96 | 0.97 | 1.00 |\n",
       "\n"
      ],
      "text/plain": [
       "             GNP.deflator GNP  Unemployed Armed.Forces Population Year Employed\n",
       "GNP.deflator 1.00         0.99  0.62       0.46        0.98       0.99 0.97    \n",
       "GNP          0.99         1.00  0.60       0.45        0.99       1.00 0.98    \n",
       "Unemployed   0.62         0.60  1.00      -0.18        0.69       0.67 0.50    \n",
       "Armed.Forces 0.46         0.45 -0.18       1.00        0.36       0.42 0.46    \n",
       "Population   0.98         0.99  0.69       0.36        1.00       0.99 0.96    \n",
       "Year         0.99         1.00  0.67       0.42        0.99       1.00 0.97    \n",
       "Employed     0.97         0.98  0.50       0.46        0.96       0.97 1.00    "
      ]
     },
     "metadata": {},
     "output_type": "display_data"
    }
   ],
   "source": [
    "round(cor(longley),2)"
   ]
  },
  {
   "cell_type": "code",
   "execution_count": null,
   "metadata": {},
   "outputs": [],
   "source": []
  },
  {
   "cell_type": "markdown",
   "metadata": {},
   "source": [
    "#### Exercise\n",
    "\n",
    "Prepare a linear model to predict `Employed` from the remaining variables.\n",
    "\n",
    "Obtain VIF's and condition number. Repeat after standardizing the predictors. What happens with VIF and `kappa`?"
   ]
  },
  {
   "cell_type": "code",
   "execution_count": 116,
   "metadata": {},
   "outputs": [],
   "source": [
    "#\n",
    "# Insert here your code\n",
    "#"
   ]
  },
  {
   "cell_type": "code",
   "execution_count": 117,
   "metadata": {},
   "outputs": [
    {
     "data": {
      "text/plain": [
       "\n",
       "Call:\n",
       "lm(formula = Employed ~ Year + Population + Armed.Forces + Unemployed + \n",
       "    GNP + GNP.deflator, data = longley)\n",
       "\n",
       "Residuals:\n",
       "     Min       1Q   Median       3Q      Max \n",
       "-0.41011 -0.15767 -0.02816  0.10155  0.45539 \n",
       "\n",
       "Coefficients:\n",
       "               Estimate Std. Error t value Pr(>|t|)    \n",
       "(Intercept)  -3.482e+03  8.904e+02  -3.911 0.003560 ** \n",
       "Year          1.829e+00  4.555e-01   4.016 0.003037 ** \n",
       "Population   -5.110e-02  2.261e-01  -0.226 0.826212    \n",
       "Armed.Forces -1.033e-02  2.143e-03  -4.822 0.000944 ***\n",
       "Unemployed   -2.020e-02  4.884e-03  -4.136 0.002535 ** \n",
       "GNP          -3.582e-02  3.349e-02  -1.070 0.312681    \n",
       "GNP.deflator  1.506e-02  8.492e-02   0.177 0.863141    \n",
       "---\n",
       "Signif. codes:  0 ‘***’ 0.001 ‘**’ 0.01 ‘*’ 0.05 ‘.’ 0.1 ‘ ’ 1\n",
       "\n",
       "Residual standard error: 0.3049 on 9 degrees of freedom\n",
       "Multiple R-squared:  0.9955,\tAdjusted R-squared:  0.9925 \n",
       "F-statistic: 330.3 on 6 and 9 DF,  p-value: 4.984e-10\n"
      ]
     },
     "metadata": {},
     "output_type": "display_data"
    },
    {
     "data": {
      "text/html": [
       "<table>\n",
       "<caption>A anova: 7 × 5</caption>\n",
       "<thead>\n",
       "\t<tr><th></th><th scope=col>Df</th><th scope=col>Sum Sq</th><th scope=col>Mean Sq</th><th scope=col>F value</th><th scope=col>Pr(&gt;F)</th></tr>\n",
       "\t<tr><th></th><th scope=col>&lt;int&gt;</th><th scope=col>&lt;dbl&gt;</th><th scope=col>&lt;dbl&gt;</th><th scope=col>&lt;dbl&gt;</th><th scope=col>&lt;dbl&gt;</th></tr>\n",
       "</thead>\n",
       "<tbody>\n",
       "\t<tr><th scope=row>Year</th><td>1</td><td>1.745523e+02</td><td>1.745523e+02</td><td>1.878199e+03</td><td>9.258495e-12</td></tr>\n",
       "\t<tr><th scope=row>Population</th><td>1</td><td>3.936445e-01</td><td>3.936445e-01</td><td>4.235651e+00</td><td>6.969760e-02</td></tr>\n",
       "\t<tr><th scope=row>Armed.Forces</th><td>1</td><td>2.866222e-01</td><td>2.866222e-01</td><td>3.084082e+00</td><td>1.129441e-01</td></tr>\n",
       "\t<tr><th scope=row>Unemployed</th><td>1</td><td>8.790543e+00</td><td>8.790543e+00</td><td>9.458705e+01</td><td>4.508590e-06</td></tr>\n",
       "\t<tr><th scope=row>GNP</th><td>1</td><td>1.463716e-01</td><td>1.463716e-01</td><td>1.574972e+00</td><td>2.410939e-01</td></tr>\n",
       "\t<tr><th scope=row>GNP.deflator</th><td>1</td><td>2.923976e-03</td><td>2.923976e-03</td><td>3.146226e-02</td><td>8.631408e-01</td></tr>\n",
       "\t<tr><th scope=row>Residuals</th><td>9</td><td>8.364241e-01</td><td>9.293601e-02</td><td>          NA</td><td>          NA</td></tr>\n",
       "</tbody>\n",
       "</table>\n"
      ],
      "text/latex": [
       "A anova: 7 × 5\n",
       "\\begin{tabular}{r|lllll}\n",
       "  & Df & Sum Sq & Mean Sq & F value & Pr(>F)\\\\\n",
       "  & <int> & <dbl> & <dbl> & <dbl> & <dbl>\\\\\n",
       "\\hline\n",
       "\tYear & 1 & 1.745523e+02 & 1.745523e+02 & 1.878199e+03 & 9.258495e-12\\\\\n",
       "\tPopulation & 1 & 3.936445e-01 & 3.936445e-01 & 4.235651e+00 & 6.969760e-02\\\\\n",
       "\tArmed.Forces & 1 & 2.866222e-01 & 2.866222e-01 & 3.084082e+00 & 1.129441e-01\\\\\n",
       "\tUnemployed & 1 & 8.790543e+00 & 8.790543e+00 & 9.458705e+01 & 4.508590e-06\\\\\n",
       "\tGNP & 1 & 1.463716e-01 & 1.463716e-01 & 1.574972e+00 & 2.410939e-01\\\\\n",
       "\tGNP.deflator & 1 & 2.923976e-03 & 2.923976e-03 & 3.146226e-02 & 8.631408e-01\\\\\n",
       "\tResiduals & 9 & 8.364241e-01 & 9.293601e-02 &           NA &           NA\\\\\n",
       "\\end{tabular}\n"
      ],
      "text/markdown": [
       "\n",
       "A anova: 7 × 5\n",
       "\n",
       "| <!--/--> | Df &lt;int&gt; | Sum Sq &lt;dbl&gt; | Mean Sq &lt;dbl&gt; | F value &lt;dbl&gt; | Pr(&gt;F) &lt;dbl&gt; |\n",
       "|---|---|---|---|---|---|\n",
       "| Year | 1 | 1.745523e+02 | 1.745523e+02 | 1.878199e+03 | 9.258495e-12 |\n",
       "| Population | 1 | 3.936445e-01 | 3.936445e-01 | 4.235651e+00 | 6.969760e-02 |\n",
       "| Armed.Forces | 1 | 2.866222e-01 | 2.866222e-01 | 3.084082e+00 | 1.129441e-01 |\n",
       "| Unemployed | 1 | 8.790543e+00 | 8.790543e+00 | 9.458705e+01 | 4.508590e-06 |\n",
       "| GNP | 1 | 1.463716e-01 | 1.463716e-01 | 1.574972e+00 | 2.410939e-01 |\n",
       "| GNP.deflator | 1 | 2.923976e-03 | 2.923976e-03 | 3.146226e-02 | 8.631408e-01 |\n",
       "| Residuals | 9 | 8.364241e-01 | 9.293601e-02 |           NA |           NA |\n",
       "\n"
      ],
      "text/plain": [
       "             Df Sum Sq       Mean Sq      F value      Pr(>F)      \n",
       "Year         1  1.745523e+02 1.745523e+02 1.878199e+03 9.258495e-12\n",
       "Population   1  3.936445e-01 3.936445e-01 4.235651e+00 6.969760e-02\n",
       "Armed.Forces 1  2.866222e-01 2.866222e-01 3.084082e+00 1.129441e-01\n",
       "Unemployed   1  8.790543e+00 8.790543e+00 9.458705e+01 4.508590e-06\n",
       "GNP          1  1.463716e-01 1.463716e-01 1.574972e+00 2.410939e-01\n",
       "GNP.deflator 1  2.923976e-03 2.923976e-03 3.146226e-02 8.631408e-01\n",
       "Residuals    9  8.364241e-01 9.293601e-02           NA           NA"
      ]
     },
     "metadata": {},
     "output_type": "display_data"
    }
   ],
   "source": [
    "longley.lm.1<-lm(Employed~Year+Population+Armed.Forces+Unemployed+GNP+GNP.deflator,data=longley)\n",
    "summary(longley.lm.1)\n",
    "anova(longley.lm.1)"
   ]
  },
  {
   "cell_type": "code",
   "execution_count": 68,
   "metadata": {},
   "outputs": [
    {
     "data": {
      "text/html": [
       "<dl class=dl-horizontal>\n",
       "\t<dt>Year</dt>\n",
       "\t\t<dd>758.980597407086</dd>\n",
       "\t<dt>Population</dt>\n",
       "\t\t<dd>399.151022312744</dd>\n",
       "\t<dt>Armed.Forces</dt>\n",
       "\t\t<dd>3.58893019344576</dd>\n",
       "\t<dt>Unemployed</dt>\n",
       "\t\t<dd>33.618890596053</dd>\n",
       "\t<dt>GNP</dt>\n",
       "\t\t<dd>1788.51348271865</dd>\n",
       "\t<dt>GNP.deflator</dt>\n",
       "\t\t<dd>135.532438280038</dd>\n",
       "</dl>\n"
      ],
      "text/latex": [
       "\\begin{description*}\n",
       "\\item[Year] 758.980597407086\n",
       "\\item[Population] 399.151022312744\n",
       "\\item[Armed.Forces] 3.58893019344576\n",
       "\\item[Unemployed] 33.618890596053\n",
       "\\item[GNP] 1788.51348271865\n",
       "\\item[GNP.deflator] 135.532438280038\n",
       "\\end{description*}\n"
      ],
      "text/markdown": [
       "Year\n",
       ":   758.980597407086Population\n",
       ":   399.151022312744Armed.Forces\n",
       ":   3.58893019344576Unemployed\n",
       ":   33.618890596053GNP\n",
       ":   1788.51348271865GNP.deflator\n",
       ":   135.532438280038\n",
       "\n"
      ],
      "text/plain": [
       "        Year   Population Armed.Forces   Unemployed          GNP GNP.deflator \n",
       "   758.98060    399.15102      3.58893     33.61889   1788.51348    135.53244 "
      ]
     },
     "metadata": {},
     "output_type": "display_data"
    }
   ],
   "source": [
    "vif(longley.lm.1)"
   ]
  },
  {
   "cell_type": "code",
   "execution_count": 71,
   "metadata": {},
   "outputs": [
    {
     "data": {
      "text/html": [
       "<table>\n",
       "<caption>A matrix: 16 × 7 of type dbl</caption>\n",
       "<thead>\n",
       "\t<tr><th></th><th scope=col>(Intercept)</th><th scope=col>Year</th><th scope=col>Population</th><th scope=col>Armed.Forces</th><th scope=col>Unemployed</th><th scope=col>GNP</th><th scope=col>GNP.deflator</th></tr>\n",
       "</thead>\n",
       "<tbody>\n",
       "\t<tr><th scope=row>1947</th><td>1</td><td>1947</td><td>107.608</td><td>159.0</td><td>235.6</td><td>234.289</td><td> 83.0</td></tr>\n",
       "\t<tr><th scope=row>1948</th><td>1</td><td>1948</td><td>108.632</td><td>145.6</td><td>232.5</td><td>259.426</td><td> 88.5</td></tr>\n",
       "\t<tr><th scope=row>1949</th><td>1</td><td>1949</td><td>109.773</td><td>161.6</td><td>368.2</td><td>258.054</td><td> 88.2</td></tr>\n",
       "\t<tr><th scope=row>1950</th><td>1</td><td>1950</td><td>110.929</td><td>165.0</td><td>335.1</td><td>284.599</td><td> 89.5</td></tr>\n",
       "\t<tr><th scope=row>1951</th><td>1</td><td>1951</td><td>112.075</td><td>309.9</td><td>209.9</td><td>328.975</td><td> 96.2</td></tr>\n",
       "\t<tr><th scope=row>1952</th><td>1</td><td>1952</td><td>113.270</td><td>359.4</td><td>193.2</td><td>346.999</td><td> 98.1</td></tr>\n",
       "\t<tr><th scope=row>1953</th><td>1</td><td>1953</td><td>115.094</td><td>354.7</td><td>187.0</td><td>365.385</td><td> 99.0</td></tr>\n",
       "\t<tr><th scope=row>1954</th><td>1</td><td>1954</td><td>116.219</td><td>335.0</td><td>357.8</td><td>363.112</td><td>100.0</td></tr>\n",
       "\t<tr><th scope=row>1955</th><td>1</td><td>1955</td><td>117.388</td><td>304.8</td><td>290.4</td><td>397.469</td><td>101.2</td></tr>\n",
       "\t<tr><th scope=row>1956</th><td>1</td><td>1956</td><td>118.734</td><td>285.7</td><td>282.2</td><td>419.180</td><td>104.6</td></tr>\n",
       "\t<tr><th scope=row>1957</th><td>1</td><td>1957</td><td>120.445</td><td>279.8</td><td>293.6</td><td>442.769</td><td>108.4</td></tr>\n",
       "\t<tr><th scope=row>1958</th><td>1</td><td>1958</td><td>121.950</td><td>263.7</td><td>468.1</td><td>444.546</td><td>110.8</td></tr>\n",
       "\t<tr><th scope=row>1959</th><td>1</td><td>1959</td><td>123.366</td><td>255.2</td><td>381.3</td><td>482.704</td><td>112.6</td></tr>\n",
       "\t<tr><th scope=row>1960</th><td>1</td><td>1960</td><td>125.368</td><td>251.4</td><td>393.1</td><td>502.601</td><td>114.2</td></tr>\n",
       "\t<tr><th scope=row>1961</th><td>1</td><td>1961</td><td>127.852</td><td>257.2</td><td>480.6</td><td>518.173</td><td>115.7</td></tr>\n",
       "\t<tr><th scope=row>1962</th><td>1</td><td>1962</td><td>130.081</td><td>282.7</td><td>400.7</td><td>554.894</td><td>116.9</td></tr>\n",
       "</tbody>\n",
       "</table>\n"
      ],
      "text/latex": [
       "A matrix: 16 × 7 of type dbl\n",
       "\\begin{tabular}{r|lllllll}\n",
       "  & (Intercept) & Year & Population & Armed.Forces & Unemployed & GNP & GNP.deflator\\\\\n",
       "\\hline\n",
       "\t1947 & 1 & 1947 & 107.608 & 159.0 & 235.6 & 234.289 &  83.0\\\\\n",
       "\t1948 & 1 & 1948 & 108.632 & 145.6 & 232.5 & 259.426 &  88.5\\\\\n",
       "\t1949 & 1 & 1949 & 109.773 & 161.6 & 368.2 & 258.054 &  88.2\\\\\n",
       "\t1950 & 1 & 1950 & 110.929 & 165.0 & 335.1 & 284.599 &  89.5\\\\\n",
       "\t1951 & 1 & 1951 & 112.075 & 309.9 & 209.9 & 328.975 &  96.2\\\\\n",
       "\t1952 & 1 & 1952 & 113.270 & 359.4 & 193.2 & 346.999 &  98.1\\\\\n",
       "\t1953 & 1 & 1953 & 115.094 & 354.7 & 187.0 & 365.385 &  99.0\\\\\n",
       "\t1954 & 1 & 1954 & 116.219 & 335.0 & 357.8 & 363.112 & 100.0\\\\\n",
       "\t1955 & 1 & 1955 & 117.388 & 304.8 & 290.4 & 397.469 & 101.2\\\\\n",
       "\t1956 & 1 & 1956 & 118.734 & 285.7 & 282.2 & 419.180 & 104.6\\\\\n",
       "\t1957 & 1 & 1957 & 120.445 & 279.8 & 293.6 & 442.769 & 108.4\\\\\n",
       "\t1958 & 1 & 1958 & 121.950 & 263.7 & 468.1 & 444.546 & 110.8\\\\\n",
       "\t1959 & 1 & 1959 & 123.366 & 255.2 & 381.3 & 482.704 & 112.6\\\\\n",
       "\t1960 & 1 & 1960 & 125.368 & 251.4 & 393.1 & 502.601 & 114.2\\\\\n",
       "\t1961 & 1 & 1961 & 127.852 & 257.2 & 480.6 & 518.173 & 115.7\\\\\n",
       "\t1962 & 1 & 1962 & 130.081 & 282.7 & 400.7 & 554.894 & 116.9\\\\\n",
       "\\end{tabular}\n"
      ],
      "text/markdown": [
       "\n",
       "A matrix: 16 × 7 of type dbl\n",
       "\n",
       "| <!--/--> | (Intercept) | Year | Population | Armed.Forces | Unemployed | GNP | GNP.deflator |\n",
       "|---|---|---|---|---|---|---|---|\n",
       "| 1947 | 1 | 1947 | 107.608 | 159.0 | 235.6 | 234.289 |  83.0 |\n",
       "| 1948 | 1 | 1948 | 108.632 | 145.6 | 232.5 | 259.426 |  88.5 |\n",
       "| 1949 | 1 | 1949 | 109.773 | 161.6 | 368.2 | 258.054 |  88.2 |\n",
       "| 1950 | 1 | 1950 | 110.929 | 165.0 | 335.1 | 284.599 |  89.5 |\n",
       "| 1951 | 1 | 1951 | 112.075 | 309.9 | 209.9 | 328.975 |  96.2 |\n",
       "| 1952 | 1 | 1952 | 113.270 | 359.4 | 193.2 | 346.999 |  98.1 |\n",
       "| 1953 | 1 | 1953 | 115.094 | 354.7 | 187.0 | 365.385 |  99.0 |\n",
       "| 1954 | 1 | 1954 | 116.219 | 335.0 | 357.8 | 363.112 | 100.0 |\n",
       "| 1955 | 1 | 1955 | 117.388 | 304.8 | 290.4 | 397.469 | 101.2 |\n",
       "| 1956 | 1 | 1956 | 118.734 | 285.7 | 282.2 | 419.180 | 104.6 |\n",
       "| 1957 | 1 | 1957 | 120.445 | 279.8 | 293.6 | 442.769 | 108.4 |\n",
       "| 1958 | 1 | 1958 | 121.950 | 263.7 | 468.1 | 444.546 | 110.8 |\n",
       "| 1959 | 1 | 1959 | 123.366 | 255.2 | 381.3 | 482.704 | 112.6 |\n",
       "| 1960 | 1 | 1960 | 125.368 | 251.4 | 393.1 | 502.601 | 114.2 |\n",
       "| 1961 | 1 | 1961 | 127.852 | 257.2 | 480.6 | 518.173 | 115.7 |\n",
       "| 1962 | 1 | 1962 | 130.081 | 282.7 | 400.7 | 554.894 | 116.9 |\n",
       "\n"
      ],
      "text/plain": [
       "     (Intercept) Year Population Armed.Forces Unemployed GNP     GNP.deflator\n",
       "1947 1           1947 107.608    159.0        235.6      234.289  83.0       \n",
       "1948 1           1948 108.632    145.6        232.5      259.426  88.5       \n",
       "1949 1           1949 109.773    161.6        368.2      258.054  88.2       \n",
       "1950 1           1950 110.929    165.0        335.1      284.599  89.5       \n",
       "1951 1           1951 112.075    309.9        209.9      328.975  96.2       \n",
       "1952 1           1952 113.270    359.4        193.2      346.999  98.1       \n",
       "1953 1           1953 115.094    354.7        187.0      365.385  99.0       \n",
       "1954 1           1954 116.219    335.0        357.8      363.112 100.0       \n",
       "1955 1           1955 117.388    304.8        290.4      397.469 101.2       \n",
       "1956 1           1956 118.734    285.7        282.2      419.180 104.6       \n",
       "1957 1           1957 120.445    279.8        293.6      442.769 108.4       \n",
       "1958 1           1958 121.950    263.7        468.1      444.546 110.8       \n",
       "1959 1           1959 123.366    255.2        381.3      482.704 112.6       \n",
       "1960 1           1960 125.368    251.4        393.1      502.601 114.2       \n",
       "1961 1           1961 127.852    257.2        480.6      518.173 115.7       \n",
       "1962 1           1962 130.081    282.7        400.7      554.894 116.9       "
      ]
     },
     "metadata": {},
     "output_type": "display_data"
    }
   ],
   "source": [
    "X<-model.matrix(longley.lm.1)\n",
    "X"
   ]
  },
  {
   "cell_type": "code",
   "execution_count": 74,
   "metadata": {},
   "outputs": [
    {
     "data": {
      "text/html": [
       "13047004.5364071"
      ],
      "text/latex": [
       "13047004.5364071"
      ],
      "text/markdown": [
       "13047004.5364071"
      ],
      "text/plain": [
       "[1] 13047005"
      ]
     },
     "metadata": {},
     "output_type": "display_data"
    }
   ],
   "source": [
    "kappa(X)"
   ]
  },
  {
   "cell_type": "code",
   "execution_count": 106,
   "metadata": {},
   "outputs": [
    {
     "data": {
      "text/html": [
       "<table>\n",
       "<caption>A data.frame: 16 × 7</caption>\n",
       "<thead>\n",
       "\t<tr><th></th><th scope=col>GNP.deflator</th><th scope=col>GNP</th><th scope=col>Unemployed</th><th scope=col>Armed.Forces</th><th scope=col>Population</th><th scope=col>Year</th><th scope=col>Employed</th></tr>\n",
       "\t<tr><th></th><th scope=col>&lt;dbl&gt;</th><th scope=col>&lt;dbl&gt;</th><th scope=col>&lt;dbl&gt;</th><th scope=col>&lt;dbl&gt;</th><th scope=col>&lt;dbl&gt;</th><th scope=col>&lt;dbl&gt;</th><th scope=col>&lt;dbl&gt;</th></tr>\n",
       "</thead>\n",
       "<tbody>\n",
       "\t<tr><th scope=row>1947</th><td>-1.73109925</td><td>-1.5434331</td><td>-0.8960348</td><td>-1.46092666</td><td>-1.411135233</td><td>-1.5753151</td><td>-1.42199459</td></tr>\n",
       "\t<tr><th scope=row>1948</th><td>-1.22144139</td><td>-1.2905329</td><td>-0.9292089</td><td>-1.65347763</td><td>-1.263926342</td><td>-1.3652731</td><td>-1.19448684</td></tr>\n",
       "\t<tr><th scope=row>1949</th><td>-1.24924091</td><td>-1.3043364</td><td> 0.5229601</td><td>-1.42356602</td><td>-1.099897684</td><td>-1.1552311</td><td>-1.46527516</td></tr>\n",
       "\t<tr><th scope=row>1950</th><td>-1.12877633</td><td>-1.0372705</td><td> 0.1687464</td><td>-1.37470980</td><td>-0.933712647</td><td>-0.9451891</td><td>-1.17597871</td></tr>\n",
       "\t<tr><th scope=row>1951</th><td>-0.50792039</td><td>-0.5908091</td><td>-1.1710587</td><td> 0.70742726</td><td>-0.768965196</td><td>-0.7351470</td><td>-0.59681631</td></tr>\n",
       "\t<tr><th scope=row>1952</th><td>-0.33185676</td><td>-0.4094719</td><td>-1.3497707</td><td> 1.41871632</td><td>-0.597173570</td><td>-0.5251050</td><td>-0.47779474</td></tr>\n",
       "\t<tr><th scope=row>1953</th><td>-0.24845821</td><td>-0.2244927</td><td>-1.4161189</td><td> 1.35117978</td><td>-0.334957732</td><td>-0.3150630</td><td>-0.09339492</td></tr>\n",
       "\t<tr><th scope=row>1954</th><td>-0.15579314</td><td>-0.2473611</td><td> 0.4116664</td><td> 1.06810111</td><td>-0.173229213</td><td>-0.1050210</td><td>-0.44305638</td></tr>\n",
       "\t<tr><th scope=row>1955</th><td>-0.04459506</td><td> 0.0983004</td><td>-0.3096025</td><td> 0.63414293</td><td>-0.005175313</td><td> 0.1050210</td><td> 0.19988791</td></tr>\n",
       "\t<tr><th scope=row>1956</th><td> 0.27046616</td><td> 0.3167321</td><td>-0.3973534</td><td> 0.35968594</td><td> 0.188323875</td><td> 0.3150630</td><td> 0.72324114</td></tr>\n",
       "\t<tr><th scope=row>1957</th><td> 0.62259341</td><td> 0.5540580</td><td>-0.2753583</td><td> 0.27490604</td><td> 0.434294982</td><td> 0.5251050</td><td> 0.81208021</td></tr>\n",
       "\t<tr><th scope=row>1958</th><td> 0.84498956</td><td> 0.5719362</td><td> 1.5920219</td><td> 0.04355747</td><td> 0.650651800</td><td> 0.7351470</td><td> 0.34054977</td></tr>\n",
       "\t<tr><th scope=row>1959</th><td> 1.01178668</td><td> 0.9558390</td><td> 0.6631474</td><td>-0.07858307</td><td> 0.854214095</td><td> 0.9451891</td><td> 0.95046414</td></tr>\n",
       "\t<tr><th scope=row>1960</th><td> 1.16005078</td><td> 1.1560203</td><td> 0.7894229</td><td>-0.13318708</td><td> 1.142018979</td><td> 1.1552311</td><td> 1.20929336</td></tr>\n",
       "\t<tr><th scope=row>1961</th><td> 1.29904838</td><td> 1.3126882</td><td> 1.7257883</td><td>-0.04984412</td><td> 1.499115547</td><td> 1.3652731</td><td> 1.14294879</td></tr>\n",
       "\t<tr><th scope=row>1962</th><td> 1.41024646</td><td> 1.6821336</td><td> 0.8707530</td><td> 0.31657752</td><td> 1.819553652</td><td> 1.5753151</td><td> 1.49033233</td></tr>\n",
       "</tbody>\n",
       "</table>\n"
      ],
      "text/latex": [
       "A data.frame: 16 × 7\n",
       "\\begin{tabular}{r|lllllll}\n",
       "  & GNP.deflator & GNP & Unemployed & Armed.Forces & Population & Year & Employed\\\\\n",
       "  & <dbl> & <dbl> & <dbl> & <dbl> & <dbl> & <dbl> & <dbl>\\\\\n",
       "\\hline\n",
       "\t1947 & -1.73109925 & -1.5434331 & -0.8960348 & -1.46092666 & -1.411135233 & -1.5753151 & -1.42199459\\\\\n",
       "\t1948 & -1.22144139 & -1.2905329 & -0.9292089 & -1.65347763 & -1.263926342 & -1.3652731 & -1.19448684\\\\\n",
       "\t1949 & -1.24924091 & -1.3043364 &  0.5229601 & -1.42356602 & -1.099897684 & -1.1552311 & -1.46527516\\\\\n",
       "\t1950 & -1.12877633 & -1.0372705 &  0.1687464 & -1.37470980 & -0.933712647 & -0.9451891 & -1.17597871\\\\\n",
       "\t1951 & -0.50792039 & -0.5908091 & -1.1710587 &  0.70742726 & -0.768965196 & -0.7351470 & -0.59681631\\\\\n",
       "\t1952 & -0.33185676 & -0.4094719 & -1.3497707 &  1.41871632 & -0.597173570 & -0.5251050 & -0.47779474\\\\\n",
       "\t1953 & -0.24845821 & -0.2244927 & -1.4161189 &  1.35117978 & -0.334957732 & -0.3150630 & -0.09339492\\\\\n",
       "\t1954 & -0.15579314 & -0.2473611 &  0.4116664 &  1.06810111 & -0.173229213 & -0.1050210 & -0.44305638\\\\\n",
       "\t1955 & -0.04459506 &  0.0983004 & -0.3096025 &  0.63414293 & -0.005175313 &  0.1050210 &  0.19988791\\\\\n",
       "\t1956 &  0.27046616 &  0.3167321 & -0.3973534 &  0.35968594 &  0.188323875 &  0.3150630 &  0.72324114\\\\\n",
       "\t1957 &  0.62259341 &  0.5540580 & -0.2753583 &  0.27490604 &  0.434294982 &  0.5251050 &  0.81208021\\\\\n",
       "\t1958 &  0.84498956 &  0.5719362 &  1.5920219 &  0.04355747 &  0.650651800 &  0.7351470 &  0.34054977\\\\\n",
       "\t1959 &  1.01178668 &  0.9558390 &  0.6631474 & -0.07858307 &  0.854214095 &  0.9451891 &  0.95046414\\\\\n",
       "\t1960 &  1.16005078 &  1.1560203 &  0.7894229 & -0.13318708 &  1.142018979 &  1.1552311 &  1.20929336\\\\\n",
       "\t1961 &  1.29904838 &  1.3126882 &  1.7257883 & -0.04984412 &  1.499115547 &  1.3652731 &  1.14294879\\\\\n",
       "\t1962 &  1.41024646 &  1.6821336 &  0.8707530 &  0.31657752 &  1.819553652 &  1.5753151 &  1.49033233\\\\\n",
       "\\end{tabular}\n"
      ],
      "text/markdown": [
       "\n",
       "A data.frame: 16 × 7\n",
       "\n",
       "| <!--/--> | GNP.deflator &lt;dbl&gt; | GNP &lt;dbl&gt; | Unemployed &lt;dbl&gt; | Armed.Forces &lt;dbl&gt; | Population &lt;dbl&gt; | Year &lt;dbl&gt; | Employed &lt;dbl&gt; |\n",
       "|---|---|---|---|---|---|---|---|\n",
       "| 1947 | -1.73109925 | -1.5434331 | -0.8960348 | -1.46092666 | -1.411135233 | -1.5753151 | -1.42199459 |\n",
       "| 1948 | -1.22144139 | -1.2905329 | -0.9292089 | -1.65347763 | -1.263926342 | -1.3652731 | -1.19448684 |\n",
       "| 1949 | -1.24924091 | -1.3043364 |  0.5229601 | -1.42356602 | -1.099897684 | -1.1552311 | -1.46527516 |\n",
       "| 1950 | -1.12877633 | -1.0372705 |  0.1687464 | -1.37470980 | -0.933712647 | -0.9451891 | -1.17597871 |\n",
       "| 1951 | -0.50792039 | -0.5908091 | -1.1710587 |  0.70742726 | -0.768965196 | -0.7351470 | -0.59681631 |\n",
       "| 1952 | -0.33185676 | -0.4094719 | -1.3497707 |  1.41871632 | -0.597173570 | -0.5251050 | -0.47779474 |\n",
       "| 1953 | -0.24845821 | -0.2244927 | -1.4161189 |  1.35117978 | -0.334957732 | -0.3150630 | -0.09339492 |\n",
       "| 1954 | -0.15579314 | -0.2473611 |  0.4116664 |  1.06810111 | -0.173229213 | -0.1050210 | -0.44305638 |\n",
       "| 1955 | -0.04459506 |  0.0983004 | -0.3096025 |  0.63414293 | -0.005175313 |  0.1050210 |  0.19988791 |\n",
       "| 1956 |  0.27046616 |  0.3167321 | -0.3973534 |  0.35968594 |  0.188323875 |  0.3150630 |  0.72324114 |\n",
       "| 1957 |  0.62259341 |  0.5540580 | -0.2753583 |  0.27490604 |  0.434294982 |  0.5251050 |  0.81208021 |\n",
       "| 1958 |  0.84498956 |  0.5719362 |  1.5920219 |  0.04355747 |  0.650651800 |  0.7351470 |  0.34054977 |\n",
       "| 1959 |  1.01178668 |  0.9558390 |  0.6631474 | -0.07858307 |  0.854214095 |  0.9451891 |  0.95046414 |\n",
       "| 1960 |  1.16005078 |  1.1560203 |  0.7894229 | -0.13318708 |  1.142018979 |  1.1552311 |  1.20929336 |\n",
       "| 1961 |  1.29904838 |  1.3126882 |  1.7257883 | -0.04984412 |  1.499115547 |  1.3652731 |  1.14294879 |\n",
       "| 1962 |  1.41024646 |  1.6821336 |  0.8707530 |  0.31657752 |  1.819553652 |  1.5753151 |  1.49033233 |\n",
       "\n"
      ],
      "text/plain": [
       "     GNP.deflator GNP        Unemployed Armed.Forces Population   Year      \n",
       "1947 -1.73109925  -1.5434331 -0.8960348 -1.46092666  -1.411135233 -1.5753151\n",
       "1948 -1.22144139  -1.2905329 -0.9292089 -1.65347763  -1.263926342 -1.3652731\n",
       "1949 -1.24924091  -1.3043364  0.5229601 -1.42356602  -1.099897684 -1.1552311\n",
       "1950 -1.12877633  -1.0372705  0.1687464 -1.37470980  -0.933712647 -0.9451891\n",
       "1951 -0.50792039  -0.5908091 -1.1710587  0.70742726  -0.768965196 -0.7351470\n",
       "1952 -0.33185676  -0.4094719 -1.3497707  1.41871632  -0.597173570 -0.5251050\n",
       "1953 -0.24845821  -0.2244927 -1.4161189  1.35117978  -0.334957732 -0.3150630\n",
       "1954 -0.15579314  -0.2473611  0.4116664  1.06810111  -0.173229213 -0.1050210\n",
       "1955 -0.04459506   0.0983004 -0.3096025  0.63414293  -0.005175313  0.1050210\n",
       "1956  0.27046616   0.3167321 -0.3973534  0.35968594   0.188323875  0.3150630\n",
       "1957  0.62259341   0.5540580 -0.2753583  0.27490604   0.434294982  0.5251050\n",
       "1958  0.84498956   0.5719362  1.5920219  0.04355747   0.650651800  0.7351470\n",
       "1959  1.01178668   0.9558390  0.6631474 -0.07858307   0.854214095  0.9451891\n",
       "1960  1.16005078   1.1560203  0.7894229 -0.13318708   1.142018979  1.1552311\n",
       "1961  1.29904838   1.3126882  1.7257883 -0.04984412   1.499115547  1.3652731\n",
       "1962  1.41024646   1.6821336  0.8707530  0.31657752   1.819553652  1.5753151\n",
       "     Employed   \n",
       "1947 -1.42199459\n",
       "1948 -1.19448684\n",
       "1949 -1.46527516\n",
       "1950 -1.17597871\n",
       "1951 -0.59681631\n",
       "1952 -0.47779474\n",
       "1953 -0.09339492\n",
       "1954 -0.44305638\n",
       "1955  0.19988791\n",
       "1956  0.72324114\n",
       "1957  0.81208021\n",
       "1958  0.34054977\n",
       "1959  0.95046414\n",
       "1960  1.20929336\n",
       "1961  1.14294879\n",
       "1962  1.49033233"
      ]
     },
     "metadata": {},
     "output_type": "display_data"
    }
   ],
   "source": [
    "longley.dat <- as.data.frame(scale(longley.dat))\n",
    "longley.dat"
   ]
  },
  {
   "cell_type": "code",
   "execution_count": 107,
   "metadata": {},
   "outputs": [
    {
     "data": {
      "text/plain": [
       "\n",
       "Call:\n",
       "lm(formula = Employed ~ Year + Population + Armed.Forces + Unemployed + \n",
       "    GNP + GNP.deflator, data = longley.dat)\n",
       "\n",
       "Residuals:\n",
       "      Min        1Q    Median        3Q       Max \n",
       "-0.116776 -0.044896 -0.008019  0.028916  0.129669 \n",
       "\n",
       "Coefficients:\n",
       "               Estimate Std. Error t value Pr(>|t|)    \n",
       "(Intercept)   1.622e-16  2.170e-02   0.000 1.000000    \n",
       "Year          2.480e+00  6.175e-01   4.016 0.003037 ** \n",
       "Population   -1.012e-01  4.478e-01  -0.226 0.826212    \n",
       "Armed.Forces -2.047e-01  4.246e-02  -4.822 0.000944 ***\n",
       "Unemployed   -5.375e-01  1.300e-01  -4.136 0.002535 ** \n",
       "GNP          -1.014e+00  9.479e-01  -1.070 0.312681    \n",
       "GNP.deflator  4.628e-02  2.609e-01   0.177 0.863141    \n",
       "---\n",
       "Signif. codes:  0 ‘***’ 0.001 ‘**’ 0.01 ‘*’ 0.05 ‘.’ 0.1 ‘ ’ 1\n",
       "\n",
       "Residual standard error: 0.0868 on 9 degrees of freedom\n",
       "Multiple R-squared:  0.9955,\tAdjusted R-squared:  0.9925 \n",
       "F-statistic: 330.3 on 6 and 9 DF,  p-value: 4.984e-10\n"
      ]
     },
     "metadata": {},
     "output_type": "display_data"
    },
    {
     "data": {
      "text/html": [
       "<table>\n",
       "<caption>A anova: 7 × 5</caption>\n",
       "<thead>\n",
       "\t<tr><th></th><th scope=col>Df</th><th scope=col>Sum Sq</th><th scope=col>Mean Sq</th><th scope=col>F value</th><th scope=col>Pr(&gt;F)</th></tr>\n",
       "\t<tr><th></th><th scope=col>&lt;int&gt;</th><th scope=col>&lt;dbl&gt;</th><th scope=col>&lt;dbl&gt;</th><th scope=col>&lt;dbl&gt;</th><th scope=col>&lt;dbl&gt;</th></tr>\n",
       "</thead>\n",
       "<tbody>\n",
       "\t<tr><th scope=row>Year</th><td>1</td><td>1.415221e+01</td><td>1.415221e+01</td><td>1.878199e+03</td><td>9.258495e-12</td></tr>\n",
       "\t<tr><th scope=row>Population</th><td>1</td><td>3.191560e-02</td><td>3.191560e-02</td><td>4.235651e+00</td><td>6.969760e-02</td></tr>\n",
       "\t<tr><th scope=row>Armed.Forces</th><td>1</td><td>2.323853e-02</td><td>2.323853e-02</td><td>3.084082e+00</td><td>1.129441e-01</td></tr>\n",
       "\t<tr><th scope=row>Unemployed</th><td>1</td><td>7.127127e-01</td><td>7.127127e-01</td><td>9.458705e+01</td><td>4.508590e-06</td></tr>\n",
       "\t<tr><th scope=row>GNP</th><td>1</td><td>1.186740e-02</td><td>1.186740e-02</td><td>1.574972e+00</td><td>2.410939e-01</td></tr>\n",
       "\t<tr><th scope=row>GNP.deflator</th><td>1</td><td>2.370679e-04</td><td>2.370679e-04</td><td>3.146226e-02</td><td>8.631408e-01</td></tr>\n",
       "\t<tr><th scope=row>Residuals</th><td>9</td><td>6.781493e-02</td><td>7.534992e-03</td><td>          NA</td><td>          NA</td></tr>\n",
       "</tbody>\n",
       "</table>\n"
      ],
      "text/latex": [
       "A anova: 7 × 5\n",
       "\\begin{tabular}{r|lllll}\n",
       "  & Df & Sum Sq & Mean Sq & F value & Pr(>F)\\\\\n",
       "  & <int> & <dbl> & <dbl> & <dbl> & <dbl>\\\\\n",
       "\\hline\n",
       "\tYear & 1 & 1.415221e+01 & 1.415221e+01 & 1.878199e+03 & 9.258495e-12\\\\\n",
       "\tPopulation & 1 & 3.191560e-02 & 3.191560e-02 & 4.235651e+00 & 6.969760e-02\\\\\n",
       "\tArmed.Forces & 1 & 2.323853e-02 & 2.323853e-02 & 3.084082e+00 & 1.129441e-01\\\\\n",
       "\tUnemployed & 1 & 7.127127e-01 & 7.127127e-01 & 9.458705e+01 & 4.508590e-06\\\\\n",
       "\tGNP & 1 & 1.186740e-02 & 1.186740e-02 & 1.574972e+00 & 2.410939e-01\\\\\n",
       "\tGNP.deflator & 1 & 2.370679e-04 & 2.370679e-04 & 3.146226e-02 & 8.631408e-01\\\\\n",
       "\tResiduals & 9 & 6.781493e-02 & 7.534992e-03 &           NA &           NA\\\\\n",
       "\\end{tabular}\n"
      ],
      "text/markdown": [
       "\n",
       "A anova: 7 × 5\n",
       "\n",
       "| <!--/--> | Df &lt;int&gt; | Sum Sq &lt;dbl&gt; | Mean Sq &lt;dbl&gt; | F value &lt;dbl&gt; | Pr(&gt;F) &lt;dbl&gt; |\n",
       "|---|---|---|---|---|---|\n",
       "| Year | 1 | 1.415221e+01 | 1.415221e+01 | 1.878199e+03 | 9.258495e-12 |\n",
       "| Population | 1 | 3.191560e-02 | 3.191560e-02 | 4.235651e+00 | 6.969760e-02 |\n",
       "| Armed.Forces | 1 | 2.323853e-02 | 2.323853e-02 | 3.084082e+00 | 1.129441e-01 |\n",
       "| Unemployed | 1 | 7.127127e-01 | 7.127127e-01 | 9.458705e+01 | 4.508590e-06 |\n",
       "| GNP | 1 | 1.186740e-02 | 1.186740e-02 | 1.574972e+00 | 2.410939e-01 |\n",
       "| GNP.deflator | 1 | 2.370679e-04 | 2.370679e-04 | 3.146226e-02 | 8.631408e-01 |\n",
       "| Residuals | 9 | 6.781493e-02 | 7.534992e-03 |           NA |           NA |\n",
       "\n"
      ],
      "text/plain": [
       "             Df Sum Sq       Mean Sq      F value      Pr(>F)      \n",
       "Year         1  1.415221e+01 1.415221e+01 1.878199e+03 9.258495e-12\n",
       "Population   1  3.191560e-02 3.191560e-02 4.235651e+00 6.969760e-02\n",
       "Armed.Forces 1  2.323853e-02 2.323853e-02 3.084082e+00 1.129441e-01\n",
       "Unemployed   1  7.127127e-01 7.127127e-01 9.458705e+01 4.508590e-06\n",
       "GNP          1  1.186740e-02 1.186740e-02 1.574972e+00 2.410939e-01\n",
       "GNP.deflator 1  2.370679e-04 2.370679e-04 3.146226e-02 8.631408e-01\n",
       "Residuals    9  6.781493e-02 7.534992e-03           NA           NA"
      ]
     },
     "metadata": {},
     "output_type": "display_data"
    }
   ],
   "source": [
    "longley.dat.lm.1<-lm(Employed~Year+Population+Armed.Forces+Unemployed+GNP+GNP.deflator,data=longley.dat)\n",
    "summary(longley.dat.lm.1)\n",
    "anova(longley.dat.lm.1)"
   ]
  },
  {
   "cell_type": "code",
   "execution_count": 108,
   "metadata": {},
   "outputs": [
    {
     "data": {
      "text/html": [
       "<dl class=dl-horizontal>\n",
       "\t<dt>Year</dt>\n",
       "\t\t<dd>758.980597407362</dd>\n",
       "\t<dt>Population</dt>\n",
       "\t\t<dd>399.15102231289</dd>\n",
       "\t<dt>Armed.Forces</dt>\n",
       "\t\t<dd>3.58893019344599</dd>\n",
       "\t<dt>Unemployed</dt>\n",
       "\t\t<dd>33.6188905960597</dd>\n",
       "\t<dt>GNP</dt>\n",
       "\t\t<dd>1788.5134827193</dd>\n",
       "\t<dt>GNP.deflator</dt>\n",
       "\t\t<dd>135.532438280086</dd>\n",
       "</dl>\n"
      ],
      "text/latex": [
       "\\begin{description*}\n",
       "\\item[Year] 758.980597407362\n",
       "\\item[Population] 399.15102231289\n",
       "\\item[Armed.Forces] 3.58893019344599\n",
       "\\item[Unemployed] 33.6188905960597\n",
       "\\item[GNP] 1788.5134827193\n",
       "\\item[GNP.deflator] 135.532438280086\n",
       "\\end{description*}\n"
      ],
      "text/markdown": [
       "Year\n",
       ":   758.980597407362Population\n",
       ":   399.15102231289Armed.Forces\n",
       ":   3.58893019344599Unemployed\n",
       ":   33.6188905960597GNP\n",
       ":   1788.5134827193GNP.deflator\n",
       ":   135.532438280086\n",
       "\n"
      ],
      "text/plain": [
       "        Year   Population Armed.Forces   Unemployed          GNP GNP.deflator \n",
       "   758.98060    399.15102      3.58893     33.61889   1788.51348    135.53244 "
      ]
     },
     "metadata": {},
     "output_type": "display_data"
    }
   ],
   "source": [
    "vif(longley.dat.lm.1)"
   ]
  },
  {
   "cell_type": "code",
   "execution_count": 109,
   "metadata": {},
   "outputs": [
    {
     "data": {
      "text/html": [
       "<table>\n",
       "<caption>A matrix: 16 × 7 of type dbl</caption>\n",
       "<thead>\n",
       "\t<tr><th></th><th scope=col>(Intercept)</th><th scope=col>Year</th><th scope=col>Population</th><th scope=col>Armed.Forces</th><th scope=col>Unemployed</th><th scope=col>GNP</th><th scope=col>GNP.deflator</th></tr>\n",
       "</thead>\n",
       "<tbody>\n",
       "\t<tr><th scope=row>1947</th><td>1</td><td>-1.5753151</td><td>-1.411135233</td><td>-1.46092666</td><td>-0.8960348</td><td>-1.5434331</td><td>-1.73109925</td></tr>\n",
       "\t<tr><th scope=row>1948</th><td>1</td><td>-1.3652731</td><td>-1.263926342</td><td>-1.65347763</td><td>-0.9292089</td><td>-1.2905329</td><td>-1.22144139</td></tr>\n",
       "\t<tr><th scope=row>1949</th><td>1</td><td>-1.1552311</td><td>-1.099897684</td><td>-1.42356602</td><td> 0.5229601</td><td>-1.3043364</td><td>-1.24924091</td></tr>\n",
       "\t<tr><th scope=row>1950</th><td>1</td><td>-0.9451891</td><td>-0.933712647</td><td>-1.37470980</td><td> 0.1687464</td><td>-1.0372705</td><td>-1.12877633</td></tr>\n",
       "\t<tr><th scope=row>1951</th><td>1</td><td>-0.7351470</td><td>-0.768965196</td><td> 0.70742726</td><td>-1.1710587</td><td>-0.5908091</td><td>-0.50792039</td></tr>\n",
       "\t<tr><th scope=row>1952</th><td>1</td><td>-0.5251050</td><td>-0.597173570</td><td> 1.41871632</td><td>-1.3497707</td><td>-0.4094719</td><td>-0.33185676</td></tr>\n",
       "\t<tr><th scope=row>1953</th><td>1</td><td>-0.3150630</td><td>-0.334957732</td><td> 1.35117978</td><td>-1.4161189</td><td>-0.2244927</td><td>-0.24845821</td></tr>\n",
       "\t<tr><th scope=row>1954</th><td>1</td><td>-0.1050210</td><td>-0.173229213</td><td> 1.06810111</td><td> 0.4116664</td><td>-0.2473611</td><td>-0.15579314</td></tr>\n",
       "\t<tr><th scope=row>1955</th><td>1</td><td> 0.1050210</td><td>-0.005175313</td><td> 0.63414293</td><td>-0.3096025</td><td> 0.0983004</td><td>-0.04459506</td></tr>\n",
       "\t<tr><th scope=row>1956</th><td>1</td><td> 0.3150630</td><td> 0.188323875</td><td> 0.35968594</td><td>-0.3973534</td><td> 0.3167321</td><td> 0.27046616</td></tr>\n",
       "\t<tr><th scope=row>1957</th><td>1</td><td> 0.5251050</td><td> 0.434294982</td><td> 0.27490604</td><td>-0.2753583</td><td> 0.5540580</td><td> 0.62259341</td></tr>\n",
       "\t<tr><th scope=row>1958</th><td>1</td><td> 0.7351470</td><td> 0.650651800</td><td> 0.04355747</td><td> 1.5920219</td><td> 0.5719362</td><td> 0.84498956</td></tr>\n",
       "\t<tr><th scope=row>1959</th><td>1</td><td> 0.9451891</td><td> 0.854214095</td><td>-0.07858307</td><td> 0.6631474</td><td> 0.9558390</td><td> 1.01178668</td></tr>\n",
       "\t<tr><th scope=row>1960</th><td>1</td><td> 1.1552311</td><td> 1.142018979</td><td>-0.13318708</td><td> 0.7894229</td><td> 1.1560203</td><td> 1.16005078</td></tr>\n",
       "\t<tr><th scope=row>1961</th><td>1</td><td> 1.3652731</td><td> 1.499115547</td><td>-0.04984412</td><td> 1.7257883</td><td> 1.3126882</td><td> 1.29904838</td></tr>\n",
       "\t<tr><th scope=row>1962</th><td>1</td><td> 1.5753151</td><td> 1.819553652</td><td> 0.31657752</td><td> 0.8707530</td><td> 1.6821336</td><td> 1.41024646</td></tr>\n",
       "</tbody>\n",
       "</table>\n"
      ],
      "text/latex": [
       "A matrix: 16 × 7 of type dbl\n",
       "\\begin{tabular}{r|lllllll}\n",
       "  & (Intercept) & Year & Population & Armed.Forces & Unemployed & GNP & GNP.deflator\\\\\n",
       "\\hline\n",
       "\t1947 & 1 & -1.5753151 & -1.411135233 & -1.46092666 & -0.8960348 & -1.5434331 & -1.73109925\\\\\n",
       "\t1948 & 1 & -1.3652731 & -1.263926342 & -1.65347763 & -0.9292089 & -1.2905329 & -1.22144139\\\\\n",
       "\t1949 & 1 & -1.1552311 & -1.099897684 & -1.42356602 &  0.5229601 & -1.3043364 & -1.24924091\\\\\n",
       "\t1950 & 1 & -0.9451891 & -0.933712647 & -1.37470980 &  0.1687464 & -1.0372705 & -1.12877633\\\\\n",
       "\t1951 & 1 & -0.7351470 & -0.768965196 &  0.70742726 & -1.1710587 & -0.5908091 & -0.50792039\\\\\n",
       "\t1952 & 1 & -0.5251050 & -0.597173570 &  1.41871632 & -1.3497707 & -0.4094719 & -0.33185676\\\\\n",
       "\t1953 & 1 & -0.3150630 & -0.334957732 &  1.35117978 & -1.4161189 & -0.2244927 & -0.24845821\\\\\n",
       "\t1954 & 1 & -0.1050210 & -0.173229213 &  1.06810111 &  0.4116664 & -0.2473611 & -0.15579314\\\\\n",
       "\t1955 & 1 &  0.1050210 & -0.005175313 &  0.63414293 & -0.3096025 &  0.0983004 & -0.04459506\\\\\n",
       "\t1956 & 1 &  0.3150630 &  0.188323875 &  0.35968594 & -0.3973534 &  0.3167321 &  0.27046616\\\\\n",
       "\t1957 & 1 &  0.5251050 &  0.434294982 &  0.27490604 & -0.2753583 &  0.5540580 &  0.62259341\\\\\n",
       "\t1958 & 1 &  0.7351470 &  0.650651800 &  0.04355747 &  1.5920219 &  0.5719362 &  0.84498956\\\\\n",
       "\t1959 & 1 &  0.9451891 &  0.854214095 & -0.07858307 &  0.6631474 &  0.9558390 &  1.01178668\\\\\n",
       "\t1960 & 1 &  1.1552311 &  1.142018979 & -0.13318708 &  0.7894229 &  1.1560203 &  1.16005078\\\\\n",
       "\t1961 & 1 &  1.3652731 &  1.499115547 & -0.04984412 &  1.7257883 &  1.3126882 &  1.29904838\\\\\n",
       "\t1962 & 1 &  1.5753151 &  1.819553652 &  0.31657752 &  0.8707530 &  1.6821336 &  1.41024646\\\\\n",
       "\\end{tabular}\n"
      ],
      "text/markdown": [
       "\n",
       "A matrix: 16 × 7 of type dbl\n",
       "\n",
       "| <!--/--> | (Intercept) | Year | Population | Armed.Forces | Unemployed | GNP | GNP.deflator |\n",
       "|---|---|---|---|---|---|---|---|\n",
       "| 1947 | 1 | -1.5753151 | -1.411135233 | -1.46092666 | -0.8960348 | -1.5434331 | -1.73109925 |\n",
       "| 1948 | 1 | -1.3652731 | -1.263926342 | -1.65347763 | -0.9292089 | -1.2905329 | -1.22144139 |\n",
       "| 1949 | 1 | -1.1552311 | -1.099897684 | -1.42356602 |  0.5229601 | -1.3043364 | -1.24924091 |\n",
       "| 1950 | 1 | -0.9451891 | -0.933712647 | -1.37470980 |  0.1687464 | -1.0372705 | -1.12877633 |\n",
       "| 1951 | 1 | -0.7351470 | -0.768965196 |  0.70742726 | -1.1710587 | -0.5908091 | -0.50792039 |\n",
       "| 1952 | 1 | -0.5251050 | -0.597173570 |  1.41871632 | -1.3497707 | -0.4094719 | -0.33185676 |\n",
       "| 1953 | 1 | -0.3150630 | -0.334957732 |  1.35117978 | -1.4161189 | -0.2244927 | -0.24845821 |\n",
       "| 1954 | 1 | -0.1050210 | -0.173229213 |  1.06810111 |  0.4116664 | -0.2473611 | -0.15579314 |\n",
       "| 1955 | 1 |  0.1050210 | -0.005175313 |  0.63414293 | -0.3096025 |  0.0983004 | -0.04459506 |\n",
       "| 1956 | 1 |  0.3150630 |  0.188323875 |  0.35968594 | -0.3973534 |  0.3167321 |  0.27046616 |\n",
       "| 1957 | 1 |  0.5251050 |  0.434294982 |  0.27490604 | -0.2753583 |  0.5540580 |  0.62259341 |\n",
       "| 1958 | 1 |  0.7351470 |  0.650651800 |  0.04355747 |  1.5920219 |  0.5719362 |  0.84498956 |\n",
       "| 1959 | 1 |  0.9451891 |  0.854214095 | -0.07858307 |  0.6631474 |  0.9558390 |  1.01178668 |\n",
       "| 1960 | 1 |  1.1552311 |  1.142018979 | -0.13318708 |  0.7894229 |  1.1560203 |  1.16005078 |\n",
       "| 1961 | 1 |  1.3652731 |  1.499115547 | -0.04984412 |  1.7257883 |  1.3126882 |  1.29904838 |\n",
       "| 1962 | 1 |  1.5753151 |  1.819553652 |  0.31657752 |  0.8707530 |  1.6821336 |  1.41024646 |\n",
       "\n"
      ],
      "text/plain": [
       "     (Intercept) Year       Population   Armed.Forces Unemployed GNP       \n",
       "1947 1           -1.5753151 -1.411135233 -1.46092666  -0.8960348 -1.5434331\n",
       "1948 1           -1.3652731 -1.263926342 -1.65347763  -0.9292089 -1.2905329\n",
       "1949 1           -1.1552311 -1.099897684 -1.42356602   0.5229601 -1.3043364\n",
       "1950 1           -0.9451891 -0.933712647 -1.37470980   0.1687464 -1.0372705\n",
       "1951 1           -0.7351470 -0.768965196  0.70742726  -1.1710587 -0.5908091\n",
       "1952 1           -0.5251050 -0.597173570  1.41871632  -1.3497707 -0.4094719\n",
       "1953 1           -0.3150630 -0.334957732  1.35117978  -1.4161189 -0.2244927\n",
       "1954 1           -0.1050210 -0.173229213  1.06810111   0.4116664 -0.2473611\n",
       "1955 1            0.1050210 -0.005175313  0.63414293  -0.3096025  0.0983004\n",
       "1956 1            0.3150630  0.188323875  0.35968594  -0.3973534  0.3167321\n",
       "1957 1            0.5251050  0.434294982  0.27490604  -0.2753583  0.5540580\n",
       "1958 1            0.7351470  0.650651800  0.04355747   1.5920219  0.5719362\n",
       "1959 1            0.9451891  0.854214095 -0.07858307   0.6631474  0.9558390\n",
       "1960 1            1.1552311  1.142018979 -0.13318708   0.7894229  1.1560203\n",
       "1961 1            1.3652731  1.499115547 -0.04984412   1.7257883  1.3126882\n",
       "1962 1            1.5753151  1.819553652  0.31657752   0.8707530  1.6821336\n",
       "     GNP.deflator\n",
       "1947 -1.73109925 \n",
       "1948 -1.22144139 \n",
       "1949 -1.24924091 \n",
       "1950 -1.12877633 \n",
       "1951 -0.50792039 \n",
       "1952 -0.33185676 \n",
       "1953 -0.24845821 \n",
       "1954 -0.15579314 \n",
       "1955 -0.04459506 \n",
       "1956  0.27046616 \n",
       "1957  0.62259341 \n",
       "1958  0.84498956 \n",
       "1959  1.01178668 \n",
       "1960  1.16005078 \n",
       "1961  1.29904838 \n",
       "1962  1.41024646 "
      ]
     },
     "metadata": {},
     "output_type": "display_data"
    }
   ],
   "source": [
    "X<-model.matrix(longley.dat.lm.1)\n",
    "X"
   ]
  },
  {
   "cell_type": "code",
   "execution_count": 118,
   "metadata": {},
   "outputs": [
    {
     "data": {
      "text/html": [
       "88.5635099616043"
      ],
      "text/latex": [
       "88.5635099616043"
      ],
      "text/markdown": [
       "88.5635099616043"
      ],
      "text/plain": [
       "[1] 88.56351"
      ]
     },
     "metadata": {},
     "output_type": "display_data"
    }
   ],
   "source": [
    "kappa(X)"
   ]
  },
  {
   "cell_type": "markdown",
   "metadata": {},
   "source": [
    "With the standardized predictors we get a much more better condition for regression0"
   ]
  },
  {
   "cell_type": "markdown",
   "metadata": {},
   "source": [
    "## 2. Polynomial regression "
   ]
  },
  {
   "cell_type": "markdown",
   "metadata": {},
   "source": [
    "### The  `cars` dataset"
   ]
  },
  {
   "cell_type": "code",
   "execution_count": null,
   "metadata": {},
   "outputs": [],
   "source": [
    "x"
   ]
  },
  {
   "cell_type": "markdown",
   "metadata": {},
   "source": [
    "We take another classic dataset: `cars`, stopping distance of several vehicles as a function of the initial speed. These data were registered in the 1920's. From Physics, stopping distance should be a quadratic function of speed. Firstly we fit a simple linear regression and then we try a linear regression with a quadratic term."
   ]
  },
  {
   "cell_type": "markdown",
   "metadata": {},
   "source": [
    "#### Simple linear model"
   ]
  },
  {
   "cell_type": "code",
   "execution_count": 26,
   "metadata": {},
   "outputs": [
    {
     "name": "stdout",
     "output_type": "stream",
     "text": [
      "'data.frame':\t50 obs. of  2 variables:\n",
      " $ speed: num  4 4 7 7 8 9 10 10 10 11 ...\n",
      " $ dist : num  2 10 4 22 16 10 18 26 34 17 ...\n"
     ]
    },
    {
     "data": {
      "text/plain": [
       "\n",
       "Call:\n",
       "lm(formula = dist ~ speed, data = cars)\n",
       "\n",
       "Residuals:\n",
       "    Min      1Q  Median      3Q     Max \n",
       "-29.069  -9.525  -2.272   9.215  43.201 \n",
       "\n",
       "Coefficients:\n",
       "            Estimate Std. Error t value Pr(>|t|)    \n",
       "(Intercept) -17.5791     6.7584  -2.601   0.0123 *  \n",
       "speed         3.9324     0.4155   9.464 1.49e-12 ***\n",
       "---\n",
       "Signif. codes:  0 ‘***’ 0.001 ‘**’ 0.01 ‘*’ 0.05 ‘.’ 0.1 ‘ ’ 1\n",
       "\n",
       "Residual standard error: 15.38 on 48 degrees of freedom\n",
       "Multiple R-squared:  0.6511,\tAdjusted R-squared:  0.6438 \n",
       "F-statistic: 89.57 on 1 and 48 DF,  p-value: 1.49e-12\n"
      ]
     },
     "metadata": {},
     "output_type": "display_data"
    },
    {
     "data": {
      "image/png": "[encoded data removed]",
      "text/plain": [
       "Plot with title “Stopping distance vs. speed”"
      ]
     },
     "metadata": {},
     "output_type": "display_data"
    }
   ],
   "source": [
    "data(cars)\n",
    "# ?cars\n",
    "str(cars)\n",
    "plot(dist~speed,data=cars,pch=19,col=\"red\",cex=0.8,main=\"Stopping distance vs. speed\")\n",
    "cars.lm.1<-lm(dist~speed,data=cars)\n",
    "abline(cars.lm.1,lwd=2.1,col=\"blue\")\n",
    "summary(cars.lm.1)"
   ]
  },
  {
   "cell_type": "markdown",
   "metadata": {},
   "source": [
    "#### Linear regression with a quadratic term\n",
    "\n",
    "Note the model syntax!"
   ]
  },
  {
   "cell_type": "code",
   "execution_count": 27,
   "metadata": {},
   "outputs": [
    {
     "data": {
      "text/plain": [
       "\n",
       "Call:\n",
       "lm(formula = dist ~ speed + I(speed^2), data = cars)\n",
       "\n",
       "Residuals:\n",
       "    Min      1Q  Median      3Q     Max \n",
       "-28.720  -9.184  -3.188   4.628  45.152 \n",
       "\n",
       "Coefficients:\n",
       "            Estimate Std. Error t value Pr(>|t|)\n",
       "(Intercept)  2.47014   14.81716   0.167    0.868\n",
       "speed        0.91329    2.03422   0.449    0.656\n",
       "I(speed^2)   0.09996    0.06597   1.515    0.136\n",
       "\n",
       "Residual standard error: 15.18 on 47 degrees of freedom\n",
       "Multiple R-squared:  0.6673,\tAdjusted R-squared:  0.6532 \n",
       "F-statistic: 47.14 on 2 and 47 DF,  p-value: 5.852e-12\n"
      ]
     },
     "metadata": {},
     "output_type": "display_data"
    },
    {
     "data": {
      "image/png": "[encoded data removed]",
      "text/plain": [
       "Plot with title “Stopping distance vs. speed”"
      ]
     },
     "metadata": {},
     "output_type": "display_data"
    }
   ],
   "source": [
    "cars.lm.2<-lm(dist~speed+I(speed^2),data=cars)\n",
    "summary(cars.lm.2)\n",
    "plot(dist~speed,data=cars,pch=19,col=\"red\",cex=0.8,main=\"Stopping distance vs. speed\")\n",
    "s<-seq(min(cars$speed),max(cars$speed),length=400)\n",
    "d<-predict(cars.lm.2,newdata=data.frame(speed=s))\n",
    "lines(s,d,lwd=2.1,col=\"blue\")"
   ]
  },
  {
   "cell_type": "markdown",
   "metadata": {},
   "source": [
    "#### Linear model with the logarithms of both predictor and response\n",
    "\n",
    "This is an expedient device when one expects a power function relationship."
   ]
  },
  {
   "cell_type": "code",
   "execution_count": 28,
   "metadata": {},
   "outputs": [
    {
     "data": {
      "text/plain": [
       "\n",
       "Call:\n",
       "lm(formula = log(dist) ~ log(speed), data = cars)\n",
       "\n",
       "Residuals:\n",
       "     Min       1Q   Median       3Q      Max \n",
       "-1.00215 -0.24578 -0.02898  0.20717  0.88289 \n",
       "\n",
       "Coefficients:\n",
       "            Estimate Std. Error t value Pr(>|t|)    \n",
       "(Intercept)  -0.7297     0.3758  -1.941   0.0581 .  \n",
       "log(speed)    1.6024     0.1395  11.484 2.26e-15 ***\n",
       "---\n",
       "Signif. codes:  0 ‘***’ 0.001 ‘**’ 0.01 ‘*’ 0.05 ‘.’ 0.1 ‘ ’ 1\n",
       "\n",
       "Residual standard error: 0.4053 on 48 degrees of freedom\n",
       "Multiple R-squared:  0.7331,\tAdjusted R-squared:  0.7276 \n",
       "F-statistic: 131.9 on 1 and 48 DF,  p-value: 2.259e-15\n"
      ]
     },
     "metadata": {},
     "output_type": "display_data"
    },
    {
     "data": {
      "image/png": "[encoded data removed]",
      "text/plain": [
       "Plot with title “Log(Stopping distance) vs. Log(Speed)”"
      ]
     },
     "metadata": {},
     "output_type": "display_data"
    }
   ],
   "source": [
    "cars.lm.3<- lm(log(dist) ~ log(speed), data = cars)\n",
    "summary(cars.lm.3)\n",
    "plot(log(dist)~log(speed),data=cars,pch=19,col=\"red\",cex=0.8,main=\"Log(Stopping distance) vs. Log(Speed)\")\n",
    "abline(cars.lm.3,lwd=2.1,col=\"blue\")"
   ]
  },
  {
   "cell_type": "markdown",
   "metadata": {},
   "source": [
    "## 3. Comparing regression models"
   ]
  },
  {
   "cell_type": "markdown",
   "metadata": {},
   "source": [
    "### `hills` dataset\n",
    "\n",
    "#### Package DAAG\n",
    "\n",
    "From the book: Maindonald, J., Braun, J. (2003), _Data Analysis and Graphics Using R._ Cambridge University Press."
   ]
  },
  {
   "cell_type": "code",
   "execution_count": 29,
   "metadata": {},
   "outputs": [
    {
     "name": "stderr",
     "output_type": "stream",
     "text": [
      "Loading required package: DAAG\n",
      "Warning message in library(package, lib.loc = lib.loc, character.only = TRUE, logical.return = TRUE, :\n",
      "“there is no package called ‘DAAG’”"
     ]
    }
   ],
   "source": [
    "# install.packages(\"DAAG\",dependencies=TRUE,repos=\"https://cloud.r-project.org\")\n",
    "require(DAAG)"
   ]
  },
  {
   "cell_type": "markdown",
   "metadata": {},
   "source": [
    "Load the `hills` dataset and read its help:"
   ]
  },
  {
   "cell_type": "code",
   "execution_count": 30,
   "metadata": {},
   "outputs": [
    {
     "name": "stderr",
     "output_type": "stream",
     "text": [
      "Warning message in data(hills):\n",
      "“data set ‘hills’ not found”"
     ]
    },
    {
     "ename": "ERROR",
     "evalue": "Error in str(hills): objeto 'hills' no encontrado\n",
     "output_type": "error",
     "traceback": [
      "Error in str(hills): objeto 'hills' no encontrado\nTraceback:\n",
      "1. str(hills)"
     ]
    }
   ],
   "source": [
    "data(hills)\n",
    "str(hills)\n",
    "#?hills"
   ]
  },
  {
   "cell_type": "markdown",
   "metadata": {},
   "source": [
    "Intuition about the physics underlying this problem suggests a power function relationship which, in turn, motivates us to apply a logarithmic transformation. \n",
    "\n",
    "We prepare a new `data.frame` with the logarithms."
   ]
  },
  {
   "cell_type": "code",
   "execution_count": 31,
   "metadata": {},
   "outputs": [
    {
     "ename": "ERROR",
     "evalue": "Error in eval(expr, envir, enclos): objeto 'hills' no encontrado\n",
     "output_type": "error",
     "traceback": [
      "Error in eval(expr, envir, enclos): objeto 'hills' no encontrado\nTraceback:\n"
     ]
    }
   ],
   "source": [
    "loghills<-log(hills)\n",
    "names(loghills)<-c(\"logdist\",\"logclimb\",\"logtime\")"
   ]
  },
  {
   "cell_type": "markdown",
   "metadata": {},
   "source": [
    "Does the transformation improve the linear regression?\n",
    "Compare both settings, scatterplots, correlation matrices."
   ]
  },
  {
   "cell_type": "code",
   "execution_count": 32,
   "metadata": {},
   "outputs": [],
   "source": [
    "#\n",
    "# Insert here your code\n",
    "#"
   ]
  },
  {
   "cell_type": "markdown",
   "metadata": {},
   "source": [
    "#### Comparing regressions: relevant quantities\n",
    "\n",
    "To this end we have the following available quantities:  \n",
    "\n",
    "1. $\\operatorname{ResSS}$, the Residual Sum of Squares\n",
    "2. The coefficient of determination $R^2$\n",
    "3. The $F$ statistic.\n",
    "4. The $\\operatorname{AIC}$ statistic (Akaike Information Criterion). \n",
    "\n",
    "$\\operatorname{ResSS}$ is a goodness-of-fit measure: smaller values indicate a better fit. However, when a model $L_1$ is obtained by adding predictors to an initial one $L_0$, inevitably $\\operatorname{ResSS}$ decreases ($\\operatorname{ResSS}_1\\leq \\operatorname{ResSS}_0$) by geometry, since in the $L_1$ we are projecting on a subspace larger than in $L_0$. Similarly $R_1^2\\geq R_0^2$.\n",
    "\n",
    "From a statistical perspective we need to decide whether an observed decrease in $\\operatorname{ResSS}$, or\n",
    "increase in $R^2$ is significant. This is the purpose of $F$ and $\\operatorname{AIC}$."
   ]
  },
  {
   "cell_type": "markdown",
   "metadata": {},
   "source": [
    "When we get a new model $L_1$ by adding a single predictor to a model $L_0$, the comparison $F$ statistic is defined as the relative decrease in $\\operatorname{ResSS}$, that is, the ratio:"
   ]
  },
  {
   "cell_type": "code",
   "execution_count": 33,
   "metadata": {},
   "outputs": [],
   "source": [
    "# F01<-(ResSS0-ResSS1)/(ResSS1/df1)"
   ]
  },
  {
   "cell_type": "markdown",
   "metadata": {},
   "source": [
    "`ResSS0` and `ResSS` are, respectively, the residual sum of squares of $L_0$  and $L_1$, and `df1` is the number of degrees of freedom of $L_1$. `F01` is a test statistic to decide between the null hypothesis:\n",
    "\n",
    "$$\n",
    "    H_{0} = \\mbox{``The new predictor does not improve the model\"}. \n",
    "$$\n",
    "\n",
    "versus the alternative that it does. When the models are Gauss-Markov normal, `F01` follows a Fisher-Snedecor $F$ distribution with 1 and `df1` degrees of freedom."
   ]
  },
  {
   "cell_type": "markdown",
   "metadata": {},
   "source": [
    "$\\operatorname{AIC}$ (Akaike Information Criterion) is an answer to a different problem: adding a predictor to a prediction model means we are adding a parameter to the prediction function (a linear function in this case) and, in general, increasing the number of parameters in a prediction function learned from a given training dataset tends to fit better this particular dataset at the cost of deteriorating the quality of predictions for other samples _from the same statistical population_ from which the training sample was extracted.\n",
    "\n",
    "This is another instance of the bias/variance tradeoff. \n",
    "\n",
    "$\\operatorname{AIC}$ is a _penalized (minus)log-likelihood,_ the difference:\n",
    "\n",
    "$$\n",
    "    -\\log\\cal{L}+\\lambda\\,\\cal{P}, \\mskip30mu \\lambda>0,\n",
    "$$\n",
    "\n",
    "where an increase in log-likelihood gained by adding a new parameter can be cancelled by an increase in the penalization term $\\cal{P}$. In this way we can tell the better from two _nested_ models (a pair of models where the set of predictors in one of them is a subset of that in the other). \n",
    "\n",
    "The better model is the one with a smaller $\\operatorname{AIC}$ (tending to a larger likelihood). In R the $\\operatorname{AIC}$ of a model $L$ can be obtained with:"
   ]
  },
  {
   "cell_type": "code",
   "execution_count": 34,
   "metadata": {},
   "outputs": [],
   "source": [
    "# extractAIC(L)"
   ]
  },
  {
   "cell_type": "markdown",
   "metadata": {},
   "source": [
    "Which uses the definition:"
   ]
  },
  {
   "cell_type": "code",
   "execution_count": 35,
   "metadata": {},
   "outputs": [],
   "source": [
    "# AIC = - 2*log L + k * edf,"
   ]
  },
  {
   "cell_type": "markdown",
   "metadata": {},
   "source": [
    "In particular, for a linear model, (DAAG pag. 153):"
   ]
  },
  {
   "cell_type": "code",
   "execution_count": 36,
   "metadata": {},
   "outputs": [],
   "source": [
    "# AIC= n*log(ResSS/n)+2*Regdf"
   ]
  },
  {
   "cell_type": "markdown",
   "metadata": {},
   "source": [
    "For the `hills` dataset:"
   ]
  },
  {
   "cell_type": "code",
   "execution_count": 37,
   "metadata": {},
   "outputs": [
    {
     "ename": "ERROR",
     "evalue": "Error in is.data.frame(data): objeto 'loghills' no encontrado\n",
     "output_type": "error",
     "traceback": [
      "Error in is.data.frame(data): objeto 'loghills' no encontrado\nTraceback:\n",
      "1. lm(logtime ~ logdist, data = loghills)",
      "2. eval(mf, parent.frame())",
      "3. eval(mf, parent.frame())",
      "4. stats::model.frame(formula = logtime ~ logdist, data = loghills, \n .     drop.unused.levels = TRUE)",
      "5. model.frame.default(formula = logtime ~ logdist, data = loghills, \n .     drop.unused.levels = TRUE)",
      "6. is.data.frame(data)"
     ]
    }
   ],
   "source": [
    "loghills.l0<-lm(logtime~logdist,data=loghills)\n",
    "loghills.l1<-lm(logtime~logdist+logclimb,data=loghills)"
   ]
  },
  {
   "cell_type": "markdown",
   "metadata": {},
   "source": [
    "The following function extracts a list of relevant quantities from an object `L` of the `lm` class (the ones from last session, plus $\\operatorname{AIC}$)."
   ]
  },
  {
   "cell_type": "code",
   "execution_count": 38,
   "metadata": {},
   "outputs": [],
   "source": [
    "Regression.Quantities<-function(L){\n",
    "    y<-L$model[[1]]\n",
    "    y0<-y-mean(y)\n",
    "    TotalSS0<-sum(y0^2)\n",
    "    n<-length(y)\n",
    "    Totaldf<-n\n",
    "    Totaldf0<-Totaldf-1\n",
    "#\n",
    "    yhat<-as.numeric(L$fitted.values)\n",
    "    yhat0<-yhat-mean(yhat)\n",
    "    RegSS0<-sum(yhat0^2)\n",
    "    Regdf<-L$rank\n",
    "    Regdf0<-Regdf-1\n",
    "#\n",
    "    ytilde<-as.numeric(L$residuals)\n",
    "    ResSS<-sum(ytilde^2)\n",
    "    Resdf<-Totaldf0-Regdf0\n",
    "#\n",
    "    TotalMeanS0<-TotalSS0/Totaldf0\n",
    "    RegMeanS0<-RegSS0/Regdf0\n",
    "    ResMeanS<-ResSS/Resdf\n",
    "#\n",
    "    R2<-RegSS0/TotalSS0\n",
    "    RegF<-RegMeanS0/ResMeanS\n",
    "    AIC=n*log(ResSS/n)+2*Regdf\n",
    "#\n",
    "    Q<-list(\n",
    "        y=y,y0=y0,n=n,TotalSS0=TotalSS0,Totaldf=Totaldf,Totaldf0=Totaldf0,\n",
    "        yhat=yhat,yhat0=yhat0,RegSS0=RegSS0,Regdf=Regdf,Regdf0=Regdf0,\n",
    "        ytilde=ytilde,ResSS=ResSS,Resdf=Resdf,\n",
    "        TotalMeanS0=TotalMeanS0,RegMeanS0=RegMeanS0,ResMeanS=ResMeanS,\n",
    "        R2=R2,RegF=RegF,AIC=AIC)\n",
    "    return(Q)\n",
    "    }"
   ]
  },
  {
   "cell_type": "markdown",
   "metadata": {},
   "source": [
    "Using `Regression.Quantities()`:"
   ]
  },
  {
   "cell_type": "code",
   "execution_count": 39,
   "metadata": {},
   "outputs": [
    {
     "ename": "ERROR",
     "evalue": "Error in Regression.Quantities(loghills.l0): objeto 'loghills.l0' no encontrado\n",
     "output_type": "error",
     "traceback": [
      "Error in Regression.Quantities(loghills.l0): objeto 'loghills.l0' no encontrado\nTraceback:\n",
      "1. Regression.Quantities(loghills.l0)"
     ]
    }
   ],
   "source": [
    "loghills.Q0<-Regression.Quantities(loghills.l0)\n",
    "loghills.Q1<-Regression.Quantities(loghills.l1)"
   ]
  },
  {
   "cell_type": "markdown",
   "metadata": {},
   "source": [
    "From these results, decide which is the better model, according to the above criteria."
   ]
  },
  {
   "cell_type": "code",
   "execution_count": 40,
   "metadata": {},
   "outputs": [],
   "source": [
    "#\n",
    "# Insert your code here\n",
    "#"
   ]
  },
  {
   "cell_type": "markdown",
   "metadata": {},
   "source": [
    "The `stats` package has two functions, `add1()` and `drop1`, allowing us to perform this operation in a semi-automatic way. Either we add a predictor to the basic model:"
   ]
  },
  {
   "cell_type": "code",
   "execution_count": 41,
   "metadata": {},
   "outputs": [
    {
     "ename": "ERROR",
     "evalue": "Error in add1(loghills.l0, \"logclimb\"): objeto 'loghills.l0' no encontrado\n",
     "output_type": "error",
     "traceback": [
      "Error in add1(loghills.l0, \"logclimb\"): objeto 'loghills.l0' no encontrado\nTraceback:\n",
      "1. add1(loghills.l0, \"logclimb\")"
     ]
    }
   ],
   "source": [
    "add1(loghills.l0,\"logclimb\")\n",
    "add1(loghills.l0,\"logclimb\",test=\"F\")\n",
    "add1(loghills.l0,\"logclimb\",test=\"Chisq\")"
   ]
  },
  {
   "cell_type": "markdown",
   "metadata": {},
   "source": [
    "Or drop a variable from a larger model:"
   ]
  },
  {
   "cell_type": "code",
   "execution_count": 42,
   "metadata": {},
   "outputs": [
    {
     "ename": "ERROR",
     "evalue": "Error in drop1(loghills.l1, \"logclimb\"): objeto 'loghills.l1' no encontrado\n",
     "output_type": "error",
     "traceback": [
      "Error in drop1(loghills.l1, \"logclimb\"): objeto 'loghills.l1' no encontrado\nTraceback:\n",
      "1. drop1(loghills.l1, \"logclimb\")"
     ]
    }
   ],
   "source": [
    "drop1(loghills.l1,\"logclimb\")\n",
    "drop1(loghills.l1,\"logclimb\",test=\"F\")"
   ]
  },
  {
   "cell_type": "code",
   "execution_count": 43,
   "metadata": {},
   "outputs": [
    {
     "ename": "ERROR",
     "evalue": "Error in drop1(loghills.l1, \"logdist\"): objeto 'loghills.l1' no encontrado\n",
     "output_type": "error",
     "traceback": [
      "Error in drop1(loghills.l1, \"logdist\"): objeto 'loghills.l1' no encontrado\nTraceback:\n",
      "1. drop1(loghills.l1, \"logdist\")"
     ]
    }
   ],
   "source": [
    "drop1(loghills.l1,\"logdist\")\n",
    "drop1(loghills.l1,\"logdist\",test=\"F\")"
   ]
  },
  {
   "cell_type": "markdown",
   "metadata": {},
   "source": [
    "####  `Steam` dataset\n",
    "\n",
    "Files: `Steam.dat.txt` (Data description),  `Steam1.txt` (Actual data)."
   ]
  },
  {
   "cell_type": "code",
   "execution_count": 44,
   "metadata": {},
   "outputs": [
    {
     "name": "stdout",
     "output_type": "stream",
     "text": [
      "'data.frame':\t25 obs. of  10 variables:\n",
      " $ y : num  10.98 11.13 12.51 8.4 9.27 ...\n",
      " $ x1: num  5.2 5.12 6.19 3.89 6.28 5.76 3.45 6.57 5.69 6.14 ...\n",
      " $ x2: num  0.61 0.64 0.78 0.49 0.84 0.74 0.42 0.87 0.75 0.76 ...\n",
      " $ x3: num  7.4 8 7.4 7.5 5.5 8.9 4.1 4.1 4.1 4.5 ...\n",
      " $ x4: num  31 29 31 30 31 30 31 31 30 31 ...\n",
      " $ x5: num  20 20 23 20 21 22 11 23 21 20 ...\n",
      " $ x6: num  22 25 17 22 0 0 0 0 0 0 ...\n",
      " $ x7: num  35.3 29.7 30.8 58.8 61.4 71.3 74.4 76.7 70.7 57.5 ...\n",
      " $ x8: num  54.8 64 54.8 56.3 30.3 79.2 16.8 16.8 16.8 20.3 ...\n",
      " $ x9: num  4 5 4 4 5 4 2 5 4 5 ...\n"
     ]
    }
   ],
   "source": [
    "Steam<-read.table(\"Steam1.txt\",header=TRUE)\n",
    "str(Steam)"
   ]
  },
  {
   "cell_type": "markdown",
   "metadata": {},
   "source": [
    "#### Exercise:\n",
    "\n",
    "With the `Steam` dataset we try to find the best subset of predictors of `y` from `(x1,x2,x3,x4,x5,x6,x7,x8,x9)`:"
   ]
  },
  {
   "cell_type": "markdown",
   "metadata": {},
   "source": [
    "With such data as `Steam`, with $p$ predictors, there is a large number of possible regressions –precisely $2^p$, the number of subsets of the set of all predictors- which, in principle, they can be tested by repeatedly applying the above functions, either starting with the base model with no predictors other than \n",
    "intercept:"
   ]
  },
  {
   "cell_type": "code",
   "execution_count": 45,
   "metadata": {},
   "outputs": [
    {
     "data": {
      "text/plain": [
       "\n",
       "Call:\n",
       "lm(formula = y ~ 1, data = Steam)\n",
       "\n",
       "Residuals:\n",
       "   Min     1Q Median     3Q    Max \n",
       "-3.064 -1.024 -0.284  1.516  3.086 \n",
       "\n",
       "Coefficients:\n",
       "            Estimate Std. Error t value Pr(>|t|)    \n",
       "(Intercept)   9.4240     0.3261    28.9   <2e-16 ***\n",
       "---\n",
       "Signif. codes:  0 ‘***’ 0.001 ‘**’ 0.01 ‘*’ 0.05 ‘.’ 0.1 ‘ ’ 1\n",
       "\n",
       "Residual standard error: 1.631 on 24 degrees of freedom\n"
      ]
     },
     "metadata": {},
     "output_type": "display_data"
    }
   ],
   "source": [
    "ls0<-lm(y~1, data=Steam)\n",
    "summary(ls0)"
   ]
  },
  {
   "cell_type": "markdown",
   "metadata": {},
   "source": [
    "and successively add predictors or, on the contrary, starting with the full model:"
   ]
  },
  {
   "cell_type": "code",
   "execution_count": 46,
   "metadata": {},
   "outputs": [
    {
     "data": {
      "text/plain": [
       "\n",
       "Call:\n",
       "lm(formula = y ~ x1 + x2 + x3 + x4 + x5 + x6 + x7 + x8 + x9, \n",
       "    data = Steam)\n",
       "\n",
       "Residuals:\n",
       "    Min      1Q  Median      3Q     Max \n",
       "-1.0726 -0.3670  0.0758  0.2942  1.0436 \n",
       "\n",
       "Coefficients:\n",
       "             Estimate Std. Error t value Pr(>|t|)   \n",
       "(Intercept) -0.227769   7.833663  -0.029  0.97719   \n",
       "x1           0.197252   0.635859   0.310  0.76067   \n",
       "x2           5.763660   4.466510   1.290  0.21644   \n",
       "x3           1.985020   0.861398   2.304  0.03592 * \n",
       "x4           0.132288   0.231817   0.571  0.57668   \n",
       "x5          -0.046401   0.060859  -0.762  0.45762   \n",
       "x6          -0.005743   0.027373  -0.210  0.83664   \n",
       "x7          -0.069204   0.018456  -3.750  0.00193 **\n",
       "x8          -0.139526   0.060742  -2.297  0.03643 * \n",
       "x9          -0.318685   0.239128  -1.333  0.20252   \n",
       "---\n",
       "Signif. codes:  0 ‘***’ 0.001 ‘**’ 0.01 ‘*’ 0.05 ‘.’ 0.1 ‘ ’ 1\n",
       "\n",
       "Residual standard error: 0.644 on 15 degrees of freedom\n",
       "Multiple R-squared:  0.9025,\tAdjusted R-squared:  0.844 \n",
       "F-statistic: 15.43 on 9 and 15 DF,  p-value: 4.667e-06\n"
      ]
     },
     "metadata": {},
     "output_type": "display_data"
    }
   ],
   "source": [
    "ls1<-lm(y~x1+x2+x3+x4+x5+x6+x7+x8+x9, data=Steam)\n",
    "summary(ls1)"
   ]
  },
  {
   "cell_type": "markdown",
   "metadata": {},
   "source": [
    "And then successively remove them.\n",
    "\n",
    "For instance, we start with `ls0`:"
   ]
  },
  {
   "cell_type": "code",
   "execution_count": 47,
   "metadata": {},
   "outputs": [
    {
     "data": {
      "text/html": [
       "<table>\n",
       "<caption>A anova: 2 × 6</caption>\n",
       "<thead>\n",
       "\t<tr><th></th><th scope=col>Df</th><th scope=col>Sum of Sq</th><th scope=col>RSS</th><th scope=col>AIC</th><th scope=col>F value</th><th scope=col>Pr(&gt;F)</th></tr>\n",
       "\t<tr><th></th><th scope=col>&lt;dbl&gt;</th><th scope=col>&lt;dbl&gt;</th><th scope=col>&lt;dbl&gt;</th><th scope=col>&lt;dbl&gt;</th><th scope=col>&lt;dbl&gt;</th><th scope=col>&lt;dbl&gt;</th></tr>\n",
       "</thead>\n",
       "<tbody>\n",
       "\t<tr><th scope=row>&lt;none&gt;</th><td>NA</td><td>      NA</td><td>63.81580</td><td>25.42812</td><td>      NA</td><td>        NA</td></tr>\n",
       "\t<tr><th scope=row>x1</th><td> 1</td><td>9.369767</td><td>54.44603</td><td>23.45835</td><td>3.958133</td><td>0.05866522</td></tr>\n",
       "</tbody>\n",
       "</table>\n"
      ],
      "text/latex": [
       "A anova: 2 × 6\n",
       "\\begin{tabular}{r|llllll}\n",
       "  & Df & Sum of Sq & RSS & AIC & F value & Pr(>F)\\\\\n",
       "  & <dbl> & <dbl> & <dbl> & <dbl> & <dbl> & <dbl>\\\\\n",
       "\\hline\n",
       "\t<none> & NA &       NA & 63.81580 & 25.42812 &       NA &         NA\\\\\n",
       "\tx1 &  1 & 9.369767 & 54.44603 & 23.45835 & 3.958133 & 0.05866522\\\\\n",
       "\\end{tabular}\n"
      ],
      "text/markdown": [
       "\n",
       "A anova: 2 × 6\n",
       "\n",
       "| <!--/--> | Df &lt;dbl&gt; | Sum of Sq &lt;dbl&gt; | RSS &lt;dbl&gt; | AIC &lt;dbl&gt; | F value &lt;dbl&gt; | Pr(&gt;F) &lt;dbl&gt; |\n",
       "|---|---|---|---|---|---|---|\n",
       "| &lt;none&gt; | NA |       NA | 63.81580 | 25.42812 |       NA |         NA |\n",
       "| x1 |  1 | 9.369767 | 54.44603 | 23.45835 | 3.958133 | 0.05866522 |\n",
       "\n"
      ],
      "text/plain": [
       "       Df Sum of Sq RSS      AIC      F value  Pr(>F)    \n",
       "<none> NA       NA  63.81580 25.42812       NA         NA\n",
       "x1      1 9.369767  54.44603 23.45835 3.958133 0.05866522"
      ]
     },
     "metadata": {},
     "output_type": "display_data"
    },
    {
     "data": {
      "text/html": [
       "<table>\n",
       "<caption>A anova: 2 × 6</caption>\n",
       "<thead>\n",
       "\t<tr><th></th><th scope=col>Df</th><th scope=col>Sum of Sq</th><th scope=col>RSS</th><th scope=col>AIC</th><th scope=col>F value</th><th scope=col>Pr(&gt;F)</th></tr>\n",
       "\t<tr><th></th><th scope=col>&lt;dbl&gt;</th><th scope=col>&lt;dbl&gt;</th><th scope=col>&lt;dbl&gt;</th><th scope=col>&lt;dbl&gt;</th><th scope=col>&lt;dbl&gt;</th><th scope=col>&lt;dbl&gt;</th></tr>\n",
       "</thead>\n",
       "<tbody>\n",
       "\t<tr><th scope=row>&lt;none&gt;</th><td>NA</td><td>     NA</td><td>63.81580</td><td>25.42812</td><td>      NA</td><td>        NA</td></tr>\n",
       "\t<tr><th scope=row>x9</th><td> 1</td><td>9.31832</td><td>54.49748</td><td>23.48197</td><td>3.932684</td><td>0.05942159</td></tr>\n",
       "</tbody>\n",
       "</table>\n"
      ],
      "text/latex": [
       "A anova: 2 × 6\n",
       "\\begin{tabular}{r|llllll}\n",
       "  & Df & Sum of Sq & RSS & AIC & F value & Pr(>F)\\\\\n",
       "  & <dbl> & <dbl> & <dbl> & <dbl> & <dbl> & <dbl>\\\\\n",
       "\\hline\n",
       "\t<none> & NA &      NA & 63.81580 & 25.42812 &       NA &         NA\\\\\n",
       "\tx9 &  1 & 9.31832 & 54.49748 & 23.48197 & 3.932684 & 0.05942159\\\\\n",
       "\\end{tabular}\n"
      ],
      "text/markdown": [
       "\n",
       "A anova: 2 × 6\n",
       "\n",
       "| <!--/--> | Df &lt;dbl&gt; | Sum of Sq &lt;dbl&gt; | RSS &lt;dbl&gt; | AIC &lt;dbl&gt; | F value &lt;dbl&gt; | Pr(&gt;F) &lt;dbl&gt; |\n",
       "|---|---|---|---|---|---|---|\n",
       "| &lt;none&gt; | NA |      NA | 63.81580 | 25.42812 |       NA |         NA |\n",
       "| x9 |  1 | 9.31832 | 54.49748 | 23.48197 | 3.932684 | 0.05942159 |\n",
       "\n"
      ],
      "text/plain": [
       "       Df Sum of Sq RSS      AIC      F value  Pr(>F)    \n",
       "<none> NA      NA   63.81580 25.42812       NA         NA\n",
       "x9      1 9.31832   54.49748 23.48197 3.932684 0.05942159"
      ]
     },
     "metadata": {},
     "output_type": "display_data"
    }
   ],
   "source": [
    "add1(ls0,\"x1\",test=\"F\")\n",
    "# ...\n",
    "add1(ls0,\"x9\",test=\"F\")"
   ]
  },
  {
   "cell_type": "markdown",
   "metadata": {},
   "source": [
    "We see that `x7` is the better addition."
   ]
  },
  {
   "cell_type": "markdown",
   "metadata": {},
   "source": [
    "We keep this variable and now we try to add a second one following the same procedure, and successively, until we find a satisfactory subset. \n",
    "\n",
    "This is the _forward_ variables selection method. \n",
    "\n",
    "Symmetrically, the _backward_ method starts with the full model `ls1` and sequentially removes variables.\n",
    "\n",
    "It is worth noting that if, for instance, at a certain stage of a _forward_  procedure the current subset of variables is $A$, we have not tested all subsets of $A$ but only those in the path through which we arrived at $A$. To test them we should apply _backward_  selection from $A$ and so on. \n",
    "\n",
    "The `stats` package has a `step()` function to automate this process:"
   ]
  },
  {
   "cell_type": "code",
   "execution_count": 48,
   "metadata": {},
   "outputs": [
    {
     "name": "stdout",
     "output_type": "stream",
     "text": [
      "Start:  AIC=25.43\n",
      "y ~ 1\n",
      "\n",
      "       Df Sum of Sq    RSS     AIC\n",
      "+ x7    1    45.592 18.223 -3.9042\n",
      "+ x6    1    26.192 37.624 14.2192\n",
      "+ x3    1    14.357 49.459 21.0568\n",
      "+ x5    1    10.739 53.077 22.8216\n",
      "+ x8    1     9.934 53.882 23.1981\n",
      "+ x1    1     9.370 54.446 23.4584\n",
      "+ x9    1     9.318 54.497 23.4820\n",
      "+ x2    1     5.958 57.858 24.9779\n",
      "<none>              63.816 25.4281\n",
      "+ x4    1     1.193 62.623 26.9563\n",
      "\n",
      "Step:  AIC=-3.9\n",
      "y ~ x7\n",
      "\n",
      "       Df Sum of Sq    RSS      AIC\n",
      "+ x1    1     9.292  8.931 -19.7327\n",
      "+ x2    1     8.438  9.785 -17.4508\n",
      "+ x5    1     3.140 15.084  -6.6317\n",
      "+ x4    1     2.623 15.600  -5.7902\n",
      "+ x9    1     2.236 15.988  -5.1763\n",
      "+ x6    1     1.712 16.511  -4.3711\n",
      "<none>              18.223  -3.9042\n",
      "+ x8    1     0.359 17.864  -2.4022\n",
      "+ x3    1     0.224 17.999  -2.2134\n",
      "- x7    1    45.592 63.816  25.4281\n",
      "\n",
      "Step:  AIC=-19.73\n",
      "y ~ x7 + x1\n",
      "\n",
      "       Df Sum of Sq    RSS      AIC\n",
      "<none>               8.931 -19.7327\n",
      "+ x9    1     0.319  8.612 -18.6433\n",
      "+ x4    1     0.238  8.693 -18.4090\n",
      "+ x6    1     0.032  8.899 -17.8228\n",
      "+ x8    1     0.015  8.917 -17.7738\n",
      "+ x2    1     0.004  8.927 -17.7449\n",
      "+ x5    1     0.003  8.929 -17.7404\n",
      "+ x3    1     0.000  8.931 -17.7338\n",
      "- x1    1     9.292 18.223  -3.9042\n",
      "- x7    1    45.515 54.446  23.4584\n"
     ]
    },
    {
     "data": {
      "text/plain": [
       "\n",
       "Call:\n",
       "lm(formula = y ~ x7 + x1, data = Steam)\n",
       "\n",
       "Coefficients:\n",
       "(Intercept)           x7           x1  \n",
       "    9.47422     -0.07976      0.76165  \n"
      ]
     },
     "metadata": {},
     "output_type": "display_data"
    }
   ],
   "source": [
    "step(ls0,\"~x1+x2+x3+x4+x5+x6+x7+x8+x9\")"
   ]
  },
  {
   "cell_type": "markdown",
   "metadata": {},
   "source": [
    "Also from the full model:"
   ]
  },
  {
   "cell_type": "code",
   "execution_count": 49,
   "metadata": {},
   "outputs": [
    {
     "name": "stdout",
     "output_type": "stream",
     "text": [
      "Start:  AIC=-14.77\n",
      "y ~ x1 + x2 + x3 + x4 + x5 + x6 + x7 + x8 + x9\n",
      "\n",
      "       Df Sum of Sq     RSS      AIC\n",
      "- x6    1    0.0183  6.2397 -16.6986\n",
      "- x1    1    0.0399  6.2614 -16.6120\n",
      "- x4    1    0.1351  6.3565 -16.2349\n",
      "- x5    1    0.2411  6.4625 -15.8213\n",
      "<none>               6.2214 -14.7719\n",
      "- x2    1    0.6907  6.9121 -14.1401\n",
      "- x9    1    0.7366  6.9581 -13.9743\n",
      "- x8    1    2.1884  8.4098  -9.2369\n",
      "- x3    1    2.2025  8.4240  -9.1949\n",
      "- x7    1    5.8314 12.0529  -0.2394\n",
      "\n",
      "Step:  AIC=-16.7\n",
      "y ~ x1 + x2 + x3 + x4 + x5 + x7 + x8 + x9\n",
      "\n",
      "       Df Sum of Sq     RSS      AIC\n",
      "- x1    1    0.0462  6.2859 -18.5142\n",
      "- x4    1    0.1455  6.3852 -18.1223\n",
      "- x5    1    0.2587  6.4984 -17.6829\n",
      "<none>               6.2397 -16.6986\n",
      "- x2    1    0.6959  6.9356 -16.0551\n",
      "- x9    1    0.7437  6.9834 -15.8837\n",
      "- x8    1    2.1822  8.4219 -11.2011\n",
      "- x3    1    2.1981  8.4378 -11.1539\n",
      "- x7    1   11.7123 17.9520   7.7207\n",
      "\n",
      "Step:  AIC=-18.51\n",
      "y ~ x2 + x3 + x4 + x5 + x7 + x8 + x9\n",
      "\n",
      "       Df Sum of Sq     RSS      AIC\n",
      "- x4    1    0.3000  6.5859 -19.3485\n",
      "- x5    1    0.3598  6.6457 -19.1228\n",
      "<none>               6.2859 -18.5142\n",
      "- x9    1    0.7015  6.9874 -17.8692\n",
      "- x8    1    2.5254  8.8113 -12.0710\n",
      "- x3    1    2.5653  8.8512 -11.9581\n",
      "- x2    1    4.7390 11.0249  -6.4679\n",
      "- x7    1   11.6798 17.9657   5.7397\n",
      "\n",
      "Step:  AIC=-19.35\n",
      "y ~ x2 + x3 + x5 + x7 + x8 + x9\n",
      "\n",
      "       Df Sum of Sq     RSS      AIC\n",
      "<none>               6.5859 -19.3485\n",
      "- x5    1    0.6317  7.2176 -19.0587\n",
      "- x9    1    1.1531  7.7391 -17.3149\n",
      "- x3    1    2.8405  9.4265 -12.3839\n",
      "- x8    1    2.9010  9.4869 -12.2240\n",
      "- x2    1    7.2384 13.8243  -2.8112\n",
      "- x7    1   12.5365 19.1225   5.2997\n"
     ]
    },
    {
     "data": {
      "text/plain": [
       "\n",
       "Call:\n",
       "lm(formula = y ~ x2 + x3 + x5 + x7 + x8 + x9, data = Steam)\n",
       "\n",
       "Coefficients:\n",
       "(Intercept)           x2           x3           x5           x7           x8  \n",
       "    3.47721      7.88356      2.15116     -0.06817     -0.06783     -0.15287  \n",
       "         x9  \n",
       "   -0.37100  \n"
      ]
     },
     "metadata": {},
     "output_type": "display_data"
    }
   ],
   "source": [
    "step(ls1)"
   ]
  },
  {
   "cell_type": "markdown",
   "metadata": {},
   "source": [
    "Reasonably enough, this combined _forward_ and _backward_ procedure is called _stepwise._"
   ]
  },
  {
   "cell_type": "markdown",
   "metadata": {},
   "source": [
    "The `MASS` package has analogous functions, `addterm()`, `dropterm()`, and `stepAIC()`, with the same functionality as the above functions in the basic `stats` package."
   ]
  },
  {
   "cell_type": "markdown",
   "metadata": {},
   "source": [
    "Finally, there is the strategy of computing all the possible $2^p$ regressions, with all the subsets in the set of predictors, from $\\emptyset$ to the total number $p$ of predictors, and then comparing all the resulting $\\operatorname{AIC}$ values, keeping the best one. \n",
    "\n",
    "This is the _All Subsets Regression_ method. Obviously, this computation is unfeasible by a brute force approach, except for models with a very small number of predictors. There are combinatorial _branch and bound_ algorithms allowing us to limit the number of actual regressions we need to evaluate in full. The method depends on imposing a partial ordering on the set of all possible regressions, giving it a tree-like structure, in which we will need to evaluate only a small number of nodes. The `leaps` package implements this procedure (the name originates from the idiom  _leaps and bounds)._"
   ]
  },
  {
   "cell_type": "markdown",
   "metadata": {},
   "source": [
    "# Homework 1 (part 1)\n",
    "\n",
    "This is the first half. The second half will appear at the end of the next laboratory (Regression 03 - Regularization). The aim here is to apply linear regression on the `Home prices` dataset from Kaggle  [House Prices: Advanced Regression Techniques](https://www.kaggle.com/c/house-prices-advanced-regression-techniques/discussion). As explained in the documentation there, this dataset is a test bed for many prediction methods, thus it is not to be expected that linear regression will be particularly succesful. Later on in the course we will try other methods."
   ]
  },
  {
   "cell_type": "markdown",
   "metadata": {},
   "source": [
    "As a warmup, take the similar but smaller `Boston home prices` dataset. This is a very classic example and it is easy to find its study with linear regression in many online resources. Googling \"Boston home prices\" will yield many implementations, both in R and in python."
   ]
  },
  {
   "cell_type": "markdown",
   "metadata": {},
   "source": [
    "You can learn from and even reproduce parts of these sources. This is acceptable provided that you:\n",
    "\n",
    "   1. Give credit where it is due, in particular, including full reference (URL) of any cited work\n",
    "    \n",
    "   2. Do not copy/paste \"in extenso\" large chunks of code\n",
    "    \n",
    "   3. Understand everything you write, explaining with sufficient details the steps you take and the results you obtain.\n",
    "\n",
    "The Boston home prices data are intended for prediction of home values in suburbs of the namesake city. `medv` is the response variable and the other variables are predictors. See their description in the dataset help. Some of these predictors are intrinsic habitational characteristics, such as number of bedrooms; other predictors have a socioeconomic nature and, finally, other predictors are geographical or environmental."
   ]
  },
  {
   "cell_type": "markdown",
   "metadata": {},
   "source": [
    " \n",
    "In R you find this dataset in the MASS package, from the book by  W. N. Venables and   B. D. Ripley (2002), _Modern Applied Statistics with S:_"
   ]
  },
  {
   "cell_type": "code",
   "execution_count": 50,
   "metadata": {},
   "outputs": [
    {
     "name": "stderr",
     "output_type": "stream",
     "text": [
      "Loading required package: MASS\n"
     ]
    },
    {
     "name": "stdout",
     "output_type": "stream",
     "text": [
      "'data.frame':\t506 obs. of  14 variables:\n",
      " $ crim   : num  0.00632 0.02731 0.02729 0.03237 0.06905 ...\n",
      " $ zn     : num  18 0 0 0 0 0 12.5 12.5 12.5 12.5 ...\n",
      " $ indus  : num  2.31 7.07 7.07 2.18 2.18 2.18 7.87 7.87 7.87 7.87 ...\n",
      " $ chas   : int  0 0 0 0 0 0 0 0 0 0 ...\n",
      " $ nox    : num  0.538 0.469 0.469 0.458 0.458 0.458 0.524 0.524 0.524 0.524 ...\n",
      " $ rm     : num  6.58 6.42 7.18 7 7.15 ...\n",
      " $ age    : num  65.2 78.9 61.1 45.8 54.2 58.7 66.6 96.1 100 85.9 ...\n",
      " $ dis    : num  4.09 4.97 4.97 6.06 6.06 ...\n",
      " $ rad    : int  1 2 2 3 3 3 5 5 5 5 ...\n",
      " $ tax    : num  296 242 242 222 222 222 311 311 311 311 ...\n",
      " $ ptratio: num  15.3 17.8 17.8 18.7 18.7 18.7 15.2 15.2 15.2 15.2 ...\n",
      " $ black  : num  397 397 393 395 397 ...\n",
      " $ lstat  : num  4.98 9.14 4.03 2.94 5.33 ...\n",
      " $ medv   : num  24 21.6 34.7 33.4 36.2 28.7 22.9 27.1 16.5 18.9 ...\n"
     ]
    }
   ],
   "source": [
    "require(MASS)\n",
    "data(Boston)\n",
    "str(Boston)"
   ]
  },
  {
   "cell_type": "markdown",
   "metadata": {},
   "source": [
    "##### Guidelines\n",
    "\n",
    "Perform a statistical description of the data. In the first place individually, summarizing each variable, both graphically, e.g. with boxplot and histogram, and numerically. Do these variables have a normal appearance? Or, rather, do these variables show an asymmetric shape? Check correlations between pairs of predictors and between individual predictors and response. It will be useful to truncate to 2 or 1 decimal places, to avoid clutter:\n",
    "\n",
    "In this way we can see at a glance which correlations are large or small. Is there a danger of multicollinearity? \n",
    "\n",
    "Fit a linear regression model of `medv` on the remaining variables. From the model summary, can we state the model fits well? which variables appear to be better or worse predictors? \n",
    "\n",
    "Prepare an optimal model with the better predictors. The `ResSS` of this model is much larger than the one from the full model? Note that this model still has a non significant predictor. Discard it. \n",
    "\n",
    "Fit another linear regression model with response `log(medv)` on the remaining predictors or with their logarithms. Which one is better?"
   ]
  },
  {
   "cell_type": "markdown",
   "metadata": {},
   "source": [
    "#### Back to the Kaggle _House prices_ dataset\n",
    "\n",
    "Redo the operations above with the new dataset, replacing the response `medv` with `SalePrice`. "
   ]
  },
  {
   "cell_type": "code",
   "execution_count": null,
   "metadata": {},
   "outputs": [],
   "source": [
    "HP.train<-read.csv(\"House.prices.train.csv\")\n",
    "str(HP.train)"
   ]
  },
  {
   "cell_type": "code",
   "execution_count": null,
   "metadata": {},
   "outputs": [],
   "source": [
    "HP.test<-read.csv(\"House.prices.test.csv\")\n",
    "str(HP.test)"
   ]
  },
  {
   "cell_type": "markdown",
   "metadata": {},
   "source": [
    "#### Remarks\n",
    "\n",
    "1. This dataset is divided in two halves, `train` and `test`. The first one is to train the prediction algorithm (in the `lm` case, compute the regression coefficients) which then is assessed with the second one. This is a usual procedurein Machine Learning, to avoid the optimistic bias due to using the same data for both functions. Note that here in the testing half the response is missing. We are to predict it!\n",
    "\n",
    "2. The first column in both train and test files is an `Id` case number. Make sure you remove it before any computation. It may be kept aside for post-processing steps, e.g., visualization."
   ]
  },
  {
   "cell_type": "code",
   "execution_count": null,
   "metadata": {},
   "outputs": [],
   "source": [
    "HP.train<-HP.train[,-1]\n",
    "str(HP.train)"
   ]
  },
  {
   "cell_type": "code",
   "execution_count": null,
   "metadata": {},
   "outputs": [],
   "source": [
    "HP.test<-HP.test[,-1]\n",
    "str(HP.test)"
   ]
  },
  {
   "cell_type": "markdown",
   "metadata": {},
   "source": [
    "3. Missing data are trouble in this dataset, something that, as a matter of fact, often happens with real data. As a first approach one could try to `na.omit()` (look up in help what this function does). Unfortunately it seems that each and every row contains some `NA` hence the result of `na.omit()` is an empty dataset. Better try to select, in a first analysis, those variables (columns) with no `NA`. The following piece of code will count the number of columns with no `NA`. I found $61$ of them. Isolate these columns and perform the analysis with them.: "
   ]
  },
  {
   "cell_type": "code",
   "execution_count": null,
   "metadata": {},
   "outputs": [],
   "source": [
    "count.na<-function(x){sum(is.na(x))}\n",
    "HP.train.m<-as.matrix(HP.train)\n",
    "Rows.with.NA<-apply(HP.train.m,1,count.na)\n",
    "table(Rows.with.NA)\n",
    "Cols.with.NA<-apply(HP.train.m,2,count.na)\n",
    "table(Cols.with.NA)"
   ]
  }
 ],
 "metadata": {
  "kernelspec": {
   "display_name": "R",
   "language": "R",
   "name": "ir"
  },
  "language_info": {
   "codemirror_mode": "r",
   "file_extension": ".r",
   "mimetype": "text/x-r-source",
   "name": "R",
   "pygments_lexer": "r",
   "version": "3.6.1"
  }
 },
 "nbformat": 4,
 "nbformat_minor": 2
}

{
 "cells": [
  {
   "cell_type": "markdown",
   "metadata": {},
   "source": [
    "# MNIST digit recognition"
   ]
  },
  {
   "cell_type": "markdown",
   "metadata": {},
   "source": [
    "#### Josep Fortiana  2019-11-26"
   ]
  },
  {
   "cell_type": "markdown",
   "metadata": {},
   "source": [
    "MNIST is a classic dataset, a standard testbed for classifying methods. In the introduction to the [Kaggle competition](https://www.kaggle.com/ngbolin/mnist-dataset-digit-recognizer) we read: MNIST (\"Modified National Institute of Standards and Technology\") is the de facto \"Hello World\" dataset of computer vision. Since its release in 1999, this classic dataset of handwritten images has served as the basis for benchmarking classification algorithms. As new machine learning techniques emerge, MNIST remains a reliable resource for researchers and learners alike."
   ]
  },
  {
   "cell_type": "markdown",
   "metadata": {},
   "source": [
    "The database has $60000$ _(train)_ and $10000$ _(test)_ $28\\times28$ bitmaps of digits handwritten by high school students and employees of the US Census Bureau. Each image is labeled with the digit it represents. \n",
    "\n",
    "The original data can be found at:\n",
    "[Yann LeCun, Corinna Cortes, Christopher J.C. Burges, _The MNIST database of handwritten digits_](http://yann.lecun.com/exdb/mnist/), in a somewhat unusual format. A straightforward way to get it in a readily usable format is to load it from the _Keras/Tensorflow_ framework. It is a rather large installation, but anyway we will need it for the Neural Networks lesson. We follow directions from [JJ Allaire (2017) _Keras for R_](https://blog.rstudio.com/2017/09/05/keras-for-r/). Alternatively, there is a `.csv` version in [Joseph Chet Redmon's web page](https://pjreddie.com/projects/mnist-in-csv/), together with a python script to convert from the original format.\n",
    "\n",
    "Warning! It is advisable to run the following three lines of code from RStudio or, still better, from the plain R console. It installs both the core _Keras_ library as well as the _TensorFlow_ backend."
   ]
  },
  {
   "cell_type": "code",
   "execution_count": null,
   "metadata": {},
   "outputs": [],
   "source": [
    "#install.packages(\"keras\",dependencies=TRUE,repos=\"https://cloud.r-project.org\")\n",
    "#library(keras)\n",
    "#install_keras()"
   ]
  },
  {
   "cell_type": "markdown",
   "metadata": {},
   "source": [
    "To obtain the MNIST data:"
   ]
  },
  {
   "cell_type": "code",
   "execution_count": 1,
   "metadata": {},
   "outputs": [
    {
     "name": "stderr",
     "output_type": "stream",
     "text": [
      "Loading required package: keras\n"
     ]
    },
    {
     "name": "stdout",
     "output_type": "stream",
     "text": [
      "List of 2\n",
      " $ train:List of 2\n",
      "  ..$ x: int [1:60000, 1:28, 1:28] 0 0 0 0 0 0 0 0 0 0 ...\n",
      "  ..$ y: int [1:60000(1d)] 5 0 4 1 9 2 1 3 1 4 ...\n",
      " $ test :List of 2\n",
      "  ..$ x: int [1:10000, 1:28, 1:28] 0 0 0 0 0 0 0 0 0 0 ...\n",
      "  ..$ y: int [1:10000(1d)] 7 2 1 0 4 1 4 9 5 9 ...\n"
     ]
    }
   ],
   "source": [
    "require(keras)\n",
    "mnist <- dataset_mnist()\n",
    "str(mnist)"
   ]
  },
  {
   "cell_type": "code",
   "execution_count": 2,
   "metadata": {},
   "outputs": [],
   "source": [
    "x_train <- mnist$train$x\n",
    "y_train <- mnist$train$y\n",
    "x_test <- mnist$test$x\n",
    "y_test <- mnist$test$y"
   ]
  },
  {
   "cell_type": "markdown",
   "metadata": {},
   "source": [
    "The $x$ data is a 3-d array (images,width,height) of grayscale values. To prepare the data for training we convert the 3-d arrays into matrices by reshaping width and height into a single dimension ($28\\times 28$ images are flattened into length 784 vectors). Then, we convert the grayscale values from integers ranging between 0 to 255 into floating point values ranging between 0 and 1:"
   ]
  },
  {
   "cell_type": "code",
   "execution_count": 3,
   "metadata": {},
   "outputs": [],
   "source": [
    "# reshape\n",
    "dim(x_train) <- c(nrow(x_train), 784)\n",
    "dim(x_test) <- c(nrow(x_test), 784)\n",
    "# rescale\n",
    "x_train <- x_train / 255\n",
    "x_test <- x_test / 255"
   ]
  },
  {
   "cell_type": "markdown",
   "metadata": {},
   "source": [
    "The responses vectors `y_train`and `y_test` must be cast as factors to feed them to `rpart`"
   ]
  },
  {
   "cell_type": "code",
   "execution_count": 4,
   "metadata": {},
   "outputs": [
    {
     "name": "stdout",
     "output_type": "stream",
     "text": [
      " Factor w/ 10 levels \"0\",\"1\",\"2\",\"3\",..: 6 1 5 2 10 3 2 4 2 5 ...\n",
      " Factor w/ 10 levels \"0\",\"1\",\"2\",\"3\",..: 8 3 2 1 5 2 5 10 6 10 ...\n"
     ]
    },
    {
     "data": {
      "text/html": [
       "60000"
      ],
      "text/latex": [
       "60000"
      ],
      "text/markdown": [
       "60000"
      ],
      "text/plain": [
       "[1] 60000"
      ]
     },
     "metadata": {},
     "output_type": "display_data"
    },
    {
     "data": {
      "text/html": [
       "10000"
      ],
      "text/latex": [
       "10000"
      ],
      "text/markdown": [
       "10000"
      ],
      "text/plain": [
       "[1] 10000"
      ]
     },
     "metadata": {},
     "output_type": "display_data"
    }
   ],
   "source": [
    "y_train<-as.factor(y_train)\n",
    "y_test<-as.factor(y_test)\n",
    "n_train<-length(y_train)\n",
    "n_test<-length(y_test)\n",
    "str(y_train)\n",
    "str(y_test)\n",
    "n_train\n",
    "n_test"
   ]
  },
  {
   "cell_type": "markdown",
   "metadata": {},
   "source": [
    "Some random images from the MNIST database:"
   ]
  },
  {
   "cell_type": "code",
   "execution_count": 16,
   "metadata": {},
   "outputs": [
    {
     "data": {
      "image/png": "[encoded data removed]",
      "text/plain": [
       "plot without title"
      ]
     },
     "metadata": {},
     "output_type": "display_data"
    }
   ],
   "source": [
    "k<-5\n",
    "plot.zip.mosaic<-function(k){\n",
    "    old.par<-par(mfrow=c(k,k),mar=c(1,1,1,1))\n",
    "    Indexes<-sample(n_train,k^2)\n",
    "    for (i in Indexes){\n",
    "        m1<-t(matrix(x_train[i,],nrow=28,ncol=28))[,28:1]\n",
    "        image(-m1,col=gray((0:255)/255),xaxt=\"n\",yaxt=\"n\")}\n",
    "    par(old.par)}\n",
    "options(repr.plot.width=5.5,repr.plot.height=5.5)\n",
    "plot.zip.mosaic(k)"
   ]
  }
 ],
 "metadata": {
  "kernelspec": {
   "display_name": "R",
   "language": "R",
   "name": "ir"
  },
  "language_info": {
   "codemirror_mode": "r",
   "file_extension": ".r",
   "mimetype": "text/x-r-source",
   "name": "R",
   "pygments_lexer": "r",
   "version": "3.6.1"
  }
 },
 "nbformat": 4,
 "nbformat_minor": 2
}

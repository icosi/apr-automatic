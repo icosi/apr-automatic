{
 "cells": [
  {
   "cell_type": "markdown",
   "metadata": {},
   "source": [
    "# Faulty LED seven-edge digit recognition"
   ]
  },
  {
   "cell_type": "markdown",
   "metadata": {},
   "source": [
    "#### Josep Fortiana 2019-11-26"
   ]
  },
  {
   "cell_type": "markdown",
   "metadata": {},
   "source": [
    "## Original problem"
   ]
  },
  {
   "cell_type": "markdown",
   "metadata": {},
   "source": [
    "The problem involves representations of digits by seven LED lights which are selectively lit to form each digit. It is described in the book: Leo Breiman, Jerome Friedman, R.A. Olshen and Charles J. Stone (1984) _Classification and Regression Trees_ (BFOS), p. 43-49."
   ]
  },
  {
   "cell_type": "markdown",
   "metadata": {},
   "source": [
    "`Digits.plot.r` contains auxiliary functions for visualizing them."
   ]
  },
  {
   "cell_type": "code",
   "execution_count": null,
   "metadata": {},
   "outputs": [],
   "source": [
    "source(\"Digits.plot.r\")"
   ]
  },
  {
   "cell_type": "markdown",
   "metadata": {},
   "source": [
    "The figure below shows the numbering of the seven edges used to form the digits"
   ]
  },
  {
   "cell_type": "code",
   "execution_count": null,
   "metadata": {},
   "outputs": [],
   "source": [
    "options(repr.plot.width=4,repr.plot.height=4)\n",
    "plot.digits.matrix.with.segment.indexes(cex=0.5)"
   ]
  },
  {
   "cell_type": "markdown",
   "metadata": {},
   "source": [
    "Here we see the ten digits, represented by the seven edges."
   ]
  },
  {
   "cell_type": "code",
   "execution_count": 3,
   "metadata": {},
   "outputs": [
    {
     "data": {
      "image/png": "[encoded data removed]",
      "text/plain": [
       "plot without title"
      ]
     },
     "metadata": {},
     "output_type": "display_data"
    }
   ],
   "source": [
    "options(repr.plot.width=7.0,repr.plot.height=2.5)\n",
    "show.all.digits()"
   ]
  },
  {
   "cell_type": "markdown",
   "metadata": {},
   "source": [
    "The file `digits.csv` contains $500$ sets (rows), each with seven ones and zeros, representing `ON`/`OFF` status for each of the seven edges, numbered as above, plus a label, the intended digit. Most rows, however, contain faulty edges, set `ON` when they should be `OFF` and vice-versa. For instance, the following picture shows a faulty '5' where the sixth edge failed to light on."
   ]
  },
  {
   "cell_type": "code",
   "execution_count": 4,
   "metadata": {},
   "outputs": [
    {
     "data": {
      "image/png": "[encoded data removed]",
      "text/plain": [
       "plot without title"
      ]
     },
     "metadata": {},
     "output_type": "display_data"
    }
   ],
   "source": [
    "options(repr.plot.width=2.5,repr.plot.height=3.0)\n",
    "v<-as.logical(c(1,1,0,1,0,0,1))\n",
    "plot.faulty.digit(v)"
   ]
  },
  {
   "cell_type": "markdown",
   "metadata": {},
   "source": [
    "Each row in `digits.csv` contains an additional variable, `DIGIT`, with the name of the intended digit."
   ]
  },
  {
   "cell_type": "code",
   "execution_count": 5,
   "metadata": {},
   "outputs": [
    {
     "name": "stdout",
     "output_type": "stream",
     "text": [
      "'data.frame':\t500 obs. of  8 variables:\n",
      " $ digit: Factor w/ 10 levels \"eight\",\"five\",..: 6 5 3 9 1 5 2 7 9 1 ...\n",
      " $ x1   : int  1 0 0 1 0 0 1 1 1 1 ...\n",
      " $ x2   : int  0 0 1 1 1 0 1 0 0 1 ...\n",
      " $ x3   : int  1 1 1 1 1 1 0 0 1 1 ...\n",
      " $ x4   : int  0 0 1 1 1 0 1 1 1 1 ...\n",
      " $ x5   : int  0 0 0 1 1 0 0 1 1 0 ...\n",
      " $ x6   : int  1 1 1 0 1 1 1 1 0 1 ...\n",
      " $ x7   : int  0 0 0 0 1 0 1 1 1 1 ...\n"
     ]
    }
   ],
   "source": [
    "digits.data<-read.csv(\"digits.csv\")\n",
    "str(digits.data)"
   ]
  },
  {
   "cell_type": "code",
   "execution_count": 6,
   "metadata": {},
   "outputs": [
    {
     "data": {
      "text/html": [
       "<ol class=list-inline>\n",
       "\t<li>'eight'</li>\n",
       "\t<li>'five'</li>\n",
       "\t<li>'four'</li>\n",
       "\t<li>'nine'</li>\n",
       "\t<li>'one'</li>\n",
       "\t<li>'seven'</li>\n",
       "\t<li>'six'</li>\n",
       "\t<li>'three'</li>\n",
       "\t<li>'two'</li>\n",
       "\t<li>'zero'</li>\n",
       "</ol>\n"
      ],
      "text/latex": [
       "\\begin{enumerate*}\n",
       "\\item 'eight'\n",
       "\\item 'five'\n",
       "\\item 'four'\n",
       "\\item 'nine'\n",
       "\\item 'one'\n",
       "\\item 'seven'\n",
       "\\item 'six'\n",
       "\\item 'three'\n",
       "\\item 'two'\n",
       "\\item 'zero'\n",
       "\\end{enumerate*}\n"
      ],
      "text/markdown": [
       "1. 'eight'\n",
       "2. 'five'\n",
       "3. 'four'\n",
       "4. 'nine'\n",
       "5. 'one'\n",
       "6. 'seven'\n",
       "7. 'six'\n",
       "8. 'three'\n",
       "9. 'two'\n",
       "10. 'zero'\n",
       "\n",
       "\n"
      ],
      "text/plain": [
       " [1] \"eight\" \"five\"  \"four\"  \"nine\"  \"one\"   \"seven\" \"six\"   \"three\" \"two\"  \n",
       "[10] \"zero\" "
      ]
     },
     "metadata": {},
     "output_type": "display_data"
    }
   ],
   "source": [
    "levels(digits.data$digit)"
   ]
  },
  {
   "cell_type": "markdown",
   "metadata": {},
   "source": [
    "Better with shorter (and equal length) names for levels"
   ]
  },
  {
   "cell_type": "code",
   "execution_count": 13,
   "metadata": {},
   "outputs": [],
   "source": [
    "#install.packages(\"dplyr\",dependencies=TRUE,repos=\"https://cloud.r-project.org\")\n",
    "require(dplyr)"
   ]
  },
  {
   "cell_type": "code",
   "execution_count": 8,
   "metadata": {},
   "outputs": [],
   "source": [
    "digits.data$digit<-recode(digits.data$digit,\"one\"=\"1\",\"two\"=\"2\",\"three\"=\"3\",\"four\"=\"4\",\"five\"=\"5\",\"six\"=\"6\",\"seven\"=\"7\",\n",
    "                          \"eight\"=\"8\",\"nine\"=\"9\",\"zero\"=\"0\")"
   ]
  },
  {
   "cell_type": "code",
   "execution_count": 9,
   "metadata": {},
   "outputs": [
    {
     "name": "stdout",
     "output_type": "stream",
     "text": [
      "'data.frame':\t500 obs. of  8 variables:\n",
      " $ digit: Factor w/ 10 levels \"8\",\"5\",\"4\",\"9\",..: 6 5 3 9 1 5 2 7 9 1 ...\n",
      " $ x1   : int  1 0 0 1 0 0 1 1 1 1 ...\n",
      " $ x2   : int  0 0 1 1 1 0 1 0 0 1 ...\n",
      " $ x3   : int  1 1 1 1 1 1 0 0 1 1 ...\n",
      " $ x4   : int  0 0 1 1 1 0 1 1 1 1 ...\n",
      " $ x5   : int  0 0 0 1 1 0 0 1 1 0 ...\n",
      " $ x6   : int  1 1 1 0 1 1 1 1 0 1 ...\n",
      " $ x7   : int  0 0 0 0 1 0 1 1 1 1 ...\n"
     ]
    }
   ],
   "source": [
    "str(digits.data)"
   ]
  },
  {
   "cell_type": "code",
   "execution_count": 10,
   "metadata": {},
   "outputs": [
    {
     "data": {
      "text/plain": [
       "\n",
       " 8  5  4  9  1  7  6  3  2  0 \n",
       "58 54 52 55 43 48 50 55 43 42 "
      ]
     },
     "metadata": {},
     "output_type": "display_data"
    }
   ],
   "source": [
    "table(digits.data$digit)"
   ]
  },
  {
   "cell_type": "markdown",
   "metadata": {},
   "source": [
    "## Generating more data"
   ]
  },
  {
   "cell_type": "markdown",
   "metadata": {},
   "source": [
    "Possibly the `digits.csv` dataset is extracted from the collection of datasets in the _Splus_ program. In the BFOS book they mention an (unpublished, I believe) training dataset with $200$ observations and a test sample of $5000$. The generator program by David W. Aha, in C, can be found at the [UCI Machine Learning repository](https://archive.ics.uci.edu/ml/datasets/LED+Display+Domain).\n",
    "\n",
    "A better alternative is the `rdigitsBFOS()` function from the `gencve` package, which generates digits with a given flipping probability `alpha` (that is, the probability of one of the seven LEDs changing its correct status to the opposite one). As a bonus the function computes the Bayes optimal missclassification rate, which can be used to have an objective lower\n",
    "bound for the quality of any classification method."
   ]
  },
  {
   "cell_type": "code",
   "execution_count": 14,
   "metadata": {},
   "outputs": [
    {
     "name": "stderr",
     "output_type": "stream",
     "text": [
      "Loading required package: gencve\n"
     ]
    }
   ],
   "source": [
    "#install.packages(\"gencve\",dependencies=TRUE,repos=\"https://cloud.r-project.org\")\n",
    "require(gencve)"
   ]
  },
  {
   "cell_type": "code",
   "execution_count": 18,
   "metadata": {},
   "outputs": [
    {
     "name": "stdout",
     "output_type": "stream",
     "text": [
      "'data.frame':\t500 obs. of  8 variables:\n",
      " $ digit: Factor w/ 10 levels \"8\",\"5\",\"4\",\"9\",..: 6 5 3 9 1 5 2 7 9 1 ...\n",
      " $ x1   : int  1 0 0 1 0 0 1 1 1 1 ...\n",
      " $ x2   : int  0 0 1 1 1 0 1 0 0 1 ...\n",
      " $ x3   : int  1 1 1 1 1 1 0 0 1 1 ...\n",
      " $ x4   : int  0 0 1 1 1 0 1 1 1 1 ...\n",
      " $ x5   : int  0 0 0 1 1 0 0 1 1 0 ...\n",
      " $ x6   : int  1 1 1 0 1 1 1 1 0 1 ...\n",
      " $ x7   : int  0 0 0 0 1 0 1 1 1 1 ...\n"
     ]
    }
   ],
   "source": [
    "str(digits.data)"
   ]
  },
  {
   "cell_type": "markdown",
   "metadata": {},
   "source": [
    "## Starting P2"
   ]
  },
  {
   "cell_type": "markdown",
   "metadata": {},
   "source": [
    "#### Regresion line"
   ]
  },
  {
   "cell_type": "code",
   "execution_count": 24,
   "metadata": {},
   "outputs": [
    {
     "data": {
      "text/plain": [
       "\n",
       "Call:\n",
       "lm(formula = strtoi(digit) ~ x1 + x2 + x3 + x4 + x5 + x6 + x7, \n",
       "    data = digits.data)\n",
       "\n",
       "Residuals:\n",
       "    Min      1Q  Median      3Q     Max \n",
       "-6.4990 -1.6179 -0.2821  2.3332  5.8774 \n",
       "\n",
       "Coefficients:\n",
       "            Estimate Std. Error t value Pr(>|t|)    \n",
       "(Intercept)   1.2416     0.4781   2.597 0.009688 ** \n",
       "x1            1.9946     0.2710   7.359 7.82e-13 ***\n",
       "x2            1.3023     0.2420   5.381 1.15e-07 ***\n",
       "x3           -0.1189     0.2523  -0.471 0.637605    \n",
       "x4            1.9581     0.2672   7.327 9.70e-13 ***\n",
       "x5           -0.8321     0.2369  -3.513 0.000484 ***\n",
       "x6            0.9203     0.3129   2.941 0.003421 ** \n",
       "x7           -0.7990     0.2704  -2.955 0.003276 ** \n",
       "---\n",
       "Signif. codes:  0 ‘***’ 0.001 ‘**’ 0.01 ‘*’ 0.05 ‘.’ 0.1 ‘ ’ 1\n",
       "\n",
       "Residual standard error: 2.398 on 492 degrees of freedom\n",
       "Multiple R-squared:  0.2938,\tAdjusted R-squared:  0.2837 \n",
       "F-statistic: 29.24 on 7 and 492 DF,  p-value: < 2.2e-16\n"
      ]
     },
     "metadata": {},
     "output_type": "display_data"
    }
   ],
   "source": [
    "digits.data.lm<-lm(strtoi(digit)~x1+x2+x3+x4+x5+x6+x7, data=digits.data)\n",
    "summary(digits.data.lm)"
   ]
  },
  {
   "cell_type": "markdown",
   "metadata": {},
   "source": [
    "#### Arbres de classificació"
   ]
  },
  {
   "cell_type": "code",
   "execution_count": 26,
   "metadata": {},
   "outputs": [],
   "source": [
    "#install.packages(\"tree\",dependencies=TRUE,repos=\"https://cloud.r-project.org\")\n",
    "require(tree)"
   ]
  },
  {
   "cell_type": "code",
   "execution_count": 28,
   "metadata": {},
   "outputs": [],
   "source": [
    "require(ElemStatLearn)\n",
    "\n",
    "true.digits.data=digits.data$digits.data"
   ]
  },
  {
   "cell_type": "code",
   "execution_count": 29,
   "metadata": {},
   "outputs": [
    {
     "ename": "ERROR",
     "evalue": "Error in model.frame.default(formula = digits.data ~ ., data = digits.data): invalid type (list) for variable 'digits.data'\n",
     "output_type": "error",
     "traceback": [
      "Error in model.frame.default(formula = digits.data ~ ., data = digits.data): invalid type (list) for variable 'digits.data'\nTraceback:\n",
      "1. tree(digits.data ~ ., digits.data)",
      "2. eval.parent(m)",
      "3. eval(expr, p)",
      "4. eval(expr, p)",
      "5. model.frame.default(formula = digits.data ~ ., data = digits.data)"
     ]
    }
   ],
   "source": [
    "digits.data.tree<-tree(digits.data~.,digits.data)\n",
    "plot(digits.data.tree)\n",
    "text(digits.data.tree,cex=0.6)\n",
    "digits.data.pred<-predict(digits.data.tree,digits.data,type=\"class\")\n",
    "table(digits.data.pred, true.digits.data)"
   ]
  },
  {
   "cell_type": "code",
   "execution_count": null,
   "metadata": {},
   "outputs": [],
   "source": []
  },
  {
   "cell_type": "code",
   "execution_count": 30,
   "metadata": {},
   "outputs": [
    {
     "name": "stderr",
     "output_type": "stream",
     "text": [
      "Loading required package: rpart\n"
     ]
    }
   ],
   "source": [
    "#install.packages(\"rpart\",dependencies=TRUE,repos=\"https://cloud.r-project.org\")\n",
    "require(rpart)"
   ]
  },
  {
   "cell_type": "code",
   "execution_count": 34,
   "metadata": {},
   "outputs": [
    {
     "ename": "ERROR",
     "evalue": "Error in is.data.frame(model): objeto 'x6' no encontrado\n",
     "output_type": "error",
     "traceback": [
      "Error in is.data.frame(model): objeto 'x6' no encontrado\nTraceback:\n",
      "1. rpart(strtoi(digit) ~ x1, x2, x3, x4, x5, x6, x7, data = digits.data)",
      "2. is.data.frame(model)"
     ]
    }
   ],
   "source": [
    "digits.rpart<-rpart(strtoi(digit)~x1,x2,x3,x4,x5,x6,x7,data=digits.data)"
   ]
  },
  {
   "cell_type": "code",
   "execution_count": null,
   "metadata": {},
   "outputs": [],
   "source": []
  },
  {
   "cell_type": "code",
   "execution_count": null,
   "metadata": {},
   "outputs": [],
   "source": []
  },
  {
   "cell_type": "markdown",
   "metadata": {},
   "source": [
    "### Bagging"
   ]
  },
  {
   "cell_type": "code",
   "execution_count": null,
   "metadata": {},
   "outputs": [],
   "source": []
  },
  {
   "cell_type": "markdown",
   "metadata": {},
   "source": [
    "### Random forests"
   ]
  },
  {
   "cell_type": "code",
   "execution_count": null,
   "metadata": {},
   "outputs": [],
   "source": []
  },
  {
   "cell_type": "markdown",
   "metadata": {},
   "source": [
    "### Naïve Bayes "
   ]
  },
  {
   "cell_type": "code",
   "execution_count": null,
   "metadata": {},
   "outputs": [],
   "source": []
  }
 ],
 "metadata": {
  "kernelspec": {
   "display_name": "R",
   "language": "R",
   "name": "ir"
  },
  "language_info": {
   "codemirror_mode": "r",
   "file_extension": ".r",
   "mimetype": "text/x-r-source",
   "name": "R",
   "pygments_lexer": "r",
   "version": "3.6.1"
  }
 },
 "nbformat": 4,
 "nbformat_minor": 2
}

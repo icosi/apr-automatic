{
 "cells": [
  {
   "cell_type": "markdown",
   "metadata": {},
   "source": [
    " Tal i com vàrem comentar a classe, apliqueu a les dades de dígits LED i les MNIST els mètodes que creieu oportuns, tant els de les dues pràctiques recents (arbres de classificació, bagging, random forests) com altres anteriors o, fins i tot, si voleu, el Naïve Bayes (hi  ha una funció naiveBayes al package e1071, però el podeu codificar vosaltres mateixos).  \n",
    "No hem comentat encara a classe el Boosting. Ho farem el proper dimarts 3. No l'heu d'aplicar en aquesta tasca.\n",
    "\n",
    "Procureu documentar bé el que escriviu, i també mesurar la qualitat dels resultats, en particular com varia aquesta en funció de paràmetres que es puguin ajustar, per exemple la complexitat dels arbres en CART o el nombre d'arbres en Bagging/Random Forests.\n",
    "\n"
   ]
  },
  {
   "cell_type": "code",
   "execution_count": null,
   "metadata": {},
   "outputs": [],
   "source": []
  },
  {
   "cell_type": "code",
   "execution_count": null,
   "metadata": {},
   "outputs": [],
   "source": []
  },
  {
   "cell_type": "code",
   "execution_count": null,
   "metadata": {},
   "outputs": [],
   "source": []
  },
  {
   "cell_type": "code",
   "execution_count": null,
   "metadata": {},
   "outputs": [],
   "source": []
  }
 ],
 "metadata": {
  "kernelspec": {
   "display_name": "R",
   "language": "R",
   "name": "ir"
  },
  "language_info": {
   "codemirror_mode": "r",
   "file_extension": ".r",
   "mimetype": "text/x-r-source",
   "name": "R",
   "pygments_lexer": "r",
   "version": "3.6.1"
  }
 },
 "nbformat": 4,
 "nbformat_minor": 2
}

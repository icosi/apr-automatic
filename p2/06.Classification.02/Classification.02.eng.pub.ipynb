{
 "cells": [
  {
   "cell_type": "markdown",
   "metadata": {},
   "source": [
    "# Classification 02\n",
    "\n",
    "# Resampling and evaluation of prediction methods"
   ]
  },
  {
   "cell_type": "markdown",
   "metadata": {},
   "source": [
    "#### Josep Fortiana 2019-10-29"
   ]
  },
  {
   "cell_type": "markdown",
   "metadata": {},
   "source": [
    "The goal of this laboratory is to attain a practical knowledge of some of the available procedures to assess the quality of prediction methods, classification (categorical response) and regression (numerical response), with a particular emphasis on detecting and avoiding overfitting.\n",
    "\n",
    "We consider four procedures or families of procedures: \n",
    "    \n",
    "1. Hold-out: Split the dataset in two parts, a training subset and a 'test' subset. The first one is used to train (estimate or learn parameters of) the prediction method. Meanwhile, the 'test' subset is held out, keeping it apart to rule out the optimistic bias inherent in using the same samples for learning to predict and for evaluating goodness of prediction.\n",
    "\n",
    "2. $k$-fold cross-validation,  \n",
    "\n",
    "3. Leave-one-out (LOO), \n",
    "\n",
    "4. Bootstrap.\n",
    "\n",
    "We already know the first procedure. The second one is a systematic repetition of hold-out in such a way that consecutively each individual is in a training subset and in a test subset. The third procedure is an extreme $k$-fold cross-validation, where $k=n$, the number of individuals in the sample, in which the test subset is a single individual and the training subset  the remaining $(n-1)$ restantes. \n",
    "\n",
    "The fourth procedure is an application of a much more general statistical concept, the _bootstrap,_ which we review in Section A, before going to its application with the other procedures."
   ]
  },
  {
   "cell_type": "markdown",
   "metadata": {},
   "source": [
    "# Datasets and prediction methods"
   ]
  },
  {
   "cell_type": "markdown",
   "metadata": {},
   "source": [
    "# A. `wine` dataset"
   ]
  },
  {
   "cell_type": "markdown",
   "metadata": {},
   "source": [
    "`wine` data are the results of a chemical analysis of wines grown in the same region in Italy but derived from three different cultivars. The analysis determined the quantities of 13 constituents found in each of the three types of wines.\n",
    "\n",
    "They can be found in the [UCI Machine Learning Repository](http://archive.ics.uci.edu/ml/), which hosts many documented data sets to be used as benchmarks in evaluating Machine Learning methods and algorithms. Alternatively, should the link be broken, you can find the `.csv` file in the Virtual Campus. The following description is taken from the UCI website:\n",
    "\n",
    "I think that the initial data set had around 30 variables, but for some reason I only have the 13 dimensional version. I had a list of what the 30 or so variables were, but a.) I lost it, and b.), I would not know which 13 variables are included in the set.\n",
    "\n",
    "The attributes are:\n",
    "\n",
    "01. Alcohol\n",
    "\n",
    "02. Malic acid\n",
    "\n",
    "03. Ash\n",
    "\n",
    "04. Alcalinity of ash\n",
    "\n",
    "05. Magnesium\n",
    "\n",
    "06. Total phenols\n",
    "\n",
    "07. Flavonoids\n",
    "\n",
    "08. Nonflavonoid phenols\n",
    "\n",
    "09. Proanthocyanins\n",
    "\n",
    "10. Color intensity\n",
    "\n",
    "11. Hue\n",
    "\n",
    "12. OD280/OD315 of diluted wines\n",
    "\n",
    "13. Proline\n",
    "\n",
    "\n",
    "In a classification context, this is a well posed problem with \"well behaved\" class structures. A good data set for first testing of a new classifier, but not very challenging.\n",
    "\n",
    "Since the `.csv` file has no first row with variable names we must set `header=FALSE` in the `read.csv` call (see default values for the optional parameters in the help). \n",
    "\n",
    "The casting `as.factor()` command has the purpose of conveying the fact that this variable is qualitative, so the R interpreter can use it as such.\n"
   ]
  },
  {
   "cell_type": "code",
   "execution_count": null,
   "metadata": {},
   "outputs": [],
   "source": [
    "wine.url<-\"http://archive.ics.uci.edu/ml/machine-learning-databases/wine/wine.data\"\n",
    "#wine<-read.csv(wine.url,header=FALSE)\n",
    "wine<-read.csv(\"wine.csv\",header=FALSE)\n",
    "colnames(wine)<-c(\"Type\",\"Alcohol\",\"Malic\",\"Ash\", \"Alcalinity\",\"Magnesium\",\"Phenols\",\"Flavonoids\", \n",
    "                  \"Nonflavonoids\",\"Proanthocyanins\",\"Color\",\"Hue\", \"Dilution\",\"Proline\")\n",
    "wine$Type <- as.factor(wine$Type)"
   ]
  },
  {
   "cell_type": "markdown",
   "metadata": {},
   "source": [
    "## Aa. `wine` dataset and $k$-NN"
   ]
  },
  {
   "cell_type": "markdown",
   "metadata": {},
   "source": [
    "### Aa1. Hold-out\n",
    "\n",
    "Split the whole dataset into two subsets, `train` with $\\approx60\\%$ of data, and `test` the rest."
   ]
  },
  {
   "cell_type": "code",
   "execution_count": null,
   "metadata": {},
   "outputs": [],
   "source": [
    "n<-nrow(wine)\n",
    "ntrain<-ceiling(0.6*n)\n",
    "ntest<-n-ntrain\n",
    "Itrain<-sample(1:n,ntrain,replace=FALSE)\n",
    "wine.train<-wine[Itrain,]\n",
    "wine.test<-wine[-Itrain,]\n",
    "Xtrain<-as.matrix(wine.train[,-1])\n",
    "ytrain<-wine.train[,1]\n",
    "Xtest<-as.matrix(wine.test[,-1])\n",
    "ytest<-wine.test[,1]"
   ]
  },
  {
   "cell_type": "code",
   "execution_count": null,
   "metadata": {},
   "outputs": [],
   "source": [
    "#install.packages(\"class\",dependencies=TRUE,repos=\"https://cloud.r-project.org\")\n",
    "require(class)"
   ]
  },
  {
   "cell_type": "markdown",
   "metadata": {},
   "source": [
    "#### Confusion matrix and misclassification error estimate"
   ]
  },
  {
   "cell_type": "code",
   "execution_count": null,
   "metadata": {},
   "outputs": [],
   "source": [
    "k<-5\n",
    "y.hat<-knn(Xtrain,Xtest,ytrain,k )\n",
    "C<-table(\"True\"=ytest,\"Predicted\"=y.hat)\n",
    "P.err<-(ntest-sum(diag(C)))/ntest\n",
    "C\n",
    "sprintf(\"For k =%d,   Prob.err = %5.2f \", k, round(P.err,2))"
   ]
  },
  {
   "cell_type": "markdown",
   "metadata": {},
   "source": [
    "#### Which is the optimal $k$?\n",
    "\n",
    "Redo the above computation with several values of $k$ and decide which is the optimal $k$ according to the probability of misclassification.\n",
    "\n",
    "_Hint:_ After doing it _\"by hand\"_ you can try a systematic approach, building a table where the first column is `k` and the second column the estimated probability of misclassification."
   ]
  },
  {
   "cell_type": "code",
   "execution_count": null,
   "metadata": {},
   "outputs": [],
   "source": []
  },
  {
   "cell_type": "markdown",
   "metadata": {},
   "source": [
    "### Aa.2. k-fold cross-validation"
   ]
  },
  {
   "cell_type": "markdown",
   "metadata": {},
   "source": [
    "Here we perform $k$-fold cross-validation with some simple code. An alternative approach is to use functions from a dedicated R package. My personal prejudice is in favor of writing one's own code. Anyway you can see in the Appendix at the end of this notebook some possible such packages and you can judge by yourselves."
   ]
  },
  {
   "cell_type": "code",
   "execution_count": null,
   "metadata": {},
   "outputs": [],
   "source": [
    "kfoldIndexes<-function(n,k){\n",
    "    l<-floor(n/k)\n",
    "    Indexes<-c(1,(1:k)*l)\n",
    "    Indexes[k+1]<-n\n",
    "    return(Indexes)\n",
    "    }"
   ]
  },
  {
   "cell_type": "code",
   "execution_count": null,
   "metadata": {},
   "outputs": [],
   "source": [
    "# Decide a 'K' for K-fold cross-validation (uppercase to avoid notation clash with the k in k-NN)\n",
    "n<-nrow(wine)\n",
    "K<-5\n",
    "J<-kfoldIndexes(n,K)\n",
    "J\n",
    "Lower<-J[-(K+1)]\n",
    "Upper<-J[-1]\n",
    "Lower\n",
    "Upper\n",
    "# Una random permutation of indexes\n",
    "I<-sample(1:n)"
   ]
  },
  {
   "cell_type": "code",
   "execution_count": null,
   "metadata": {},
   "outputs": [],
   "source": [
    "k<-7 # this is the 'k' in k-NN\n",
    "# Repeat with several 'k' and choose an optimal value.\n",
    "P.ERR<-rep(0,K)\n",
    "for (fold in 1:K){\n",
    "    Itest<-I[Lower[fold]:Upper[fold]]\n",
    "    wine.test<-wine[Itest,]\n",
    "    wine.train<-wine[-Itest,]\n",
    "    Xtrain<-as.matrix(wine.train[,-1])\n",
    "    ytrain<-wine.train[,1]\n",
    "    Xtest<-as.matrix(wine.test[,-1])\n",
    "    ytest<-wine.test[,1]\n",
    "    y.hat<-knn(Xtrain,Xtest,ytrain,k)\n",
    "    C<-table(\"True\"=ytest,\"Predicted\"=y.hat)\n",
    "    print(C)\n",
    "    P.ERR[fold]<-(ntest-sum(diag(C)))/ntest\n",
    "    }\n",
    "round(P.ERR,3)\n",
    "mean.p.err<-mean(P.ERR)\n",
    "round(mean.p.err,3)"
   ]
  },
  {
   "cell_type": "markdown",
   "metadata": {},
   "source": [
    "### Aa.3. Leave-one-out _(LOO)_"
   ]
  },
  {
   "cell_type": "code",
   "execution_count": null,
   "metadata": {},
   "outputs": [],
   "source": [
    "k<-7\n",
    "# Repeat with several 'k' and choose an optimal value.\n",
    "g<-nlevels(wine$Type)\n",
    "C<-matrix(0,nrow=g,ncol=g)\n",
    "for (i in 1:n){\n",
    "    wine.test<-wine[i,]\n",
    "    wine.train<-wine[-i,]\n",
    "    Xtrain<-as.matrix(wine.train[,-1])\n",
    "    ytrain<-wine.train[,1]\n",
    "    Xtest<-as.matrix(wine.test[,-1])\n",
    "    ytest<-wine.test[,1]\n",
    "    y.hat<-knn(Xtrain,Xtest,ytrain,k)\n",
    "    C[ytest,y.hat]=C[ytest,y.hat]+1\n",
    "    }\n",
    "print(C)\n",
    "p.err<-(n-sum(diag(C)))/n\n",
    "round(p.err,3)"
   ]
  },
  {
   "cell_type": "markdown",
   "metadata": {},
   "source": [
    "### Aa.4.  _bootstrap_"
   ]
  },
  {
   "cell_type": "code",
   "execution_count": null,
   "metadata": {},
   "outputs": [],
   "source": [
    "k<-7\n",
    "# Repeat with several 'k' and choose an optimal value.\n",
    "n<-nrow(wine)\n",
    "I<-1:n\n",
    "# Number of bootstrap resamples\n",
    "B<-10\n",
    "P.ERR<-rep(0,B)\n",
    "for (b in 1:B){\n",
    "    Ib<-sample(I,n,replace = TRUE)\n",
    "    oob<-I[is.na(match(I,Ib))]\n",
    "    Itest<-oob\n",
    "    ntest<-length(oob)\n",
    "    print(ntest)\n",
    "    wine.test<-wine[Itest,]\n",
    "    wine.train<-wine[-Itest,]\n",
    "    Xtrain<-as.matrix(wine.train[,-1])\n",
    "    ytrain<-wine.train[,1]\n",
    "    Xtest<-as.matrix(wine.test[,-1])\n",
    "    ytest<-wine.test[,1]\n",
    "    y.hat<-knn(Xtrain,Xtest,ytrain,k)\n",
    "    C<-table(\"True\"=ytest,\"Predicted\"=y.hat)\n",
    "    print(C)\n",
    "    P.ERR[b]<-(ntest-sum(diag(C)))/ntest\n",
    "    }\n",
    "round(P.ERR,3)\n",
    "mean.p.err<-mean(P.ERR)\n",
    "round(mean.p.err,3)"
   ]
  },
  {
   "cell_type": "markdown",
   "metadata": {},
   "source": [
    "# B. `Auto` dataset"
   ]
  },
  {
   "cell_type": "markdown",
   "metadata": {},
   "source": [
    "#### Description\n",
    "Gas mileage, horsepower, and other information for 392 vehicles.\n",
    "\n",
    "#### Format\n",
    "A data frame with 392 observations on the following 9 variables.\n",
    "\n",
    "01. `mpg`: miles per gallon.\n",
    "\n",
    "02. `cylinders`: Number of cylinders between 4 and 8.\n",
    "\n",
    "03. `displacement`: Engine displacement (cu. inches).\n",
    "\n",
    "04. `horsepower`: Engine horsepower.\n",
    "\n",
    "05. `weight`: Vehicle weight (lbs.).\n",
    "\n",
    "06. `acceleration`: Time to accelerate from 0 to 60 mph (sec.).\n",
    "\n",
    "07. `year`: Model year (modulo 100).\n",
    "\n",
    "08. `origin`: Origin of car (1. American, 2. European, 3. Japanese).\n",
    "\n",
    "09. `name`: Vehicle name.\n",
    "\n",
    "The orginal data contained 408 observations but 16 observations with missing values were removed.\n",
    "\n",
    "#### Source\n",
    "This dataset was taken from the StatLib library which is maintained at Carnegie Mellon University. The dataset was used in the 1983 American Statistical Association Exposition."
   ]
  },
  {
   "cell_type": "code",
   "execution_count": null,
   "metadata": {},
   "outputs": [],
   "source": [
    "#install.packages(\"ISLR\",dependencies=TRUE,repos=\"https://cloud.r-project.org\")\n",
    "require(ISLR)"
   ]
  },
  {
   "cell_type": "code",
   "execution_count": null,
   "metadata": {},
   "outputs": [],
   "source": [
    "data(Auto)\n",
    "str(Auto)"
   ]
  },
  {
   "cell_type": "code",
   "execution_count": null,
   "metadata": {},
   "outputs": [],
   "source": [
    "# Discard the 'name' variable, irrelevant for prediction\n",
    "Auto<-Auto[,-9]\n",
    "str(Auto)"
   ]
  },
  {
   "cell_type": "markdown",
   "metadata": {},
   "source": [
    "### Ba.1 Hold-out"
   ]
  },
  {
   "cell_type": "markdown",
   "metadata": {},
   "source": [
    "### Ba.2 $k$-fold crossvalidation"
   ]
  },
  {
   "cell_type": "markdown",
   "metadata": {},
   "source": [
    "### Ba.3 Leave-one-out"
   ]
  },
  {
   "cell_type": "markdown",
   "metadata": {},
   "source": [
    "### Ba.4 Bootstrap"
   ]
  },
  {
   "cell_type": "markdown",
   "metadata": {},
   "source": [
    "## C. `SAheart` dataset"
   ]
  },
  {
   "cell_type": "markdown",
   "metadata": {},
   "source": [
    "From the `ElemStatLearn` package, `SAheart` is a data frame with 462 observations on the following 10 variables.\n",
    "\n",
    "01. `sbp`: systolic blood pressure.\n",
    "\n",
    "02. `tobacco`: cumulative tobacco (kg).\n",
    "\n",
    "03. `ldl`: low density lipoprotein cholesterol.\n",
    "\n",
    "04. `adiposity`: a numeric vector.\n",
    "\n",
    "05. `famhist`: family history of heart disease, a factor with levels `Absent`, `Present`.\n",
    "\n",
    "06. `typea`: type-A behavior.\n",
    "\n",
    "07. `obesity`: a numeric vector.\n",
    "\n",
    "08. `alcohol`: current alcohol consumption.\n",
    "\n",
    "09. `age`: age at onset\n",
    "\n",
    "10. `chd`: response, coronary heart disease\n",
    "\n",
    "##### Details\n",
    "\n",
    "A retrospective sample of males in a heart-disease high-risk region of the Western Cape, South Africa. There are roughly two controls per case of CHD. Many of the CHD positive men have undergone blood pressure reduction treatment and other programs to reduce their risk factors after their CHD event. In some cases the measurements were made after these treatments. These data are taken from a larger dataset, described in Rousseauw et al, 1983, South African Medical Journal."
   ]
  },
  {
   "cell_type": "code",
   "execution_count": null,
   "metadata": {},
   "outputs": [],
   "source": [
    "#install.packages(\"ElemStatLearn\",dependencies=TRUE,repos=\"https://cloud.r-project.org\")\n",
    "require(ElemStatLearn)\n",
    "data(SAheart)"
   ]
  },
  {
   "cell_type": "code",
   "execution_count": null,
   "metadata": {},
   "outputs": [],
   "source": [
    "n<-nrow(SAheart)\n",
    "ntrain<-ceiling(0.60*n)\n",
    "Itrain<-sample(1:n,ntrain,replace=FALSE)\n",
    "n<-nrow(SAheart)\n",
    "ntrain<-ceiling(0.60*n)\n",
    "Itrain<-sample(1:n,ntrain,replace=FALSE)\n",
    "SAheart.train<-SAheart[Itrain,]\n",
    "SAheart.test<-SAheart[-Itrain,]"
   ]
  },
  {
   "cell_type": "markdown",
   "metadata": {},
   "source": [
    "## Ca. SAheart data with logistic regression"
   ]
  },
  {
   "cell_type": "code",
   "execution_count": null,
   "metadata": {},
   "outputs": [],
   "source": [
    "SAheart.logit1<-glm(chd~.,data=SAheart.train,family=binomial)\n",
    "summary(SAheart.logit1)"
   ]
  },
  {
   "cell_type": "markdown",
   "metadata": {},
   "source": [
    "Prediction of probabilities that the binary 0/1 response takes the value 1 (here `chd=1`):"
   ]
  },
  {
   "cell_type": "code",
   "execution_count": null,
   "metadata": {},
   "outputs": [],
   "source": [
    "SAheart.pred<-predict(SAheart.logit1,newdata=SAheart.test,type=\"response\")\n",
    "str(SAheart.pred)"
   ]
  },
  {
   "cell_type": "markdown",
   "metadata": {},
   "source": [
    "A _crisp_ prediction of 0 or 1 is obtained from the above by taking a cut point, e.g., $L=0.5$ (this is not a mandatory value, it may depend on the problem or on the _a priori_ probabilites) and assign to 0 or 1 according to whether the probability is smaller or larger than this threshold:"
   ]
  },
  {
   "cell_type": "code",
   "execution_count": null,
   "metadata": {},
   "outputs": [],
   "source": [
    "SAheart.pred.crisp<-1*(SAheart.pred>=0.5)\n",
    "C<-table(\"True\"=SAheart.test$chd,\"Predicted\"=SAheart.pred.crisp)\n",
    "C"
   ]
  },
  {
   "cell_type": "markdown",
   "metadata": {},
   "source": [
    "### Ca.1 Hold-out"
   ]
  },
  {
   "cell_type": "markdown",
   "metadata": {},
   "source": [
    "### Ca.2 $k$-fold crossvalidation"
   ]
  },
  {
   "cell_type": "markdown",
   "metadata": {},
   "source": [
    "### Ca.3 Leave-one-out"
   ]
  },
  {
   "cell_type": "markdown",
   "metadata": {},
   "source": [
    "### Ca.4 Bootstrap"
   ]
  },
  {
   "cell_type": "markdown",
   "metadata": {},
   "source": [
    "## Cb. `SAheart` with Fisher's linear discriminant analysis"
   ]
  },
  {
   "cell_type": "code",
   "execution_count": null,
   "metadata": {},
   "outputs": [],
   "source": [
    "require(MASS)\n",
    "SAheart.lda1<-lda(chd~.,data=SAheart.train)\n",
    "SAheart.pred<-predict(SAheart.lda1,newdata=SAheart.test)\n",
    "C<-table(\"True\"=SAheart.test$chd,\"Predicted\"=SAheart.pred$class)\n",
    "C"
   ]
  },
  {
   "cell_type": "markdown",
   "metadata": {},
   "source": [
    "### Cb.1 Hold-out"
   ]
  },
  {
   "cell_type": "markdown",
   "metadata": {},
   "source": [
    "### Cb.2 $k$-fold crossvalidation"
   ]
  },
  {
   "cell_type": "markdown",
   "metadata": {},
   "source": [
    "### Cb.3 Leave-one-out"
   ]
  },
  {
   "cell_type": "markdown",
   "metadata": {},
   "source": [
    "### Cb.4 Bootstrap"
   ]
  },
  {
   "cell_type": "markdown",
   "metadata": {},
   "source": [
    "## Cb. `SAheart` with Quadratic discriminant"
   ]
  },
  {
   "cell_type": "code",
   "execution_count": null,
   "metadata": {},
   "outputs": [],
   "source": [
    "SAheart.qda1<-qda(chd~.,data=SAheart.train)\n",
    "SAheart.pred<-predict(SAheart.qda1,newdata=SAheart.test)\n",
    "C<-table(\"True\"=SAheart.test$chd,\"Predicted\"=SAheart.pred$class)\n",
    "C"
   ]
  },
  {
   "cell_type": "markdown",
   "metadata": {},
   "source": [
    "# D. `Default` data set"
   ]
  },
  {
   "cell_type": "markdown",
   "metadata": {},
   "source": [
    "From the `ISLR` package. A simulated data set containing information on ten thousand customers. The aim here is to predict which customers will default on their credit card debt.\n",
    "\n",
    "A data frame with 10000 observations on the following 4 variables.\n",
    "\n",
    "01. `default`: A factor with levels `No` and `Yes` indicating whether the customer defaulted on their debt\n",
    "\n",
    "02. `student`: A factor with levels `No` and `Yes` indicating whether the customer is a student\n",
    "\n",
    "03. `balance`: The average balance that the customer has remaining on their credit card after making their monthly payment\n",
    "\n",
    "04. `income`: Income of customer"
   ]
  },
  {
   "cell_type": "code",
   "execution_count": null,
   "metadata": {},
   "outputs": [],
   "source": [
    "#install.packages(\"ISLR\",dependencies=TRUE,repos=\"https://cloud.r-project.org\")\n",
    "require(ISLR)\n",
    "data(Default)\n",
    "str(Default)"
   ]
  },
  {
   "cell_type": "markdown",
   "metadata": {},
   "source": [
    "## Da. `Default` data set with Fisher's linear discriminant"
   ]
  },
  {
   "cell_type": "code",
   "execution_count": null,
   "metadata": {},
   "outputs": [],
   "source": [
    "n<-nrow(Default)\n",
    "ntrain<-ceiling(0.6*n)\n",
    "set.seed(24025)         # An arbitrary value, fixed for the sake of reproducibility of results\n",
    "Itrain<-sample(1:n,ntrain,replace=FALSE)\n",
    "Default.train<-Default[Itrain,]\n",
    "Default.test<-Default[-Itrain,]"
   ]
  },
  {
   "cell_type": "code",
   "execution_count": null,
   "metadata": {},
   "outputs": [],
   "source": [
    "require(MASS)\n",
    "Default.lda<-lda(default~.,data=Default.train)\n",
    "Default.pred<-predict(Default.lda,newdata=Default.test)\n",
    "C<-table(\"True\"=Default.test$default,\"Predicted\"=Default.pred$class)\n",
    "C"
   ]
  },
  {
   "cell_type": "markdown",
   "metadata": {},
   "source": [
    "## `Smarket` data set"
   ]
  },
  {
   "cell_type": "markdown",
   "metadata": {},
   "source": [
    "This is an S&P Stock Market Data set. Daily percentage returns for the S&P 500 stock index between 2001 and 2005.\n",
    "Contained in the `ISLR` package as a `data.frame` with 1250 observations on the following 9 variables.\n",
    "\n",
    "01. `Year`: The year that the observation was recorded\n",
    "\n",
    "02. `Lag1`: Percentage return for previous day\n",
    "\n",
    "03. `Lag2`: Percentage return for 2 days previous\n",
    "\n",
    "04. `Lag3`: Percentage return for 3 days previous\n",
    "\n",
    "05. `Lag4`: Percentage return for 4 days previous\n",
    "\n",
    "06. `Lag5`: Percentage return for 5 days previous\n",
    "\n",
    "07. `Volume`: Volume of shares traded (number of daily shares traded in billions)\n",
    "\n",
    "08. `Today`: Percentage return for today\n",
    "\n",
    "09. `Direction`: A factor with levels `Down` and `Up` indicating whether the market had a positive or negative return on a given day."
   ]
  },
  {
   "cell_type": "code",
   "execution_count": null,
   "metadata": {},
   "outputs": [],
   "source": [
    "require(ISLR)\n",
    "data(Smarket)\n",
    "str(Smarket)"
   ]
  },
  {
   "cell_type": "markdown",
   "metadata": {},
   "source": [
    "# Appendix: dedicated R packages"
   ]
  },
  {
   "cell_type": "markdown",
   "metadata": {},
   "source": [
    "Many R packages contain functions implementing methods for validating prediction procedures, for instance:\n",
    "- `caret`, \n",
    "- `CVST`, \n",
    "- `cvTools`, \n",
    "- `dprep`, \n",
    "- `sortinghat`. \n",
    "\n",
    "One of them (`CVST`) is devoted to a validation technique more sophisticated than the four in this notebook, and the rest are generic, with application to some prediction methods than those in our course. "
   ]
  },
  {
   "cell_type": "code",
   "execution_count": null,
   "metadata": {},
   "outputs": [],
   "source": []
  }
 ],
 "metadata": {
  "kernelspec": {
   "display_name": "R",
   "language": "R",
   "name": "ir"
  },
  "language_info": {
   "codemirror_mode": "r",
   "file_extension": ".r",
   "mimetype": "text/x-r-source",
   "name": "R",
   "pygments_lexer": "r",
   "version": "3.6.1"
  }
 },
 "nbformat": 4,
 "nbformat_minor": 2
}

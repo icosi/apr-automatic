{
 "cells": [
  {
   "cell_type": "markdown",
   "metadata": {},
   "source": [
    "# Bootstrap 01 - A tutorial"
   ]
  },
  {
   "cell_type": "markdown",
   "metadata": {},
   "source": [
    "#### Josep Fortiana 2019-10-29"
   ]
  },
  {
   "cell_type": "markdown",
   "metadata": {},
   "source": [
    "The _bootstrap_ is a generic name for a family of computationally intensive procedures in Statistics based on generating from a single dataset a collection of simulated datasets _(resamples),_ from which it is possible to infer information about the stochastic mechanism that originated the dataset."
   ]
  },
  {
   "cell_type": "markdown",
   "metadata": {},
   "source": [
    "### 1. Resamples and _Out-Of-Bag_ observations"
   ]
  },
  {
   "cell_type": "markdown",
   "metadata": {},
   "source": [
    "A  _resample_ from a set $x$ of $n$ observations is a sample of size $n$ of elements from $x$, extracted with replacement, that is, after each extraction, the extracted element is replaced to the set and can be chosen again. Thus a given element $x_1$ can appear more than once in the resample (also it may happen it does not appear). Example:"
   ]
  },
  {
   "cell_type": "code",
   "execution_count": 1,
   "metadata": {},
   "outputs": [
    {
     "data": {
      "text/html": [
       "<ol class=list-inline>\n",
       "\t<li>6</li>\n",
       "\t<li>4</li>\n",
       "\t<li>6</li>\n",
       "\t<li>2</li>\n",
       "\t<li>3</li>\n",
       "\t<li>9</li>\n",
       "\t<li>7</li>\n",
       "\t<li>6</li>\n",
       "\t<li>10</li>\n",
       "\t<li>6</li>\n",
       "\t<li>4</li>\n",
       "\t<li>10</li>\n",
       "</ol>\n"
      ],
      "text/latex": [
       "\\begin{enumerate*}\n",
       "\\item 6\n",
       "\\item 4\n",
       "\\item 6\n",
       "\\item 2\n",
       "\\item 3\n",
       "\\item 9\n",
       "\\item 7\n",
       "\\item 6\n",
       "\\item 10\n",
       "\\item 6\n",
       "\\item 4\n",
       "\\item 10\n",
       "\\end{enumerate*}\n"
      ],
      "text/markdown": [
       "1. 6\n",
       "2. 4\n",
       "3. 6\n",
       "4. 2\n",
       "5. 3\n",
       "6. 9\n",
       "7. 7\n",
       "8. 6\n",
       "9. 10\n",
       "10. 6\n",
       "11. 4\n",
       "12. 10\n",
       "\n",
       "\n"
      ],
      "text/plain": [
       " [1]  6  4  6  2  3  9  7  6 10  6  4 10"
      ]
     },
     "metadata": {},
     "output_type": "display_data"
    }
   ],
   "source": [
    "set.seed(24025)\n",
    "x<-1:12\n",
    "n<-length(x)\n",
    "x1<-sample(x,n,replace = TRUE)\n",
    "x1"
   ]
  },
  {
   "cell_type": "markdown",
   "metadata": {},
   "source": [
    "Each resample contains $n$ elements, the same as the original set $x$. Some elements appear twice or more, while other elements of $x$ do not appear. El conjunto de observaciones que no aparece se suele llamar _OOB (Out-of-bag)._ Podemos detectarlas haciendo:"
   ]
  },
  {
   "cell_type": "code",
   "execution_count": 2,
   "metadata": {},
   "outputs": [
    {
     "data": {
      "text/html": [
       "<ol class=list-inline>\n",
       "\t<li>1</li>\n",
       "\t<li>5</li>\n",
       "\t<li>8</li>\n",
       "\t<li>11</li>\n",
       "\t<li>12</li>\n",
       "</ol>\n"
      ],
      "text/latex": [
       "\\begin{enumerate*}\n",
       "\\item 1\n",
       "\\item 5\n",
       "\\item 8\n",
       "\\item 11\n",
       "\\item 12\n",
       "\\end{enumerate*}\n"
      ],
      "text/markdown": [
       "1. 1\n",
       "2. 5\n",
       "3. 8\n",
       "4. 11\n",
       "5. 12\n",
       "\n",
       "\n"
      ],
      "text/plain": [
       "[1]  1  5  8 11 12"
      ]
     },
     "metadata": {},
     "output_type": "display_data"
    }
   ],
   "source": [
    "oob<-x[is.na(match(x,x1))]\n",
    "oob"
   ]
  },
  {
   "cell_type": "markdown",
   "metadata": {},
   "source": [
    "## 2. An example of a simple bootstrap"
   ]
  },
  {
   "cell_type": "markdown",
   "metadata": {},
   "source": [
    "### Failures of Air-conditioning Equipment\n",
    "\n",
    "Proschan (1963) reported on the times $T$ in hours, between failures of the air-conditioning equipment in 10 Boeing 720 aircraft. The following dataset also apears as `aircondit` in the `boot` package. It contains the intervals for the ninth aircraft."
   ]
  },
  {
   "cell_type": "code",
   "execution_count": 3,
   "metadata": {},
   "outputs": [],
   "source": [
    "t<-c(3,5,7,18,43,85,91,98,100,130,230,487)\n",
    "n<-length(t)"
   ]
  },
  {
   "cell_type": "markdown",
   "metadata": {},
   "source": [
    "We want to study $T$. \n",
    "\n",
    "For instance, to decide with a given significance level $\\alpha=0.05$, whether the expected value $\\tau=\\operatorname{E}(T)$ is less than $\\tau_{0}=110$ hours, the specification in the maintainance and repair contract.\n",
    "\n",
    "The observed empirical average $\\overline{t}$ is:"
   ]
  },
  {
   "cell_type": "code",
   "execution_count": 4,
   "metadata": {
    "scrolled": true
   },
   "outputs": [
    {
     "data": {
      "text/html": [
       "108.0833"
      ],
      "text/latex": [
       "108.0833"
      ],
      "text/markdown": [
       "108.0833"
      ],
      "text/plain": [
       "[1] 108.0833"
      ]
     },
     "metadata": {},
     "output_type": "display_data"
    }
   ],
   "source": [
    "t.bar<-mean(t)\n",
    "round(t.bar,4)"
   ]
  },
  {
   "cell_type": "markdown",
   "metadata": {},
   "source": [
    "### Classical approach to the problem\n",
    "\n",
    "Steps:\n",
    "\n",
    "- 1. Try and find some (known) probability distribution to model this dataset and, eventually, perform a goodness-of-fit test.\n",
    "\n",
    "- 2. Estimate parameters (if any) in the given distribution.\n",
    "\n",
    "- 3. Devise a hypotheses test of $\\overline{T}<\\tau_{0}$ versus $\\overline{T}\\geq\\tau_{0}$, in particular designing (finding) a test statistic $Z$ as a function of the sample, deriving its probability distribution and, by means of it, select an acceptance region $\\{Z\\in A_{1}\\}$.\n",
    "\n",
    "- 4. Finally, for the observed sample, compute the observed value $z$ of $Z$ and take the appropriate decision."
   ]
  },
  {
   "cell_type": "markdown",
   "metadata": {},
   "source": [
    "#### Histogram"
   ]
  },
  {
   "cell_type": "code",
   "execution_count": 5,
   "metadata": {},
   "outputs": [
    {
     "name": "stderr",
     "output_type": "stream",
     "text": [
      "Loading required package: MASS\n"
     ]
    },
    {
     "data": {
      "image/png": "[encoded data removed]",
      "text/plain": [
       "plot without title"
      ]
     },
     "metadata": {},
     "output_type": "display_data"
    }
   ],
   "source": [
    "require(MASS)\n",
    "options(repr.plot.width=4,repr.plot.height=4)\n",
    "truehist(t)"
   ]
  },
  {
   "cell_type": "markdown",
   "metadata": {},
   "source": [
    "The shape bears a close resemblance to an exponential distribution.\n",
    "\n",
    "$$\n",
    "    f(t|\\lambda)=\\lambda\\,\\exp\\{-\\lambda\\,t\\},\n",
    "    \\quad t>0, \\quad \\lambda>0.\n",
    "$$\n",
    "\n",
    "In an exponential model $\\operatorname{Exp}(\\lambda)$ the maximum likelihood estimator of $\\tau=1/\\lambda$ is the empirical average $\\overline{t}=108.0833$."
   ]
  },
  {
   "cell_type": "markdown",
   "metadata": {},
   "source": [
    "#### QQ plot\n",
    "\n",
    "Visually compare the empirical (observed) distribution to the theoretical one, $\\operatorname{Exp}(\\lambda)$. \n",
    "\n",
    "Should there be a good agreement, points in the plot would lie on the line.\n",
    "\n",
    "Exercise: do the same for a small data set generated from some given distribution. "
   ]
  },
  {
   "cell_type": "code",
   "execution_count": 6,
   "metadata": {},
   "outputs": [],
   "source": [
    "# Generate a sample of n=12 values from an exponential distribution with lambda=1/t.bar and obtain its QQplot\n",
    "#\n",
    "#\n",
    "a<-qexp(ppoints(12), rate=1/t.bar)\n",
    "s<-rexp(12,rate=!/t.bar)"
   ]
  },
  {
   "cell_type": "code",
   "execution_count": 7,
   "metadata": {},
   "outputs": [
    {
     "data": {
      "image/png": "[encoded data removed]",
      "text/plain": [
       "plot without title"
      ]
     },
     "metadata": {},
     "output_type": "display_data"
    }
   ],
   "source": [
    "options(repr.plot.width=4,repr.plot.height=4)\n",
    "qqplot(qexp(ppoints(12),rate=1/t.bar),t,xlim=c(0,500),pch=19,cex=0.5,col=\"DarkMagenta\",\n",
    "    xlab=\"Theoretical quantiles\",ylab=\"Empirical quantiles\")\n",
    "qqline(t,distribution=function(p){qexp(p,rate=1/t.bar)})"
   ]
  },
  {
   "cell_type": "markdown",
   "metadata": {},
   "source": [
    "Kolmogorov-Smirnov goodness-of-fit test to check whether we can accept the exponential model."
   ]
  },
  {
   "cell_type": "code",
   "execution_count": 8,
   "metadata": {},
   "outputs": [
    {
     "data": {
      "text/plain": [
       "\n",
       "\tOne-sample Kolmogorov-Smirnov test\n",
       "\n",
       "data:  t\n",
       "D = 0.18729, p-value = 0.7282\n",
       "alternative hypothesis: two-sided\n"
      ]
     },
     "metadata": {},
     "output_type": "display_data"
    }
   ],
   "source": [
    "ks.test(t,pexp,1/t.bar)"
   ]
  },
  {
   "cell_type": "markdown",
   "metadata": {},
   "source": [
    "Accepting the exponential model, and from the property that a sum of independent exponential variates with the same parameter $\\tau=1/\\lambda$,\n",
    "    \n",
    "$$\n",
    "    Z=\\sum_{i=1}^{n}T_{i}\n",
    "$$\n",
    "  \n",
    "follows a  $\\operatorname{Gamma}(n,1/\\tau)$ distribution, we use this distribution to make inference about $\\tau$.\n",
    "\n",
    "For the observed sample,"
   ]
  },
  {
   "cell_type": "code",
   "execution_count": 9,
   "metadata": {},
   "outputs": [
    {
     "data": {
      "text/html": [
       "1297"
      ],
      "text/latex": [
       "1297"
      ],
      "text/markdown": [
       "1297"
      ],
      "text/plain": [
       "[1] 1297"
      ]
     },
     "metadata": {},
     "output_type": "display_data"
    }
   ],
   "source": [
    "z<-sum(t)\n",
    "round(z,2)"
   ]
  },
  {
   "cell_type": "markdown",
   "metadata": {},
   "source": [
    "and the critical $p$-value to decide on the null hypothesios $H_{0}:\\tau<\\tau_{0}=110$ is:"
   ]
  },
  {
   "cell_type": "code",
   "execution_count": 10,
   "metadata": {},
   "outputs": [
    {
     "data": {
      "text/html": [
       "0.486"
      ],
      "text/latex": [
       "0.486"
      ],
      "text/markdown": [
       "0.486"
      ],
      "text/plain": [
       "[1] 0.486"
      ]
     },
     "metadata": {},
     "output_type": "display_data"
    }
   ],
   "source": [
    "tau.0<-110\n",
    "p.val<-1-pgamma(z,shape=n,scale=tau.0)\n",
    "round(p.val,3)"
   ]
  },
  {
   "cell_type": "markdown",
   "metadata": {},
   "source": [
    "### _Bootstrap_ approach to the same problem\n",
    "\n",
    "We generate a number $N$ of \\emph{resamples}, each of them of equal length $n=12$ as the observed sample $t$.\n",
    "\n",
    "Each resample is obtained by selecting $n$ elements of the set $t$ with equal probability $1/n$ and _with replacement._\n",
    "\n",
    "For any statistic $U\\equiv U(t)$, function of the sample $t$, the collection of $N$ values resulting from applying it to the collection of $N$ resamples is the _bootstrap sample_ of $U$:\n",
    "\n",
    "$$\n",
    "    u_{1},\\dots,u_{N}.\n",
    "$$"
   ]
  },
  {
   "cell_type": "code",
   "execution_count": 11,
   "metadata": {},
   "outputs": [],
   "source": [
    "# A function to generate resamples, returning a matrix with a resample in each row:\n",
    "resample<-function(x,N){\n",
    "    n<-length(x)\n",
    "    X<-matrix(0,nrow=N,ncol=n)\n",
    "    for (i in 1:N){\n",
    "        X[i,]<-sample(x,n,replace = TRUE)\n",
    "        }\n",
    "    return(X)\n",
    "    }"
   ]
  },
  {
   "cell_type": "markdown",
   "metadata": {},
   "source": [
    "For instance we generate $N=1000$ resamples of the air conditioning data and, for each of them we compute the arithmetic mean:"
   ]
  },
  {
   "cell_type": "code",
   "execution_count": 12,
   "metadata": {},
   "outputs": [
    {
     "data": {
      "image/png": "[encoded data removed]",
      "text/plain": [
       "plot without title"
      ]
     },
     "metadata": {},
     "output_type": "display_data"
    }
   ],
   "source": [
    "X<-resample(t,1000)\n",
    "Xmean<-apply(X,1,mean)\n",
    "options(repr.plot.width=4,repr.plot.height=4)\n",
    "truehist(Xmean)"
   ]
  },
  {
   "cell_type": "markdown",
   "metadata": {},
   "source": [
    "The bootstrap-empirical $p$-value, $p^{\\star}$, is the relative frequency (proportion) within the bootstrap sample `Xsum` of values greater than the actually observed value $z=1297$."
   ]
  },
  {
   "cell_type": "code",
   "execution_count": 13,
   "metadata": {},
   "outputs": [
    {
     "data": {
      "text/html": [
       "0.454"
      ],
      "text/latex": [
       "0.454"
      ],
      "text/markdown": [
       "0.454"
      ],
      "text/plain": [
       "[1] 0.454"
      ]
     },
     "metadata": {},
     "output_type": "display_data"
    }
   ],
   "source": [
    "Xsum<-apply(X,1,sum)\n",
    "p.star<-sum(Xsum>z)/1000\n",
    "round(p.star,3)"
   ]
  },
  {
   "cell_type": "markdown",
   "metadata": {},
   "source": [
    "Other more complicated statistics such as the coefficient of variation $\\operatorname{CV}=\\sigma/\\mu$, the ratio of the standard deviation $\\sigma$, whose theoretical distribution appears unthinkable to derive, can be studied in the same way within the bootstrap 0framework."
   ]
  },
  {
   "cell_type": "code",
   "execution_count": 14,
   "metadata": {},
   "outputs": [
    {
     "data": {
      "image/png": "[encoded data removed]",
      "text/plain": [
       "plot without title"
      ]
     },
     "metadata": {},
     "output_type": "display_data"
    }
   ],
   "source": [
    "X<-resample(t,1000)\n",
    "Xmean<-apply(X,1,mean)\n",
    "Xsd<-apply(X,1,sd)\n",
    "XCV<-Xsd/Xmean\n",
    "options(repr.plot.width=4,repr.plot.height=4)\n",
    "truehist(XCV)"
   ]
  },
  {
   "cell_type": "markdown",
   "metadata": {},
   "source": [
    "## 3. Example of bootstrap in ISLR, pp. 189-191"
   ]
  },
  {
   "cell_type": "code",
   "execution_count": 15,
   "metadata": {},
   "outputs": [
    {
     "name": "stderr",
     "output_type": "stream",
     "text": [
      "Loading required package: ISLR\n",
      "Loading required package: boot\n"
     ]
    }
   ],
   "source": [
    "#install.packages(\"ISLR\",dependencies=TRUE,repos=\"https://cloud.r-project.org\")\n",
    "require(ISLR)\n",
    "#install.packages(\"boot\",dependencies=TRUE,repos=\"https://cloud.r-project.org\")\n",
    "require(boot)"
   ]
  },
  {
   "cell_type": "markdown",
   "metadata": {},
   "source": [
    "### `Portfolio` dataset"
   ]
  },
  {
   "cell_type": "markdown",
   "metadata": {},
   "source": [
    "#### Description\n",
    "\n",
    "A simple simulated data set containing 100 returns for each of two assets, X and Y. The data is used to estimate the optimal fraction to invest in each asset to minimize investment risk of the combined portfolio. One can then use the Bootstrap to estimate the standard error of this estimate.\n",
    "\n",
    "#### Format\n",
    "\n",
    "A data frame with 100 observations on the following 2 variables.\n",
    "\n",
    "01. `X`: Returns for Asset X\n",
    "\n",
    "02. `Y`: Returns for Asset Y\n",
    "\n",
    "#### Source\n",
    "\n",
    "Simulated data"
   ]
  },
  {
   "cell_type": "code",
   "execution_count": 16,
   "metadata": {},
   "outputs": [
    {
     "name": "stdout",
     "output_type": "stream",
     "text": [
      "'data.frame':\t100 obs. of  2 variables:\n",
      " $ X: num  -0.895 -1.562 -0.417 1.044 -0.316 ...\n",
      " $ Y: num  -0.235 -0.885 0.272 -0.734 0.842 ...\n"
     ]
    }
   ],
   "source": [
    "data(Portfolio)\n",
    "str(Portfolio)"
   ]
  },
  {
   "cell_type": "code",
   "execution_count": 17,
   "metadata": {},
   "outputs": [
    {
     "data": {
      "image/png": "[encoded data removed]",
      "text/plain": [
       "plot without title"
      ]
     },
     "metadata": {},
     "output_type": "display_data"
    }
   ],
   "source": [
    "options(repr.plot.width=4,repr.plot.height=4)\n",
    "plot(Portfolio,\"p\",pch=19,col=\"blue\",cex=0.4)"
   ]
  },
  {
   "cell_type": "code",
   "execution_count": 18,
   "metadata": {},
   "outputs": [
    {
     "data": {
      "text/html": [
       "0.576"
      ],
      "text/latex": [
       "0.576"
      ],
      "text/markdown": [
       "0.576"
      ],
      "text/plain": [
       "[1] 0.576"
      ]
     },
     "metadata": {},
     "output_type": "display_data"
    }
   ],
   "source": [
    "# Proportion of X for a two assets portfolio with a minimum risk (minimum variance)\n",
    "alpha.fn=function(data,index){\n",
    " X=data$X[index]\n",
    " Y=data$Y[index]\n",
    " return((var(Y)-cov(X,Y))/(var(X)+var(Y)-2*cov(X,Y)))\n",
    " }\n",
    "alpha0<-alpha.fn(Portfolio,1:100)\n",
    "round(alpha0,3)"
   ]
  },
  {
   "cell_type": "code",
   "execution_count": 19,
   "metadata": {},
   "outputs": [],
   "source": [
    "# ---- SNIP ---- SNIP ---- SNIP ---- \n",
    "# W=Var/(sigma.Y^2); rho=sigma.XY/(sigma.X*sigma.Y); t =sigma.X/sigma.Y\n",
    "W<-function(alpha,rho,t){\n",
    "    return(alpha^2*t^2+(1-alpha)^2+2*alpha*(1-alpha)*rho*t)\n",
    "    }\n",
    "\n",
    "alpha.max<-function(rho,t){\n",
    "    return((1-rho*t)/(1+t^2-2*rho*t))\n",
    "    }"
   ]
  },
  {
   "cell_type": "code",
   "execution_count": 20,
   "metadata": {},
   "outputs": [
    {
     "data": {
      "text/html": [
       "1.062"
      ],
      "text/latex": [
       "1.062"
      ],
      "text/markdown": [
       "1.062"
      ],
      "text/plain": [
       "[1] 1.062"
      ]
     },
     "metadata": {},
     "output_type": "display_data"
    },
    {
     "data": {
      "text/html": [
       "1.144"
      ],
      "text/latex": [
       "1.144"
      ],
      "text/markdown": [
       "1.144"
      ],
      "text/plain": [
       "[1] 1.144"
      ]
     },
     "metadata": {},
     "output_type": "display_data"
    },
    {
     "data": {
      "text/html": [
       "0.929"
      ],
      "text/latex": [
       "0.929"
      ],
      "text/markdown": [
       "0.929"
      ],
      "text/plain": [
       "[1] 0.929"
      ]
     },
     "metadata": {},
     "output_type": "display_data"
    },
    {
     "data": {
      "text/html": [
       "0.576"
      ],
      "text/latex": [
       "0.576"
      ],
      "text/markdown": [
       "0.576"
      ],
      "text/plain": [
       "[1] 0.576"
      ]
     },
     "metadata": {},
     "output_type": "display_data"
    }
   ],
   "source": [
    "index<-1:100\n",
    "X=Portfolio$X[index]\n",
    "Y=Portfolio$Y[index]\n",
    "sigma.X<-sqrt(var(X))\n",
    "sigma.Y<-sqrt(var(Y))\n",
    "t<-sigma.X/sigma.Y\n",
    "rho<-cor(X,Y)\n",
    "alpha.hat<-alpha.max(rho,t)\n",
    "round(sigma.X,3)\n",
    "round(sigma.Y,3)\n",
    "round(t,3)\n",
    "round(alpha.hat,3)"
   ]
  },
  {
   "cell_type": "code",
   "execution_count": 21,
   "metadata": {},
   "outputs": [],
   "source": [
    "W.rho.t<-function(rho,t){\n",
    "    \n",
    "}"
   ]
  },
  {
   "cell_type": "code",
   "execution_count": 22,
   "metadata": {},
   "outputs": [
    {
     "data": {
      "text/html": [
       "0.736837501928544"
      ],
      "text/latex": [
       "0.736837501928544"
      ],
      "text/markdown": [
       "0.736837501928544"
      ],
      "text/plain": [
       "[1] 0.7368375"
      ]
     },
     "metadata": {},
     "output_type": "display_data"
    }
   ],
   "source": [
    "set.seed(1)\n",
    "alpha.fn(Portfolio,sample(100,100,replace=TRUE))"
   ]
  },
  {
   "cell_type": "code",
   "execution_count": 23,
   "metadata": {},
   "outputs": [
    {
     "data": {
      "text/plain": [
       "\n",
       "ORDINARY NONPARAMETRIC BOOTSTRAP\n",
       "\n",
       "\n",
       "Call:\n",
       "boot(data = Portfolio, statistic = alpha.fn, R = 1000)\n",
       "\n",
       "\n",
       "Bootstrap Statistics :\n",
       "     original       bias    std. error\n",
       "t1* 0.5758321 -0.001695873  0.09366347"
      ]
     },
     "metadata": {},
     "output_type": "display_data"
    }
   ],
   "source": [
    "boot(Portfolio,alpha.fn,R=1000)"
   ]
  },
  {
   "cell_type": "markdown",
   "metadata": {},
   "source": [
    "## 4. _Bootstrap_ in evaluating prediction methods"
   ]
  },
  {
   "cell_type": "markdown",
   "metadata": {},
   "source": [
    "There are several ways of using _bootstrap_ in evaluating prediction models. A sensible procedure is, for each resample in a sufficiently large collection of $N$ generated resamples, use the resample itself as the _train_ subset and the _OOB_  subset (individuals in the original sample not present in the resample) as _test_ subset. \n",
    "\n",
    "Then the _bootstrap estimate of the prediction error,_  `E.boot`, is the average of the $N$ error proportions."
   ]
  },
  {
   "cell_type": "markdown",
   "metadata": {},
   "source": [
    "#### Efron's $0.632$ rule"
   ]
  },
  {
   "cell_type": "markdown",
   "metadata": {},
   "source": [
    "The _naif_ procedure, to use the same set both as `train`and `test`, yields another estimate `E.subst`, which has an optimistic bias, due to the fact that the test data are in a way already known by the prediction algorithm. On the other hand, it is known that `E.boot` has a pessimistic bias.\n",
    "\n",
    "Bradley Efron, the discoverer of bootstrap, proposed the idea to use a weighted mean of both estimators, as a way of compensating both biases. This is explained in two articles, Efrom (1983), _Estimating the Error Rate of a Prediction Rule: Improvement on Cross-Validation,_ and Efron (1997) _Improvements on Cross-Validation: The .632+ Bootstrap Method._ \n",
    "\n",
    "The $0.632$ rule described there, is to use the estimate `E.632` defined as:\n",
    "\n",
    "$$\n",
    "    E.632 = 0.632 * E.boot_{1} + 0.368 * E.subst,\n",
    "$$\n",
    "\n",
    "where $E.boot_{1}$ is a _leave-one-out bootstrap estimator,_ slightly different from the $E.boot$ described above. The motivation for using $0.632$ as the weight comes from the approximate computation of the probability that a given individual in a sample of $n$ appears in a resample:\n",
    "\n",
    "$$\n",
    "\t\t\t 1-(1-1/n)^n \\approx 1-1/e =0.6321206. \n",
    "$$"
   ]
  },
  {
   "cell_type": "code",
   "execution_count": null,
   "metadata": {},
   "outputs": [],
   "source": []
  }
 ],
 "metadata": {
  "kernelspec": {
   "display_name": "R",
   "language": "R",
   "name": "ir"
  },
  "language_info": {
   "codemirror_mode": "r",
   "file_extension": ".r",
   "mimetype": "text/x-r-source",
   "name": "R",
   "pygments_lexer": "r",
   "version": "3.6.1"
  }
 },
 "nbformat": 4,
 "nbformat_minor": 2
}

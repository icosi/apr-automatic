{
 "cells": [
  {
   "cell_type": "markdown",
   "metadata": {},
   "source": [
    "# Classification 01 - Linear classification methods"
   ]
  },
  {
   "cell_type": "markdown",
   "metadata": {},
   "source": [
    "#### Josep Fortiana 2019-10-23"
   ]
  },
  {
   "cell_type": "markdown",
   "metadata": {},
   "source": [
    "This laboratory is almost entirely devoted to linear classification methods, plus two exceptions, Quadratic discriminant and the $k$-Nearest Neighbours method, at the end of the notebook.\n",
    "\n",
    "Linear methods of classification are those where the assignation criterion is based on values of a linear combination of the predictor variables, or several such combinations when the number $g$ of classes is greater than $2$. \n",
    "\n",
    "Classification methods in general have a geometrical description as a partition of the predictor space (the space whose coordinates are the predictor variables) into two or more regions, one for each class. In linear methods separation is by one or more hyperplanes."
   ]
  },
  {
   "cell_type": "markdown",
   "metadata": {},
   "source": [
    "# A. Linear classification by least squares"
   ]
  },
  {
   "cell_type": "markdown",
   "metadata": {},
   "source": [
    "In principle a linear regression by least squares is not an adequate classification method to obtain a hyperplane to separate two classes, or to predict class labels when there are more than two classes.\n",
    "\n",
    "However methodologically unsound it may seem and, as a matter of fact, it is indeed, we can define, in binary classification problems, a numerical response with two conventional values, for instance 0/1, or (-1)/(+1), or in multi-class classification problems, we can define a vector response with as many 0/1 indicator variables as the number $g$ of classes, all of them but one set to $0$, and the remaining one set to $1$, _(one-hot coding),_ fit a linear model in the binary problem, or $g$ parallel linear models in the multi-class problem and then assess the results.\n",
    "\n",
    "Even though results need adaptation or reinterpretation, as regression predicted values are not restricted to the discrete set of values with which the training set has been prepared, often results are surprisingly acceptable, especially when the problem is close to being linearly seeparable."
   ]
  },
  {
   "cell_type": "markdown",
   "metadata": {},
   "source": [
    "## A1. `wine` data"
   ]
  },
  {
   "cell_type": "markdown",
   "metadata": {},
   "source": [
    "`wine` data are the results of a chemical analysis of wines grown in the same region in Italy but derived from three different cultivars. The analysis determined the quantities of 13 constituents found in each of the three types of wines.\n",
    "\n",
    "They can be found in the [UCI Machine Learning Repository](http://archive.ics.uci.edu/ml/), which hosts many documented data sets to be used as benchmarks in evaluating Machine Learning methods and algorithms. Alternatively, should the link be broken, you can find the `.csv` file in the Virtual Campus. The following description is taken from the UCI website:\n",
    "\n",
    "I think that the initial data set had around 30 variables, but for some reason I only have the 13 dimensional version. I had a list of what the 30 or so variables were, but a.) I lost it, and b.), I would not know which 13 variables are included in the set.\n",
    "\n",
    "The attributes are:\n",
    "\n",
    "01. Alcohol\n",
    "\n",
    "02. Malic acid\n",
    "\n",
    "03. Ash\n",
    "\n",
    "04. Alcalinity of ash\n",
    "\n",
    "05. Magnesium\n",
    "\n",
    "06. Total phenols\n",
    "\n",
    "07. Flavonoids\n",
    "\n",
    "08. Nonflavonoid phenols\n",
    "\n",
    "09. Proanthocyanins\n",
    "\n",
    "10. Color intensity\n",
    "\n",
    "11. Hue\n",
    "\n",
    "12. OD280/OD315 of diluted wines\n",
    "\n",
    "13. Proline\n",
    "\n",
    "\n",
    "In a classification context, this is a well posed problem with \"well behaved\" class structures. A good data set for first testing of a new classifier, but not very challenging."
   ]
  },
  {
   "cell_type": "markdown",
   "metadata": {},
   "source": [
    "Since the `.csv` file has no first row with variable names we must set `header=FALSE` in the `read.csv` call (see default values for the optional parameters in the help). \n",
    "\n",
    "The casting `as.factor()` command has the purpose of conveying the fact that this variable is qualitative, so the R interpreter can use it as such."
   ]
  },
  {
   "cell_type": "code",
   "execution_count": 1,
   "metadata": {},
   "outputs": [],
   "source": [
    "wine.url<-\"http://archive.ics.uci.edu/ml/machine-learning-databases/wine/wine.data\"\n",
    "#wine<-read.csv(wine.url,header=FALSE)\n",
    "wine<-read.csv(\"wine.csv\",header=FALSE)\n",
    "colnames(wine)<-c(\"Type\",\"Alcohol\",\"Malic\",\"Ash\", \"Alcalinity\",\"Magnesium\",\"Phenols\",\"Flavonoids\",\n",
    "                  \"Nonflavonoids\",\"Proanthocyanins\",\"Color\",\"Hue\", \"Dilution\",\"Proline\")\n",
    "wine$Type <- as.factor(wine$Type)"
   ]
  },
  {
   "cell_type": "code",
   "execution_count": 2,
   "metadata": {},
   "outputs": [
    {
     "name": "stdout",
     "output_type": "stream",
     "text": [
      " Factor w/ 3 levels \"1\",\"2\",\"3\": 1 1 1 1 1 1 1 1 1 1 ...\n"
     ]
    },
    {
     "data": {
      "text/html": [
       "<ol class=list-inline>\n",
       "\t<li>'1'</li>\n",
       "\t<li>'2'</li>\n",
       "\t<li>'3'</li>\n",
       "</ol>\n"
      ],
      "text/latex": [
       "\\begin{enumerate*}\n",
       "\\item '1'\n",
       "\\item '2'\n",
       "\\item '3'\n",
       "\\end{enumerate*}\n"
      ],
      "text/markdown": [
       "1. '1'\n",
       "2. '2'\n",
       "3. '3'\n",
       "\n",
       "\n"
      ],
      "text/plain": [
       "[1] \"1\" \"2\" \"3\""
      ]
     },
     "metadata": {},
     "output_type": "display_data"
    },
    {
     "data": {
      "text/plain": [
       "\n",
       " 1  2  3 \n",
       "59 71 48 "
      ]
     },
     "metadata": {},
     "output_type": "display_data"
    }
   ],
   "source": [
    "str(wine$Type)\n",
    "levels(wine$Type)\n",
    "table(wine$Type)"
   ]
  },
  {
   "cell_type": "markdown",
   "metadata": {},
   "source": [
    "Split the dataset in two subsets, for cross-validation, `train` with about $60\\%$ of data, and  `test` with the remaining $\\approx40\\%$."
   ]
  },
  {
   "cell_type": "code",
   "execution_count": 3,
   "metadata": {},
   "outputs": [],
   "source": [
    "n<-nrow(wine)\n",
    "ntrain<-ceiling(0.6*n)\n",
    "ntest<-n-ntrain\n",
    "set.seed(24025)  # some arbitrary value, for the sake of reproducible results\n",
    "Itrain<-sample(1:n,ntrain,replace=FALSE)\n",
    "wine.train<-wine[Itrain,]\n",
    "wine.test<-wine[-Itrain,]"
   ]
  },
  {
   "cell_type": "markdown",
   "metadata": {},
   "source": [
    "Prepare a `Y` vector response with the one-hot coding of the three levels-valued factor response `wine$Type`.\n",
    "\n",
    "Create  `wine2`, a new `data.frame` appending the new three binary variables and discarding the old factor."
   ]
  },
  {
   "cell_type": "code",
   "execution_count": 4,
   "metadata": {},
   "outputs": [],
   "source": [
    "y<-wine$Type\n",
    "Y<-cbind((y==\"1\"),(y==\"2\"),(y==\"3\"))\n",
    "colnames(Y)<-c(\"Y1\",\"Y2\",\"Y3\")\n",
    "wine2<-data.frame(wine[,-1],Y)\n",
    "wine2.train<-wine2[Itrain,]\n",
    "wine2.test<-wine2[-Itrain,]"
   ]
  },
  {
   "cell_type": "markdown",
   "metadata": {},
   "source": [
    "Fit three parallel linear models with the same set of predictors:"
   ]
  },
  {
   "cell_type": "code",
   "execution_count": 5,
   "metadata": {},
   "outputs": [
    {
     "data": {
      "text/plain": [
       "Response Y1 :\n",
       "\n",
       "Call:\n",
       "lm(formula = Y1 ~ Alcohol + Malic + Ash + Alcalinity + Magnesium + \n",
       "    Phenols + Flavonoids + Nonflavonoids + Proanthocyanins + \n",
       "    Color + Hue + Dilution + Proline, data = wine2.train)\n",
       "\n",
       "Residuals:\n",
       "     Min       1Q   Median       3Q      Max \n",
       "-0.41580 -0.08969 -0.01396  0.10051  0.35342 \n",
       "\n",
       "Coefficients:\n",
       "                  Estimate Std. Error t value Pr(>|t|)    \n",
       "(Intercept)     -1.704e+00  4.499e-01  -3.788 0.000269 ***\n",
       "Alcohol          7.136e-02  3.362e-02   2.122 0.036453 *  \n",
       "Malic            1.048e-02  1.914e-02   0.548 0.585335    \n",
       "Ash              4.036e-01  8.996e-02   4.486 2.07e-05 ***\n",
       "Alcalinity      -3.682e-02  7.228e-03  -5.094 1.83e-06 ***\n",
       "Magnesium        1.024e-03  1.424e-03   0.719 0.473710    \n",
       "Phenols         -1.507e-01  6.150e-02  -2.451 0.016120 *  \n",
       "Flavonoids       2.167e-01  5.072e-02   4.273 4.66e-05 ***\n",
       "Nonflavonoids    1.843e-01  1.881e-01   0.980 0.329826    \n",
       "Proanthocyanins -2.803e-02  4.328e-02  -0.648 0.518823    \n",
       "Color           -5.030e-03  1.191e-02  -0.422 0.673727    \n",
       "Hue             -1.804e-01  1.102e-01  -1.637 0.104906    \n",
       "Dilution         1.539e-01  4.543e-02   3.388 0.001034 ** \n",
       "Proline          6.166e-04  8.856e-05   6.963 4.64e-10 ***\n",
       "---\n",
       "Signif. codes:  0 '***' 0.001 '**' 0.01 '*' 0.05 '.' 0.1 ' ' 1\n",
       "\n",
       "Residual standard error: 0.161 on 93 degrees of freedom\n",
       "Multiple R-squared:  0.9016,\tAdjusted R-squared:  0.8878 \n",
       "F-statistic: 65.53 on 13 and 93 DF,  p-value: < 2.2e-16\n",
       "\n",
       "\n",
       "Response Y2 :\n",
       "\n",
       "Call:\n",
       "lm(formula = Y2 ~ Alcohol + Malic + Ash + Alcalinity + Magnesium + \n",
       "    Phenols + Flavonoids + Nonflavonoids + Proanthocyanins + \n",
       "    Color + Hue + Dilution + Proline, data = wine2.train)\n",
       "\n",
       "Residuals:\n",
       "    Min      1Q  Median      3Q     Max \n",
       "-0.4449 -0.1598 -0.0064  0.1275  0.5472 \n",
       "\n",
       "Coefficients:\n",
       "                  Estimate Std. Error t value Pr(>|t|)    \n",
       "(Intercept)      2.8586400  0.6384693   4.477 2.14e-05 ***\n",
       "Alcohol         -0.1210618  0.0477090  -2.538 0.012828 *  \n",
       "Malic           -0.0620164  0.0271611  -2.283 0.024691 *  \n",
       "Ash             -0.4908069  0.1276545  -3.845 0.000221 ***\n",
       "Alcalinity       0.0264749  0.0102565   2.581 0.011407 *  \n",
       "Magnesium        0.0004641  0.0020205   0.230 0.818835    \n",
       "Phenols          0.0006474  0.0872656   0.007 0.994097    \n",
       "Flavonoids       0.1069173  0.0719739   1.486 0.140793    \n",
       "Nonflavonoids    0.3054488  0.2669603   1.144 0.255488    \n",
       "Proanthocyanins  0.0270449  0.0614163   0.440 0.660703    \n",
       "Color           -0.0622212  0.0168986  -3.682 0.000388 ***\n",
       "Hue              0.2597404  0.1563477   1.661 0.100021    \n",
       "Dilution        -0.0231568  0.0644747  -0.359 0.720289    \n",
       "Proline         -0.0005579  0.0001257  -4.439 2.48e-05 ***\n",
       "---\n",
       "Signif. codes:  0 '***' 0.001 '**' 0.01 '*' 0.05 '.' 0.1 ' ' 1\n",
       "\n",
       "Residual standard error: 0.2285 on 93 degrees of freedom\n",
       "Multiple R-squared:  0.8041,\tAdjusted R-squared:  0.7767 \n",
       "F-statistic: 29.35 on 13 and 93 DF,  p-value: < 2.2e-16\n",
       "\n",
       "\n",
       "Response Y3 :\n",
       "\n",
       "Call:\n",
       "lm(formula = Y3 ~ Alcohol + Malic + Ash + Alcalinity + Magnesium + \n",
       "    Phenols + Flavonoids + Nonflavonoids + Proanthocyanins + \n",
       "    Color + Hue + Dilution + Proline, data = wine2.train)\n",
       "\n",
       "Residuals:\n",
       "     Min       1Q   Median       3Q      Max \n",
       "-0.41707 -0.07887  0.00008  0.09465  0.32746 \n",
       "\n",
       "Coefficients:\n",
       "                  Estimate Std. Error t value Pr(>|t|)    \n",
       "(Intercept)     -1.543e-01  4.515e-01  -0.342  0.73337    \n",
       "Alcohol          4.970e-02  3.374e-02   1.473  0.14405    \n",
       "Malic            5.154e-02  1.921e-02   2.683  0.00863 ** \n",
       "Ash              8.722e-02  9.027e-02   0.966  0.33640    \n",
       "Alcalinity       1.034e-02  7.253e-03   1.426  0.15725    \n",
       "Magnesium       -1.488e-03  1.429e-03  -1.042  0.30023    \n",
       "Phenols          1.501e-01  6.171e-02   2.432  0.01693 *  \n",
       "Flavonoids      -3.236e-01  5.089e-02  -6.359 7.51e-09 ***\n",
       "Nonflavonoids   -4.897e-01  1.888e-01  -2.594  0.01101 *  \n",
       "Proanthocyanins  9.842e-04  4.343e-02   0.023  0.98197    \n",
       "Color            6.725e-02  1.195e-02   5.628 1.92e-07 ***\n",
       "Hue             -7.933e-02  1.106e-01  -0.718  0.47486    \n",
       "Dilution        -1.308e-01  4.559e-02  -2.868  0.00511 ** \n",
       "Proline         -5.879e-05  8.886e-05  -0.662  0.50986    \n",
       "---\n",
       "Signif. codes:  0 '***' 0.001 '**' 0.01 '*' 0.05 '.' 0.1 ' ' 1\n",
       "\n",
       "Residual standard error: 0.1616 on 93 degrees of freedom\n",
       "Multiple R-squared:  0.8875,\tAdjusted R-squared:  0.8718 \n",
       "F-statistic: 56.44 on 13 and 93 DF,  p-value: < 2.2e-16\n",
       "\n"
      ]
     },
     "metadata": {},
     "output_type": "display_data"
    }
   ],
   "source": [
    "wine2.lm1<-lm(cbind(Y1,Y2,Y3)~.,data=wine2.train)\n",
    "summary(wine2.lm1)"
   ]
  },
  {
   "cell_type": "markdown",
   "metadata": {},
   "source": [
    "We can further analyze the model(s), for instance selecting an optimal predictor subset. This is not so easy as in a single `lm`, as predictors can, and in general do, have different predictive power for each binary response."
   ]
  },
  {
   "cell_type": "code",
   "execution_count": 6,
   "metadata": {},
   "outputs": [],
   "source": [
    "#\n",
    "#\n",
    "#"
   ]
  },
  {
   "cell_type": "markdown",
   "metadata": {},
   "source": [
    "On the other hand, `predict.lm()` works here as expected. We prepare the test `data.frame` for prediction, by removing the response columns and keeping them aside for later use in assessing predictions:"
   ]
  },
  {
   "cell_type": "code",
   "execution_count": 7,
   "metadata": {},
   "outputs": [],
   "source": [
    "wine2.test.to.predict<-wine2.test[,-(14:16)]"
   ]
  },
  {
   "cell_type": "markdown",
   "metadata": {},
   "source": [
    "Run prediction. Check the structure of the resulting `Yhat`.\n",
    "Indeed `Yhat` is a matrix with 3 columns.\n",
    "\n",
    "Observe that each row in `Yhat` adds up to 1 (Can you explain why?). "
   ]
  },
  {
   "cell_type": "code",
   "execution_count": 8,
   "metadata": {},
   "outputs": [
    {
     "name": "stdout",
     "output_type": "stream",
     "text": [
      " num [1:71, 1:3] 1.256 0.65 1.158 0.915 0.921 ...\n",
      " - attr(*, \"dimnames\")=List of 2\n",
      "  ..$ : chr [1:71] \"4\" \"5\" \"8\" \"9\" ...\n",
      "  ..$ : chr [1:3] \"Y1\" \"Y2\" \"Y3\"\n"
     ]
    },
    {
     "data": {
      "text/html": [
       "<table>\n",
       "<caption>A matrix: 1 × 71 of type dbl</caption>\n",
       "<tbody>\n",
       "\t<tr><td>1</td><td>1</td><td>1</td><td>1</td><td>1</td><td>1</td><td>1</td><td>1</td><td>1</td><td>1</td><td>...</td><td>1</td><td>1</td><td>1</td><td>1</td><td>1</td><td>1</td><td>1</td><td>1</td><td>1</td><td>1</td></tr>\n",
       "</tbody>\n",
       "</table>\n"
      ],
      "text/latex": [
       "A matrix: 1 × 71 of type dbl\n",
       "\\begin{tabular}{lllllllllllllllllllllllllllllllllllllllllllllllllllllllllllllllllllllll}\n",
       "\t 1 & 1 & 1 & 1 & 1 & 1 & 1 & 1 & 1 & 1 & 1 & 1 & 1 & 1 & 1 & 1 & 1 & 1 & 1 & 1 & 1 & 1 & 1 & 1 & 1 & 1 & 1 & 1 & 1 & 1 & 1 & 1 & 1 & 1 & 1 & 1 & 1 & 1 & 1 & 1 & 1 & 1 & 1 & 1 & 1 & 1 & 1 & 1 & 1 & 1 & 1 & 1 & 1 & 1 & 1 & 1 & 1 & 1 & 1 & 1 & 1 & 1 & 1 & 1 & 1 & 1 & 1 & 1 & 1 & 1 & 1\\\\\n",
       "\\end{tabular}\n"
      ],
      "text/markdown": [
       "\n",
       "A matrix: 1 × 71 of type dbl\n",
       "\n",
       "| 1 | 1 | 1 | 1 | 1 | 1 | 1 | 1 | 1 | 1 | ... | 1 | 1 | 1 | 1 | 1 | 1 | 1 | 1 | 1 | 1 |\n",
       "\n"
      ],
      "text/plain": [
       "     [,1] [,2] [,3] [,4] [,5] [,6] [,7] [,8] [,9] [,10] [,11] [,12] [,13] [,14]\n",
       "[1,] 1    1    1    1    1    1    1    1    1    1     ...   1     1     1    \n",
       "     [,15] [,16] [,17] [,18] [,19] [,20] [,21]\n",
       "[1,] 1     1     1     1     1     1     1    "
      ]
     },
     "metadata": {},
     "output_type": "display_data"
    }
   ],
   "source": [
    "Yhat<-predict(wine2.lm1,newdata=wine2.test.to.predict)\n",
    "str(Yhat)\n",
    "Yhat.sums<-as.numeric(apply(Yhat,1,sum))\n",
    "t(Yhat.sums)"
   ]
  },
  {
   "cell_type": "markdown",
   "metadata": {},
   "source": [
    "Entries in `Yhat` are not $0$'s or $1$'s as entries in $Y$; they even do not belong to the $(0,1)$ interval, which is a cause of ambiguity in classifications. See the first $5$ rown in `Yhat\n",
    "\n",
    "This is a reason why this method is not a usual one in classification. Anyway we stick to it as an exercise."
   ]
  },
  {
   "cell_type": "code",
   "execution_count": 9,
   "metadata": {},
   "outputs": [
    {
     "data": {
      "text/html": [
       "<table>\n",
       "<caption>A matrix: 5 × 3 of type dbl</caption>\n",
       "<thead>\n",
       "\t<tr><th></th><th scope=col>Y1</th><th scope=col>Y2</th><th scope=col>Y3</th></tr>\n",
       "</thead>\n",
       "<tbody>\n",
       "\t<tr><th scope=row>4</th><td>1.256</td><td>-0.391</td><td>0.135</td></tr>\n",
       "\t<tr><th scope=row>5</th><td>0.650</td><td> 0.279</td><td>0.071</td></tr>\n",
       "\t<tr><th scope=row>8</th><td>1.158</td><td>-0.181</td><td>0.023</td></tr>\n",
       "\t<tr><th scope=row>9</th><td>0.915</td><td> 0.083</td><td>0.003</td></tr>\n",
       "\t<tr><th scope=row>10</th><td>0.921</td><td> 0.056</td><td>0.023</td></tr>\n",
       "</tbody>\n",
       "</table>\n"
      ],
      "text/latex": [
       "A matrix: 5 × 3 of type dbl\n",
       "\\begin{tabular}{r|lll}\n",
       "  & Y1 & Y2 & Y3\\\\\n",
       "\\hline\n",
       "\t4 & 1.256 & -0.391 & 0.135\\\\\n",
       "\t5 & 0.650 &  0.279 & 0.071\\\\\n",
       "\t8 & 1.158 & -0.181 & 0.023\\\\\n",
       "\t9 & 0.915 &  0.083 & 0.003\\\\\n",
       "\t10 & 0.921 &  0.056 & 0.023\\\\\n",
       "\\end{tabular}\n"
      ],
      "text/markdown": [
       "\n",
       "A matrix: 5 × 3 of type dbl\n",
       "\n",
       "| <!--/--> | Y1 | Y2 | Y3 |\n",
       "|---|---|---|---|\n",
       "| 4 | 1.256 | -0.391 | 0.135 |\n",
       "| 5 | 0.650 |  0.279 | 0.071 |\n",
       "| 8 | 1.158 | -0.181 | 0.023 |\n",
       "| 9 | 0.915 |  0.083 | 0.003 |\n",
       "| 10 | 0.921 |  0.056 | 0.023 |\n",
       "\n"
      ],
      "text/plain": [
       "   Y1    Y2     Y3   \n",
       "4  1.256 -0.391 0.135\n",
       "5  0.650  0.279 0.071\n",
       "8  1.158 -0.181 0.023\n",
       "9  0.915  0.083 0.003\n",
       "10 0.921  0.056 0.023"
      ]
     },
     "metadata": {},
     "output_type": "display_data"
    }
   ],
   "source": [
    "round(Yhat[1:5,],3)"
   ]
  },
  {
   "cell_type": "markdown",
   "metadata": {},
   "source": [
    "There are several possibilities to force `Yhat` into a matrix with a _one-hot_ coding which can be directly read as a classification prediction.\n",
    "\n",
    "What we will do is to assign each individual to the class (column) of the maximum value in the row. \n",
    "\n",
    "We compute the `Yhat.ind` matrix with three columns, which has in each $i$-th row the three indicators, for $j=1,2,3$, of `Yhat[i,j]` equalling the maximum in `Yhat[i,]`:"
   ]
  },
  {
   "cell_type": "code",
   "execution_count": 10,
   "metadata": {},
   "outputs": [],
   "source": [
    "Yhat.max<-apply(Yhat,1,max)\n",
    "Yhat.ind<-1*cbind(Yhat[,1]==Yhat.max,Yhat[,2]==Yhat.max,Yhat[,3]==Yhat.max)"
   ]
  },
  {
   "cell_type": "markdown",
   "metadata": {},
   "source": [
    "### Confusion matrix\n",
    "\n",
    "This is a general object in visualizing the quality of a classification algorithm. The _confusion matrix_ for a classification problem with $g$ classes is a matrix $C$ with $g$ rows and $g$ columns.  \n",
    "\n",
    "The classification algorithm is applied to a test data subset in which the true class of each sample is known. In each $i$-th row of $C$ the entry in the $j$-th column is the number of samples whose true class is $i$ which the algorithm has assigned to the $j$-th class. \n",
    "\n",
    "A perfect classification would yield a diagonal confusion matrix (with non-null entris oly on the principal diagonal). \n",
    "\n",
    "Measures of quality can be derived from the proportion of off-diagonal entries, either row-wise or globally. For instance the sum of all off-diagonal entries divided by the total sample size is an estimate of the probability of misclassification."
   ]
  },
  {
   "cell_type": "markdown",
   "metadata": {},
   "source": [
    "A computation of the confusion matrix by means of a matrix product. (NB: possible here because both `Y`and `Yhat` are three column matrices with zeros and ones!):"
   ]
  },
  {
   "cell_type": "code",
   "execution_count": 11,
   "metadata": {},
   "outputs": [
    {
     "data": {
      "text/html": [
       "<table>\n",
       "<caption>A matrix: 3 × 3 of type dbl</caption>\n",
       "<thead>\n",
       "\t<tr><th scope=col>1</th><th scope=col>2</th><th scope=col>3</th></tr>\n",
       "</thead>\n",
       "<tbody>\n",
       "\t<tr><td>21</td><td> 0</td><td> 0</td></tr>\n",
       "\t<tr><td> 1</td><td>31</td><td> 0</td></tr>\n",
       "\t<tr><td> 0</td><td> 0</td><td>18</td></tr>\n",
       "</tbody>\n",
       "</table>\n"
      ],
      "text/latex": [
       "A matrix: 3 × 3 of type dbl\n",
       "\\begin{tabular}{r|lll}\n",
       " 1 & 2 & 3\\\\\n",
       "\\hline\n",
       "\t 21 &  0 &  0\\\\\n",
       "\t  1 & 31 &  0\\\\\n",
       "\t  0 &  0 & 18\\\\\n",
       "\\end{tabular}\n"
      ],
      "text/markdown": [
       "\n",
       "A matrix: 3 × 3 of type dbl\n",
       "\n",
       "| 1 | 2 | 3 |\n",
       "|---|---|---|\n",
       "| 21 |  0 |  0 |\n",
       "|  1 | 31 |  0 |\n",
       "|  0 |  0 | 18 |\n",
       "\n"
      ],
      "text/plain": [
       "    Predicted\n",
       "True 1  2  3 \n",
       "   1 21  0  0\n",
       "   2  1 31  0\n",
       "   3  0  0 18"
      ]
     },
     "metadata": {},
     "output_type": "display_data"
    }
   ],
   "source": [
    "Y.test<-Y[-Itrain,]\n",
    "C<-t(Y.test)%*%Yhat.ind\n",
    "dimnames(C)<-list(True=c(1,2,3),Predicted=c(1,2,3))\n",
    "C"
   ]
  },
  {
   "cell_type": "markdown",
   "metadata": {},
   "source": [
    "Another procedure which, by the way, is more generalizable to other classification methods:"
   ]
  },
  {
   "cell_type": "code",
   "execution_count": 12,
   "metadata": {},
   "outputs": [
    {
     "data": {
      "text/plain": [
       "    Predicted\n",
       "True  1  2  3\n",
       "   1 21  0  0\n",
       "   2  1 31  0\n",
       "   3  0  0 18"
      ]
     },
     "metadata": {},
     "output_type": "display_data"
    }
   ],
   "source": [
    "y.test<-y[-Itrain]\n",
    "yhat<-as.factor(apply(Yhat,1,which.max))\n",
    "C<-table(\"True\"=y.test,\"Predicted\"=yhat)\n",
    "C"
   ]
  },
  {
   "cell_type": "markdown",
   "metadata": {},
   "source": [
    "# B. Linear classification by logistic regression"
   ]
  },
  {
   "cell_type": "markdown",
   "metadata": {},
   "source": [
    "As explained in the theory slides, logistic regression is a statistical model, an instance of a Generalized Linear Model (GLM) which is usually fitted by Maximum Likelihood.\n",
    "\n",
    "Its R implementation is in the `glm()` function from the `stats` package (loaded by default). Syntax is similar to that of `lm()`. See details in the help, which you can invoke by typing `?glm`."
   ]
  },
  {
   "cell_type": "markdown",
   "metadata": {},
   "source": [
    "## B1. `SAheart` data"
   ]
  },
  {
   "cell_type": "markdown",
   "metadata": {},
   "source": [
    "From the `ElemStatLearn` package, `SAheart` is a data frame with 462 observations on the following 10 variables.\n",
    "\n",
    "01. `sbp`: systolic blood pressure.\n",
    "\n",
    "02. `tobacco`: cumulative tobacco (kg).\n",
    "\n",
    "03. `ldl`: low density lipoprotein cholesterol.\n",
    "\n",
    "04. `adiposity`: a numeric vector.\n",
    "\n",
    "05. `famhist`: family history of heart disease, a factor with levels `Absent`, `Present`.\n",
    "\n",
    "06. `typea`: type-A behavior.\n",
    "\n",
    "07. `obesity`: a numeric vector.\n",
    "\n",
    "08. `alcohol`: current alcohol consumption.\n",
    "\n",
    "09. `age`: age at onset\n",
    "\n",
    "10. `chd`: response, coronary heart disease\n",
    "\n",
    "##### Details\n",
    "\n",
    "A retrospective sample of males in a heart-disease high-risk region of the Western Cape, South Africa. There are roughly two controls per case of CHD. Many of the CHD positive men have undergone blood pressure reduction treatment and other programs to reduce their risk factors after their CHD event. In some cases the measurements were made after these treatments. These data are taken from a larger dataset, described in Rousseauw et al, 1983, South African Medical Journal."
   ]
  },
  {
   "cell_type": "code",
   "execution_count": 13,
   "metadata": {},
   "outputs": [
    {
     "name": "stderr",
     "output_type": "stream",
     "text": [
      "Loading required package: ElemStatLearn\n"
     ]
    },
    {
     "name": "stdout",
     "output_type": "stream",
     "text": [
      "'data.frame':\t462 obs. of  10 variables:\n",
      " $ sbp      : int  160 144 118 170 134 132 142 114 114 132 ...\n",
      " $ tobacco  : num  12 0.01 0.08 7.5 13.6 6.2 4.05 4.08 0 0 ...\n",
      " $ ldl      : num  5.73 4.41 3.48 6.41 3.5 6.47 3.38 4.59 3.83 5.8 ...\n",
      " $ adiposity: num  23.1 28.6 32.3 38 27.8 ...\n",
      " $ famhist  : Factor w/ 2 levels \"Absent\",\"Present\": 2 1 2 2 2 2 1 2 2 2 ...\n",
      " $ typea    : int  49 55 52 51 60 62 59 62 49 69 ...\n",
      " $ obesity  : num  25.3 28.9 29.1 32 26 ...\n",
      " $ alcohol  : num  97.2 2.06 3.81 24.26 57.34 ...\n",
      " $ age      : int  52 63 46 58 49 45 38 58 29 53 ...\n",
      " $ chd      : int  1 1 0 1 1 0 0 1 0 1 ...\n"
     ]
    }
   ],
   "source": [
    "#install.packages(\"ElemStatLearn\",dependencies=TRUE,repos=\"https://cloud.r-project.org\")\n",
    "require(ElemStatLearn)\n",
    "data(SAheart)\n",
    "str(SAheart)"
   ]
  },
  {
   "cell_type": "markdown",
   "metadata": {},
   "source": [
    "The response `chd` is coded as an integer-valued variable with $0/1$ values. For some classification procedures we should recode it as a factor with two levels, as we did with the `wine` data. Logistic regression does not require this step, as it will process correctly with the current coding. However keep in mind this feature before applying other classification methods  on this dataset (see below)."
   ]
  },
  {
   "cell_type": "markdown",
   "metadata": {},
   "source": [
    "Split the dataset into a pair $(\\text{train},\\text{test})$ of subsets."
   ]
  },
  {
   "cell_type": "code",
   "execution_count": 14,
   "metadata": {},
   "outputs": [],
   "source": [
    "set.seed(24025)\n",
    "n<-nrow(SAheart)\n",
    "ntrain<-ceiling(0.60*n)\n",
    "Itrain<-sample(1:n,ntrain,replace=FALSE)\n",
    "n<-nrow(SAheart)\n",
    "ntrain<-ceiling(0.60*n)\n",
    "Itrain<-sample(1:n,ntrain,replace=FALSE)\n",
    "SAheart.train<-SAheart[Itrain,]\n",
    "SAheart.test<-SAheart[-Itrain,]"
   ]
  },
  {
   "cell_type": "markdown",
   "metadata": {},
   "source": [
    "Before applying logistic regression, we can try to classify `SAheart` data by the least squares method and estimate the misclassification probability."
   ]
  },
  {
   "cell_type": "code",
   "execution_count": 15,
   "metadata": {},
   "outputs": [],
   "source": [
    "#\n",
    "#\n",
    "#"
   ]
  },
  {
   "cell_type": "markdown",
   "metadata": {},
   "source": [
    "Syntax for `glm`"
   ]
  },
  {
   "cell_type": "code",
   "execution_count": 16,
   "metadata": {},
   "outputs": [],
   "source": [
    "SAheart.logit1<-glm(chd~.,data=SAheart.train,family=binomial)"
   ]
  },
  {
   "cell_type": "code",
   "execution_count": 17,
   "metadata": {
    "scrolled": true
   },
   "outputs": [
    {
     "data": {
      "text/plain": [
       "\n",
       "Call:\n",
       "glm(formula = chd ~ ., family = binomial, data = SAheart.train)\n",
       "\n",
       "Deviance Residuals: \n",
       "    Min       1Q   Median       3Q      Max  \n",
       "-2.1308  -0.7738  -0.4384   0.8366   2.2841  \n",
       "\n",
       "Coefficients:\n",
       "                Estimate Std. Error z value Pr(>|z|)    \n",
       "(Intercept)    -7.252428   1.769751  -4.098 4.17e-05 ***\n",
       "sbp             0.008629   0.007979   1.082  0.27947    \n",
       "tobacco         0.111020   0.035591   3.119  0.00181 ** \n",
       "ldl             0.263452   0.084697   3.111  0.00187 ** \n",
       "adiposity      -0.015090   0.037507  -0.402  0.68744    \n",
       "famhistPresent  0.830130   0.301427   2.754  0.00589 ** \n",
       "typea           0.032812   0.016411   1.999  0.04557 *  \n",
       "obesity         0.004643   0.055596   0.084  0.93344    \n",
       "alcohol        -0.007579   0.006766  -1.120  0.26264    \n",
       "age             0.046532   0.015339   3.033  0.00242 ** \n",
       "---\n",
       "Signif. codes:  0 '***' 0.001 '**' 0.01 '*' 0.05 '.' 0.1 ' ' 1\n",
       "\n",
       "(Dispersion parameter for binomial family taken to be 1)\n",
       "\n",
       "    Null deviance: 368.59  on 277  degrees of freedom\n",
       "Residual deviance: 280.94  on 268  degrees of freedom\n",
       "AIC: 300.94\n",
       "\n",
       "Number of Fisher Scoring iterations: 5\n"
      ]
     },
     "metadata": {},
     "output_type": "display_data"
    }
   ],
   "source": [
    "summary(SAheart.logit1)"
   ]
  },
  {
   "cell_type": "markdown",
   "metadata": {},
   "source": [
    "The summary of `glm()` is similar to that of `lm()`, including the $p$-values giving some indication about the coefficients significance.\n",
    "\n",
    "The (Residual) `Deviance` is a quantity equivalent to the Residual Sum of Squares in a `lm()`.\n",
    "\n",
    "Another consequence of the fact that `glm()` fits a statistical model is the possibility of predictor selection by means of a `step()` functions just as in `lm()`. For instance:"
   ]
  },
  {
   "cell_type": "code",
   "execution_count": 18,
   "metadata": {},
   "outputs": [
    {
     "name": "stdout",
     "output_type": "stream",
     "text": [
      "Start:  AIC=300.94\n",
      "chd ~ sbp + tobacco + ldl + adiposity + famhist + typea + obesity + \n",
      "    alcohol + age\n",
      "\n",
      "            Df Deviance    AIC\n",
      "- obesity    1   280.95 298.95\n",
      "- adiposity  1   281.10 299.10\n",
      "- sbp        1   282.12 300.12\n",
      "- alcohol    1   282.25 300.25\n",
      "<none>           280.94 300.94\n",
      "- typea      1   285.11 303.11\n",
      "- famhist    1   288.59 306.59\n",
      "- age        1   290.52 308.52\n",
      "- ldl        1   291.40 309.40\n",
      "- tobacco    1   291.92 309.92\n",
      "\n",
      "Step:  AIC=298.95\n",
      "chd ~ sbp + tobacco + ldl + adiposity + famhist + typea + alcohol + \n",
      "    age\n",
      "\n",
      "            Df Deviance    AIC\n",
      "- adiposity  1   281.22 297.22\n",
      "- sbp        1   282.13 298.13\n",
      "- alcohol    1   282.29 298.29\n",
      "<none>           280.95 298.95\n",
      "- typea      1   285.29 301.29\n",
      "- famhist    1   288.59 304.59\n",
      "- ldl        1   291.42 307.42\n",
      "- age        1   291.47 307.47\n",
      "- tobacco    1   291.92 307.92\n",
      "\n",
      "Step:  AIC=297.22\n",
      "chd ~ sbp + tobacco + ldl + famhist + typea + alcohol + age\n",
      "\n",
      "          Df Deviance    AIC\n",
      "- sbp      1   282.24 296.24\n",
      "- alcohol  1   282.67 296.67\n",
      "<none>         281.22 297.22\n",
      "- typea    1   285.57 299.57\n",
      "- famhist  1   288.87 302.87\n",
      "- ldl      1   291.82 305.82\n",
      "- age      1   292.09 306.09\n",
      "- tobacco  1   292.18 306.18\n",
      "\n",
      "Step:  AIC=296.24\n",
      "chd ~ tobacco + ldl + famhist + typea + alcohol + age\n",
      "\n",
      "          Df Deviance    AIC\n",
      "- alcohol  1   283.27 295.27\n",
      "<none>         282.24 296.24\n",
      "- typea    1   286.24 298.24\n",
      "- famhist  1   289.45 301.45\n",
      "- tobacco  1   292.67 304.67\n",
      "- ldl      1   293.25 305.25\n",
      "- age      1   296.00 308.00\n",
      "\n",
      "Step:  AIC=295.27\n",
      "chd ~ tobacco + ldl + famhist + typea + age\n",
      "\n",
      "          Df Deviance    AIC\n",
      "<none>         283.27 295.27\n",
      "- typea    1   287.39 297.39\n",
      "- famhist  1   290.63 300.63\n",
      "- tobacco  1   292.85 302.85\n",
      "- ldl      1   295.66 305.66\n",
      "- age      1   296.72 306.72\n"
     ]
    },
    {
     "data": {
      "text/plain": [
       "\n",
       "Call:  glm(formula = chd ~ tobacco + ldl + famhist + typea + age, family = binomial, \n",
       "    data = SAheart.train)\n",
       "\n",
       "Coefficients:\n",
       "   (Intercept)         tobacco             ldl  famhistPresent           typea  \n",
       "      -6.35777         0.10012         0.26250         0.80533         0.03191  \n",
       "           age  \n",
       "       0.04651  \n",
       "\n",
       "Degrees of Freedom: 277 Total (i.e. Null);  272 Residual\n",
       "Null Deviance:\t    368.6 \n",
       "Residual Deviance: 283.3 \tAIC: 295.3"
      ]
     },
     "metadata": {},
     "output_type": "display_data"
    }
   ],
   "source": [
    "step(SAheart.logit1)"
   ]
  },
  {
   "cell_type": "markdown",
   "metadata": {},
   "source": [
    "Selects a model:"
   ]
  },
  {
   "cell_type": "code",
   "execution_count": 19,
   "metadata": {},
   "outputs": [],
   "source": [
    "sel.model<-chd ~ tobacco + ldl + famhist + typea + age"
   ]
  },
  {
   "cell_type": "markdown",
   "metadata": {},
   "source": [
    "where `sbp`, `adiposity`, `obesity`, `alcohol` have been removed from the list of predictors. We can fit the selected model:"
   ]
  },
  {
   "cell_type": "code",
   "execution_count": 20,
   "metadata": {},
   "outputs": [
    {
     "data": {
      "text/plain": [
       "\n",
       "Call:\n",
       "glm(formula = sel.model, family = binomial, data = SAheart.train)\n",
       "\n",
       "Deviance Residuals: \n",
       "    Min       1Q   Median       3Q      Max  \n",
       "-2.0396  -0.7822  -0.4256   0.8711   2.2811  \n",
       "\n",
       "Coefficients:\n",
       "               Estimate Std. Error z value Pr(>|z|)    \n",
       "(Intercept)    -6.35777    1.18171  -5.380 7.44e-08 ***\n",
       "tobacco         0.10012    0.03415   2.932 0.003371 ** \n",
       "ldl             0.26250    0.07817   3.358 0.000786 ***\n",
       "famhistPresent  0.80533    0.29788   2.704 0.006860 ** \n",
       "typea           0.03191    0.01605   1.989 0.046731 *  \n",
       "age             0.04651    0.01315   3.537 0.000405 ***\n",
       "---\n",
       "Signif. codes:  0 '***' 0.001 '**' 0.01 '*' 0.05 '.' 0.1 ' ' 1\n",
       "\n",
       "(Dispersion parameter for binomial family taken to be 1)\n",
       "\n",
       "    Null deviance: 368.59  on 277  degrees of freedom\n",
       "Residual deviance: 283.27  on 272  degrees of freedom\n",
       "AIC: 295.27\n",
       "\n",
       "Number of Fisher Scoring iterations: 5\n"
      ]
     },
     "metadata": {},
     "output_type": "display_data"
    }
   ],
   "source": [
    "SAheart.logit2<-glm(sel.model,data=SAheart.train,family=binomial)\n",
    "summary(SAheart.logit2)"
   ]
  },
  {
   "cell_type": "markdown",
   "metadata": {},
   "source": [
    "Syntax of `predict.glm()` to compute probabilities of belonging to each class.\n",
    "\n",
    "Actually probabilities of the binary $0/1$  response taking the value $1$ (here `chd=1`)."
   ]
  },
  {
   "cell_type": "code",
   "execution_count": 21,
   "metadata": {},
   "outputs": [
    {
     "name": "stdout",
     "output_type": "stream",
     "text": [
      " Named num [1:184] 0.7154 0.1955 0.5264 0.0265 0.1821 ...\n",
      " - attr(*, \"names\")= chr [1:184] \"5\" \"7\" \"11\" \"14\" ...\n"
     ]
    }
   ],
   "source": [
    "SAheart.pred<-predict(SAheart.logit2,newdata=SAheart.test[,c(2,3,5,6,9)],type=\"response\")\n",
    "str(SAheart.pred)"
   ]
  },
  {
   "cell_type": "markdown",
   "metadata": {},
   "source": [
    "If a _crisp_ assignation to `0` or `1` is required, one has to decide a cut point, for instance $L=0.5$ (this value is not mandatory, it can depend on the model or on the _a priori_ probabilities) and classify as $0$ or $1$ depending on whether the probability is higher or lower than this threshold:"
   ]
  },
  {
   "cell_type": "markdown",
   "metadata": {},
   "source": [
    "Confusion matrix for this classification:"
   ]
  },
  {
   "cell_type": "code",
   "execution_count": 22,
   "metadata": {},
   "outputs": [
    {
     "data": {
      "text/plain": [
       "    Predicted\n",
       "True  0  1\n",
       "   0 99 30\n",
       "   1 28 27"
      ]
     },
     "metadata": {},
     "output_type": "display_data"
    }
   ],
   "source": [
    "SAheart.pred.crisp<-1*(SAheart.pred>=0.5)\n",
    "C<-table(\"True\"=SAheart.test$chd,\"Predicted\"=SAheart.pred.crisp)\n",
    "C"
   ]
  },
  {
   "cell_type": "markdown",
   "metadata": {},
   "source": [
    "#### Some internal details about computations in logistic regression\n",
    "\n",
    "In the slides `Detalles.Reg.Logistica.slides.esp.pdf` you can find an explanation of the logistic regression model and of the numerical procedure used to obtain the maximum likelihood estimates of the model coefficients. \n",
    "\n",
    "It is a variant of the Newton-Raphson optimization method, which results in an iterative computation by successive approximations,  where each step is equivalent to a Weighted Least Squares fit, with the weight for each sample is updated for each step. The procedure is called IWLS or IRLS, meaning Iteratively (Re)Weighted Least Squares. \n",
    "\n",
    "In the `IWLS.r` script you can see a simple implementation of this algorithm.\n",
    "\n",
    "The `separation.txt` data shows a case of non-existence of a Maximum Likelihood estimate for the logistic regression models. Try these data with the `IWLS()`  function in `IWLS.r` and with the `glm()` function."
   ]
  },
  {
   "cell_type": "code",
   "execution_count": 23,
   "metadata": {},
   "outputs": [],
   "source": [
    "#\n",
    "#\n",
    "#"
   ]
  },
  {
   "cell_type": "markdown",
   "metadata": {},
   "source": [
    "## B2. `Default` dataset"
   ]
  },
  {
   "cell_type": "markdown",
   "metadata": {},
   "source": [
    "From the `ISLR` package. A simulated data set containing information on ten thousand customers. The aim here is to predict which customers will default on their credit card debt.\n",
    "\n",
    "A data frame with 10000 observations on the following 4 variables.\n",
    "\n",
    "01. `default`: A factor with levels `No` and `Yes` indicating whether the customer defaulted on their debt\n",
    "\n",
    "02. `student`: A factor with levels `No` and `Yes` indicating whether the customer is a student\n",
    "\n",
    "03. `balance`: The average balance that the customer has remaining on their credit card after making their monthly payment\n",
    "\n",
    "04. `income`: Income of customer\n"
   ]
  },
  {
   "cell_type": "code",
   "execution_count": 24,
   "metadata": {},
   "outputs": [
    {
     "name": "stderr",
     "output_type": "stream",
     "text": [
      "Loading required package: ISLR\n"
     ]
    },
    {
     "name": "stdout",
     "output_type": "stream",
     "text": [
      "'data.frame':\t10000 obs. of  4 variables:\n",
      " $ default: Factor w/ 2 levels \"No\",\"Yes\": 1 1 1 1 1 1 1 1 1 1 ...\n",
      " $ student: Factor w/ 2 levels \"No\",\"Yes\": 1 2 1 1 1 2 1 2 1 1 ...\n",
      " $ balance: num  730 817 1074 529 786 ...\n",
      " $ income : num  44362 12106 31767 35704 38463 ...\n"
     ]
    }
   ],
   "source": [
    "#install.packages(\"ISLR\",dependencies=TRUE,repos=\"https://cloud.r-project.org\")\n",
    "require(ISLR)\n",
    "data(Default)\n",
    "str(Default)"
   ]
  },
  {
   "cell_type": "markdown",
   "metadata": {},
   "source": [
    "### Fitting the logistic regression model"
   ]
  },
  {
   "cell_type": "code",
   "execution_count": 25,
   "metadata": {},
   "outputs": [
    {
     "data": {
      "text/plain": [
       "\n",
       "Call:\n",
       "glm(formula = default ~ balance, family = binomial, data = Default)\n",
       "\n",
       "Deviance Residuals: \n",
       "    Min       1Q   Median       3Q      Max  \n",
       "-2.2697  -0.1465  -0.0589  -0.0221   3.7589  \n",
       "\n",
       "Coefficients:\n",
       "              Estimate Std. Error z value Pr(>|z|)    \n",
       "(Intercept) -1.065e+01  3.612e-01  -29.49   <2e-16 ***\n",
       "balance      5.499e-03  2.204e-04   24.95   <2e-16 ***\n",
       "---\n",
       "Signif. codes:  0 '***' 0.001 '**' 0.01 '*' 0.05 '.' 0.1 ' ' 1\n",
       "\n",
       "(Dispersion parameter for binomial family taken to be 1)\n",
       "\n",
       "    Null deviance: 2920.6  on 9999  degrees of freedom\n",
       "Residual deviance: 1596.5  on 9998  degrees of freedom\n",
       "AIC: 1600.5\n",
       "\n",
       "Number of Fisher Scoring iterations: 8\n"
      ]
     },
     "metadata": {},
     "output_type": "display_data"
    },
    {
     "data": {
      "text/html": [
       "<dl class=dl-horizontal>\n",
       "\t<dt>(Intercept)</dt>\n",
       "\t\t<dd>-10.6513</dd>\n",
       "\t<dt>balance</dt>\n",
       "\t\t<dd>0.0055</dd>\n",
       "</dl>\n"
      ],
      "text/latex": [
       "\\begin{description*}\n",
       "\\item[(Intercept)] -10.6513\n",
       "\\item[balance] 0.0055\n",
       "\\end{description*}\n"
      ],
      "text/markdown": [
       "(Intercept)\n",
       ":   -10.6513balance\n",
       ":   0.0055\n",
       "\n"
      ],
      "text/plain": [
       "(Intercept)     balance \n",
       "   -10.6513      0.0055 "
      ]
     },
     "metadata": {},
     "output_type": "display_data"
    }
   ],
   "source": [
    "Default.logit1<-glm(default~balance,family=binomial,data=Default)\n",
    "summary(Default.logit1)\n",
    "round(coefficients(Default.logit1),4)"
   ]
  },
  {
   "cell_type": "markdown",
   "metadata": {},
   "source": [
    "#### Making prediction for new cases\n",
    "\n",
    "The output of `predict()`is to be interpreted as a probability of `Default=Yes`"
   ]
  },
  {
   "cell_type": "code",
   "execution_count": 26,
   "metadata": {},
   "outputs": [
    {
     "data": {
      "text/html": [
       "<strong>1:</strong> 0.00575"
      ],
      "text/latex": [
       "\\textbf{1:} 0.00575"
      ],
      "text/markdown": [
       "**1:** 0.00575"
      ],
      "text/plain": [
       "      1 \n",
       "0.00575 "
      ]
     },
     "metadata": {},
     "output_type": "display_data"
    }
   ],
   "source": [
    "round(predict(Default.logit1,newdata=data.frame(balance=1000),type=\"response\"),5)"
   ]
  },
  {
   "cell_type": "markdown",
   "metadata": {},
   "source": [
    "A larger balance makes default more likely."
   ]
  },
  {
   "cell_type": "code",
   "execution_count": 27,
   "metadata": {},
   "outputs": [
    {
     "data": {
      "text/html": [
       "<strong>1:</strong> 0.58577"
      ],
      "text/latex": [
       "\\textbf{1:} 0.58577"
      ],
      "text/markdown": [
       "**1:** 0.58577"
      ],
      "text/plain": [
       "      1 \n",
       "0.58577 "
      ]
     },
     "metadata": {},
     "output_type": "display_data"
    }
   ],
   "source": [
    "round(predict(Default.logit1,newdata=data.frame(balance=2000),type=\"response\"),5)"
   ]
  },
  {
   "cell_type": "markdown",
   "metadata": {},
   "source": [
    "#### Logistic regression with a categorical predictor:  `student`"
   ]
  },
  {
   "cell_type": "code",
   "execution_count": 28,
   "metadata": {},
   "outputs": [
    {
     "data": {
      "text/plain": [
       "\n",
       "Call:\n",
       "glm(formula = default ~ student, family = binomial, data = Default)\n",
       "\n",
       "Deviance Residuals: \n",
       "    Min       1Q   Median       3Q      Max  \n",
       "-0.2970  -0.2970  -0.2434  -0.2434   2.6585  \n",
       "\n",
       "Coefficients:\n",
       "            Estimate Std. Error z value Pr(>|z|)    \n",
       "(Intercept) -3.50413    0.07071  -49.55  < 2e-16 ***\n",
       "studentYes   0.40489    0.11502    3.52 0.000431 ***\n",
       "---\n",
       "Signif. codes:  0 '***' 0.001 '**' 0.01 '*' 0.05 '.' 0.1 ' ' 1\n",
       "\n",
       "(Dispersion parameter for binomial family taken to be 1)\n",
       "\n",
       "    Null deviance: 2920.6  on 9999  degrees of freedom\n",
       "Residual deviance: 2908.7  on 9998  degrees of freedom\n",
       "AIC: 2912.7\n",
       "\n",
       "Number of Fisher Scoring iterations: 6\n"
      ]
     },
     "metadata": {},
     "output_type": "display_data"
    },
    {
     "data": {
      "text/html": [
       "<dl class=dl-horizontal>\n",
       "\t<dt>(Intercept)</dt>\n",
       "\t\t<dd>-3.5041</dd>\n",
       "\t<dt>studentYes</dt>\n",
       "\t\t<dd>0.4049</dd>\n",
       "</dl>\n"
      ],
      "text/latex": [
       "\\begin{description*}\n",
       "\\item[(Intercept)] -3.5041\n",
       "\\item[studentYes] 0.4049\n",
       "\\end{description*}\n"
      ],
      "text/markdown": [
       "(Intercept)\n",
       ":   -3.5041studentYes\n",
       ":   0.4049\n",
       "\n"
      ],
      "text/plain": [
       "(Intercept)  studentYes \n",
       "    -3.5041      0.4049 "
      ]
     },
     "metadata": {},
     "output_type": "display_data"
    }
   ],
   "source": [
    "Default.logit2<-glm(default~student,family=binomial,data=Default)\n",
    "summary(Default.logit2)\n",
    "round(coefficients(Default.logit2),4)"
   ]
  },
  {
   "cell_type": "code",
   "execution_count": 29,
   "metadata": {},
   "outputs": [
    {
     "data": {
      "text/html": [
       "<table>\n",
       "<caption>A matrix: 6 × 2 of type dbl</caption>\n",
       "<thead>\n",
       "\t<tr><th scope=col>(Intercept)</th><th scope=col>studentYes</th></tr>\n",
       "</thead>\n",
       "<tbody>\n",
       "\t<tr><td>1</td><td>0</td></tr>\n",
       "\t<tr><td>1</td><td>1</td></tr>\n",
       "\t<tr><td>1</td><td>0</td></tr>\n",
       "\t<tr><td>1</td><td>0</td></tr>\n",
       "\t<tr><td>1</td><td>0</td></tr>\n",
       "\t<tr><td>1</td><td>1</td></tr>\n",
       "</tbody>\n",
       "</table>\n"
      ],
      "text/latex": [
       "A matrix: 6 × 2 of type dbl\n",
       "\\begin{tabular}{r|ll}\n",
       " (Intercept) & studentYes\\\\\n",
       "\\hline\n",
       "\t 1 & 0\\\\\n",
       "\t 1 & 1\\\\\n",
       "\t 1 & 0\\\\\n",
       "\t 1 & 0\\\\\n",
       "\t 1 & 0\\\\\n",
       "\t 1 & 1\\\\\n",
       "\\end{tabular}\n"
      ],
      "text/markdown": [
       "\n",
       "A matrix: 6 × 2 of type dbl\n",
       "\n",
       "| (Intercept) | studentYes |\n",
       "|---|---|\n",
       "| 1 | 0 |\n",
       "| 1 | 1 |\n",
       "| 1 | 0 |\n",
       "| 1 | 0 |\n",
       "| 1 | 0 |\n",
       "| 1 | 1 |\n",
       "\n"
      ],
      "text/plain": [
       "  (Intercept) studentYes\n",
       "1 1           0         \n",
       "2 1           1         \n",
       "3 1           0         \n",
       "4 1           0         \n",
       "5 1           0         \n",
       "6 1           1         "
      ]
     },
     "metadata": {},
     "output_type": "display_data"
    }
   ],
   "source": [
    "head(model.matrix(Default.logit2))"
   ]
  },
  {
   "cell_type": "markdown",
   "metadata": {},
   "source": [
    "#### Logistic regression with several predictors"
   ]
  },
  {
   "cell_type": "code",
   "execution_count": 30,
   "metadata": {},
   "outputs": [
    {
     "data": {
      "text/plain": [
       "\n",
       "Call:\n",
       "glm(formula = default ~ ., family = binomial, data = Default)\n",
       "\n",
       "Deviance Residuals: \n",
       "    Min       1Q   Median       3Q      Max  \n",
       "-2.4691  -0.1418  -0.0557  -0.0203   3.7383  \n",
       "\n",
       "Coefficients:\n",
       "              Estimate Std. Error z value Pr(>|z|)    \n",
       "(Intercept) -1.087e+01  4.923e-01 -22.080  < 2e-16 ***\n",
       "studentYes  -6.468e-01  2.363e-01  -2.738  0.00619 ** \n",
       "balance      5.737e-03  2.319e-04  24.738  < 2e-16 ***\n",
       "income       3.033e-06  8.203e-06   0.370  0.71152    \n",
       "---\n",
       "Signif. codes:  0 '***' 0.001 '**' 0.01 '*' 0.05 '.' 0.1 ' ' 1\n",
       "\n",
       "(Dispersion parameter for binomial family taken to be 1)\n",
       "\n",
       "    Null deviance: 2920.6  on 9999  degrees of freedom\n",
       "Residual deviance: 1571.5  on 9996  degrees of freedom\n",
       "AIC: 1579.5\n",
       "\n",
       "Number of Fisher Scoring iterations: 8\n"
      ]
     },
     "metadata": {},
     "output_type": "display_data"
    }
   ],
   "source": [
    "Default.logit3<-glm(default~.,family=binomial,data=Default)\n",
    "summary(Default.logit3)"
   ]
  },
  {
   "cell_type": "markdown",
   "metadata": {},
   "source": [
    "#### Using `step()` to select an optimal predictor subset"
   ]
  },
  {
   "cell_type": "code",
   "execution_count": 31,
   "metadata": {},
   "outputs": [
    {
     "name": "stdout",
     "output_type": "stream",
     "text": [
      "Start:  AIC=1579.54\n",
      "default ~ student + balance + income\n",
      "\n",
      "          Df Deviance    AIC\n",
      "- income   1   1571.7 1577.7\n",
      "<none>         1571.5 1579.5\n",
      "- student  1   1579.0 1585.0\n",
      "- balance  1   2907.5 2913.5\n",
      "\n",
      "Step:  AIC=1577.68\n",
      "default ~ student + balance\n",
      "\n",
      "          Df Deviance    AIC\n",
      "<none>         1571.7 1577.7\n",
      "- student  1   1596.5 1600.5\n",
      "- balance  1   2908.7 2912.7\n"
     ]
    },
    {
     "data": {
      "text/plain": [
       "\n",
       "Call:  glm(formula = default ~ student + balance, family = binomial, \n",
       "    data = Default)\n",
       "\n",
       "Coefficients:\n",
       "(Intercept)   studentYes      balance  \n",
       " -10.749496    -0.714878     0.005738  \n",
       "\n",
       "Degrees of Freedom: 9999 Total (i.e. Null);  9997 Residual\n",
       "Null Deviance:\t    2921 \n",
       "Residual Deviance: 1572 \tAIC: 1578"
      ]
     },
     "metadata": {},
     "output_type": "display_data"
    }
   ],
   "source": [
    "step(Default.logit3)"
   ]
  },
  {
   "cell_type": "markdown",
   "metadata": {},
   "source": [
    "# C. Fisher linear discriminant"
   ]
  },
  {
   "cell_type": "markdown",
   "metadata": {},
   "source": [
    "Fisher's discriminant is the oldest method of classification from several predictor variables. It was introduced by Ronald A. Fisher (1936) _\"The Use of Multiple Measurements in Taxonomic Problems\"._ Also this article features, as an illustration, the famous _Iris flowers_ dataset for a problem of classification into three classes, _\"Iris setosa\",_ _\"Iris virginica\",_ and _\"Iris versicolor\",_ from four numerical variables, _\"Sepal width\",_ _\"Sepal length\",_ _\"Petal width\",_ _\"Petal length\"._\n",
    "\n",
    "As with all linear discriminant methods, it is more successful when the distribution of data in the predictor space is given by a mixture of Gaussian (multivariate normal) distributions. Geometrically when the set of individuals-points in each class  has an ellipsoidal shape around its centroid, its mean. Actually a probabilistic derivation of Fisher discriminant functions\n",
    "assumes classes modelled by Gaussian distributions with a common matrix of variances and covariances (shortly covariances matrix). There is a purely geometrical derivation in terms of distances between individuals. A nice visual explanation can be found in the blog entry [An illustrative introduction to Fisher's Linear Discriminant](https://sthalles.github.io/fisher-linear-discriminant/).\n",
    "\n",
    "Among the many implementations of Fisher's linear discriminant we can use the `lda` function is the `MASS` package."
   ]
  },
  {
   "cell_type": "markdown",
   "metadata": {},
   "source": [
    "## C1. `Iris` dataset"
   ]
  },
  {
   "cell_type": "markdown",
   "metadata": {},
   "source": [
    "The default `datasets` package in the standard R distribution contains this dataset in two formats: `iris` and `iris3`. We use here the first version, a `data.frame` with the five variables:\n",
    "\n",
    " 01. `Sepal.Length`: Continuous numerical. \n",
    " 02. `Sepal.Width`: Continuous numerical. \n",
    " 03. `Petal.Length`: Continuous numerical. \n",
    " 04. `Petal.Width`: Continuous numerical. \n",
    " 05. `Species`: Factor with three levels: `'setosa'` `'versicolor'` `'virginica'`."
   ]
  },
  {
   "cell_type": "code",
   "execution_count": 32,
   "metadata": {},
   "outputs": [
    {
     "name": "stdout",
     "output_type": "stream",
     "text": [
      "'data.frame':\t150 obs. of  5 variables:\n",
      " $ Sepal.Length: num  5.1 4.9 4.7 4.6 5 5.4 4.6 5 4.4 4.9 ...\n",
      " $ Sepal.Width : num  3.5 3 3.2 3.1 3.6 3.9 3.4 3.4 2.9 3.1 ...\n",
      " $ Petal.Length: num  1.4 1.4 1.3 1.5 1.4 1.7 1.4 1.5 1.4 1.5 ...\n",
      " $ Petal.Width : num  0.2 0.2 0.2 0.2 0.2 0.4 0.3 0.2 0.2 0.1 ...\n",
      " $ Species     : Factor w/ 3 levels \"setosa\",\"versicolor\",..: 1 1 1 1 1 1 1 1 1 1 ...\n"
     ]
    },
    {
     "data": {
      "text/html": [
       "<ol class=list-inline>\n",
       "\t<li>'setosa'</li>\n",
       "\t<li>'versicolor'</li>\n",
       "\t<li>'virginica'</li>\n",
       "</ol>\n"
      ],
      "text/latex": [
       "\\begin{enumerate*}\n",
       "\\item 'setosa'\n",
       "\\item 'versicolor'\n",
       "\\item 'virginica'\n",
       "\\end{enumerate*}\n"
      ],
      "text/markdown": [
       "1. 'setosa'\n",
       "2. 'versicolor'\n",
       "3. 'virginica'\n",
       "\n",
       "\n"
      ],
      "text/plain": [
       "[1] \"setosa\"     \"versicolor\" \"virginica\" "
      ]
     },
     "metadata": {},
     "output_type": "display_data"
    },
    {
     "data": {
      "text/plain": [
       "\n",
       "    setosa versicolor  virginica \n",
       "        50         50         50 "
      ]
     },
     "metadata": {},
     "output_type": "display_data"
    }
   ],
   "source": [
    "data(iris)\n",
    "str(iris)\n",
    "levels(iris$Species)\n",
    "table(iris$Species)"
   ]
  },
  {
   "cell_type": "markdown",
   "metadata": {},
   "source": [
    "#### Prepare two subsets for training and testing"
   ]
  },
  {
   "cell_type": "code",
   "execution_count": 33,
   "metadata": {},
   "outputs": [],
   "source": [
    "n<-nrow(iris)\n",
    "ntrain<-ceiling(0.6*n)\n",
    "set.seed(24025)         # An arbitrary value, fixed for the sake of reproducibility of results\n",
    "Itrain<-sample(1:n,ntrain,replace=FALSE)\n",
    "iris.train<-iris[Itrain,]\n",
    "iris.test<-iris[-Itrain,]"
   ]
  },
  {
   "cell_type": "markdown",
   "metadata": {},
   "source": [
    "#### Evaluate the linear discriminant"
   ]
  },
  {
   "cell_type": "code",
   "execution_count": 34,
   "metadata": {},
   "outputs": [
    {
     "name": "stderr",
     "output_type": "stream",
     "text": [
      "Loading required package: MASS\n"
     ]
    },
    {
     "data": {
      "text/plain": [
       "            Predicted\n",
       "True         setosa versicolor virginica\n",
       "  setosa         19          0         0\n",
       "  versicolor      0         18         1\n",
       "  virginica       0          0        22"
      ]
     },
     "metadata": {},
     "output_type": "display_data"
    }
   ],
   "source": [
    "require(MASS)\n",
    "iris.lda<-lda(Species~.,data=iris.train)\n",
    "iris.pred<-predict(iris.lda,newdata=iris.test)\n",
    "C<-table(\"True\"=iris.test$Species,\"Predicted\"=iris.pred$class)\n",
    "C"
   ]
  },
  {
   "cell_type": "markdown",
   "metadata": {},
   "source": [
    "There is a `plot.lda` method for objects of class `lda` (the output of the `lda()` function). See the help file."
   ]
  },
  {
   "cell_type": "code",
   "execution_count": 35,
   "metadata": {},
   "outputs": [
    {
     "data": {
      "image/png": "[encoded data removed]",
      "text/plain": [
       "plot without title"
      ]
     },
     "metadata": {},
     "output_type": "display_data"
    }
   ],
   "source": [
    "options(repr.plot.width=5, repr.plot.height=5)\n",
    "plot(iris.lda,cex=0.6,col=c(\"red\",\"blue\",\"black\"),abbrev=2)"
   ]
  },
  {
   "cell_type": "markdown",
   "metadata": {},
   "source": [
    "There is an `ldahist` function, to visualize distributions of individual predictor variables across groups. It can plot either histograms, or density estimates (kernel smoothing, see the help of the R `density` function), or both. Some trial and error fine tuning of optional parameters is advisable. For instance when plotting density estimates, it may happen that the bandwidth smoothing parameter `width` default value computation crashes and it must be set by hand. Other graphical parameters are difficult (or impossible, I don't know which) to set, hence this function has a limited usefulness."
   ]
  },
  {
   "cell_type": "code",
   "execution_count": 36,
   "metadata": {},
   "outputs": [
    {
     "data": {
      "image/png": "[encoded data removed]",
      "text/plain": [
       "plot without title"
      ]
     },
     "metadata": {},
     "output_type": "display_data"
    }
   ],
   "source": [
    "options(repr.plot.width=4, repr.plot.height=5)\n",
    "ldahist(iris$Sepal.Length,iris$Species,type=\"histogram\")  # this is the default"
   ]
  },
  {
   "cell_type": "code",
   "execution_count": 37,
   "metadata": {},
   "outputs": [
    {
     "data": {
      "image/png": "[encoded data removed]",
      "text/plain": [
       "plot without title"
      ]
     },
     "metadata": {},
     "output_type": "display_data"
    }
   ],
   "source": [
    "ldahist(iris$Sepal.Length,iris$Species,type=\"density\",lwd=3)"
   ]
  },
  {
   "cell_type": "code",
   "execution_count": 38,
   "metadata": {},
   "outputs": [
    {
     "data": {
      "image/png": "[encoded data removed]",
      "text/plain": [
       "plot without title"
      ]
     },
     "metadata": {},
     "output_type": "display_data"
    }
   ],
   "source": [
    "ldahist(iris$Sepal.Length,iris$Species,type=\"both\",lwd=2,col=\"blue\")"
   ]
  },
  {
   "cell_type": "code",
   "execution_count": 39,
   "metadata": {},
   "outputs": [
    {
     "data": {
      "image/png": "[encoded data removed]",
      "text/plain": [
       "plot without title"
      ]
     },
     "metadata": {},
     "output_type": "display_data"
    }
   ],
   "source": [
    "ldahist(iris$Sepal.Width,iris$Species)"
   ]
  },
  {
   "cell_type": "code",
   "execution_count": 40,
   "metadata": {},
   "outputs": [
    {
     "data": {
      "image/png": "[encoded data removed]",
      "text/plain": [
       "plot without title"
      ]
     },
     "metadata": {},
     "output_type": "display_data"
    }
   ],
   "source": [
    "ldahist(iris$Petal.Length,iris$Species)"
   ]
  },
  {
   "cell_type": "code",
   "execution_count": 41,
   "metadata": {},
   "outputs": [
    {
     "data": {
      "image/png": "[encoded data removed]",
      "text/plain": [
       "plot without title"
      ]
     },
     "metadata": {},
     "output_type": "display_data"
    }
   ],
   "source": [
    "ldahist(iris$Petal.Width,iris$Species)"
   ]
  },
  {
   "cell_type": "markdown",
   "metadata": {},
   "source": [
    "#### Built-in _leave-one-out_ cross-validation"
   ]
  },
  {
   "cell_type": "code",
   "execution_count": 42,
   "metadata": {},
   "outputs": [
    {
     "data": {
      "text/plain": [
       "            LOO Predicted\n",
       "True         setosa versicolor virginica\n",
       "  setosa         50          0         0\n",
       "  versicolor      0         48         2\n",
       "  virginica       0          1        49"
      ]
     },
     "metadata": {},
     "output_type": "display_data"
    }
   ],
   "source": [
    "iris.lda.CV<-lda(Species~.,data=iris, CV=TRUE)\n",
    "#str(iris.lda.CV)\n",
    "C<-table(\"True\"=iris$Species,\"LOO Predicted\"=iris.lda.CV$class)\n",
    "C"
   ]
  },
  {
   "cell_type": "markdown",
   "metadata": {},
   "source": [
    "## C2. `SAheart` dataset"
   ]
  },
  {
   "cell_type": "markdown",
   "metadata": {},
   "source": [
    "As we saw above, originally the response variable `chd` is numerically coded with $0/1$ values. This is not an obstacle for logistic regression or with `lda`. For some other methods, it will be an issue. For instance the Clasification and Regression Trees function `rpart()` requires the response variable in a classification to be a factor, otherwise it will perform a regression.\n",
    "\n",
    "Similarly,  the `glm()` function we use to fit logistic regression, is capable of dealing with qualitative predictor variables, by constructing a design matrix with the appropriate indicator variables. In this dataset, one of the risk factors, `famhist`, appears as a factor with two levels. It might be necessary to recode it either as a numeric variable or to obtain the `model.matrix` by a dummy call to `lm()`or `glm()`.\n",
    "\n",
    "In any case to be on the safe side, better check capabilities of any given function before blindly using it."
   ]
  },
  {
   "cell_type": "code",
   "execution_count": 43,
   "metadata": {},
   "outputs": [],
   "source": [
    "SAheart.lda1<-lda(chd~.,data=SAheart.train)"
   ]
  },
  {
   "cell_type": "code",
   "execution_count": 44,
   "metadata": {},
   "outputs": [
    {
     "data": {
      "text/plain": [
       "    Predicted\n",
       "True  0  1\n",
       "   0 97 32\n",
       "   1 27 28"
      ]
     },
     "metadata": {},
     "output_type": "display_data"
    }
   ],
   "source": [
    "SAheart.pred<-predict(SAheart.lda1,newdata=SAheart.test)\n",
    "C<-table(\"True\"=SAheart.test$chd,\"Predicted\"=SAheart.pred$class)\n",
    "C"
   ]
  },
  {
   "cell_type": "markdown",
   "metadata": {},
   "source": [
    "# D. Quadratic discriminant"
   ]
  },
  {
   "cell_type": "markdown",
   "metadata": {},
   "source": [
    "Quadratic discriminant can be considered as an slight extension of Fisher's linear discriminant. Thus it is reasonable to study it here even though it is not linear. It has a probabilistic derivation like that of Fisher's LD, relaxing the assumption that groups are modelled as Gaussians with a common covariances matrix to Gaussians, each with its own covariances matrix.\n",
    "\n",
    "Implemented in the `qda()` function, `MASS` package."
   ]
  },
  {
   "cell_type": "markdown",
   "metadata": {},
   "source": [
    "## D1. `SAheart` dataset"
   ]
  },
  {
   "cell_type": "code",
   "execution_count": 45,
   "metadata": {},
   "outputs": [
    {
     "data": {
      "text/plain": [
       "    Predicted\n",
       "True   0   1\n",
       "   0 102  27\n",
       "   1  28  27"
      ]
     },
     "metadata": {},
     "output_type": "display_data"
    }
   ],
   "source": [
    "SAheart.qda1<-qda(chd~.,data=SAheart.train)\n",
    "SAheart.pred<-predict(SAheart.qda1,newdata=SAheart.test)\n",
    "C<-table(\"True\"=SAheart.test$chd,\"Predicted\"=SAheart.pred$class)\n",
    "C"
   ]
  },
  {
   "cell_type": "markdown",
   "metadata": {},
   "source": [
    "## D2. `Smarket` dataset"
   ]
  },
  {
   "cell_type": "markdown",
   "metadata": {},
   "source": [
    "This is an S&P Stock Market Data set. Daily percentage returns for the S&P 500 stock index between 2001 and 2005.\n",
    "Contained in the `ISLR` package as a `data.frame` with 1250 observations on the following 9 variables.\n",
    "\n",
    "01. `Year`: The year that the observation was recorded\n",
    "\n",
    "02. `Lag1`: Percentage return for previous day\n",
    "\n",
    "03. `Lag2`: Percentage return for 2 days previous\n",
    "\n",
    "04. `Lag3`: Percentage return for 3 days previous\n",
    "\n",
    "05. `Lag4`: Percentage return for 4 days previous\n",
    "\n",
    "06. `Lag5`: Percentage return for 5 days previous\n",
    "\n",
    "07. `Volume`: Volume of shares traded (number of daily shares traded in billions)\n",
    "\n",
    "08. `Today`: Percentage return for today\n",
    "\n",
    "09. `Direction`: A factor with levels `Down` and `Up` indicating whether the market had a positive or negative return on a given day"
   ]
  },
  {
   "cell_type": "code",
   "execution_count": 46,
   "metadata": {},
   "outputs": [
    {
     "name": "stdout",
     "output_type": "stream",
     "text": [
      "'data.frame':\t1250 obs. of  9 variables:\n",
      " $ Year     : num  2001 2001 2001 2001 2001 ...\n",
      " $ Lag1     : num  0.381 0.959 1.032 -0.623 0.614 ...\n",
      " $ Lag2     : num  -0.192 0.381 0.959 1.032 -0.623 ...\n",
      " $ Lag3     : num  -2.624 -0.192 0.381 0.959 1.032 ...\n",
      " $ Lag4     : num  -1.055 -2.624 -0.192 0.381 0.959 ...\n",
      " $ Lag5     : num  5.01 -1.055 -2.624 -0.192 0.381 ...\n",
      " $ Volume   : num  1.19 1.3 1.41 1.28 1.21 ...\n",
      " $ Today    : num  0.959 1.032 -0.623 0.614 0.213 ...\n",
      " $ Direction: Factor w/ 2 levels \"Down\",\"Up\": 2 2 1 2 2 2 1 2 2 2 ...\n"
     ]
    }
   ],
   "source": [
    "require(ISLR)\n",
    "data(Smarket)\n",
    "str(Smarket)"
   ]
  },
  {
   "cell_type": "code",
   "execution_count": 47,
   "metadata": {},
   "outputs": [
    {
     "data": {
      "text/plain": [
       "      Year           Lag1                Lag2                Lag3          \n",
       " Min.   :2001   Min.   :-4.922000   Min.   :-4.922000   Min.   :-4.922000  \n",
       " 1st Qu.:2002   1st Qu.:-0.639500   1st Qu.:-0.639500   1st Qu.:-0.640000  \n",
       " Median :2003   Median : 0.039000   Median : 0.039000   Median : 0.038500  \n",
       " Mean   :2003   Mean   : 0.003834   Mean   : 0.003919   Mean   : 0.001716  \n",
       " 3rd Qu.:2004   3rd Qu.: 0.596750   3rd Qu.: 0.596750   3rd Qu.: 0.596750  \n",
       " Max.   :2005   Max.   : 5.733000   Max.   : 5.733000   Max.   : 5.733000  \n",
       "      Lag4                Lag5              Volume           Today          \n",
       " Min.   :-4.922000   Min.   :-4.92200   Min.   :0.3561   Min.   :-4.922000  \n",
       " 1st Qu.:-0.640000   1st Qu.:-0.64000   1st Qu.:1.2574   1st Qu.:-0.639500  \n",
       " Median : 0.038500   Median : 0.03850   Median :1.4229   Median : 0.038500  \n",
       " Mean   : 0.001636   Mean   : 0.00561   Mean   :1.4783   Mean   : 0.003138  \n",
       " 3rd Qu.: 0.596750   3rd Qu.: 0.59700   3rd Qu.:1.6417   3rd Qu.: 0.596750  \n",
       " Max.   : 5.733000   Max.   : 5.73300   Max.   :3.1525   Max.   : 5.733000  \n",
       " Direction \n",
       " Down:602  \n",
       " Up  :648  \n",
       "           \n",
       "           \n",
       "           \n",
       "           "
      ]
     },
     "metadata": {},
     "output_type": "display_data"
    }
   ],
   "source": [
    "summary(Smarket)"
   ]
  },
  {
   "cell_type": "code",
   "execution_count": 48,
   "metadata": {},
   "outputs": [
    {
     "data": {
      "text/html": [
       "<table>\n",
       "<caption>A matrix: 8 × 8 of type dbl</caption>\n",
       "<thead>\n",
       "\t<tr><th></th><th scope=col>Year</th><th scope=col>Lag1</th><th scope=col>Lag2</th><th scope=col>Lag3</th><th scope=col>Lag4</th><th scope=col>Lag5</th><th scope=col>Volume</th><th scope=col>Today</th></tr>\n",
       "</thead>\n",
       "<tbody>\n",
       "\t<tr><th scope=row>Year</th><td>1.00</td><td> 0.03</td><td> 0.03</td><td> 0.03</td><td> 0.04</td><td> 0.03</td><td> 0.54</td><td> 0.03</td></tr>\n",
       "\t<tr><th scope=row>Lag1</th><td>0.03</td><td> 1.00</td><td>-0.03</td><td>-0.01</td><td> 0.00</td><td>-0.01</td><td> 0.04</td><td>-0.03</td></tr>\n",
       "\t<tr><th scope=row>Lag2</th><td>0.03</td><td>-0.03</td><td> 1.00</td><td>-0.03</td><td>-0.01</td><td> 0.00</td><td>-0.04</td><td>-0.01</td></tr>\n",
       "\t<tr><th scope=row>Lag3</th><td>0.03</td><td>-0.01</td><td>-0.03</td><td> 1.00</td><td>-0.02</td><td>-0.02</td><td>-0.04</td><td> 0.00</td></tr>\n",
       "\t<tr><th scope=row>Lag4</th><td>0.04</td><td> 0.00</td><td>-0.01</td><td>-0.02</td><td> 1.00</td><td>-0.03</td><td>-0.05</td><td>-0.01</td></tr>\n",
       "\t<tr><th scope=row>Lag5</th><td>0.03</td><td>-0.01</td><td> 0.00</td><td>-0.02</td><td>-0.03</td><td> 1.00</td><td>-0.02</td><td>-0.03</td></tr>\n",
       "\t<tr><th scope=row>Volume</th><td>0.54</td><td> 0.04</td><td>-0.04</td><td>-0.04</td><td>-0.05</td><td>-0.02</td><td> 1.00</td><td> 0.01</td></tr>\n",
       "\t<tr><th scope=row>Today</th><td>0.03</td><td>-0.03</td><td>-0.01</td><td> 0.00</td><td>-0.01</td><td>-0.03</td><td> 0.01</td><td> 1.00</td></tr>\n",
       "</tbody>\n",
       "</table>\n"
      ],
      "text/latex": [
       "A matrix: 8 × 8 of type dbl\n",
       "\\begin{tabular}{r|llllllll}\n",
       "  & Year & Lag1 & Lag2 & Lag3 & Lag4 & Lag5 & Volume & Today\\\\\n",
       "\\hline\n",
       "\tYear & 1.00 &  0.03 &  0.03 &  0.03 &  0.04 &  0.03 &  0.54 &  0.03\\\\\n",
       "\tLag1 & 0.03 &  1.00 & -0.03 & -0.01 &  0.00 & -0.01 &  0.04 & -0.03\\\\\n",
       "\tLag2 & 0.03 & -0.03 &  1.00 & -0.03 & -0.01 &  0.00 & -0.04 & -0.01\\\\\n",
       "\tLag3 & 0.03 & -0.01 & -0.03 &  1.00 & -0.02 & -0.02 & -0.04 &  0.00\\\\\n",
       "\tLag4 & 0.04 &  0.00 & -0.01 & -0.02 &  1.00 & -0.03 & -0.05 & -0.01\\\\\n",
       "\tLag5 & 0.03 & -0.01 &  0.00 & -0.02 & -0.03 &  1.00 & -0.02 & -0.03\\\\\n",
       "\tVolume & 0.54 &  0.04 & -0.04 & -0.04 & -0.05 & -0.02 &  1.00 &  0.01\\\\\n",
       "\tToday & 0.03 & -0.03 & -0.01 &  0.00 & -0.01 & -0.03 &  0.01 &  1.00\\\\\n",
       "\\end{tabular}\n"
      ],
      "text/markdown": [
       "\n",
       "A matrix: 8 × 8 of type dbl\n",
       "\n",
       "| <!--/--> | Year | Lag1 | Lag2 | Lag3 | Lag4 | Lag5 | Volume | Today |\n",
       "|---|---|---|---|---|---|---|---|---|\n",
       "| Year | 1.00 |  0.03 |  0.03 |  0.03 |  0.04 |  0.03 |  0.54 |  0.03 |\n",
       "| Lag1 | 0.03 |  1.00 | -0.03 | -0.01 |  0.00 | -0.01 |  0.04 | -0.03 |\n",
       "| Lag2 | 0.03 | -0.03 |  1.00 | -0.03 | -0.01 |  0.00 | -0.04 | -0.01 |\n",
       "| Lag3 | 0.03 | -0.01 | -0.03 |  1.00 | -0.02 | -0.02 | -0.04 |  0.00 |\n",
       "| Lag4 | 0.04 |  0.00 | -0.01 | -0.02 |  1.00 | -0.03 | -0.05 | -0.01 |\n",
       "| Lag5 | 0.03 | -0.01 |  0.00 | -0.02 | -0.03 |  1.00 | -0.02 | -0.03 |\n",
       "| Volume | 0.54 |  0.04 | -0.04 | -0.04 | -0.05 | -0.02 |  1.00 |  0.01 |\n",
       "| Today | 0.03 | -0.03 | -0.01 |  0.00 | -0.01 | -0.03 |  0.01 |  1.00 |\n",
       "\n"
      ],
      "text/plain": [
       "       Year Lag1  Lag2  Lag3  Lag4  Lag5  Volume Today\n",
       "Year   1.00  0.03  0.03  0.03  0.04  0.03  0.54   0.03\n",
       "Lag1   0.03  1.00 -0.03 -0.01  0.00 -0.01  0.04  -0.03\n",
       "Lag2   0.03 -0.03  1.00 -0.03 -0.01  0.00 -0.04  -0.01\n",
       "Lag3   0.03 -0.01 -0.03  1.00 -0.02 -0.02 -0.04   0.00\n",
       "Lag4   0.04  0.00 -0.01 -0.02  1.00 -0.03 -0.05  -0.01\n",
       "Lag5   0.03 -0.01  0.00 -0.02 -0.03  1.00 -0.02  -0.03\n",
       "Volume 0.54  0.04 -0.04 -0.04 -0.05 -0.02  1.00   0.01\n",
       "Today  0.03 -0.03 -0.01  0.00 -0.01 -0.03  0.01   1.00"
      ]
     },
     "metadata": {},
     "output_type": "display_data"
    }
   ],
   "source": [
    "round(cor(as.matrix(Smarket[,-9])),2)"
   ]
  },
  {
   "cell_type": "markdown",
   "metadata": {},
   "source": [
    "## The `corrplot` package"
   ]
  },
  {
   "cell_type": "markdown",
   "metadata": {},
   "source": [
    "Useful visualization of correlation matrices, especially with a large number of variables. \n",
    "\n",
    "See this [Vignette](https://cran.r-project.org/web/packages/corrplot/vignettes/corrplot-intro.html) and examples in the package help."
   ]
  },
  {
   "cell_type": "code",
   "execution_count": 49,
   "metadata": {},
   "outputs": [
    {
     "name": "stderr",
     "output_type": "stream",
     "text": [
      "Loading required package: corrplot\n",
      "corrplot 0.84 loaded\n"
     ]
    }
   ],
   "source": [
    "#install.packages(\"corrplot\",dependencies=TRUE,repos=\"https://cloud.r-project.org\")\n",
    "require(corrplot)"
   ]
  },
  {
   "cell_type": "code",
   "execution_count": 50,
   "metadata": {},
   "outputs": [],
   "source": [
    "R<-cor(Smarket[,-9])"
   ]
  },
  {
   "cell_type": "code",
   "execution_count": 51,
   "metadata": {
    "scrolled": true
   },
   "outputs": [
    {
     "data": {
      "image/png": "[encoded data removed]",
      "text/plain": [
       "Plot with title \"\""
      ]
     },
     "metadata": {},
     "output_type": "display_data"
    }
   ],
   "source": [
    "options(repr.plot.width=3.0, repr.plot.height=2.8)\n",
    "corrplot(R, method = \"ellipse\",type=\"upper\",tl.cex=0.6,cl.cex=0.6)"
   ]
  },
  {
   "cell_type": "markdown",
   "metadata": {},
   "source": [
    "## Classification with `Smarket`, following Section 4.6 - Lab in the ISLR book"
   ]
  },
  {
   "cell_type": "markdown",
   "metadata": {},
   "source": [
    "\n",
    "[Code from the ISLR book](http://faculty.marshall.usc.edu/gareth-james/ISL/Chapter%204%20Lab.txt)"
   ]
  },
  {
   "cell_type": "markdown",
   "metadata": {},
   "source": [
    "### Logistic Regression"
   ]
  },
  {
   "cell_type": "markdown",
   "metadata": {},
   "source": [
    "### With Fisher's linear discriminant"
   ]
  },
  {
   "cell_type": "markdown",
   "metadata": {},
   "source": [
    "### Quadratic Discriminant Analysis"
   ]
  },
  {
   "cell_type": "markdown",
   "metadata": {},
   "source": [
    "# E. $k$ Nearest Neighbours (k-NN) classification"
   ]
  },
  {
   "cell_type": "markdown",
   "metadata": {},
   "source": [
    "This _non-linear_ method clearly does not belong in a chapter on linear classification. Nevertheless it is easy both to describe and to implement, hence a useful reference for comparison to more sophisticated method.\n",
    "\n",
    "It requires a proximity or distance function in the predictor space, with which we evaluate the distances from a new case to be classified to each case in the learning dataset (whose class is already known). We select a positive integer $k$ (smaller than the number of cases in the learning dataset). Then the new observation is assigned to the  majority  class in the set of $k$ nearest cases in the learning dataset.\n",
    "\n",
    "In addition to being non-linear, $k-NN$ is the _most_ opposite method to those described above, in the sense of being _local,_ that is, the prediction function is constructed just within a neighbourhood of the new case, whereas in all previous methods the classification criterion is a partition of the predictor space by a _globally defined_ hyperplane. Different methods (least squares, logistic regression, Fisher discriminant) differ in the procedure used to derive this hyperplane."
   ]
  },
  {
   "cell_type": "markdown",
   "metadata": {},
   "source": [
    "## E1. With the `wine` dataset"
   ]
  },
  {
   "cell_type": "code",
   "execution_count": 52,
   "metadata": {},
   "outputs": [],
   "source": [
    "wine.url<-\"http://archive.ics.uci.edu/ml/machine-learning-databases/wine/wine.data\"\n",
    "#wine<-read.csv(wine.url,header=FALSE)\n",
    "wine<-read.csv(\"wine.csv\",header=FALSE)\n",
    "colnames(wine)<-c(\"Type\",\"Alcohol\",\"Malic\",\"Ash\", \"Alcalinity\",\"Magnesium\",\"Phenols\",\"Flavonoids\",\n",
    "                  \"Nonflavonoids\",\"Proanthocyanins\",\"Color\",\"Hue\", \"Dilution\",\"Proline\")\n",
    "wine$Type <- as.factor(wine$Type)"
   ]
  },
  {
   "cell_type": "code",
   "execution_count": 53,
   "metadata": {},
   "outputs": [
    {
     "name": "stdout",
     "output_type": "stream",
     "text": [
      " Factor w/ 3 levels \"1\",\"2\",\"3\": 1 1 1 1 1 1 1 1 1 1 ...\n"
     ]
    },
    {
     "data": {
      "text/html": [
       "<ol class=list-inline>\n",
       "\t<li>'1'</li>\n",
       "\t<li>'2'</li>\n",
       "\t<li>'3'</li>\n",
       "</ol>\n"
      ],
      "text/latex": [
       "\\begin{enumerate*}\n",
       "\\item '1'\n",
       "\\item '2'\n",
       "\\item '3'\n",
       "\\end{enumerate*}\n"
      ],
      "text/markdown": [
       "1. '1'\n",
       "2. '2'\n",
       "3. '3'\n",
       "\n",
       "\n"
      ],
      "text/plain": [
       "[1] \"1\" \"2\" \"3\""
      ]
     },
     "metadata": {},
     "output_type": "display_data"
    },
    {
     "data": {
      "text/plain": [
       "\n",
       " 1  2  3 \n",
       "59 71 48 "
      ]
     },
     "metadata": {},
     "output_type": "display_data"
    }
   ],
   "source": [
    "str(wine$Type)\n",
    "levels(wine$Type)\n",
    "table(wine$Type)"
   ]
  },
  {
   "cell_type": "markdown",
   "metadata": {},
   "source": [
    "Split the dataset in two subsets, for cross-validation, `train` with about $60\\%$ of data, and  `test` with the remaining $\\approx40\\%$."
   ]
  },
  {
   "cell_type": "code",
   "execution_count": 54,
   "metadata": {},
   "outputs": [],
   "source": [
    "n<-nrow(wine)\n",
    "ntrain<-ceiling(0.6*n)\n",
    "ntest<-n-ntrain\n",
    "set.seed(24025)  # some arbitrary value, for the sake of reproducible results\n",
    "Itrain<-sample(1:n,ntrain,replace=FALSE)\n",
    "wine.train<-wine[Itrain,]\n",
    "wine.test<-wine[-Itrain,]"
   ]
  },
  {
   "cell_type": "code",
   "execution_count": 55,
   "metadata": {},
   "outputs": [],
   "source": [
    "Xtrain<-as.matrix(wine.train[,-1])\n",
    "ytrain<-wine.train[,1]\n",
    "Xtest<-as.matrix(wine.test[,-1])\n",
    "ytest<-wine.test[,1]"
   ]
  },
  {
   "cell_type": "markdown",
   "metadata": {},
   "source": [
    "There is an implementation of k-NN classification in the `class` package."
   ]
  },
  {
   "cell_type": "code",
   "execution_count": 56,
   "metadata": {},
   "outputs": [
    {
     "name": "stderr",
     "output_type": "stream",
     "text": [
      "Loading required package: class\n"
     ]
    }
   ],
   "source": [
    "#install.packages(\"class\",dependencies=TRUE,repos=\"https://cloud.r-project.org\")\n",
    "require(class)"
   ]
  },
  {
   "cell_type": "markdown",
   "metadata": {},
   "source": [
    "#### Confusion matrix"
   ]
  },
  {
   "cell_type": "code",
   "execution_count": 57,
   "metadata": {},
   "outputs": [
    {
     "data": {
      "text/plain": [
       "    Predicted\n",
       "True  1  2  3\n",
       "   1 19  1  1\n",
       "   2  4 18 10\n",
       "   3  2 11  5"
      ]
     },
     "metadata": {},
     "output_type": "display_data"
    }
   ],
   "source": [
    "k<-7\n",
    "y.hat<-knn(Xtrain,Xtest,ytrain,k )\n",
    "C<-table(\"True\"=ytest,\"Predicted\"=y.hat)\n",
    "C"
   ]
  },
  {
   "cell_type": "markdown",
   "metadata": {},
   "source": [
    "## E2. With `SMarket`, following Section 4.6 - Lab in the ISLR book"
   ]
  },
  {
   "cell_type": "markdown",
   "metadata": {},
   "source": [
    "## E3. Caravan Insurance Data"
   ]
  }
 ],
 "metadata": {
  "kernelspec": {
   "display_name": "R",
   "language": "R",
   "name": "ir"
  },
  "language_info": {
   "codemirror_mode": "r",
   "file_extension": ".r",
   "mimetype": "text/x-r-source",
   "name": "R",
   "pygments_lexer": "r",
   "version": "3.6.1"
  }
 },
 "nbformat": 4,
 "nbformat_minor": 2
}
